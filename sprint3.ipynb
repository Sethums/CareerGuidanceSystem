{
  "nbformat": 4,
  "nbformat_minor": 0,
  "metadata": {
    "colab": {
      "provenance": [],
      "collapsed_sections": [],
      "authorship_tag": "ABX9TyNG6/4TYqgPfByq5rmfRuhI",
      "include_colab_link": true
    },
    "kernelspec": {
      "name": "python3",
      "display_name": "Python 3"
    },
    "language_info": {
      "name": "python"
    }
  },
  "cells": [
    {
      "cell_type": "markdown",
      "metadata": {
        "id": "view-in-github",
        "colab_type": "text"
      },
      "source": [
        "<a href=\"https://colab.research.google.com/github/Sethums/CareerGuidanceSystem/blob/main/sprint3.ipynb\" target=\"_parent\"><img src=\"https://colab.research.google.com/assets/colab-badge.svg\" alt=\"Open In Colab\"/></a>"
      ]
    },
    {
      "cell_type": "code",
      "execution_count": 1,
      "metadata": {
        "colab": {
          "base_uri": "https://localhost:8080/",
          "height": 852
        },
        "id": "TzhmxvA-Xqli",
        "outputId": "eea8043d-86b6-4785-f659-f7eb866868af"
      },
      "outputs": [
        {
          "output_type": "execute_result",
          "data": {
            "text/plain": [
              "       Acedamic percentage in Operating Systems  percentage in Algorithms  \\\n",
              "0                                            69                        63   \n",
              "1                                            78                        62   \n",
              "2                                            71                        86   \n",
              "3                                            76                        87   \n",
              "4                                            92                        62   \n",
              "...                                         ...                       ...   \n",
              "19995                                        83                        67   \n",
              "19996                                        80                        69   \n",
              "19997                                        83                        70   \n",
              "19998                                        68                        87   \n",
              "19999                                        73                        77   \n",
              "\n",
              "       Percentage in Programming Concepts  Percentage in Software Engineering  \\\n",
              "0                                      78                                  87   \n",
              "1                                      73                                  60   \n",
              "2                                      91                                  87   \n",
              "3                                      60                                  84   \n",
              "4                                      90                                  67   \n",
              "...                                   ...                                 ...   \n",
              "19995                                  62                                  63   \n",
              "19996                                  83                                  87   \n",
              "19997                                  80                                  87   \n",
              "19998                                  91                                  88   \n",
              "19999                                  74                                  84   \n",
              "\n",
              "       Percentage in Computer Networks  Percentage in Electronics Subjects  \\\n",
              "0                                   94                                  94   \n",
              "1                                   71                                  70   \n",
              "2                                   61                                  81   \n",
              "3                                   89                                  73   \n",
              "4                                   71                                  89   \n",
              "...                                ...                                 ...   \n",
              "19995                               81                                  74   \n",
              "19996                               82                                  66   \n",
              "19997                               64                                  85   \n",
              "19998                               66                                  74   \n",
              "19999                               70                                  65   \n",
              "\n",
              "       Percentage in Computer Architecture  Percentage in Mathematics  \\\n",
              "0                                       87                         84   \n",
              "1                                       73                         84   \n",
              "2                                       72                         72   \n",
              "3                                       62                         88   \n",
              "4                                       73                         71   \n",
              "...                                    ...                        ...   \n",
              "19995                                   90                         84   \n",
              "19996                                   66                         92   \n",
              "19997                                   69                         94   \n",
              "19998                                   61                         87   \n",
              "19999                                   92                         73   \n",
              "\n",
              "       Percentage in Communication skills  Logical quotient rating  ...  \\\n",
              "0                                      61                        4  ...   \n",
              "1                                      91                        7  ...   \n",
              "2                                      94                        1  ...   \n",
              "3                                      69                        1  ...   \n",
              "4                                      73                        5  ...   \n",
              "...                                   ...                      ...  ...   \n",
              "19995                                  69                        2  ...   \n",
              "19996                                  67                        8  ...   \n",
              "19997                                  88                        3  ...   \n",
              "19998                                  61                        1  ...   \n",
              "19999                                  90                        3  ...   \n",
              "\n",
              "             certifications          workshops  talenttests taken?  \\\n",
              "0         shell programming    cloud computing                  no   \n",
              "1          machine learning  database security                  no   \n",
              "2           app development   web technologies                  no   \n",
              "3                    python       data science                 yes   \n",
              "4           app development    cloud computing                  no   \n",
              "...                     ...                ...                 ...   \n",
              "19995       app development    cloud computing                 yes   \n",
              "19996            full stack   game development                  no   \n",
              "19997  information security  database security                 yes   \n",
              "19998            full stack    cloud computing                  no   \n",
              "19999       app development  database security                  no   \n",
              "\n",
              "      memory capability score    Interested subjects  \\\n",
              "0                   excellent        cloud computing   \n",
              "1                      medium               networks   \n",
              "2                   excellent                hacking   \n",
              "3                   excellent               networks   \n",
              "4                   excellent  Computer Architecture   \n",
              "...                       ...                    ...   \n",
              "19995               excellent   Software Engineering   \n",
              "19996               excellent             Management   \n",
              "19997               excellent               networks   \n",
              "19998                    poor                    IOT   \n",
              "19999               excellent                    IOT   \n",
              "\n",
              "      Type of company want to settle in? Management or Technical  \\\n",
              "0                           Web Services              Management   \n",
              "1                          SAaS services               Technical   \n",
              "2                    Sales and Marketing              Management   \n",
              "3      Testing and Maintainance Services              Management   \n",
              "4                    product development              Management   \n",
              "...                                  ...                     ...   \n",
              "19995  Testing and Maintainance Services              Management   \n",
              "19996                      Product based              Management   \n",
              "19997                      SAaS services               Technical   \n",
              "19998                     Cloud Services              Management   \n",
              "19999                            Finance              Management   \n",
              "\n",
              "      hard/smart worker worked in teams ever?  \\\n",
              "0           hard worker                   yes   \n",
              "1           hard worker                    no   \n",
              "2           hard worker                    no   \n",
              "3          smart worker                   yes   \n",
              "4           hard worker                   yes   \n",
              "...                 ...                   ...   \n",
              "19995      smart worker                   yes   \n",
              "19996       hard worker                    no   \n",
              "19997       hard worker                    no   \n",
              "19998      smart worker                   yes   \n",
              "19999       hard worker                   yes   \n",
              "\n",
              "                              Suggested Job Role  \n",
              "0                             Database Developer  \n",
              "1                           Portal Administrator  \n",
              "2                           Portal Administrator  \n",
              "3                 Systems Security Administrator  \n",
              "4                       Business Systems Analyst  \n",
              "...                                          ...  \n",
              "19995                         Technical Engineer  \n",
              "19996                         E-Commerce Analyst  \n",
              "19997              Business Intelligence Analyst  \n",
              "19998  Software Quality Assurance (QA) / Testing  \n",
              "19999                     Applications Developer  \n",
              "\n",
              "[20000 rows x 25 columns]"
            ],
            "text/html": [
              "\n",
              "  <div id=\"df-3e63694e-a8ac-4eb6-8075-9901a11b9ff7\">\n",
              "    <div class=\"colab-df-container\">\n",
              "      <div>\n",
              "<style scoped>\n",
              "    .dataframe tbody tr th:only-of-type {\n",
              "        vertical-align: middle;\n",
              "    }\n",
              "\n",
              "    .dataframe tbody tr th {\n",
              "        vertical-align: top;\n",
              "    }\n",
              "\n",
              "    .dataframe thead th {\n",
              "        text-align: right;\n",
              "    }\n",
              "</style>\n",
              "<table border=\"1\" class=\"dataframe\">\n",
              "  <thead>\n",
              "    <tr style=\"text-align: right;\">\n",
              "      <th></th>\n",
              "      <th>Acedamic percentage in Operating Systems</th>\n",
              "      <th>percentage in Algorithms</th>\n",
              "      <th>Percentage in Programming Concepts</th>\n",
              "      <th>Percentage in Software Engineering</th>\n",
              "      <th>Percentage in Computer Networks</th>\n",
              "      <th>Percentage in Electronics Subjects</th>\n",
              "      <th>Percentage in Computer Architecture</th>\n",
              "      <th>Percentage in Mathematics</th>\n",
              "      <th>Percentage in Communication skills</th>\n",
              "      <th>Logical quotient rating</th>\n",
              "      <th>...</th>\n",
              "      <th>certifications</th>\n",
              "      <th>workshops</th>\n",
              "      <th>talenttests taken?</th>\n",
              "      <th>memory capability score</th>\n",
              "      <th>Interested subjects</th>\n",
              "      <th>Type of company want to settle in?</th>\n",
              "      <th>Management or Technical</th>\n",
              "      <th>hard/smart worker</th>\n",
              "      <th>worked in teams ever?</th>\n",
              "      <th>Suggested Job Role</th>\n",
              "    </tr>\n",
              "  </thead>\n",
              "  <tbody>\n",
              "    <tr>\n",
              "      <th>0</th>\n",
              "      <td>69</td>\n",
              "      <td>63</td>\n",
              "      <td>78</td>\n",
              "      <td>87</td>\n",
              "      <td>94</td>\n",
              "      <td>94</td>\n",
              "      <td>87</td>\n",
              "      <td>84</td>\n",
              "      <td>61</td>\n",
              "      <td>4</td>\n",
              "      <td>...</td>\n",
              "      <td>shell programming</td>\n",
              "      <td>cloud computing</td>\n",
              "      <td>no</td>\n",
              "      <td>excellent</td>\n",
              "      <td>cloud computing</td>\n",
              "      <td>Web Services</td>\n",
              "      <td>Management</td>\n",
              "      <td>hard worker</td>\n",
              "      <td>yes</td>\n",
              "      <td>Database Developer</td>\n",
              "    </tr>\n",
              "    <tr>\n",
              "      <th>1</th>\n",
              "      <td>78</td>\n",
              "      <td>62</td>\n",
              "      <td>73</td>\n",
              "      <td>60</td>\n",
              "      <td>71</td>\n",
              "      <td>70</td>\n",
              "      <td>73</td>\n",
              "      <td>84</td>\n",
              "      <td>91</td>\n",
              "      <td>7</td>\n",
              "      <td>...</td>\n",
              "      <td>machine learning</td>\n",
              "      <td>database security</td>\n",
              "      <td>no</td>\n",
              "      <td>medium</td>\n",
              "      <td>networks</td>\n",
              "      <td>SAaS services</td>\n",
              "      <td>Technical</td>\n",
              "      <td>hard worker</td>\n",
              "      <td>no</td>\n",
              "      <td>Portal Administrator</td>\n",
              "    </tr>\n",
              "    <tr>\n",
              "      <th>2</th>\n",
              "      <td>71</td>\n",
              "      <td>86</td>\n",
              "      <td>91</td>\n",
              "      <td>87</td>\n",
              "      <td>61</td>\n",
              "      <td>81</td>\n",
              "      <td>72</td>\n",
              "      <td>72</td>\n",
              "      <td>94</td>\n",
              "      <td>1</td>\n",
              "      <td>...</td>\n",
              "      <td>app development</td>\n",
              "      <td>web technologies</td>\n",
              "      <td>no</td>\n",
              "      <td>excellent</td>\n",
              "      <td>hacking</td>\n",
              "      <td>Sales and Marketing</td>\n",
              "      <td>Management</td>\n",
              "      <td>hard worker</td>\n",
              "      <td>no</td>\n",
              "      <td>Portal Administrator</td>\n",
              "    </tr>\n",
              "    <tr>\n",
              "      <th>3</th>\n",
              "      <td>76</td>\n",
              "      <td>87</td>\n",
              "      <td>60</td>\n",
              "      <td>84</td>\n",
              "      <td>89</td>\n",
              "      <td>73</td>\n",
              "      <td>62</td>\n",
              "      <td>88</td>\n",
              "      <td>69</td>\n",
              "      <td>1</td>\n",
              "      <td>...</td>\n",
              "      <td>python</td>\n",
              "      <td>data science</td>\n",
              "      <td>yes</td>\n",
              "      <td>excellent</td>\n",
              "      <td>networks</td>\n",
              "      <td>Testing and Maintainance Services</td>\n",
              "      <td>Management</td>\n",
              "      <td>smart worker</td>\n",
              "      <td>yes</td>\n",
              "      <td>Systems Security Administrator</td>\n",
              "    </tr>\n",
              "    <tr>\n",
              "      <th>4</th>\n",
              "      <td>92</td>\n",
              "      <td>62</td>\n",
              "      <td>90</td>\n",
              "      <td>67</td>\n",
              "      <td>71</td>\n",
              "      <td>89</td>\n",
              "      <td>73</td>\n",
              "      <td>71</td>\n",
              "      <td>73</td>\n",
              "      <td>5</td>\n",
              "      <td>...</td>\n",
              "      <td>app development</td>\n",
              "      <td>cloud computing</td>\n",
              "      <td>no</td>\n",
              "      <td>excellent</td>\n",
              "      <td>Computer Architecture</td>\n",
              "      <td>product development</td>\n",
              "      <td>Management</td>\n",
              "      <td>hard worker</td>\n",
              "      <td>yes</td>\n",
              "      <td>Business Systems Analyst</td>\n",
              "    </tr>\n",
              "    <tr>\n",
              "      <th>...</th>\n",
              "      <td>...</td>\n",
              "      <td>...</td>\n",
              "      <td>...</td>\n",
              "      <td>...</td>\n",
              "      <td>...</td>\n",
              "      <td>...</td>\n",
              "      <td>...</td>\n",
              "      <td>...</td>\n",
              "      <td>...</td>\n",
              "      <td>...</td>\n",
              "      <td>...</td>\n",
              "      <td>...</td>\n",
              "      <td>...</td>\n",
              "      <td>...</td>\n",
              "      <td>...</td>\n",
              "      <td>...</td>\n",
              "      <td>...</td>\n",
              "      <td>...</td>\n",
              "      <td>...</td>\n",
              "      <td>...</td>\n",
              "      <td>...</td>\n",
              "    </tr>\n",
              "    <tr>\n",
              "      <th>19995</th>\n",
              "      <td>83</td>\n",
              "      <td>67</td>\n",
              "      <td>62</td>\n",
              "      <td>63</td>\n",
              "      <td>81</td>\n",
              "      <td>74</td>\n",
              "      <td>90</td>\n",
              "      <td>84</td>\n",
              "      <td>69</td>\n",
              "      <td>2</td>\n",
              "      <td>...</td>\n",
              "      <td>app development</td>\n",
              "      <td>cloud computing</td>\n",
              "      <td>yes</td>\n",
              "      <td>excellent</td>\n",
              "      <td>Software Engineering</td>\n",
              "      <td>Testing and Maintainance Services</td>\n",
              "      <td>Management</td>\n",
              "      <td>smart worker</td>\n",
              "      <td>yes</td>\n",
              "      <td>Technical Engineer</td>\n",
              "    </tr>\n",
              "    <tr>\n",
              "      <th>19996</th>\n",
              "      <td>80</td>\n",
              "      <td>69</td>\n",
              "      <td>83</td>\n",
              "      <td>87</td>\n",
              "      <td>82</td>\n",
              "      <td>66</td>\n",
              "      <td>66</td>\n",
              "      <td>92</td>\n",
              "      <td>67</td>\n",
              "      <td>8</td>\n",
              "      <td>...</td>\n",
              "      <td>full stack</td>\n",
              "      <td>game development</td>\n",
              "      <td>no</td>\n",
              "      <td>excellent</td>\n",
              "      <td>Management</td>\n",
              "      <td>Product based</td>\n",
              "      <td>Management</td>\n",
              "      <td>hard worker</td>\n",
              "      <td>no</td>\n",
              "      <td>E-Commerce Analyst</td>\n",
              "    </tr>\n",
              "    <tr>\n",
              "      <th>19997</th>\n",
              "      <td>83</td>\n",
              "      <td>70</td>\n",
              "      <td>80</td>\n",
              "      <td>87</td>\n",
              "      <td>64</td>\n",
              "      <td>85</td>\n",
              "      <td>69</td>\n",
              "      <td>94</td>\n",
              "      <td>88</td>\n",
              "      <td>3</td>\n",
              "      <td>...</td>\n",
              "      <td>information security</td>\n",
              "      <td>database security</td>\n",
              "      <td>yes</td>\n",
              "      <td>excellent</td>\n",
              "      <td>networks</td>\n",
              "      <td>SAaS services</td>\n",
              "      <td>Technical</td>\n",
              "      <td>hard worker</td>\n",
              "      <td>no</td>\n",
              "      <td>Business Intelligence Analyst</td>\n",
              "    </tr>\n",
              "    <tr>\n",
              "      <th>19998</th>\n",
              "      <td>68</td>\n",
              "      <td>87</td>\n",
              "      <td>91</td>\n",
              "      <td>88</td>\n",
              "      <td>66</td>\n",
              "      <td>74</td>\n",
              "      <td>61</td>\n",
              "      <td>87</td>\n",
              "      <td>61</td>\n",
              "      <td>1</td>\n",
              "      <td>...</td>\n",
              "      <td>full stack</td>\n",
              "      <td>cloud computing</td>\n",
              "      <td>no</td>\n",
              "      <td>poor</td>\n",
              "      <td>IOT</td>\n",
              "      <td>Cloud Services</td>\n",
              "      <td>Management</td>\n",
              "      <td>smart worker</td>\n",
              "      <td>yes</td>\n",
              "      <td>Software Quality Assurance (QA) / Testing</td>\n",
              "    </tr>\n",
              "    <tr>\n",
              "      <th>19999</th>\n",
              "      <td>73</td>\n",
              "      <td>77</td>\n",
              "      <td>74</td>\n",
              "      <td>84</td>\n",
              "      <td>70</td>\n",
              "      <td>65</td>\n",
              "      <td>92</td>\n",
              "      <td>73</td>\n",
              "      <td>90</td>\n",
              "      <td>3</td>\n",
              "      <td>...</td>\n",
              "      <td>app development</td>\n",
              "      <td>database security</td>\n",
              "      <td>no</td>\n",
              "      <td>excellent</td>\n",
              "      <td>IOT</td>\n",
              "      <td>Finance</td>\n",
              "      <td>Management</td>\n",
              "      <td>hard worker</td>\n",
              "      <td>yes</td>\n",
              "      <td>Applications Developer</td>\n",
              "    </tr>\n",
              "  </tbody>\n",
              "</table>\n",
              "<p>20000 rows × 25 columns</p>\n",
              "</div>\n",
              "      <button class=\"colab-df-convert\" onclick=\"convertToInteractive('df-3e63694e-a8ac-4eb6-8075-9901a11b9ff7')\"\n",
              "              title=\"Convert this dataframe to an interactive table.\"\n",
              "              style=\"display:none;\">\n",
              "        \n",
              "  <svg xmlns=\"http://www.w3.org/2000/svg\" height=\"24px\"viewBox=\"0 0 24 24\"\n",
              "       width=\"24px\">\n",
              "    <path d=\"M0 0h24v24H0V0z\" fill=\"none\"/>\n",
              "    <path d=\"M18.56 5.44l.94 2.06.94-2.06 2.06-.94-2.06-.94-.94-2.06-.94 2.06-2.06.94zm-11 1L8.5 8.5l.94-2.06 2.06-.94-2.06-.94L8.5 2.5l-.94 2.06-2.06.94zm10 10l.94 2.06.94-2.06 2.06-.94-2.06-.94-.94-2.06-.94 2.06-2.06.94z\"/><path d=\"M17.41 7.96l-1.37-1.37c-.4-.4-.92-.59-1.43-.59-.52 0-1.04.2-1.43.59L10.3 9.45l-7.72 7.72c-.78.78-.78 2.05 0 2.83L4 21.41c.39.39.9.59 1.41.59.51 0 1.02-.2 1.41-.59l7.78-7.78 2.81-2.81c.8-.78.8-2.07 0-2.86zM5.41 20L4 18.59l7.72-7.72 1.47 1.35L5.41 20z\"/>\n",
              "  </svg>\n",
              "      </button>\n",
              "      \n",
              "  <style>\n",
              "    .colab-df-container {\n",
              "      display:flex;\n",
              "      flex-wrap:wrap;\n",
              "      gap: 12px;\n",
              "    }\n",
              "\n",
              "    .colab-df-convert {\n",
              "      background-color: #E8F0FE;\n",
              "      border: none;\n",
              "      border-radius: 50%;\n",
              "      cursor: pointer;\n",
              "      display: none;\n",
              "      fill: #1967D2;\n",
              "      height: 32px;\n",
              "      padding: 0 0 0 0;\n",
              "      width: 32px;\n",
              "    }\n",
              "\n",
              "    .colab-df-convert:hover {\n",
              "      background-color: #E2EBFA;\n",
              "      box-shadow: 0px 1px 2px rgba(60, 64, 67, 0.3), 0px 1px 3px 1px rgba(60, 64, 67, 0.15);\n",
              "      fill: #174EA6;\n",
              "    }\n",
              "\n",
              "    [theme=dark] .colab-df-convert {\n",
              "      background-color: #3B4455;\n",
              "      fill: #D2E3FC;\n",
              "    }\n",
              "\n",
              "    [theme=dark] .colab-df-convert:hover {\n",
              "      background-color: #434B5C;\n",
              "      box-shadow: 0px 1px 3px 1px rgba(0, 0, 0, 0.15);\n",
              "      filter: drop-shadow(0px 1px 2px rgba(0, 0, 0, 0.3));\n",
              "      fill: #FFFFFF;\n",
              "    }\n",
              "  </style>\n",
              "\n",
              "      <script>\n",
              "        const buttonEl =\n",
              "          document.querySelector('#df-3e63694e-a8ac-4eb6-8075-9901a11b9ff7 button.colab-df-convert');\n",
              "        buttonEl.style.display =\n",
              "          google.colab.kernel.accessAllowed ? 'block' : 'none';\n",
              "\n",
              "        async function convertToInteractive(key) {\n",
              "          const element = document.querySelector('#df-3e63694e-a8ac-4eb6-8075-9901a11b9ff7');\n",
              "          const dataTable =\n",
              "            await google.colab.kernel.invokeFunction('convertToInteractive',\n",
              "                                                     [key], {});\n",
              "          if (!dataTable) return;\n",
              "\n",
              "          const docLinkHtml = 'Like what you see? Visit the ' +\n",
              "            '<a target=\"_blank\" href=https://colab.research.google.com/notebooks/data_table.ipynb>data table notebook</a>'\n",
              "            + ' to learn more about interactive tables.';\n",
              "          element.innerHTML = '';\n",
              "          dataTable['output_type'] = 'display_data';\n",
              "          await google.colab.output.renderOutput(dataTable, element);\n",
              "          const docLink = document.createElement('div');\n",
              "          docLink.innerHTML = docLinkHtml;\n",
              "          element.appendChild(docLink);\n",
              "        }\n",
              "      </script>\n",
              "    </div>\n",
              "  </div>\n",
              "  "
            ]
          },
          "metadata": {},
          "execution_count": 1
        }
      ],
      "source": [
        "import numpy as np\n",
        "import pandas as pd\n",
        "df=pd.read_csv(\"sample_data/dataset.csv\")\n",
        "df"
      ]
    },
    {
      "cell_type": "code",
      "source": [
        "df.info()"
      ],
      "metadata": {
        "colab": {
          "base_uri": "https://localhost:8080/"
        },
        "id": "HDdEjvufYw0g",
        "outputId": "209a9d7e-1981-4f99-c68a-6f83a9ba146b"
      },
      "execution_count": 3,
      "outputs": [
        {
          "output_type": "stream",
          "name": "stdout",
          "text": [
            "<class 'pandas.core.frame.DataFrame'>\n",
            "RangeIndex: 20000 entries, 0 to 19999\n",
            "Data columns (total 25 columns):\n",
            " #   Column                                    Non-Null Count  Dtype \n",
            "---  ------                                    --------------  ----- \n",
            " 0   Acedamic percentage in Operating Systems  20000 non-null  int64 \n",
            " 1   percentage in Algorithms                  20000 non-null  int64 \n",
            " 2   Percentage in Programming Concepts        20000 non-null  int64 \n",
            " 3   Percentage in Software Engineering        20000 non-null  int64 \n",
            " 4   Percentage in Computer Networks           20000 non-null  int64 \n",
            " 5   Percentage in Electronics Subjects        20000 non-null  int64 \n",
            " 6   Percentage in Computer Architecture       20000 non-null  int64 \n",
            " 7   Percentage in Mathematics                 20000 non-null  int64 \n",
            " 8   Percentage in Communication skills        20000 non-null  int64 \n",
            " 9   Logical quotient rating                   20000 non-null  int64 \n",
            " 10  hackathons                                20000 non-null  int64 \n",
            " 11  coding skills rating                      20000 non-null  int64 \n",
            " 12  public speaking points                    20000 non-null  int64 \n",
            " 13  can work long time before system?         20000 non-null  object\n",
            " 14  self-learning capability?                 20000 non-null  object\n",
            " 15  certifications                            20000 non-null  object\n",
            " 16  workshops                                 20000 non-null  object\n",
            " 17  talenttests taken?                        20000 non-null  object\n",
            " 18  memory capability score                   20000 non-null  object\n",
            " 19  Interested subjects                       20000 non-null  object\n",
            " 20  Type of company want to settle in?        20000 non-null  object\n",
            " 21  Management or Technical                   20000 non-null  object\n",
            " 22  hard/smart worker                         20000 non-null  object\n",
            " 23  worked in teams ever?                     20000 non-null  object\n",
            " 24  Suggested Job Role                        20000 non-null  object\n",
            "dtypes: int64(13), object(12)\n",
            "memory usage: 3.8+ MB\n"
          ]
        }
      ]
    },
    {
      "cell_type": "code",
      "source": [
        "df.describe()"
      ],
      "metadata": {
        "colab": {
          "base_uri": "https://localhost:8080/",
          "height": 434
        },
        "id": "UVNKhuBQY3L-",
        "outputId": "d882a0a6-0145-437b-fd06-940b186f5739"
      },
      "execution_count": 4,
      "outputs": [
        {
          "output_type": "execute_result",
          "data": {
            "text/plain": [
              "       Acedamic percentage in Operating Systems  percentage in Algorithms  \\\n",
              "count                              20000.000000              20000.000000   \n",
              "mean                                  77.002300                 76.948200   \n",
              "std                                   10.085697                 10.101733   \n",
              "min                                   60.000000                 60.000000   \n",
              "25%                                   68.000000                 68.000000   \n",
              "50%                                   77.000000                 77.000000   \n",
              "75%                                   86.000000                 86.000000   \n",
              "max                                   94.000000                 94.000000   \n",
              "\n",
              "       Percentage in Programming Concepts  Percentage in Software Engineering  \\\n",
              "count                        20000.000000                        20000.000000   \n",
              "mean                            77.017550                           77.094500   \n",
              "std                             10.134815                           10.087837   \n",
              "min                             60.000000                           60.000000   \n",
              "25%                             68.000000                           68.000000   \n",
              "50%                             77.000000                           77.000000   \n",
              "75%                             86.000000                           86.000000   \n",
              "max                             94.000000                           94.000000   \n",
              "\n",
              "       Percentage in Computer Networks  Percentage in Electronics Subjects  \\\n",
              "count                     20000.000000                        20000.000000   \n",
              "mean                         76.958200                           77.015550   \n",
              "std                          10.020088                           10.168888   \n",
              "min                          60.000000                           60.000000   \n",
              "25%                          68.000000                           68.000000   \n",
              "50%                          77.000000                           77.000000   \n",
              "75%                          85.000000                           86.000000   \n",
              "max                          94.000000                           94.000000   \n",
              "\n",
              "       Percentage in Computer Architecture  Percentage in Mathematics  \\\n",
              "count                         20000.000000               20000.000000   \n",
              "mean                             77.069850                  76.913100   \n",
              "std                              10.069059                  10.138555   \n",
              "min                              60.000000                  60.000000   \n",
              "25%                              68.000000                  68.000000   \n",
              "50%                              77.000000                  77.000000   \n",
              "75%                              86.000000                  86.000000   \n",
              "max                              94.000000                  94.000000   \n",
              "\n",
              "       Percentage in Communication skills  Logical quotient rating  \\\n",
              "count                        20000.000000             20000.000000   \n",
              "mean                            76.921450                 4.995050   \n",
              "std                             10.103494                 2.578383   \n",
              "min                             60.000000                 1.000000   \n",
              "25%                             68.000000                 3.000000   \n",
              "50%                             77.000000                 5.000000   \n",
              "75%                             86.000000                 7.000000   \n",
              "max                             94.000000                 9.000000   \n",
              "\n",
              "         hackathons  coding skills rating  public speaking points  \n",
              "count  20000.000000          20000.000000            20000.000000  \n",
              "mean       2.992650              5.004750                5.012800  \n",
              "std        2.005791              2.576831                2.588875  \n",
              "min        0.000000              1.000000                1.000000  \n",
              "25%        1.000000              3.000000                3.000000  \n",
              "50%        3.000000              5.000000                5.000000  \n",
              "75%        5.000000              7.000000                7.000000  \n",
              "max        6.000000              9.000000                9.000000  "
            ],
            "text/html": [
              "\n",
              "  <div id=\"df-ebe24c96-0fc7-471b-b429-fe22ed189e8e\">\n",
              "    <div class=\"colab-df-container\">\n",
              "      <div>\n",
              "<style scoped>\n",
              "    .dataframe tbody tr th:only-of-type {\n",
              "        vertical-align: middle;\n",
              "    }\n",
              "\n",
              "    .dataframe tbody tr th {\n",
              "        vertical-align: top;\n",
              "    }\n",
              "\n",
              "    .dataframe thead th {\n",
              "        text-align: right;\n",
              "    }\n",
              "</style>\n",
              "<table border=\"1\" class=\"dataframe\">\n",
              "  <thead>\n",
              "    <tr style=\"text-align: right;\">\n",
              "      <th></th>\n",
              "      <th>Acedamic percentage in Operating Systems</th>\n",
              "      <th>percentage in Algorithms</th>\n",
              "      <th>Percentage in Programming Concepts</th>\n",
              "      <th>Percentage in Software Engineering</th>\n",
              "      <th>Percentage in Computer Networks</th>\n",
              "      <th>Percentage in Electronics Subjects</th>\n",
              "      <th>Percentage in Computer Architecture</th>\n",
              "      <th>Percentage in Mathematics</th>\n",
              "      <th>Percentage in Communication skills</th>\n",
              "      <th>Logical quotient rating</th>\n",
              "      <th>hackathons</th>\n",
              "      <th>coding skills rating</th>\n",
              "      <th>public speaking points</th>\n",
              "    </tr>\n",
              "  </thead>\n",
              "  <tbody>\n",
              "    <tr>\n",
              "      <th>count</th>\n",
              "      <td>20000.000000</td>\n",
              "      <td>20000.000000</td>\n",
              "      <td>20000.000000</td>\n",
              "      <td>20000.000000</td>\n",
              "      <td>20000.000000</td>\n",
              "      <td>20000.000000</td>\n",
              "      <td>20000.000000</td>\n",
              "      <td>20000.000000</td>\n",
              "      <td>20000.000000</td>\n",
              "      <td>20000.000000</td>\n",
              "      <td>20000.000000</td>\n",
              "      <td>20000.000000</td>\n",
              "      <td>20000.000000</td>\n",
              "    </tr>\n",
              "    <tr>\n",
              "      <th>mean</th>\n",
              "      <td>77.002300</td>\n",
              "      <td>76.948200</td>\n",
              "      <td>77.017550</td>\n",
              "      <td>77.094500</td>\n",
              "      <td>76.958200</td>\n",
              "      <td>77.015550</td>\n",
              "      <td>77.069850</td>\n",
              "      <td>76.913100</td>\n",
              "      <td>76.921450</td>\n",
              "      <td>4.995050</td>\n",
              "      <td>2.992650</td>\n",
              "      <td>5.004750</td>\n",
              "      <td>5.012800</td>\n",
              "    </tr>\n",
              "    <tr>\n",
              "      <th>std</th>\n",
              "      <td>10.085697</td>\n",
              "      <td>10.101733</td>\n",
              "      <td>10.134815</td>\n",
              "      <td>10.087837</td>\n",
              "      <td>10.020088</td>\n",
              "      <td>10.168888</td>\n",
              "      <td>10.069059</td>\n",
              "      <td>10.138555</td>\n",
              "      <td>10.103494</td>\n",
              "      <td>2.578383</td>\n",
              "      <td>2.005791</td>\n",
              "      <td>2.576831</td>\n",
              "      <td>2.588875</td>\n",
              "    </tr>\n",
              "    <tr>\n",
              "      <th>min</th>\n",
              "      <td>60.000000</td>\n",
              "      <td>60.000000</td>\n",
              "      <td>60.000000</td>\n",
              "      <td>60.000000</td>\n",
              "      <td>60.000000</td>\n",
              "      <td>60.000000</td>\n",
              "      <td>60.000000</td>\n",
              "      <td>60.000000</td>\n",
              "      <td>60.000000</td>\n",
              "      <td>1.000000</td>\n",
              "      <td>0.000000</td>\n",
              "      <td>1.000000</td>\n",
              "      <td>1.000000</td>\n",
              "    </tr>\n",
              "    <tr>\n",
              "      <th>25%</th>\n",
              "      <td>68.000000</td>\n",
              "      <td>68.000000</td>\n",
              "      <td>68.000000</td>\n",
              "      <td>68.000000</td>\n",
              "      <td>68.000000</td>\n",
              "      <td>68.000000</td>\n",
              "      <td>68.000000</td>\n",
              "      <td>68.000000</td>\n",
              "      <td>68.000000</td>\n",
              "      <td>3.000000</td>\n",
              "      <td>1.000000</td>\n",
              "      <td>3.000000</td>\n",
              "      <td>3.000000</td>\n",
              "    </tr>\n",
              "    <tr>\n",
              "      <th>50%</th>\n",
              "      <td>77.000000</td>\n",
              "      <td>77.000000</td>\n",
              "      <td>77.000000</td>\n",
              "      <td>77.000000</td>\n",
              "      <td>77.000000</td>\n",
              "      <td>77.000000</td>\n",
              "      <td>77.000000</td>\n",
              "      <td>77.000000</td>\n",
              "      <td>77.000000</td>\n",
              "      <td>5.000000</td>\n",
              "      <td>3.000000</td>\n",
              "      <td>5.000000</td>\n",
              "      <td>5.000000</td>\n",
              "    </tr>\n",
              "    <tr>\n",
              "      <th>75%</th>\n",
              "      <td>86.000000</td>\n",
              "      <td>86.000000</td>\n",
              "      <td>86.000000</td>\n",
              "      <td>86.000000</td>\n",
              "      <td>85.000000</td>\n",
              "      <td>86.000000</td>\n",
              "      <td>86.000000</td>\n",
              "      <td>86.000000</td>\n",
              "      <td>86.000000</td>\n",
              "      <td>7.000000</td>\n",
              "      <td>5.000000</td>\n",
              "      <td>7.000000</td>\n",
              "      <td>7.000000</td>\n",
              "    </tr>\n",
              "    <tr>\n",
              "      <th>max</th>\n",
              "      <td>94.000000</td>\n",
              "      <td>94.000000</td>\n",
              "      <td>94.000000</td>\n",
              "      <td>94.000000</td>\n",
              "      <td>94.000000</td>\n",
              "      <td>94.000000</td>\n",
              "      <td>94.000000</td>\n",
              "      <td>94.000000</td>\n",
              "      <td>94.000000</td>\n",
              "      <td>9.000000</td>\n",
              "      <td>6.000000</td>\n",
              "      <td>9.000000</td>\n",
              "      <td>9.000000</td>\n",
              "    </tr>\n",
              "  </tbody>\n",
              "</table>\n",
              "</div>\n",
              "      <button class=\"colab-df-convert\" onclick=\"convertToInteractive('df-ebe24c96-0fc7-471b-b429-fe22ed189e8e')\"\n",
              "              title=\"Convert this dataframe to an interactive table.\"\n",
              "              style=\"display:none;\">\n",
              "        \n",
              "  <svg xmlns=\"http://www.w3.org/2000/svg\" height=\"24px\"viewBox=\"0 0 24 24\"\n",
              "       width=\"24px\">\n",
              "    <path d=\"M0 0h24v24H0V0z\" fill=\"none\"/>\n",
              "    <path d=\"M18.56 5.44l.94 2.06.94-2.06 2.06-.94-2.06-.94-.94-2.06-.94 2.06-2.06.94zm-11 1L8.5 8.5l.94-2.06 2.06-.94-2.06-.94L8.5 2.5l-.94 2.06-2.06.94zm10 10l.94 2.06.94-2.06 2.06-.94-2.06-.94-.94-2.06-.94 2.06-2.06.94z\"/><path d=\"M17.41 7.96l-1.37-1.37c-.4-.4-.92-.59-1.43-.59-.52 0-1.04.2-1.43.59L10.3 9.45l-7.72 7.72c-.78.78-.78 2.05 0 2.83L4 21.41c.39.39.9.59 1.41.59.51 0 1.02-.2 1.41-.59l7.78-7.78 2.81-2.81c.8-.78.8-2.07 0-2.86zM5.41 20L4 18.59l7.72-7.72 1.47 1.35L5.41 20z\"/>\n",
              "  </svg>\n",
              "      </button>\n",
              "      \n",
              "  <style>\n",
              "    .colab-df-container {\n",
              "      display:flex;\n",
              "      flex-wrap:wrap;\n",
              "      gap: 12px;\n",
              "    }\n",
              "\n",
              "    .colab-df-convert {\n",
              "      background-color: #E8F0FE;\n",
              "      border: none;\n",
              "      border-radius: 50%;\n",
              "      cursor: pointer;\n",
              "      display: none;\n",
              "      fill: #1967D2;\n",
              "      height: 32px;\n",
              "      padding: 0 0 0 0;\n",
              "      width: 32px;\n",
              "    }\n",
              "\n",
              "    .colab-df-convert:hover {\n",
              "      background-color: #E2EBFA;\n",
              "      box-shadow: 0px 1px 2px rgba(60, 64, 67, 0.3), 0px 1px 3px 1px rgba(60, 64, 67, 0.15);\n",
              "      fill: #174EA6;\n",
              "    }\n",
              "\n",
              "    [theme=dark] .colab-df-convert {\n",
              "      background-color: #3B4455;\n",
              "      fill: #D2E3FC;\n",
              "    }\n",
              "\n",
              "    [theme=dark] .colab-df-convert:hover {\n",
              "      background-color: #434B5C;\n",
              "      box-shadow: 0px 1px 3px 1px rgba(0, 0, 0, 0.15);\n",
              "      filter: drop-shadow(0px 1px 2px rgba(0, 0, 0, 0.3));\n",
              "      fill: #FFFFFF;\n",
              "    }\n",
              "  </style>\n",
              "\n",
              "      <script>\n",
              "        const buttonEl =\n",
              "          document.querySelector('#df-ebe24c96-0fc7-471b-b429-fe22ed189e8e button.colab-df-convert');\n",
              "        buttonEl.style.display =\n",
              "          google.colab.kernel.accessAllowed ? 'block' : 'none';\n",
              "\n",
              "        async function convertToInteractive(key) {\n",
              "          const element = document.querySelector('#df-ebe24c96-0fc7-471b-b429-fe22ed189e8e');\n",
              "          const dataTable =\n",
              "            await google.colab.kernel.invokeFunction('convertToInteractive',\n",
              "                                                     [key], {});\n",
              "          if (!dataTable) return;\n",
              "\n",
              "          const docLinkHtml = 'Like what you see? Visit the ' +\n",
              "            '<a target=\"_blank\" href=https://colab.research.google.com/notebooks/data_table.ipynb>data table notebook</a>'\n",
              "            + ' to learn more about interactive tables.';\n",
              "          element.innerHTML = '';\n",
              "          dataTable['output_type'] = 'display_data';\n",
              "          await google.colab.output.renderOutput(dataTable, element);\n",
              "          const docLink = document.createElement('div');\n",
              "          docLink.innerHTML = docLinkHtml;\n",
              "          element.appendChild(docLink);\n",
              "        }\n",
              "      </script>\n",
              "    </div>\n",
              "  </div>\n",
              "  "
            ]
          },
          "metadata": {},
          "execution_count": 4
        }
      ]
    },
    {
      "cell_type": "code",
      "source": [
        "X = df.iloc[:,:-1]\n",
        "y=pd.DataFrame(df.iloc[:,-1],columns=[\"Suggested Job Role\"])"
      ],
      "metadata": {
        "id": "llicxpM9Y6AO"
      },
      "execution_count": 5,
      "outputs": []
    },
    {
      "cell_type": "code",
      "source": [
        "X"
      ],
      "metadata": {
        "colab": {
          "base_uri": "https://localhost:8080/",
          "height": 765
        },
        "id": "QmhkLOwPZDsl",
        "outputId": "c7b3a7ae-3d92-4acf-c5cf-0cd185832f62"
      },
      "execution_count": 6,
      "outputs": [
        {
          "output_type": "execute_result",
          "data": {
            "text/plain": [
              "       Acedamic percentage in Operating Systems  percentage in Algorithms  \\\n",
              "0                                            69                        63   \n",
              "1                                            78                        62   \n",
              "2                                            71                        86   \n",
              "3                                            76                        87   \n",
              "4                                            92                        62   \n",
              "...                                         ...                       ...   \n",
              "19995                                        83                        67   \n",
              "19996                                        80                        69   \n",
              "19997                                        83                        70   \n",
              "19998                                        68                        87   \n",
              "19999                                        73                        77   \n",
              "\n",
              "       Percentage in Programming Concepts  Percentage in Software Engineering  \\\n",
              "0                                      78                                  87   \n",
              "1                                      73                                  60   \n",
              "2                                      91                                  87   \n",
              "3                                      60                                  84   \n",
              "4                                      90                                  67   \n",
              "...                                   ...                                 ...   \n",
              "19995                                  62                                  63   \n",
              "19996                                  83                                  87   \n",
              "19997                                  80                                  87   \n",
              "19998                                  91                                  88   \n",
              "19999                                  74                                  84   \n",
              "\n",
              "       Percentage in Computer Networks  Percentage in Electronics Subjects  \\\n",
              "0                                   94                                  94   \n",
              "1                                   71                                  70   \n",
              "2                                   61                                  81   \n",
              "3                                   89                                  73   \n",
              "4                                   71                                  89   \n",
              "...                                ...                                 ...   \n",
              "19995                               81                                  74   \n",
              "19996                               82                                  66   \n",
              "19997                               64                                  85   \n",
              "19998                               66                                  74   \n",
              "19999                               70                                  65   \n",
              "\n",
              "       Percentage in Computer Architecture  Percentage in Mathematics  \\\n",
              "0                                       87                         84   \n",
              "1                                       73                         84   \n",
              "2                                       72                         72   \n",
              "3                                       62                         88   \n",
              "4                                       73                         71   \n",
              "...                                    ...                        ...   \n",
              "19995                                   90                         84   \n",
              "19996                                   66                         92   \n",
              "19997                                   69                         94   \n",
              "19998                                   61                         87   \n",
              "19999                                   92                         73   \n",
              "\n",
              "       Percentage in Communication skills  Logical quotient rating  ...  \\\n",
              "0                                      61                        4  ...   \n",
              "1                                      91                        7  ...   \n",
              "2                                      94                        1  ...   \n",
              "3                                      69                        1  ...   \n",
              "4                                      73                        5  ...   \n",
              "...                                   ...                      ...  ...   \n",
              "19995                                  69                        2  ...   \n",
              "19996                                  67                        8  ...   \n",
              "19997                                  88                        3  ...   \n",
              "19998                                  61                        1  ...   \n",
              "19999                                  90                        3  ...   \n",
              "\n",
              "       self-learning capability?        certifications          workshops  \\\n",
              "0                            yes     shell programming    cloud computing   \n",
              "1                             no      machine learning  database security   \n",
              "2                             no       app development   web technologies   \n",
              "3                            yes                python       data science   \n",
              "4                             no       app development    cloud computing   \n",
              "...                          ...                   ...                ...   \n",
              "19995                         no       app development    cloud computing   \n",
              "19996                         no            full stack   game development   \n",
              "19997                        yes  information security  database security   \n",
              "19998                         no            full stack    cloud computing   \n",
              "19999                        yes       app development  database security   \n",
              "\n",
              "      talenttests taken? memory capability score    Interested subjects  \\\n",
              "0                     no               excellent        cloud computing   \n",
              "1                     no                  medium               networks   \n",
              "2                     no               excellent                hacking   \n",
              "3                    yes               excellent               networks   \n",
              "4                     no               excellent  Computer Architecture   \n",
              "...                  ...                     ...                    ...   \n",
              "19995                yes               excellent   Software Engineering   \n",
              "19996                 no               excellent             Management   \n",
              "19997                yes               excellent               networks   \n",
              "19998                 no                    poor                    IOT   \n",
              "19999                 no               excellent                    IOT   \n",
              "\n",
              "      Type of company want to settle in? Management or Technical  \\\n",
              "0                           Web Services              Management   \n",
              "1                          SAaS services               Technical   \n",
              "2                    Sales and Marketing              Management   \n",
              "3      Testing and Maintainance Services              Management   \n",
              "4                    product development              Management   \n",
              "...                                  ...                     ...   \n",
              "19995  Testing and Maintainance Services              Management   \n",
              "19996                      Product based              Management   \n",
              "19997                      SAaS services               Technical   \n",
              "19998                     Cloud Services              Management   \n",
              "19999                            Finance              Management   \n",
              "\n",
              "      hard/smart worker worked in teams ever?  \n",
              "0           hard worker                   yes  \n",
              "1           hard worker                    no  \n",
              "2           hard worker                    no  \n",
              "3          smart worker                   yes  \n",
              "4           hard worker                   yes  \n",
              "...                 ...                   ...  \n",
              "19995      smart worker                   yes  \n",
              "19996       hard worker                    no  \n",
              "19997       hard worker                    no  \n",
              "19998      smart worker                   yes  \n",
              "19999       hard worker                   yes  \n",
              "\n",
              "[20000 rows x 24 columns]"
            ],
            "text/html": [
              "\n",
              "  <div id=\"df-e4052775-3779-4c35-bd65-90a20703f6c1\">\n",
              "    <div class=\"colab-df-container\">\n",
              "      <div>\n",
              "<style scoped>\n",
              "    .dataframe tbody tr th:only-of-type {\n",
              "        vertical-align: middle;\n",
              "    }\n",
              "\n",
              "    .dataframe tbody tr th {\n",
              "        vertical-align: top;\n",
              "    }\n",
              "\n",
              "    .dataframe thead th {\n",
              "        text-align: right;\n",
              "    }\n",
              "</style>\n",
              "<table border=\"1\" class=\"dataframe\">\n",
              "  <thead>\n",
              "    <tr style=\"text-align: right;\">\n",
              "      <th></th>\n",
              "      <th>Acedamic percentage in Operating Systems</th>\n",
              "      <th>percentage in Algorithms</th>\n",
              "      <th>Percentage in Programming Concepts</th>\n",
              "      <th>Percentage in Software Engineering</th>\n",
              "      <th>Percentage in Computer Networks</th>\n",
              "      <th>Percentage in Electronics Subjects</th>\n",
              "      <th>Percentage in Computer Architecture</th>\n",
              "      <th>Percentage in Mathematics</th>\n",
              "      <th>Percentage in Communication skills</th>\n",
              "      <th>Logical quotient rating</th>\n",
              "      <th>...</th>\n",
              "      <th>self-learning capability?</th>\n",
              "      <th>certifications</th>\n",
              "      <th>workshops</th>\n",
              "      <th>talenttests taken?</th>\n",
              "      <th>memory capability score</th>\n",
              "      <th>Interested subjects</th>\n",
              "      <th>Type of company want to settle in?</th>\n",
              "      <th>Management or Technical</th>\n",
              "      <th>hard/smart worker</th>\n",
              "      <th>worked in teams ever?</th>\n",
              "    </tr>\n",
              "  </thead>\n",
              "  <tbody>\n",
              "    <tr>\n",
              "      <th>0</th>\n",
              "      <td>69</td>\n",
              "      <td>63</td>\n",
              "      <td>78</td>\n",
              "      <td>87</td>\n",
              "      <td>94</td>\n",
              "      <td>94</td>\n",
              "      <td>87</td>\n",
              "      <td>84</td>\n",
              "      <td>61</td>\n",
              "      <td>4</td>\n",
              "      <td>...</td>\n",
              "      <td>yes</td>\n",
              "      <td>shell programming</td>\n",
              "      <td>cloud computing</td>\n",
              "      <td>no</td>\n",
              "      <td>excellent</td>\n",
              "      <td>cloud computing</td>\n",
              "      <td>Web Services</td>\n",
              "      <td>Management</td>\n",
              "      <td>hard worker</td>\n",
              "      <td>yes</td>\n",
              "    </tr>\n",
              "    <tr>\n",
              "      <th>1</th>\n",
              "      <td>78</td>\n",
              "      <td>62</td>\n",
              "      <td>73</td>\n",
              "      <td>60</td>\n",
              "      <td>71</td>\n",
              "      <td>70</td>\n",
              "      <td>73</td>\n",
              "      <td>84</td>\n",
              "      <td>91</td>\n",
              "      <td>7</td>\n",
              "      <td>...</td>\n",
              "      <td>no</td>\n",
              "      <td>machine learning</td>\n",
              "      <td>database security</td>\n",
              "      <td>no</td>\n",
              "      <td>medium</td>\n",
              "      <td>networks</td>\n",
              "      <td>SAaS services</td>\n",
              "      <td>Technical</td>\n",
              "      <td>hard worker</td>\n",
              "      <td>no</td>\n",
              "    </tr>\n",
              "    <tr>\n",
              "      <th>2</th>\n",
              "      <td>71</td>\n",
              "      <td>86</td>\n",
              "      <td>91</td>\n",
              "      <td>87</td>\n",
              "      <td>61</td>\n",
              "      <td>81</td>\n",
              "      <td>72</td>\n",
              "      <td>72</td>\n",
              "      <td>94</td>\n",
              "      <td>1</td>\n",
              "      <td>...</td>\n",
              "      <td>no</td>\n",
              "      <td>app development</td>\n",
              "      <td>web technologies</td>\n",
              "      <td>no</td>\n",
              "      <td>excellent</td>\n",
              "      <td>hacking</td>\n",
              "      <td>Sales and Marketing</td>\n",
              "      <td>Management</td>\n",
              "      <td>hard worker</td>\n",
              "      <td>no</td>\n",
              "    </tr>\n",
              "    <tr>\n",
              "      <th>3</th>\n",
              "      <td>76</td>\n",
              "      <td>87</td>\n",
              "      <td>60</td>\n",
              "      <td>84</td>\n",
              "      <td>89</td>\n",
              "      <td>73</td>\n",
              "      <td>62</td>\n",
              "      <td>88</td>\n",
              "      <td>69</td>\n",
              "      <td>1</td>\n",
              "      <td>...</td>\n",
              "      <td>yes</td>\n",
              "      <td>python</td>\n",
              "      <td>data science</td>\n",
              "      <td>yes</td>\n",
              "      <td>excellent</td>\n",
              "      <td>networks</td>\n",
              "      <td>Testing and Maintainance Services</td>\n",
              "      <td>Management</td>\n",
              "      <td>smart worker</td>\n",
              "      <td>yes</td>\n",
              "    </tr>\n",
              "    <tr>\n",
              "      <th>4</th>\n",
              "      <td>92</td>\n",
              "      <td>62</td>\n",
              "      <td>90</td>\n",
              "      <td>67</td>\n",
              "      <td>71</td>\n",
              "      <td>89</td>\n",
              "      <td>73</td>\n",
              "      <td>71</td>\n",
              "      <td>73</td>\n",
              "      <td>5</td>\n",
              "      <td>...</td>\n",
              "      <td>no</td>\n",
              "      <td>app development</td>\n",
              "      <td>cloud computing</td>\n",
              "      <td>no</td>\n",
              "      <td>excellent</td>\n",
              "      <td>Computer Architecture</td>\n",
              "      <td>product development</td>\n",
              "      <td>Management</td>\n",
              "      <td>hard worker</td>\n",
              "      <td>yes</td>\n",
              "    </tr>\n",
              "    <tr>\n",
              "      <th>...</th>\n",
              "      <td>...</td>\n",
              "      <td>...</td>\n",
              "      <td>...</td>\n",
              "      <td>...</td>\n",
              "      <td>...</td>\n",
              "      <td>...</td>\n",
              "      <td>...</td>\n",
              "      <td>...</td>\n",
              "      <td>...</td>\n",
              "      <td>...</td>\n",
              "      <td>...</td>\n",
              "      <td>...</td>\n",
              "      <td>...</td>\n",
              "      <td>...</td>\n",
              "      <td>...</td>\n",
              "      <td>...</td>\n",
              "      <td>...</td>\n",
              "      <td>...</td>\n",
              "      <td>...</td>\n",
              "      <td>...</td>\n",
              "      <td>...</td>\n",
              "    </tr>\n",
              "    <tr>\n",
              "      <th>19995</th>\n",
              "      <td>83</td>\n",
              "      <td>67</td>\n",
              "      <td>62</td>\n",
              "      <td>63</td>\n",
              "      <td>81</td>\n",
              "      <td>74</td>\n",
              "      <td>90</td>\n",
              "      <td>84</td>\n",
              "      <td>69</td>\n",
              "      <td>2</td>\n",
              "      <td>...</td>\n",
              "      <td>no</td>\n",
              "      <td>app development</td>\n",
              "      <td>cloud computing</td>\n",
              "      <td>yes</td>\n",
              "      <td>excellent</td>\n",
              "      <td>Software Engineering</td>\n",
              "      <td>Testing and Maintainance Services</td>\n",
              "      <td>Management</td>\n",
              "      <td>smart worker</td>\n",
              "      <td>yes</td>\n",
              "    </tr>\n",
              "    <tr>\n",
              "      <th>19996</th>\n",
              "      <td>80</td>\n",
              "      <td>69</td>\n",
              "      <td>83</td>\n",
              "      <td>87</td>\n",
              "      <td>82</td>\n",
              "      <td>66</td>\n",
              "      <td>66</td>\n",
              "      <td>92</td>\n",
              "      <td>67</td>\n",
              "      <td>8</td>\n",
              "      <td>...</td>\n",
              "      <td>no</td>\n",
              "      <td>full stack</td>\n",
              "      <td>game development</td>\n",
              "      <td>no</td>\n",
              "      <td>excellent</td>\n",
              "      <td>Management</td>\n",
              "      <td>Product based</td>\n",
              "      <td>Management</td>\n",
              "      <td>hard worker</td>\n",
              "      <td>no</td>\n",
              "    </tr>\n",
              "    <tr>\n",
              "      <th>19997</th>\n",
              "      <td>83</td>\n",
              "      <td>70</td>\n",
              "      <td>80</td>\n",
              "      <td>87</td>\n",
              "      <td>64</td>\n",
              "      <td>85</td>\n",
              "      <td>69</td>\n",
              "      <td>94</td>\n",
              "      <td>88</td>\n",
              "      <td>3</td>\n",
              "      <td>...</td>\n",
              "      <td>yes</td>\n",
              "      <td>information security</td>\n",
              "      <td>database security</td>\n",
              "      <td>yes</td>\n",
              "      <td>excellent</td>\n",
              "      <td>networks</td>\n",
              "      <td>SAaS services</td>\n",
              "      <td>Technical</td>\n",
              "      <td>hard worker</td>\n",
              "      <td>no</td>\n",
              "    </tr>\n",
              "    <tr>\n",
              "      <th>19998</th>\n",
              "      <td>68</td>\n",
              "      <td>87</td>\n",
              "      <td>91</td>\n",
              "      <td>88</td>\n",
              "      <td>66</td>\n",
              "      <td>74</td>\n",
              "      <td>61</td>\n",
              "      <td>87</td>\n",
              "      <td>61</td>\n",
              "      <td>1</td>\n",
              "      <td>...</td>\n",
              "      <td>no</td>\n",
              "      <td>full stack</td>\n",
              "      <td>cloud computing</td>\n",
              "      <td>no</td>\n",
              "      <td>poor</td>\n",
              "      <td>IOT</td>\n",
              "      <td>Cloud Services</td>\n",
              "      <td>Management</td>\n",
              "      <td>smart worker</td>\n",
              "      <td>yes</td>\n",
              "    </tr>\n",
              "    <tr>\n",
              "      <th>19999</th>\n",
              "      <td>73</td>\n",
              "      <td>77</td>\n",
              "      <td>74</td>\n",
              "      <td>84</td>\n",
              "      <td>70</td>\n",
              "      <td>65</td>\n",
              "      <td>92</td>\n",
              "      <td>73</td>\n",
              "      <td>90</td>\n",
              "      <td>3</td>\n",
              "      <td>...</td>\n",
              "      <td>yes</td>\n",
              "      <td>app development</td>\n",
              "      <td>database security</td>\n",
              "      <td>no</td>\n",
              "      <td>excellent</td>\n",
              "      <td>IOT</td>\n",
              "      <td>Finance</td>\n",
              "      <td>Management</td>\n",
              "      <td>hard worker</td>\n",
              "      <td>yes</td>\n",
              "    </tr>\n",
              "  </tbody>\n",
              "</table>\n",
              "<p>20000 rows × 24 columns</p>\n",
              "</div>\n",
              "      <button class=\"colab-df-convert\" onclick=\"convertToInteractive('df-e4052775-3779-4c35-bd65-90a20703f6c1')\"\n",
              "              title=\"Convert this dataframe to an interactive table.\"\n",
              "              style=\"display:none;\">\n",
              "        \n",
              "  <svg xmlns=\"http://www.w3.org/2000/svg\" height=\"24px\"viewBox=\"0 0 24 24\"\n",
              "       width=\"24px\">\n",
              "    <path d=\"M0 0h24v24H0V0z\" fill=\"none\"/>\n",
              "    <path d=\"M18.56 5.44l.94 2.06.94-2.06 2.06-.94-2.06-.94-.94-2.06-.94 2.06-2.06.94zm-11 1L8.5 8.5l.94-2.06 2.06-.94-2.06-.94L8.5 2.5l-.94 2.06-2.06.94zm10 10l.94 2.06.94-2.06 2.06-.94-2.06-.94-.94-2.06-.94 2.06-2.06.94z\"/><path d=\"M17.41 7.96l-1.37-1.37c-.4-.4-.92-.59-1.43-.59-.52 0-1.04.2-1.43.59L10.3 9.45l-7.72 7.72c-.78.78-.78 2.05 0 2.83L4 21.41c.39.39.9.59 1.41.59.51 0 1.02-.2 1.41-.59l7.78-7.78 2.81-2.81c.8-.78.8-2.07 0-2.86zM5.41 20L4 18.59l7.72-7.72 1.47 1.35L5.41 20z\"/>\n",
              "  </svg>\n",
              "      </button>\n",
              "      \n",
              "  <style>\n",
              "    .colab-df-container {\n",
              "      display:flex;\n",
              "      flex-wrap:wrap;\n",
              "      gap: 12px;\n",
              "    }\n",
              "\n",
              "    .colab-df-convert {\n",
              "      background-color: #E8F0FE;\n",
              "      border: none;\n",
              "      border-radius: 50%;\n",
              "      cursor: pointer;\n",
              "      display: none;\n",
              "      fill: #1967D2;\n",
              "      height: 32px;\n",
              "      padding: 0 0 0 0;\n",
              "      width: 32px;\n",
              "    }\n",
              "\n",
              "    .colab-df-convert:hover {\n",
              "      background-color: #E2EBFA;\n",
              "      box-shadow: 0px 1px 2px rgba(60, 64, 67, 0.3), 0px 1px 3px 1px rgba(60, 64, 67, 0.15);\n",
              "      fill: #174EA6;\n",
              "    }\n",
              "\n",
              "    [theme=dark] .colab-df-convert {\n",
              "      background-color: #3B4455;\n",
              "      fill: #D2E3FC;\n",
              "    }\n",
              "\n",
              "    [theme=dark] .colab-df-convert:hover {\n",
              "      background-color: #434B5C;\n",
              "      box-shadow: 0px 1px 3px 1px rgba(0, 0, 0, 0.15);\n",
              "      filter: drop-shadow(0px 1px 2px rgba(0, 0, 0, 0.3));\n",
              "      fill: #FFFFFF;\n",
              "    }\n",
              "  </style>\n",
              "\n",
              "      <script>\n",
              "        const buttonEl =\n",
              "          document.querySelector('#df-e4052775-3779-4c35-bd65-90a20703f6c1 button.colab-df-convert');\n",
              "        buttonEl.style.display =\n",
              "          google.colab.kernel.accessAllowed ? 'block' : 'none';\n",
              "\n",
              "        async function convertToInteractive(key) {\n",
              "          const element = document.querySelector('#df-e4052775-3779-4c35-bd65-90a20703f6c1');\n",
              "          const dataTable =\n",
              "            await google.colab.kernel.invokeFunction('convertToInteractive',\n",
              "                                                     [key], {});\n",
              "          if (!dataTable) return;\n",
              "\n",
              "          const docLinkHtml = 'Like what you see? Visit the ' +\n",
              "            '<a target=\"_blank\" href=https://colab.research.google.com/notebooks/data_table.ipynb>data table notebook</a>'\n",
              "            + ' to learn more about interactive tables.';\n",
              "          element.innerHTML = '';\n",
              "          dataTable['output_type'] = 'display_data';\n",
              "          await google.colab.output.renderOutput(dataTable, element);\n",
              "          const docLink = document.createElement('div');\n",
              "          docLink.innerHTML = docLinkHtml;\n",
              "          element.appendChild(docLink);\n",
              "        }\n",
              "      </script>\n",
              "    </div>\n",
              "  </div>\n",
              "  "
            ]
          },
          "metadata": {},
          "execution_count": 6
        }
      ]
    },
    {
      "cell_type": "code",
      "source": [
        "y"
      ],
      "metadata": {
        "colab": {
          "base_uri": "https://localhost:8080/",
          "height": 424
        },
        "id": "JiX3KsnWZIYd",
        "outputId": "59ad1943-108a-431a-eea4-27d27127fc3f"
      },
      "execution_count": 7,
      "outputs": [
        {
          "output_type": "execute_result",
          "data": {
            "text/plain": [
              "                              Suggested Job Role\n",
              "0                             Database Developer\n",
              "1                           Portal Administrator\n",
              "2                           Portal Administrator\n",
              "3                 Systems Security Administrator\n",
              "4                       Business Systems Analyst\n",
              "...                                          ...\n",
              "19995                         Technical Engineer\n",
              "19996                         E-Commerce Analyst\n",
              "19997              Business Intelligence Analyst\n",
              "19998  Software Quality Assurance (QA) / Testing\n",
              "19999                     Applications Developer\n",
              "\n",
              "[20000 rows x 1 columns]"
            ],
            "text/html": [
              "\n",
              "  <div id=\"df-a32209fd-3550-4dfa-9b3a-0a06f13fefa6\">\n",
              "    <div class=\"colab-df-container\">\n",
              "      <div>\n",
              "<style scoped>\n",
              "    .dataframe tbody tr th:only-of-type {\n",
              "        vertical-align: middle;\n",
              "    }\n",
              "\n",
              "    .dataframe tbody tr th {\n",
              "        vertical-align: top;\n",
              "    }\n",
              "\n",
              "    .dataframe thead th {\n",
              "        text-align: right;\n",
              "    }\n",
              "</style>\n",
              "<table border=\"1\" class=\"dataframe\">\n",
              "  <thead>\n",
              "    <tr style=\"text-align: right;\">\n",
              "      <th></th>\n",
              "      <th>Suggested Job Role</th>\n",
              "    </tr>\n",
              "  </thead>\n",
              "  <tbody>\n",
              "    <tr>\n",
              "      <th>0</th>\n",
              "      <td>Database Developer</td>\n",
              "    </tr>\n",
              "    <tr>\n",
              "      <th>1</th>\n",
              "      <td>Portal Administrator</td>\n",
              "    </tr>\n",
              "    <tr>\n",
              "      <th>2</th>\n",
              "      <td>Portal Administrator</td>\n",
              "    </tr>\n",
              "    <tr>\n",
              "      <th>3</th>\n",
              "      <td>Systems Security Administrator</td>\n",
              "    </tr>\n",
              "    <tr>\n",
              "      <th>4</th>\n",
              "      <td>Business Systems Analyst</td>\n",
              "    </tr>\n",
              "    <tr>\n",
              "      <th>...</th>\n",
              "      <td>...</td>\n",
              "    </tr>\n",
              "    <tr>\n",
              "      <th>19995</th>\n",
              "      <td>Technical Engineer</td>\n",
              "    </tr>\n",
              "    <tr>\n",
              "      <th>19996</th>\n",
              "      <td>E-Commerce Analyst</td>\n",
              "    </tr>\n",
              "    <tr>\n",
              "      <th>19997</th>\n",
              "      <td>Business Intelligence Analyst</td>\n",
              "    </tr>\n",
              "    <tr>\n",
              "      <th>19998</th>\n",
              "      <td>Software Quality Assurance (QA) / Testing</td>\n",
              "    </tr>\n",
              "    <tr>\n",
              "      <th>19999</th>\n",
              "      <td>Applications Developer</td>\n",
              "    </tr>\n",
              "  </tbody>\n",
              "</table>\n",
              "<p>20000 rows × 1 columns</p>\n",
              "</div>\n",
              "      <button class=\"colab-df-convert\" onclick=\"convertToInteractive('df-a32209fd-3550-4dfa-9b3a-0a06f13fefa6')\"\n",
              "              title=\"Convert this dataframe to an interactive table.\"\n",
              "              style=\"display:none;\">\n",
              "        \n",
              "  <svg xmlns=\"http://www.w3.org/2000/svg\" height=\"24px\"viewBox=\"0 0 24 24\"\n",
              "       width=\"24px\">\n",
              "    <path d=\"M0 0h24v24H0V0z\" fill=\"none\"/>\n",
              "    <path d=\"M18.56 5.44l.94 2.06.94-2.06 2.06-.94-2.06-.94-.94-2.06-.94 2.06-2.06.94zm-11 1L8.5 8.5l.94-2.06 2.06-.94-2.06-.94L8.5 2.5l-.94 2.06-2.06.94zm10 10l.94 2.06.94-2.06 2.06-.94-2.06-.94-.94-2.06-.94 2.06-2.06.94z\"/><path d=\"M17.41 7.96l-1.37-1.37c-.4-.4-.92-.59-1.43-.59-.52 0-1.04.2-1.43.59L10.3 9.45l-7.72 7.72c-.78.78-.78 2.05 0 2.83L4 21.41c.39.39.9.59 1.41.59.51 0 1.02-.2 1.41-.59l7.78-7.78 2.81-2.81c.8-.78.8-2.07 0-2.86zM5.41 20L4 18.59l7.72-7.72 1.47 1.35L5.41 20z\"/>\n",
              "  </svg>\n",
              "      </button>\n",
              "      \n",
              "  <style>\n",
              "    .colab-df-container {\n",
              "      display:flex;\n",
              "      flex-wrap:wrap;\n",
              "      gap: 12px;\n",
              "    }\n",
              "\n",
              "    .colab-df-convert {\n",
              "      background-color: #E8F0FE;\n",
              "      border: none;\n",
              "      border-radius: 50%;\n",
              "      cursor: pointer;\n",
              "      display: none;\n",
              "      fill: #1967D2;\n",
              "      height: 32px;\n",
              "      padding: 0 0 0 0;\n",
              "      width: 32px;\n",
              "    }\n",
              "\n",
              "    .colab-df-convert:hover {\n",
              "      background-color: #E2EBFA;\n",
              "      box-shadow: 0px 1px 2px rgba(60, 64, 67, 0.3), 0px 1px 3px 1px rgba(60, 64, 67, 0.15);\n",
              "      fill: #174EA6;\n",
              "    }\n",
              "\n",
              "    [theme=dark] .colab-df-convert {\n",
              "      background-color: #3B4455;\n",
              "      fill: #D2E3FC;\n",
              "    }\n",
              "\n",
              "    [theme=dark] .colab-df-convert:hover {\n",
              "      background-color: #434B5C;\n",
              "      box-shadow: 0px 1px 3px 1px rgba(0, 0, 0, 0.15);\n",
              "      filter: drop-shadow(0px 1px 2px rgba(0, 0, 0, 0.3));\n",
              "      fill: #FFFFFF;\n",
              "    }\n",
              "  </style>\n",
              "\n",
              "      <script>\n",
              "        const buttonEl =\n",
              "          document.querySelector('#df-a32209fd-3550-4dfa-9b3a-0a06f13fefa6 button.colab-df-convert');\n",
              "        buttonEl.style.display =\n",
              "          google.colab.kernel.accessAllowed ? 'block' : 'none';\n",
              "\n",
              "        async function convertToInteractive(key) {\n",
              "          const element = document.querySelector('#df-a32209fd-3550-4dfa-9b3a-0a06f13fefa6');\n",
              "          const dataTable =\n",
              "            await google.colab.kernel.invokeFunction('convertToInteractive',\n",
              "                                                     [key], {});\n",
              "          if (!dataTable) return;\n",
              "\n",
              "          const docLinkHtml = 'Like what you see? Visit the ' +\n",
              "            '<a target=\"_blank\" href=https://colab.research.google.com/notebooks/data_table.ipynb>data table notebook</a>'\n",
              "            + ' to learn more about interactive tables.';\n",
              "          element.innerHTML = '';\n",
              "          dataTable['output_type'] = 'display_data';\n",
              "          await google.colab.output.renderOutput(dataTable, element);\n",
              "          const docLink = document.createElement('div');\n",
              "          docLink.innerHTML = docLinkHtml;\n",
              "          element.appendChild(docLink);\n",
              "        }\n",
              "      </script>\n",
              "    </div>\n",
              "  </div>\n",
              "  "
            ]
          },
          "metadata": {},
          "execution_count": 7
        }
      ]
    },
    {
      "cell_type": "code",
      "source": [
        "X.columns"
      ],
      "metadata": {
        "colab": {
          "base_uri": "https://localhost:8080/"
        },
        "id": "gYYNoiQwZN1k",
        "outputId": "76caa127-161a-40d0-b476-b6c5252bc1f5"
      },
      "execution_count": 8,
      "outputs": [
        {
          "output_type": "execute_result",
          "data": {
            "text/plain": [
              "Index(['Acedamic percentage in Operating Systems', 'percentage in Algorithms',\n",
              "       'Percentage in Programming Concepts',\n",
              "       'Percentage in Software Engineering', 'Percentage in Computer Networks',\n",
              "       'Percentage in Electronics Subjects',\n",
              "       'Percentage in Computer Architecture', 'Percentage in Mathematics',\n",
              "       'Percentage in Communication skills', 'Logical quotient rating',\n",
              "       'hackathons', 'coding skills rating', 'public speaking points',\n",
              "       'can work long time before system?', 'self-learning capability?',\n",
              "       'certifications', 'workshops', 'talenttests taken?',\n",
              "       'memory capability score', 'Interested subjects',\n",
              "       'Type of company want to settle in?', 'Management or Technical',\n",
              "       'hard/smart worker', 'worked in teams ever?'],\n",
              "      dtype='object')"
            ]
          },
          "metadata": {},
          "execution_count": 8
        }
      ]
    },
    {
      "cell_type": "code",
      "source": [
        "from sklearn import preprocessing \n",
        "label_encoder = preprocessing.LabelEncoder()"
      ],
      "metadata": {
        "id": "yLdLP4q-ZTCt"
      },
      "execution_count": 9,
      "outputs": []
    },
    {
      "cell_type": "code",
      "source": [
        "for idx,x in enumerate(sorted(y[\"Suggested Job Role\"].unique())):\n",
        "  print(idx,':',x)"
      ],
      "metadata": {
        "colab": {
          "base_uri": "https://localhost:8080/"
        },
        "id": "0njjU6KAZXCt",
        "outputId": "203b9dd6-4c32-400d-f92e-befb2d146c67"
      },
      "execution_count": 10,
      "outputs": [
        {
          "output_type": "stream",
          "name": "stdout",
          "text": [
            "0 : Applications Developer\n",
            "1 : Business Intelligence Analyst\n",
            "2 : Business Systems Analyst\n",
            "3 : CRM Business Analyst\n",
            "4 : CRM Technical Developer\n",
            "5 : Data Architect\n",
            "6 : Database Administrator\n",
            "7 : Database Developer\n",
            "8 : Database Manager\n",
            "9 : Design & UX\n",
            "10 : E-Commerce Analyst\n",
            "11 : Information Security Analyst\n",
            "12 : Information Technology Auditor\n",
            "13 : Information Technology Manager\n",
            "14 : Mobile Applications Developer\n",
            "15 : Network Engineer\n",
            "16 : Network Security Administrator\n",
            "17 : Network Security Engineer\n",
            "18 : Portal Administrator\n",
            "19 : Programmer Analyst\n",
            "20 : Project Manager\n",
            "21 : Quality Assurance Associate\n",
            "22 : Software Developer\n",
            "23 : Software Engineer\n",
            "24 : Software Quality Assurance (QA) / Testing\n",
            "25 : Software Systems Engineer\n",
            "26 : Solutions Architect\n",
            "27 : Systems Analyst\n",
            "28 : Systems Security Administrator\n",
            "29 : Technical Engineer\n",
            "30 : Technical Services/Help Desk/Tech Support\n",
            "31 : Technical Support\n",
            "32 : UX Designer\n",
            "33 : Web Developer\n"
          ]
        }
      ]
    },
    {
      "cell_type": "code",
      "source": [
        "y[\"Suggested Job Role\"] = label_encoder.fit_transform(y['Suggested Job Role'])\n",
        "y['Suggested Job Role']"
      ],
      "metadata": {
        "colab": {
          "base_uri": "https://localhost:8080/"
        },
        "id": "eXfpvF5AZcoM",
        "outputId": "7b6db1b7-874f-4164-e6fb-7f275b48279e"
      },
      "execution_count": 11,
      "outputs": [
        {
          "output_type": "execute_result",
          "data": {
            "text/plain": [
              "0         7\n",
              "1        18\n",
              "2        18\n",
              "3        28\n",
              "4         2\n",
              "         ..\n",
              "19995    29\n",
              "19996    10\n",
              "19997     1\n",
              "19998    24\n",
              "19999     0\n",
              "Name: Suggested Job Role, Length: 20000, dtype: int64"
            ]
          },
          "metadata": {},
          "execution_count": 11
        }
      ]
    },
    {
      "cell_type": "code",
      "source": [
        "for idx,x in enumerate(sorted(X[\"can work long time before system?\"].unique())):\n",
        "  print(idx,':',x)"
      ],
      "metadata": {
        "colab": {
          "base_uri": "https://localhost:8080/"
        },
        "id": "4Z3AkMpqZh4j",
        "outputId": "786cd0ed-465b-472f-9702-4166a47f3cdc"
      },
      "execution_count": 12,
      "outputs": [
        {
          "output_type": "stream",
          "name": "stdout",
          "text": [
            "0 : no\n",
            "1 : yes\n"
          ]
        }
      ]
    },
    {
      "cell_type": "code",
      "source": [
        "X[\"can work long time before system?\"] = label_encoder.fit_transform(X['can work long time before system?'])\n",
        "X['can work long time before system?']"
      ],
      "metadata": {
        "colab": {
          "base_uri": "https://localhost:8080/"
        },
        "id": "hq97me_SZmHG",
        "outputId": "9d7004e8-00c8-495d-d02b-b6d5e9736070"
      },
      "execution_count": 13,
      "outputs": [
        {
          "output_type": "execute_result",
          "data": {
            "text/plain": [
              "0        1\n",
              "1        1\n",
              "2        1\n",
              "3        0\n",
              "4        0\n",
              "        ..\n",
              "19995    1\n",
              "19996    1\n",
              "19997    1\n",
              "19998    0\n",
              "19999    1\n",
              "Name: can work long time before system?, Length: 20000, dtype: int64"
            ]
          },
          "metadata": {},
          "execution_count": 13
        }
      ]
    },
    {
      "cell_type": "code",
      "source": [
        "for idx,x in enumerate(sorted(X[\"self-learning capability?\"].unique())):\n",
        "  print(idx,':',x)"
      ],
      "metadata": {
        "colab": {
          "base_uri": "https://localhost:8080/"
        },
        "id": "6sZBKnsXZrdO",
        "outputId": "330416e0-9ca4-46d1-f6a7-3186d54ddc0b"
      },
      "execution_count": 14,
      "outputs": [
        {
          "output_type": "stream",
          "name": "stdout",
          "text": [
            "0 : no\n",
            "1 : yes\n"
          ]
        }
      ]
    },
    {
      "cell_type": "code",
      "source": [
        "X[\"self-learning capability?\"] = label_encoder.fit_transform(X['self-learning capability?'])\n",
        "X['self-learning capability?']"
      ],
      "metadata": {
        "colab": {
          "base_uri": "https://localhost:8080/"
        },
        "id": "Nxm_YGK9Zw4-",
        "outputId": "bdedb184-63e8-4cca-c69a-5c84871b0ba7"
      },
      "execution_count": 15,
      "outputs": [
        {
          "output_type": "execute_result",
          "data": {
            "text/plain": [
              "0        1\n",
              "1        0\n",
              "2        0\n",
              "3        1\n",
              "4        0\n",
              "        ..\n",
              "19995    0\n",
              "19996    0\n",
              "19997    1\n",
              "19998    0\n",
              "19999    1\n",
              "Name: self-learning capability?, Length: 20000, dtype: int64"
            ]
          },
          "metadata": {},
          "execution_count": 15
        }
      ]
    },
    {
      "cell_type": "code",
      "source": [
        "for idx,x in enumerate(sorted(X[\"certifications\"].unique())):\n",
        "  print(idx,':',x)"
      ],
      "metadata": {
        "colab": {
          "base_uri": "https://localhost:8080/"
        },
        "id": "QR-Vlw8yZ2HV",
        "outputId": "833c6d1b-f867-4772-b677-7716865f7a64"
      },
      "execution_count": 16,
      "outputs": [
        {
          "output_type": "stream",
          "name": "stdout",
          "text": [
            "0 : app development\n",
            "1 : distro making\n",
            "2 : full stack\n",
            "3 : hadoop\n",
            "4 : information security\n",
            "5 : machine learning\n",
            "6 : python\n",
            "7 : r programming\n",
            "8 : shell programming\n"
          ]
        }
      ]
    },
    {
      "cell_type": "code",
      "source": [
        "X[\"certifications\"] = label_encoder.fit_transform(X['certifications'])\n",
        "X['certifications']"
      ],
      "metadata": {
        "colab": {
          "base_uri": "https://localhost:8080/"
        },
        "id": "Ll55o_vcZ6X7",
        "outputId": "b4f7b1c0-9b2c-4d0f-cd85-5c22b23fb94e"
      },
      "execution_count": 17,
      "outputs": [
        {
          "output_type": "execute_result",
          "data": {
            "text/plain": [
              "0        8\n",
              "1        5\n",
              "2        0\n",
              "3        6\n",
              "4        0\n",
              "        ..\n",
              "19995    0\n",
              "19996    2\n",
              "19997    4\n",
              "19998    2\n",
              "19999    0\n",
              "Name: certifications, Length: 20000, dtype: int64"
            ]
          },
          "metadata": {},
          "execution_count": 17
        }
      ]
    },
    {
      "cell_type": "code",
      "source": [
        "for idx,x in enumerate(sorted(X[\"workshops\"].unique())):\n",
        "  print(idx,':',x)"
      ],
      "metadata": {
        "colab": {
          "base_uri": "https://localhost:8080/"
        },
        "id": "5DbXER4TZ_cs",
        "outputId": "7a10978f-5031-471e-d98e-68763650b411"
      },
      "execution_count": 19,
      "outputs": [
        {
          "output_type": "stream",
          "name": "stdout",
          "text": [
            "0 : 0\n",
            "1 : 1\n",
            "2 : 2\n",
            "3 : 3\n",
            "4 : 4\n",
            "5 : 5\n",
            "6 : 6\n",
            "7 : 7\n"
          ]
        }
      ]
    },
    {
      "cell_type": "code",
      "source": [
        "X[\"workshops\"] = label_encoder.fit_transform(X['workshops'])\n",
        "X['workshops']"
      ],
      "metadata": {
        "colab": {
          "base_uri": "https://localhost:8080/"
        },
        "id": "HUd_WmejaEOU",
        "outputId": "fd434615-6b42-4a36-fee6-b596eb3fa0ac"
      },
      "execution_count": 18,
      "outputs": [
        {
          "output_type": "execute_result",
          "data": {
            "text/plain": [
              "0        0\n",
              "1        2\n",
              "2        7\n",
              "3        1\n",
              "4        0\n",
              "        ..\n",
              "19995    0\n",
              "19996    3\n",
              "19997    2\n",
              "19998    0\n",
              "19999    2\n",
              "Name: workshops, Length: 20000, dtype: int64"
            ]
          },
          "metadata": {},
          "execution_count": 18
        }
      ]
    },
    {
      "cell_type": "code",
      "source": [
        "for idx,x in enumerate(sorted(X[\"talenttests taken?\"].unique())):\n",
        "  print(idx,':',x)"
      ],
      "metadata": {
        "colab": {
          "base_uri": "https://localhost:8080/"
        },
        "id": "je3B0HiXaGNS",
        "outputId": "adaf1dd3-edfe-49ac-de9f-f53fd5c6d083"
      },
      "execution_count": 20,
      "outputs": [
        {
          "output_type": "stream",
          "name": "stdout",
          "text": [
            "0 : no\n",
            "1 : yes\n"
          ]
        }
      ]
    },
    {
      "cell_type": "code",
      "source": [
        "X[\"talenttests taken?\"] = label_encoder.fit_transform(X['talenttests taken?'])\n",
        "X['talenttests taken?']\n"
      ],
      "metadata": {
        "colab": {
          "base_uri": "https://localhost:8080/"
        },
        "id": "6-CcXMXGaRwL",
        "outputId": "b3ef04eb-95ce-4973-f2d3-fcf6e2acd2dc"
      },
      "execution_count": 21,
      "outputs": [
        {
          "output_type": "execute_result",
          "data": {
            "text/plain": [
              "0        0\n",
              "1        0\n",
              "2        0\n",
              "3        1\n",
              "4        0\n",
              "        ..\n",
              "19995    1\n",
              "19996    0\n",
              "19997    1\n",
              "19998    0\n",
              "19999    0\n",
              "Name: talenttests taken?, Length: 20000, dtype: int64"
            ]
          },
          "metadata": {},
          "execution_count": 21
        }
      ]
    },
    {
      "cell_type": "code",
      "source": [
        "for idx,x in enumerate(sorted(X[\"memory capability score\"].unique())):\n",
        "  print(idx,':',x)"
      ],
      "metadata": {
        "colab": {
          "base_uri": "https://localhost:8080/"
        },
        "id": "g-Wk3xEbaWrC",
        "outputId": "0b972568-b1d3-4cb9-a5c7-b459e2cb9c35"
      },
      "execution_count": 22,
      "outputs": [
        {
          "output_type": "stream",
          "name": "stdout",
          "text": [
            "0 : excellent\n",
            "1 : medium\n",
            "2 : poor\n"
          ]
        }
      ]
    },
    {
      "cell_type": "code",
      "source": [
        "X[\"memory capability score\"] = label_encoder.fit_transform(X['memory capability score'])\n",
        "X['memory capability score']"
      ],
      "metadata": {
        "colab": {
          "base_uri": "https://localhost:8080/"
        },
        "id": "WSMSADi_abaa",
        "outputId": "7b2a1b70-54a6-4826-fa50-bce899a4c733"
      },
      "execution_count": 23,
      "outputs": [
        {
          "output_type": "execute_result",
          "data": {
            "text/plain": [
              "0        0\n",
              "1        1\n",
              "2        0\n",
              "3        0\n",
              "4        0\n",
              "        ..\n",
              "19995    0\n",
              "19996    0\n",
              "19997    0\n",
              "19998    2\n",
              "19999    0\n",
              "Name: memory capability score, Length: 20000, dtype: int64"
            ]
          },
          "metadata": {},
          "execution_count": 23
        }
      ]
    },
    {
      "cell_type": "code",
      "source": [
        "for idx,x in enumerate(sorted(X[\"Interested subjects\"].unique())):\n",
        "  print(idx,':',x)"
      ],
      "metadata": {
        "colab": {
          "base_uri": "https://localhost:8080/"
        },
        "id": "s3EvAUTlccyu",
        "outputId": "5bb807a1-871d-41e4-e879-cb84db856134"
      },
      "execution_count": 24,
      "outputs": [
        {
          "output_type": "stream",
          "name": "stdout",
          "text": [
            "0 : Computer Architecture\n",
            "1 : IOT\n",
            "2 : Management\n",
            "3 : Software Engineering\n",
            "4 : cloud computing\n",
            "5 : data engineering\n",
            "6 : hacking\n",
            "7 : networks\n",
            "8 : parallel computing\n",
            "9 : programming\n"
          ]
        }
      ]
    },
    {
      "cell_type": "code",
      "source": [
        "X[\"Interested subjects\"] = label_encoder.fit_transform(X['Interested subjects'])\n",
        "X['Interested subjects']"
      ],
      "metadata": {
        "colab": {
          "base_uri": "https://localhost:8080/"
        },
        "id": "f_99_JdndHTX",
        "outputId": "338e0c45-0b64-447f-aa63-acdc9068b640"
      },
      "execution_count": 25,
      "outputs": [
        {
          "output_type": "execute_result",
          "data": {
            "text/plain": [
              "0        4\n",
              "1        7\n",
              "2        6\n",
              "3        7\n",
              "4        0\n",
              "        ..\n",
              "19995    3\n",
              "19996    2\n",
              "19997    7\n",
              "19998    1\n",
              "19999    1\n",
              "Name: Interested subjects, Length: 20000, dtype: int64"
            ]
          },
          "metadata": {},
          "execution_count": 25
        }
      ]
    },
    {
      "cell_type": "code",
      "source": [
        "for idx,x in enumerate(sorted(X[\"Type of company want to settle in?\"].unique())):\n",
        "  print(idx,':',x)"
      ],
      "metadata": {
        "colab": {
          "base_uri": "https://localhost:8080/"
        },
        "id": "vob20YqadMBE",
        "outputId": "3dca58c5-2385-4e76-f8da-6adcf2b8a5dd"
      },
      "execution_count": 26,
      "outputs": [
        {
          "output_type": "stream",
          "name": "stdout",
          "text": [
            "0 : BPA\n",
            "1 : Cloud Services\n",
            "2 : Finance\n",
            "3 : Product based\n",
            "4 : SAaS services\n",
            "5 : Sales and Marketing\n",
            "6 : Service Based\n",
            "7 : Testing and Maintainance Services\n",
            "8 : Web Services\n",
            "9 : product development\n"
          ]
        }
      ]
    },
    {
      "cell_type": "code",
      "source": [
        "X[\"Type of company want to settle in?\"] = label_encoder.fit_transform(X['Type of company want to settle in?'])\n",
        "X['Type of company want to settle in?']\n"
      ],
      "metadata": {
        "colab": {
          "base_uri": "https://localhost:8080/"
        },
        "id": "j470aHAmdRjV",
        "outputId": "415c8eba-6311-42c5-d2ff-500c37694d2b"
      },
      "execution_count": 27,
      "outputs": [
        {
          "output_type": "execute_result",
          "data": {
            "text/plain": [
              "0        8\n",
              "1        4\n",
              "2        5\n",
              "3        7\n",
              "4        9\n",
              "        ..\n",
              "19995    7\n",
              "19996    3\n",
              "19997    4\n",
              "19998    1\n",
              "19999    2\n",
              "Name: Type of company want to settle in?, Length: 20000, dtype: int64"
            ]
          },
          "metadata": {},
          "execution_count": 27
        }
      ]
    },
    {
      "cell_type": "code",
      "source": [
        "for idx,x in enumerate(sorted(X[\"Management or Technical\"].unique())):\n",
        "  print(idx,':',x)"
      ],
      "metadata": {
        "colab": {
          "base_uri": "https://localhost:8080/"
        },
        "id": "j46bEEbmdZiO",
        "outputId": "d45c7d57-5f9e-4a43-e628-f6348d177a93"
      },
      "execution_count": 28,
      "outputs": [
        {
          "output_type": "stream",
          "name": "stdout",
          "text": [
            "0 : Management\n",
            "1 : Technical\n"
          ]
        }
      ]
    },
    {
      "cell_type": "code",
      "source": [
        "X[\"Management or Technical\"] = label_encoder.fit_transform(X['Management or Technical'])\n",
        "X['Management or Technical']"
      ],
      "metadata": {
        "colab": {
          "base_uri": "https://localhost:8080/"
        },
        "id": "FuvmlfAcdc49",
        "outputId": "8f5d707f-e84c-44c0-d400-2a34a92460f1"
      },
      "execution_count": 29,
      "outputs": [
        {
          "output_type": "execute_result",
          "data": {
            "text/plain": [
              "0        0\n",
              "1        1\n",
              "2        0\n",
              "3        0\n",
              "4        0\n",
              "        ..\n",
              "19995    0\n",
              "19996    0\n",
              "19997    1\n",
              "19998    0\n",
              "19999    0\n",
              "Name: Management or Technical, Length: 20000, dtype: int64"
            ]
          },
          "metadata": {},
          "execution_count": 29
        }
      ]
    },
    {
      "cell_type": "code",
      "source": [
        "for idx,x in enumerate(sorted(X[\"hard/smart worker\"].unique())):\n",
        "  print(idx,':',x)"
      ],
      "metadata": {
        "colab": {
          "base_uri": "https://localhost:8080/"
        },
        "id": "4WcerFKfdiYD",
        "outputId": "7768f3e8-f29e-4d07-8061-3c6c95bc1408"
      },
      "execution_count": 30,
      "outputs": [
        {
          "output_type": "stream",
          "name": "stdout",
          "text": [
            "0 : hard worker\n",
            "1 : smart worker\n"
          ]
        }
      ]
    },
    {
      "cell_type": "code",
      "source": [
        "X[\"hard/smart worker\"] = label_encoder.fit_transform(X['hard/smart worker'])\n",
        "X['hard/smart worker']"
      ],
      "metadata": {
        "colab": {
          "base_uri": "https://localhost:8080/"
        },
        "id": "2OjqFLyqdmma",
        "outputId": "7826a021-f253-4e6e-808b-650f3b6d1f07"
      },
      "execution_count": 31,
      "outputs": [
        {
          "output_type": "execute_result",
          "data": {
            "text/plain": [
              "0        0\n",
              "1        0\n",
              "2        0\n",
              "3        1\n",
              "4        0\n",
              "        ..\n",
              "19995    1\n",
              "19996    0\n",
              "19997    0\n",
              "19998    1\n",
              "19999    0\n",
              "Name: hard/smart worker, Length: 20000, dtype: int64"
            ]
          },
          "metadata": {},
          "execution_count": 31
        }
      ]
    },
    {
      "cell_type": "code",
      "source": [
        "for idx,x in enumerate(sorted(X[\"worked in teams ever?\"].unique())):\n",
        "  print(idx,':',x)"
      ],
      "metadata": {
        "colab": {
          "base_uri": "https://localhost:8080/"
        },
        "id": "xfKxNActmYuI",
        "outputId": "a4e15a72-88fd-42e9-a1e2-3b23d51a93f3"
      },
      "execution_count": 32,
      "outputs": [
        {
          "output_type": "stream",
          "name": "stdout",
          "text": [
            "0 : no\n",
            "1 : yes\n"
          ]
        }
      ]
    },
    {
      "cell_type": "code",
      "source": [
        "X[\"worked in teams ever?\"] = label_encoder.fit_transform(X['worked in teams ever?'])\n",
        "X['worked in teams ever?']\n"
      ],
      "metadata": {
        "colab": {
          "base_uri": "https://localhost:8080/"
        },
        "id": "CPi19qQFm_Nk",
        "outputId": "761b63a2-9d33-4d64-d2ff-d03329249050"
      },
      "execution_count": 33,
      "outputs": [
        {
          "output_type": "execute_result",
          "data": {
            "text/plain": [
              "0        1\n",
              "1        0\n",
              "2        0\n",
              "3        1\n",
              "4        1\n",
              "        ..\n",
              "19995    1\n",
              "19996    0\n",
              "19997    0\n",
              "19998    1\n",
              "19999    1\n",
              "Name: worked in teams ever?, Length: 20000, dtype: int64"
            ]
          },
          "metadata": {},
          "execution_count": 33
        }
      ]
    },
    {
      "cell_type": "code",
      "source": [
        "X.columns"
      ],
      "metadata": {
        "colab": {
          "base_uri": "https://localhost:8080/"
        },
        "id": "c07FlwHonpN6",
        "outputId": "6948df8f-5ca0-4953-cbd9-d441a9c93ec3"
      },
      "execution_count": 34,
      "outputs": [
        {
          "output_type": "execute_result",
          "data": {
            "text/plain": [
              "Index(['Acedamic percentage in Operating Systems', 'percentage in Algorithms',\n",
              "       'Percentage in Programming Concepts',\n",
              "       'Percentage in Software Engineering', 'Percentage in Computer Networks',\n",
              "       'Percentage in Electronics Subjects',\n",
              "       'Percentage in Computer Architecture', 'Percentage in Mathematics',\n",
              "       'Percentage in Communication skills', 'Logical quotient rating',\n",
              "       'hackathons', 'coding skills rating', 'public speaking points',\n",
              "       'can work long time before system?', 'self-learning capability?',\n",
              "       'certifications', 'workshops', 'talenttests taken?',\n",
              "       'memory capability score', 'Interested subjects',\n",
              "       'Type of company want to settle in?', 'Management or Technical',\n",
              "       'hard/smart worker', 'worked in teams ever?'],\n",
              "      dtype='object')"
            ]
          },
          "metadata": {},
          "execution_count": 34
        }
      ]
    },
    {
      "cell_type": "code",
      "source": [
        "X"
      ],
      "metadata": {
        "colab": {
          "base_uri": "https://localhost:8080/",
          "height": 557
        },
        "id": "vQsMLnNCnuqH",
        "outputId": "0f759ccc-25bc-47ca-ee61-d58473a6dea6"
      },
      "execution_count": 35,
      "outputs": [
        {
          "output_type": "execute_result",
          "data": {
            "text/plain": [
              "       Acedamic percentage in Operating Systems  percentage in Algorithms  \\\n",
              "0                                            69                        63   \n",
              "1                                            78                        62   \n",
              "2                                            71                        86   \n",
              "3                                            76                        87   \n",
              "4                                            92                        62   \n",
              "...                                         ...                       ...   \n",
              "19995                                        83                        67   \n",
              "19996                                        80                        69   \n",
              "19997                                        83                        70   \n",
              "19998                                        68                        87   \n",
              "19999                                        73                        77   \n",
              "\n",
              "       Percentage in Programming Concepts  Percentage in Software Engineering  \\\n",
              "0                                      78                                  87   \n",
              "1                                      73                                  60   \n",
              "2                                      91                                  87   \n",
              "3                                      60                                  84   \n",
              "4                                      90                                  67   \n",
              "...                                   ...                                 ...   \n",
              "19995                                  62                                  63   \n",
              "19996                                  83                                  87   \n",
              "19997                                  80                                  87   \n",
              "19998                                  91                                  88   \n",
              "19999                                  74                                  84   \n",
              "\n",
              "       Percentage in Computer Networks  Percentage in Electronics Subjects  \\\n",
              "0                                   94                                  94   \n",
              "1                                   71                                  70   \n",
              "2                                   61                                  81   \n",
              "3                                   89                                  73   \n",
              "4                                   71                                  89   \n",
              "...                                ...                                 ...   \n",
              "19995                               81                                  74   \n",
              "19996                               82                                  66   \n",
              "19997                               64                                  85   \n",
              "19998                               66                                  74   \n",
              "19999                               70                                  65   \n",
              "\n",
              "       Percentage in Computer Architecture  Percentage in Mathematics  \\\n",
              "0                                       87                         84   \n",
              "1                                       73                         84   \n",
              "2                                       72                         72   \n",
              "3                                       62                         88   \n",
              "4                                       73                         71   \n",
              "...                                    ...                        ...   \n",
              "19995                                   90                         84   \n",
              "19996                                   66                         92   \n",
              "19997                                   69                         94   \n",
              "19998                                   61                         87   \n",
              "19999                                   92                         73   \n",
              "\n",
              "       Percentage in Communication skills  Logical quotient rating  ...  \\\n",
              "0                                      61                        4  ...   \n",
              "1                                      91                        7  ...   \n",
              "2                                      94                        1  ...   \n",
              "3                                      69                        1  ...   \n",
              "4                                      73                        5  ...   \n",
              "...                                   ...                      ...  ...   \n",
              "19995                                  69                        2  ...   \n",
              "19996                                  67                        8  ...   \n",
              "19997                                  88                        3  ...   \n",
              "19998                                  61                        1  ...   \n",
              "19999                                  90                        3  ...   \n",
              "\n",
              "       self-learning capability?  certifications  workshops  \\\n",
              "0                              1               8          0   \n",
              "1                              0               5          2   \n",
              "2                              0               0          7   \n",
              "3                              1               6          1   \n",
              "4                              0               0          0   \n",
              "...                          ...             ...        ...   \n",
              "19995                          0               0          0   \n",
              "19996                          0               2          3   \n",
              "19997                          1               4          2   \n",
              "19998                          0               2          0   \n",
              "19999                          1               0          2   \n",
              "\n",
              "       talenttests taken?  memory capability score  Interested subjects  \\\n",
              "0                       0                        0                    4   \n",
              "1                       0                        1                    7   \n",
              "2                       0                        0                    6   \n",
              "3                       1                        0                    7   \n",
              "4                       0                        0                    0   \n",
              "...                   ...                      ...                  ...   \n",
              "19995                   1                        0                    3   \n",
              "19996                   0                        0                    2   \n",
              "19997                   1                        0                    7   \n",
              "19998                   0                        2                    1   \n",
              "19999                   0                        0                    1   \n",
              "\n",
              "       Type of company want to settle in?  Management or Technical  \\\n",
              "0                                       8                        0   \n",
              "1                                       4                        1   \n",
              "2                                       5                        0   \n",
              "3                                       7                        0   \n",
              "4                                       9                        0   \n",
              "...                                   ...                      ...   \n",
              "19995                                   7                        0   \n",
              "19996                                   3                        0   \n",
              "19997                                   4                        1   \n",
              "19998                                   1                        0   \n",
              "19999                                   2                        0   \n",
              "\n",
              "       hard/smart worker  worked in teams ever?  \n",
              "0                      0                      1  \n",
              "1                      0                      0  \n",
              "2                      0                      0  \n",
              "3                      1                      1  \n",
              "4                      0                      1  \n",
              "...                  ...                    ...  \n",
              "19995                  1                      1  \n",
              "19996                  0                      0  \n",
              "19997                  0                      0  \n",
              "19998                  1                      1  \n",
              "19999                  0                      1  \n",
              "\n",
              "[20000 rows x 24 columns]"
            ],
            "text/html": [
              "\n",
              "  <div id=\"df-62abfac7-e9c7-42d7-a10a-6fa3802974e3\">\n",
              "    <div class=\"colab-df-container\">\n",
              "      <div>\n",
              "<style scoped>\n",
              "    .dataframe tbody tr th:only-of-type {\n",
              "        vertical-align: middle;\n",
              "    }\n",
              "\n",
              "    .dataframe tbody tr th {\n",
              "        vertical-align: top;\n",
              "    }\n",
              "\n",
              "    .dataframe thead th {\n",
              "        text-align: right;\n",
              "    }\n",
              "</style>\n",
              "<table border=\"1\" class=\"dataframe\">\n",
              "  <thead>\n",
              "    <tr style=\"text-align: right;\">\n",
              "      <th></th>\n",
              "      <th>Acedamic percentage in Operating Systems</th>\n",
              "      <th>percentage in Algorithms</th>\n",
              "      <th>Percentage in Programming Concepts</th>\n",
              "      <th>Percentage in Software Engineering</th>\n",
              "      <th>Percentage in Computer Networks</th>\n",
              "      <th>Percentage in Electronics Subjects</th>\n",
              "      <th>Percentage in Computer Architecture</th>\n",
              "      <th>Percentage in Mathematics</th>\n",
              "      <th>Percentage in Communication skills</th>\n",
              "      <th>Logical quotient rating</th>\n",
              "      <th>...</th>\n",
              "      <th>self-learning capability?</th>\n",
              "      <th>certifications</th>\n",
              "      <th>workshops</th>\n",
              "      <th>talenttests taken?</th>\n",
              "      <th>memory capability score</th>\n",
              "      <th>Interested subjects</th>\n",
              "      <th>Type of company want to settle in?</th>\n",
              "      <th>Management or Technical</th>\n",
              "      <th>hard/smart worker</th>\n",
              "      <th>worked in teams ever?</th>\n",
              "    </tr>\n",
              "  </thead>\n",
              "  <tbody>\n",
              "    <tr>\n",
              "      <th>0</th>\n",
              "      <td>69</td>\n",
              "      <td>63</td>\n",
              "      <td>78</td>\n",
              "      <td>87</td>\n",
              "      <td>94</td>\n",
              "      <td>94</td>\n",
              "      <td>87</td>\n",
              "      <td>84</td>\n",
              "      <td>61</td>\n",
              "      <td>4</td>\n",
              "      <td>...</td>\n",
              "      <td>1</td>\n",
              "      <td>8</td>\n",
              "      <td>0</td>\n",
              "      <td>0</td>\n",
              "      <td>0</td>\n",
              "      <td>4</td>\n",
              "      <td>8</td>\n",
              "      <td>0</td>\n",
              "      <td>0</td>\n",
              "      <td>1</td>\n",
              "    </tr>\n",
              "    <tr>\n",
              "      <th>1</th>\n",
              "      <td>78</td>\n",
              "      <td>62</td>\n",
              "      <td>73</td>\n",
              "      <td>60</td>\n",
              "      <td>71</td>\n",
              "      <td>70</td>\n",
              "      <td>73</td>\n",
              "      <td>84</td>\n",
              "      <td>91</td>\n",
              "      <td>7</td>\n",
              "      <td>...</td>\n",
              "      <td>0</td>\n",
              "      <td>5</td>\n",
              "      <td>2</td>\n",
              "      <td>0</td>\n",
              "      <td>1</td>\n",
              "      <td>7</td>\n",
              "      <td>4</td>\n",
              "      <td>1</td>\n",
              "      <td>0</td>\n",
              "      <td>0</td>\n",
              "    </tr>\n",
              "    <tr>\n",
              "      <th>2</th>\n",
              "      <td>71</td>\n",
              "      <td>86</td>\n",
              "      <td>91</td>\n",
              "      <td>87</td>\n",
              "      <td>61</td>\n",
              "      <td>81</td>\n",
              "      <td>72</td>\n",
              "      <td>72</td>\n",
              "      <td>94</td>\n",
              "      <td>1</td>\n",
              "      <td>...</td>\n",
              "      <td>0</td>\n",
              "      <td>0</td>\n",
              "      <td>7</td>\n",
              "      <td>0</td>\n",
              "      <td>0</td>\n",
              "      <td>6</td>\n",
              "      <td>5</td>\n",
              "      <td>0</td>\n",
              "      <td>0</td>\n",
              "      <td>0</td>\n",
              "    </tr>\n",
              "    <tr>\n",
              "      <th>3</th>\n",
              "      <td>76</td>\n",
              "      <td>87</td>\n",
              "      <td>60</td>\n",
              "      <td>84</td>\n",
              "      <td>89</td>\n",
              "      <td>73</td>\n",
              "      <td>62</td>\n",
              "      <td>88</td>\n",
              "      <td>69</td>\n",
              "      <td>1</td>\n",
              "      <td>...</td>\n",
              "      <td>1</td>\n",
              "      <td>6</td>\n",
              "      <td>1</td>\n",
              "      <td>1</td>\n",
              "      <td>0</td>\n",
              "      <td>7</td>\n",
              "      <td>7</td>\n",
              "      <td>0</td>\n",
              "      <td>1</td>\n",
              "      <td>1</td>\n",
              "    </tr>\n",
              "    <tr>\n",
              "      <th>4</th>\n",
              "      <td>92</td>\n",
              "      <td>62</td>\n",
              "      <td>90</td>\n",
              "      <td>67</td>\n",
              "      <td>71</td>\n",
              "      <td>89</td>\n",
              "      <td>73</td>\n",
              "      <td>71</td>\n",
              "      <td>73</td>\n",
              "      <td>5</td>\n",
              "      <td>...</td>\n",
              "      <td>0</td>\n",
              "      <td>0</td>\n",
              "      <td>0</td>\n",
              "      <td>0</td>\n",
              "      <td>0</td>\n",
              "      <td>0</td>\n",
              "      <td>9</td>\n",
              "      <td>0</td>\n",
              "      <td>0</td>\n",
              "      <td>1</td>\n",
              "    </tr>\n",
              "    <tr>\n",
              "      <th>...</th>\n",
              "      <td>...</td>\n",
              "      <td>...</td>\n",
              "      <td>...</td>\n",
              "      <td>...</td>\n",
              "      <td>...</td>\n",
              "      <td>...</td>\n",
              "      <td>...</td>\n",
              "      <td>...</td>\n",
              "      <td>...</td>\n",
              "      <td>...</td>\n",
              "      <td>...</td>\n",
              "      <td>...</td>\n",
              "      <td>...</td>\n",
              "      <td>...</td>\n",
              "      <td>...</td>\n",
              "      <td>...</td>\n",
              "      <td>...</td>\n",
              "      <td>...</td>\n",
              "      <td>...</td>\n",
              "      <td>...</td>\n",
              "      <td>...</td>\n",
              "    </tr>\n",
              "    <tr>\n",
              "      <th>19995</th>\n",
              "      <td>83</td>\n",
              "      <td>67</td>\n",
              "      <td>62</td>\n",
              "      <td>63</td>\n",
              "      <td>81</td>\n",
              "      <td>74</td>\n",
              "      <td>90</td>\n",
              "      <td>84</td>\n",
              "      <td>69</td>\n",
              "      <td>2</td>\n",
              "      <td>...</td>\n",
              "      <td>0</td>\n",
              "      <td>0</td>\n",
              "      <td>0</td>\n",
              "      <td>1</td>\n",
              "      <td>0</td>\n",
              "      <td>3</td>\n",
              "      <td>7</td>\n",
              "      <td>0</td>\n",
              "      <td>1</td>\n",
              "      <td>1</td>\n",
              "    </tr>\n",
              "    <tr>\n",
              "      <th>19996</th>\n",
              "      <td>80</td>\n",
              "      <td>69</td>\n",
              "      <td>83</td>\n",
              "      <td>87</td>\n",
              "      <td>82</td>\n",
              "      <td>66</td>\n",
              "      <td>66</td>\n",
              "      <td>92</td>\n",
              "      <td>67</td>\n",
              "      <td>8</td>\n",
              "      <td>...</td>\n",
              "      <td>0</td>\n",
              "      <td>2</td>\n",
              "      <td>3</td>\n",
              "      <td>0</td>\n",
              "      <td>0</td>\n",
              "      <td>2</td>\n",
              "      <td>3</td>\n",
              "      <td>0</td>\n",
              "      <td>0</td>\n",
              "      <td>0</td>\n",
              "    </tr>\n",
              "    <tr>\n",
              "      <th>19997</th>\n",
              "      <td>83</td>\n",
              "      <td>70</td>\n",
              "      <td>80</td>\n",
              "      <td>87</td>\n",
              "      <td>64</td>\n",
              "      <td>85</td>\n",
              "      <td>69</td>\n",
              "      <td>94</td>\n",
              "      <td>88</td>\n",
              "      <td>3</td>\n",
              "      <td>...</td>\n",
              "      <td>1</td>\n",
              "      <td>4</td>\n",
              "      <td>2</td>\n",
              "      <td>1</td>\n",
              "      <td>0</td>\n",
              "      <td>7</td>\n",
              "      <td>4</td>\n",
              "      <td>1</td>\n",
              "      <td>0</td>\n",
              "      <td>0</td>\n",
              "    </tr>\n",
              "    <tr>\n",
              "      <th>19998</th>\n",
              "      <td>68</td>\n",
              "      <td>87</td>\n",
              "      <td>91</td>\n",
              "      <td>88</td>\n",
              "      <td>66</td>\n",
              "      <td>74</td>\n",
              "      <td>61</td>\n",
              "      <td>87</td>\n",
              "      <td>61</td>\n",
              "      <td>1</td>\n",
              "      <td>...</td>\n",
              "      <td>0</td>\n",
              "      <td>2</td>\n",
              "      <td>0</td>\n",
              "      <td>0</td>\n",
              "      <td>2</td>\n",
              "      <td>1</td>\n",
              "      <td>1</td>\n",
              "      <td>0</td>\n",
              "      <td>1</td>\n",
              "      <td>1</td>\n",
              "    </tr>\n",
              "    <tr>\n",
              "      <th>19999</th>\n",
              "      <td>73</td>\n",
              "      <td>77</td>\n",
              "      <td>74</td>\n",
              "      <td>84</td>\n",
              "      <td>70</td>\n",
              "      <td>65</td>\n",
              "      <td>92</td>\n",
              "      <td>73</td>\n",
              "      <td>90</td>\n",
              "      <td>3</td>\n",
              "      <td>...</td>\n",
              "      <td>1</td>\n",
              "      <td>0</td>\n",
              "      <td>2</td>\n",
              "      <td>0</td>\n",
              "      <td>0</td>\n",
              "      <td>1</td>\n",
              "      <td>2</td>\n",
              "      <td>0</td>\n",
              "      <td>0</td>\n",
              "      <td>1</td>\n",
              "    </tr>\n",
              "  </tbody>\n",
              "</table>\n",
              "<p>20000 rows × 24 columns</p>\n",
              "</div>\n",
              "      <button class=\"colab-df-convert\" onclick=\"convertToInteractive('df-62abfac7-e9c7-42d7-a10a-6fa3802974e3')\"\n",
              "              title=\"Convert this dataframe to an interactive table.\"\n",
              "              style=\"display:none;\">\n",
              "        \n",
              "  <svg xmlns=\"http://www.w3.org/2000/svg\" height=\"24px\"viewBox=\"0 0 24 24\"\n",
              "       width=\"24px\">\n",
              "    <path d=\"M0 0h24v24H0V0z\" fill=\"none\"/>\n",
              "    <path d=\"M18.56 5.44l.94 2.06.94-2.06 2.06-.94-2.06-.94-.94-2.06-.94 2.06-2.06.94zm-11 1L8.5 8.5l.94-2.06 2.06-.94-2.06-.94L8.5 2.5l-.94 2.06-2.06.94zm10 10l.94 2.06.94-2.06 2.06-.94-2.06-.94-.94-2.06-.94 2.06-2.06.94z\"/><path d=\"M17.41 7.96l-1.37-1.37c-.4-.4-.92-.59-1.43-.59-.52 0-1.04.2-1.43.59L10.3 9.45l-7.72 7.72c-.78.78-.78 2.05 0 2.83L4 21.41c.39.39.9.59 1.41.59.51 0 1.02-.2 1.41-.59l7.78-7.78 2.81-2.81c.8-.78.8-2.07 0-2.86zM5.41 20L4 18.59l7.72-7.72 1.47 1.35L5.41 20z\"/>\n",
              "  </svg>\n",
              "      </button>\n",
              "      \n",
              "  <style>\n",
              "    .colab-df-container {\n",
              "      display:flex;\n",
              "      flex-wrap:wrap;\n",
              "      gap: 12px;\n",
              "    }\n",
              "\n",
              "    .colab-df-convert {\n",
              "      background-color: #E8F0FE;\n",
              "      border: none;\n",
              "      border-radius: 50%;\n",
              "      cursor: pointer;\n",
              "      display: none;\n",
              "      fill: #1967D2;\n",
              "      height: 32px;\n",
              "      padding: 0 0 0 0;\n",
              "      width: 32px;\n",
              "    }\n",
              "\n",
              "    .colab-df-convert:hover {\n",
              "      background-color: #E2EBFA;\n",
              "      box-shadow: 0px 1px 2px rgba(60, 64, 67, 0.3), 0px 1px 3px 1px rgba(60, 64, 67, 0.15);\n",
              "      fill: #174EA6;\n",
              "    }\n",
              "\n",
              "    [theme=dark] .colab-df-convert {\n",
              "      background-color: #3B4455;\n",
              "      fill: #D2E3FC;\n",
              "    }\n",
              "\n",
              "    [theme=dark] .colab-df-convert:hover {\n",
              "      background-color: #434B5C;\n",
              "      box-shadow: 0px 1px 3px 1px rgba(0, 0, 0, 0.15);\n",
              "      filter: drop-shadow(0px 1px 2px rgba(0, 0, 0, 0.3));\n",
              "      fill: #FFFFFF;\n",
              "    }\n",
              "  </style>\n",
              "\n",
              "      <script>\n",
              "        const buttonEl =\n",
              "          document.querySelector('#df-62abfac7-e9c7-42d7-a10a-6fa3802974e3 button.colab-df-convert');\n",
              "        buttonEl.style.display =\n",
              "          google.colab.kernel.accessAllowed ? 'block' : 'none';\n",
              "\n",
              "        async function convertToInteractive(key) {\n",
              "          const element = document.querySelector('#df-62abfac7-e9c7-42d7-a10a-6fa3802974e3');\n",
              "          const dataTable =\n",
              "            await google.colab.kernel.invokeFunction('convertToInteractive',\n",
              "                                                     [key], {});\n",
              "          if (!dataTable) return;\n",
              "\n",
              "          const docLinkHtml = 'Like what you see? Visit the ' +\n",
              "            '<a target=\"_blank\" href=https://colab.research.google.com/notebooks/data_table.ipynb>data table notebook</a>'\n",
              "            + ' to learn more about interactive tables.';\n",
              "          element.innerHTML = '';\n",
              "          dataTable['output_type'] = 'display_data';\n",
              "          await google.colab.output.renderOutput(dataTable, element);\n",
              "          const docLink = document.createElement('div');\n",
              "          docLink.innerHTML = docLinkHtml;\n",
              "          element.appendChild(docLink);\n",
              "        }\n",
              "      </script>\n",
              "    </div>\n",
              "  </div>\n",
              "  "
            ]
          },
          "metadata": {},
          "execution_count": 35
        }
      ]
    },
    {
      "cell_type": "code",
      "source": [
        "y"
      ],
      "metadata": {
        "colab": {
          "base_uri": "https://localhost:8080/",
          "height": 424
        },
        "id": "i6v3Mrk9nzXF",
        "outputId": "e21b61e2-c1cd-4cbe-c4b5-b5f5292911ff"
      },
      "execution_count": 36,
      "outputs": [
        {
          "output_type": "execute_result",
          "data": {
            "text/plain": [
              "       Suggested Job Role\n",
              "0                       7\n",
              "1                      18\n",
              "2                      18\n",
              "3                      28\n",
              "4                       2\n",
              "...                   ...\n",
              "19995                  29\n",
              "19996                  10\n",
              "19997                   1\n",
              "19998                  24\n",
              "19999                   0\n",
              "\n",
              "[20000 rows x 1 columns]"
            ],
            "text/html": [
              "\n",
              "  <div id=\"df-022a5627-f9de-478f-ab14-21932334d117\">\n",
              "    <div class=\"colab-df-container\">\n",
              "      <div>\n",
              "<style scoped>\n",
              "    .dataframe tbody tr th:only-of-type {\n",
              "        vertical-align: middle;\n",
              "    }\n",
              "\n",
              "    .dataframe tbody tr th {\n",
              "        vertical-align: top;\n",
              "    }\n",
              "\n",
              "    .dataframe thead th {\n",
              "        text-align: right;\n",
              "    }\n",
              "</style>\n",
              "<table border=\"1\" class=\"dataframe\">\n",
              "  <thead>\n",
              "    <tr style=\"text-align: right;\">\n",
              "      <th></th>\n",
              "      <th>Suggested Job Role</th>\n",
              "    </tr>\n",
              "  </thead>\n",
              "  <tbody>\n",
              "    <tr>\n",
              "      <th>0</th>\n",
              "      <td>7</td>\n",
              "    </tr>\n",
              "    <tr>\n",
              "      <th>1</th>\n",
              "      <td>18</td>\n",
              "    </tr>\n",
              "    <tr>\n",
              "      <th>2</th>\n",
              "      <td>18</td>\n",
              "    </tr>\n",
              "    <tr>\n",
              "      <th>3</th>\n",
              "      <td>28</td>\n",
              "    </tr>\n",
              "    <tr>\n",
              "      <th>4</th>\n",
              "      <td>2</td>\n",
              "    </tr>\n",
              "    <tr>\n",
              "      <th>...</th>\n",
              "      <td>...</td>\n",
              "    </tr>\n",
              "    <tr>\n",
              "      <th>19995</th>\n",
              "      <td>29</td>\n",
              "    </tr>\n",
              "    <tr>\n",
              "      <th>19996</th>\n",
              "      <td>10</td>\n",
              "    </tr>\n",
              "    <tr>\n",
              "      <th>19997</th>\n",
              "      <td>1</td>\n",
              "    </tr>\n",
              "    <tr>\n",
              "      <th>19998</th>\n",
              "      <td>24</td>\n",
              "    </tr>\n",
              "    <tr>\n",
              "      <th>19999</th>\n",
              "      <td>0</td>\n",
              "    </tr>\n",
              "  </tbody>\n",
              "</table>\n",
              "<p>20000 rows × 1 columns</p>\n",
              "</div>\n",
              "      <button class=\"colab-df-convert\" onclick=\"convertToInteractive('df-022a5627-f9de-478f-ab14-21932334d117')\"\n",
              "              title=\"Convert this dataframe to an interactive table.\"\n",
              "              style=\"display:none;\">\n",
              "        \n",
              "  <svg xmlns=\"http://www.w3.org/2000/svg\" height=\"24px\"viewBox=\"0 0 24 24\"\n",
              "       width=\"24px\">\n",
              "    <path d=\"M0 0h24v24H0V0z\" fill=\"none\"/>\n",
              "    <path d=\"M18.56 5.44l.94 2.06.94-2.06 2.06-.94-2.06-.94-.94-2.06-.94 2.06-2.06.94zm-11 1L8.5 8.5l.94-2.06 2.06-.94-2.06-.94L8.5 2.5l-.94 2.06-2.06.94zm10 10l.94 2.06.94-2.06 2.06-.94-2.06-.94-.94-2.06-.94 2.06-2.06.94z\"/><path d=\"M17.41 7.96l-1.37-1.37c-.4-.4-.92-.59-1.43-.59-.52 0-1.04.2-1.43.59L10.3 9.45l-7.72 7.72c-.78.78-.78 2.05 0 2.83L4 21.41c.39.39.9.59 1.41.59.51 0 1.02-.2 1.41-.59l7.78-7.78 2.81-2.81c.8-.78.8-2.07 0-2.86zM5.41 20L4 18.59l7.72-7.72 1.47 1.35L5.41 20z\"/>\n",
              "  </svg>\n",
              "      </button>\n",
              "      \n",
              "  <style>\n",
              "    .colab-df-container {\n",
              "      display:flex;\n",
              "      flex-wrap:wrap;\n",
              "      gap: 12px;\n",
              "    }\n",
              "\n",
              "    .colab-df-convert {\n",
              "      background-color: #E8F0FE;\n",
              "      border: none;\n",
              "      border-radius: 50%;\n",
              "      cursor: pointer;\n",
              "      display: none;\n",
              "      fill: #1967D2;\n",
              "      height: 32px;\n",
              "      padding: 0 0 0 0;\n",
              "      width: 32px;\n",
              "    }\n",
              "\n",
              "    .colab-df-convert:hover {\n",
              "      background-color: #E2EBFA;\n",
              "      box-shadow: 0px 1px 2px rgba(60, 64, 67, 0.3), 0px 1px 3px 1px rgba(60, 64, 67, 0.15);\n",
              "      fill: #174EA6;\n",
              "    }\n",
              "\n",
              "    [theme=dark] .colab-df-convert {\n",
              "      background-color: #3B4455;\n",
              "      fill: #D2E3FC;\n",
              "    }\n",
              "\n",
              "    [theme=dark] .colab-df-convert:hover {\n",
              "      background-color: #434B5C;\n",
              "      box-shadow: 0px 1px 3px 1px rgba(0, 0, 0, 0.15);\n",
              "      filter: drop-shadow(0px 1px 2px rgba(0, 0, 0, 0.3));\n",
              "      fill: #FFFFFF;\n",
              "    }\n",
              "  </style>\n",
              "\n",
              "      <script>\n",
              "        const buttonEl =\n",
              "          document.querySelector('#df-022a5627-f9de-478f-ab14-21932334d117 button.colab-df-convert');\n",
              "        buttonEl.style.display =\n",
              "          google.colab.kernel.accessAllowed ? 'block' : 'none';\n",
              "\n",
              "        async function convertToInteractive(key) {\n",
              "          const element = document.querySelector('#df-022a5627-f9de-478f-ab14-21932334d117');\n",
              "          const dataTable =\n",
              "            await google.colab.kernel.invokeFunction('convertToInteractive',\n",
              "                                                     [key], {});\n",
              "          if (!dataTable) return;\n",
              "\n",
              "          const docLinkHtml = 'Like what you see? Visit the ' +\n",
              "            '<a target=\"_blank\" href=https://colab.research.google.com/notebooks/data_table.ipynb>data table notebook</a>'\n",
              "            + ' to learn more about interactive tables.';\n",
              "          element.innerHTML = '';\n",
              "          dataTable['output_type'] = 'display_data';\n",
              "          await google.colab.output.renderOutput(dataTable, element);\n",
              "          const docLink = document.createElement('div');\n",
              "          docLink.innerHTML = docLinkHtml;\n",
              "          element.appendChild(docLink);\n",
              "        }\n",
              "      </script>\n",
              "    </div>\n",
              "  </div>\n",
              "  "
            ]
          },
          "metadata": {},
          "execution_count": 36
        }
      ]
    },
    {
      "cell_type": "code",
      "source": [
        "y=y.values.ravel()"
      ],
      "metadata": {
        "id": "6sFUb36In4xb"
      },
      "execution_count": 37,
      "outputs": []
    },
    {
      "cell_type": "code",
      "source": [
        "y"
      ],
      "metadata": {
        "colab": {
          "base_uri": "https://localhost:8080/"
        },
        "id": "eM4-wpndn8ug",
        "outputId": "0fb387f3-13ca-46e2-8be6-c4a38d7b89e7"
      },
      "execution_count": 38,
      "outputs": [
        {
          "output_type": "execute_result",
          "data": {
            "text/plain": [
              "array([ 7, 18, 18, ...,  1, 24,  0])"
            ]
          },
          "metadata": {},
          "execution_count": 38
        }
      ]
    },
    {
      "cell_type": "markdown",
      "source": [
        "#***Model*** ***Training***"
      ],
      "metadata": {
        "id": "yMYOsFQln_-Q"
      }
    },
    {
      "cell_type": "code",
      "source": [
        "from pandas import read_csv\n",
        "from sklearn.model_selection import train_test_split\n",
        "from sklearn.preprocessing import LabelEncoder\n",
        "from sklearn.preprocessing import OrdinalEncoder\n",
        "from sklearn.feature_selection import SelectKBest\n",
        "from sklearn.feature_selection import chi2\n",
        "from matplotlib import pyplot"
      ],
      "metadata": {
        "id": "bBCo8BZboLvC"
      },
      "execution_count": 39,
      "outputs": []
    },
    {
      "cell_type": "code",
      "source": [
        "# feature selection\n",
        "# example of chi squared feature selection for categorical data\n",
        "def select_features(X_train, y_train, X_test):\n",
        "\tfs = SelectKBest(score_func=chi2, k='all')\n",
        "\tfs.fit(X_train, y_train)\n",
        "\tX_train_fs = fs.transform(X_train)\n",
        "\tX_test_fs = fs.transform(X_test)\n",
        "\treturn X_train_fs, X_test_fs, fs\n",
        "\n",
        "# split into train and test sets\n",
        "X_train, X_test, y_train, y_test = train_test_split(X, y, test_size=0.2, random_state=524)     #Decision tree\n",
        "X_train2, X_test2, y_train2, y_test2 = train_test_split(X, y, test_size=0.3, random_state=10)  #XGBoost\n",
        "X_train6, X_test6, y_train6, y_test6 = train_test_split(X, y, test_size=0.2, random_state=15)  #SVM\n",
        "\n",
        "X_train1, X_test1, fs1 = select_features(X_train, y_train, X_test)\n",
        "X_train3, X_test3, fs3 = select_features(X_train2, y_train2, X_test2)\n",
        "X_train5, X_test5, fs5 = select_features(X_train2, y_train2, X_test2)\n"
      ],
      "metadata": {
        "id": "0gqAxNsVoUdG"
      },
      "execution_count": 40,
      "outputs": []
    },
    {
      "cell_type": "code",
      "source": [
        "# what are scores for the features\n",
        "for i in range(len(fs1.scores_)):\n",
        "\tprint('Feature %d: %f' % (i, fs1.scores_[i]))\n",
        " \n",
        "# plot the scores\n",
        "pyplot.bar([i for i in range(len(fs1.scores_))], fs1.scores_)\n",
        "pyplot.show()\n",
        "\n",
        "count = 0\n",
        "for i in fs1.scores_ : \n",
        "    if i > 1 : \n",
        "        count = count + 1\n",
        "k1=count\n",
        "print(\" \\nThe number of important features with threshold as 1 :{} \".format(k1))\n",
        "\n"
      ],
      "metadata": {
        "colab": {
          "base_uri": "https://localhost:8080/",
          "height": 716
        },
        "id": "ui9CbYOFoZ9T",
        "outputId": "49da735d-a8b1-43a1-a3c9-bc8a9f714801"
      },
      "execution_count": 41,
      "outputs": [
        {
          "output_type": "stream",
          "name": "stdout",
          "text": [
            "Feature 0: 18.135948\n",
            "Feature 1: 32.281932\n",
            "Feature 2: 42.100963\n",
            "Feature 3: 50.250945\n",
            "Feature 4: 49.321205\n",
            "Feature 5: 60.543154\n",
            "Feature 6: 26.900561\n",
            "Feature 7: 29.327600\n",
            "Feature 8: 38.421862\n",
            "Feature 9: 52.155580\n",
            "Feature 10: 60.769435\n",
            "Feature 11: 35.459829\n",
            "Feature 12: 69.756500\n",
            "Feature 13: 15.558412\n",
            "Feature 14: 14.783257\n",
            "Feature 15: 66.254707\n",
            "Feature 16: 36.745442\n",
            "Feature 17: 19.395935\n",
            "Feature 18: 11.583516\n",
            "Feature 19: 54.017541\n",
            "Feature 20: 90.681075\n",
            "Feature 21: 25.168199\n",
            "Feature 22: 23.912711\n",
            "Feature 23: 16.170136\n"
          ]
        },
        {
          "output_type": "display_data",
          "data": {
            "text/plain": [
              "<Figure size 432x288 with 1 Axes>"
            ],
            "image/png": "[encoded data removed]"
          },
          "metadata": {
            "needs_background": "light"
          }
        },
        {
          "output_type": "stream",
          "name": "stdout",
          "text": [
            " \n",
            "The number of important features with threshold as 1 :24 \n"
          ]
        }
      ]
    },
    {
      "cell_type": "code",
      "source": [
        "for i in range(len(fs3.scores_)):\n",
        "\tprint('Feature %d: %f' % (i, fs3.scores_[i]))\n",
        "# plot the scores\n",
        "pyplot.bar([i for i in range(len(fs3.scores_))], fs3.scores_)\n",
        "pyplot.show()\n",
        "\n",
        "count = 0\n",
        "for i in fs3.scores_ : \n",
        "    if i > 1 : \n",
        "        count = count + 1\n",
        "k3=count\n",
        "\n",
        "print(\" \\nThe number of important features with threshold as 1 :{} \".format(k3))"
      ],
      "metadata": {
        "colab": {
          "base_uri": "https://localhost:8080/",
          "height": 720
        },
        "id": "VcxEh3qmohXj",
        "outputId": "438528d5-9d3d-495e-bedc-45c5fc86257d"
      },
      "execution_count": 42,
      "outputs": [
        {
          "output_type": "stream",
          "name": "stdout",
          "text": [
            "Feature 0: 31.197116\n",
            "Feature 1: 33.222753\n",
            "Feature 2: 58.244219\n",
            "Feature 3: 47.535576\n",
            "Feature 4: 35.908802\n",
            "Feature 5: 55.988461\n",
            "Feature 6: 31.496732\n",
            "Feature 7: 34.023533\n",
            "Feature 8: 50.845359\n",
            "Feature 9: 58.781720\n",
            "Feature 10: 47.828305\n",
            "Feature 11: 35.374995\n",
            "Feature 12: 41.768106\n",
            "Feature 13: 17.410733\n",
            "Feature 14: 16.104116\n",
            "Feature 15: 45.351191\n",
            "Feature 16: 44.752241\n",
            "Feature 17: 16.557094\n",
            "Feature 18: 18.187782\n",
            "Feature 19: 55.397431\n",
            "Feature 20: 76.441864\n",
            "Feature 21: 20.959593\n",
            "Feature 22: 22.673547\n",
            "Feature 23: 20.370856\n"
          ]
        },
        {
          "output_type": "display_data",
          "data": {
            "text/plain": [
              "<Figure size 432x288 with 1 Axes>"
            ],
            "image/png": "[encoded data removed]"
          },
          "metadata": {
            "needs_background": "light"
          }
        },
        {
          "output_type": "stream",
          "name": "stdout",
          "text": [
            " \n",
            "The number of important features with threshold as 1 :24 \n"
          ]
        }
      ]
    },
    {
      "cell_type": "code",
      "source": [
        "#X_train4, X_test4, fs = select_features(X_train2, y_train2, X_test2)\n",
        "for i in range(len(fs5.scores_)):\n",
        "\tprint('Feature %d: %f' % (i, fs5.scores_[i]))\n",
        "# plot the scores\n",
        "pyplot.bar([i for i in range(len(fs5.scores_))], fs5.scores_)\n",
        "pyplot.show()\n",
        "\n",
        "count = 0\n",
        "for i in fs5.scores_ : \n",
        "    if i > 1 : \n",
        "        count = count + 1\n",
        "k5=count\n",
        "\n",
        "print(\" \\nThe number of important features with threshold as 1 : {}\" .format(k5))"
      ],
      "metadata": {
        "colab": {
          "base_uri": "https://localhost:8080/",
          "height": 720
        },
        "id": "d2R4DGQ5pY2W",
        "outputId": "3902eaa2-c075-42d2-ba09-15e0d5f3dc89"
      },
      "execution_count": 43,
      "outputs": [
        {
          "output_type": "stream",
          "name": "stdout",
          "text": [
            "Feature 0: 31.197116\n",
            "Feature 1: 33.222753\n",
            "Feature 2: 58.244219\n",
            "Feature 3: 47.535576\n",
            "Feature 4: 35.908802\n",
            "Feature 5: 55.988461\n",
            "Feature 6: 31.496732\n",
            "Feature 7: 34.023533\n",
            "Feature 8: 50.845359\n",
            "Feature 9: 58.781720\n",
            "Feature 10: 47.828305\n",
            "Feature 11: 35.374995\n",
            "Feature 12: 41.768106\n",
            "Feature 13: 17.410733\n",
            "Feature 14: 16.104116\n",
            "Feature 15: 45.351191\n",
            "Feature 16: 44.752241\n",
            "Feature 17: 16.557094\n",
            "Feature 18: 18.187782\n",
            "Feature 19: 55.397431\n",
            "Feature 20: 76.441864\n",
            "Feature 21: 20.959593\n",
            "Feature 22: 22.673547\n",
            "Feature 23: 20.370856\n"
          ]
        },
        {
          "output_type": "display_data",
          "data": {
            "text/plain": [
              "<Figure size 432x288 with 1 Axes>"
            ],
            "image/png": "[encoded data removed]"
          },
          "metadata": {
            "needs_background": "light"
          }
        },
        {
          "output_type": "stream",
          "name": "stdout",
          "text": [
            " \n",
            "The number of important features with threshold as 1 : 24\n"
          ]
        }
      ]
    },
    {
      "cell_type": "code",
      "source": [
        "#Support Vector machine\n",
        "from sklearn.metrics import confusion_matrix,accuracy_score\n",
        "\n",
        "def svm(X_train,y_train,X_test,y_test):\n",
        "  from sklearn.svm import SVC\n",
        "  from pandas import read_csv\n",
        "  from sklearn.model_selection import train_test_split\n",
        "  from sklearn.metrics import accuracy_score\n",
        "\n",
        "  svc=SVC() \n",
        "  # fit classifier to training set\n",
        "  svc.fit(X_train,y_train)\n",
        "  # make predictions on test set\n",
        "  y_pred=svc.predict(X_test)\n",
        "  # compute and print accuracy score\n",
        "  print(y_test.tolist())\n",
        "  print(y_pred.tolist())\n",
        "  print(\"test cases : \",len(y_test))\n",
        "  print(\"wrong cases : \",(y_test != y_pred).sum())\n",
        "  print('\\nModel accuracy score with default hyperparameters: {0:0.4f}'. format(accuracy_score(y_test, y_pred)*100))\n",
        "  return accuracy_score(y_test, y_pred)*100,svc\n",
        "\n",
        "def Dec_tree(X_train,y_train,X_test,y_test):\n",
        "  from sklearn import tree\n",
        "\n",
        "  clf = tree.DecisionTreeClassifier()\n",
        "  clf = clf.fit(X_train, y_train)\n",
        "  # Prediction\n",
        "  y_pred = clf.predict(X_test)\n",
        "  # y_test_arr=y_test['Suggested Job Role']\n",
        "\n",
        "  from sklearn.metrics import confusion_matrix,accuracy_score\n",
        "\n",
        "  accuracy = accuracy_score(y_test,y_pred)\n",
        "  print(y_test.tolist())\n",
        "  print(y_pred.tolist())\n",
        "  print(\"test cases : \",len(y_test))\n",
        "  print(\"wrong cases : \",(y_test != y_pred).sum())\n",
        "  print('\\nModel accuracy score with Decision Tree', accuracy_score(y_test, y_pred)*100)\n",
        "  return accuracy*100,clf\n",
        "\n",
        "def xgboost(X_train,y_train,X_test,y_test,clf):\n",
        "  #X_train,X_test,y_train,y_test=train_test_split(X1,y,test_size=0.3,random_state=10)\n",
        "  shape = X_train.shape\n",
        "  X_train=pd.to_numeric(X_train.values.flatten())\n",
        "  X_train=X_train.reshape(shape)\n",
        "  print(clf)\n",
        "  from xgboost.sklearn import XGBClassifier\n",
        "\n",
        "  # model = XGBClassifier()\n",
        "  # model.fit(X_train, y_train)\n",
        "  xgb_y_pred  = clf.predict(X_test)\n",
        "  xgb_accuracy = accuracy_score(y_test,xgb_y_pred)\n",
        "  print(y_test.tolist())\n",
        "  print(xgb_y_pred.tolist())\n",
        "  print(\"test cases : \",len(y_test))\n",
        "  print(\"wrong cases : \",(y_test != xgb_y_pred).sum())\n",
        "  print(\"\\naccuracy=\",xgb_accuracy*100)\n",
        "  return xgb_accuracy*100,clf"
      ],
      "metadata": {
        "id": "vB_gyDIspgnC"
      },
      "execution_count": 44,
      "outputs": []
    },
    {
      "cell_type": "code",
      "source": [
        "import pickle\n",
        "def select_features(X_train, y_train, X_test):\n",
        "\tfs = SelectKBest(score_func=chi2,k=k1)\n",
        "\tfs.fit(X_train, y_train)\n",
        "\tX_train_fs = fs.transform(X_train)\n",
        "\tX_test_fs = fs.transform(X_test)\n",
        "\treturn X_train_fs, X_test_fs, fs\n",
        "\n",
        "def select_features2(X_train, y_train, X_test):\n",
        "\tfs = SelectKBest(score_func=chi2,k=k3)\n",
        "\tfs.fit(X_train, y_train)\n",
        "\tX_train_fs = fs.transform(X_train)\n",
        "\tX_test_fs = fs.transform(X_test)\n",
        "\treturn X_train_fs, X_test_fs, fs\n",
        "\n",
        "def select_features3(X_train, y_train, X_test):\n",
        "\tfs = SelectKBest(score_func=chi2,k=k5)\n",
        "\tfs.fit(X_train, y_train)\n",
        "\tX_train_fs = fs.transform(X_train)\n",
        "\tX_test_fs = fs.transform(X_test)\n",
        "\treturn X_train_fs, X_test_fs, fs\n",
        "\n",
        "\n",
        "X_train1, X_test1, fs = select_features(X_train, y_train, X_test)\n",
        "X_train3, X_test3, fs = select_features2(X_train2, y_train2, X_test2)\n",
        "X_train5, X_test5, fs = select_features3(X_train6, y_train6, X_test6)\n",
        "\n",
        "print('\\n#-------------Decision Tree-----------------#')\n",
        "print(\"Without feature Selection : \")\n",
        "acc_svm,clf1 = svm(X_train6,y_train6,X_test6,y_test6)\n",
        "pickle.dump(clf1, open(\"svm.sav\", 'wb'))\n",
        "\n",
        "print(\"With feature Selection : \")\n",
        "acc_svm_f,clf2 = svm(X_train5,y_train6,X_test5,y_test6)\n",
        "pickle.dump(clf2, open(\"svm_f.sav\", 'wb'))\n",
        "\n",
        "print('\\n#-------------Decision Tree-----------------#')\n",
        "print(\"Without feature Selection : \")\n",
        "acc_dtree,clf3 = Dec_tree(X_train1,y_train,X_test1,y_test)\n",
        "pickle.dump(clf3, open(\"dtree.sav\", 'wb'))\n",
        "\n",
        "print(\"With feature Selection : \")\n",
        "acc_dtree_f,clf4 = Dec_tree(X_train,y_train,X_test,y_test)\n",
        "pickle.dump(clf4, open(\"dtree_f.sav\", 'wb'))\n",
        "\n",
        "print('\\n#-------------XGBoost-----------------#')\n",
        "print(\"Boosting the Decision Tree  \")\n",
        "acc_xg,clf5 = xgboost(X_train2,y_train2,X_test2,y_test2,clf4)\n",
        "pickle.dump(clf5, open(\"xgboost.sav\", 'wb'))"
      ],
      "metadata": {
        "colab": {
          "base_uri": "https://localhost:8080/"
        },
        "id": "QXsvgCbhpnnv",
        "outputId": "3c8a3ced-7a9d-4c1b-9df5-f2a735d40b29"
      },
      "execution_count": 45,
      "outputs": [
        {
          "output_type": "stream",
          "name": "stdout",
          "text": [
            "\n",
            "#-------------Decision Tree-----------------#\n",
            "Without feature Selection : \n",
            "[9, 14, 0, 32, 21, 17, 27, 9, 0, 20, 32, 27, 7, 19, 0, 2, 12, 24, 7, 16, 22, 10, 15, 26, 15, 26, 16, 16, 1, 5, 18, 20, 4, 30, 23, 10, 25, 8, 8, 21, 24, 27, 16, 25, 6, 5, 20, 19, 18, 12, 1, 25, 3, 23, 13, 19, 9, 19, 21, 12, 24, 3, 24, 7, 24, 3, 18, 29, 22, 9, 23, 10, 16, 30, 15, 31, 26, 13, 32, 26, 32, 13, 1, 29, 21, 0, 6, 21, 14, 25, 17, 15, 5, 32, 26, 6, 8, 11, 26, 25, 17, 20, 15, 12, 0, 9, 13, 6, 21, 10, 22, 3, 2, 8, 2, 20, 18, 33, 14, 14, 11, 9, 23, 23, 10, 9, 32, 13, 21, 13, 31, 1, 19, 30, 10, 5, 29, 21, 18, 2, 21, 19, 23, 6, 16, 5, 29, 2, 18, 31, 24, 24, 17, 24, 26, 12, 25, 31, 21, 9, 19, 17, 27, 28, 21, 27, 22, 13, 2, 1, 30, 9, 16, 16, 13, 24, 16, 4, 0, 7, 16, 17, 12, 2, 18, 11, 17, 4, 14, 21, 8, 3, 27, 16, 10, 18, 18, 9, 31, 26, 17, 32, 7, 28, 32, 6, 19, 21, 25, 23, 9, 14, 7, 30, 28, 15, 32, 27, 6, 27, 3, 3, 17, 25, 33, 9, 16, 4, 9, 0, 2, 30, 30, 13, 21, 17, 13, 24, 9, 0, 20, 16, 30, 33, 12, 13, 21, 11, 14, 32, 9, 15, 9, 6, 7, 24, 8, 23, 22, 2, 9, 17, 30, 4, 16, 21, 12, 0, 33, 24, 26, 14, 33, 7, 12, 8, 16, 20, 9, 25, 9, 24, 8, 24, 17, 27, 5, 30, 5, 1, 1, 13, 7, 19, 16, 32, 22, 17, 7, 1, 11, 6, 33, 2, 15, 16, 20, 20, 17, 10, 25, 16, 29, 11, 22, 0, 16, 17, 13, 17, 33, 4, 4, 26, 26, 9, 17, 15, 29, 27, 8, 18, 32, 24, 23, 6, 6, 1, 23, 14, 28, 31, 2, 16, 16, 10, 27, 9, 16, 16, 25, 21, 29, 14, 32, 5, 11, 22, 21, 17, 6, 29, 10, 24, 8, 1, 0, 22, 5, 16, 22, 21, 3, 33, 6, 17, 25, 16, 22, 32, 30, 16, 9, 9, 16, 18, 21, 18, 26, 21, 33, 1, 31, 33, 2, 13, 32, 5, 29, 7, 13, 7, 17, 22, 22, 2, 30, 3, 14, 3, 10, 30, 29, 8, 26, 1, 4, 16, 16, 0, 21, 16, 0, 13, 0, 23, 20, 33, 29, 16, 24, 23, 24, 33, 27, 11, 22, 7, 28, 14, 16, 22, 16, 17, 25, 30, 8, 14, 13, 11, 20, 16, 6, 30, 16, 20, 16, 25, 16, 2, 0, 13, 1, 24, 2, 2, 5, 8, 7, 25, 23, 3, 11, 4, 21, 25, 30, 19, 17, 30, 21, 27, 5, 4, 6, 31, 24, 33, 32, 2, 15, 11, 23, 4, 2, 23, 8, 33, 27, 0, 5, 22, 21, 10, 17, 33, 26, 27, 24, 29, 19, 14, 1, 11, 20, 3, 8, 16, 1, 0, 7, 3, 4, 32, 15, 0, 16, 17, 7, 16, 16, 10, 26, 22, 26, 32, 15, 5, 6, 29, 28, 5, 7, 18, 0, 6, 12, 22, 22, 20, 5, 7, 1, 6, 3, 23, 33, 29, 0, 23, 17, 1, 15, 13, 16, 6, 12, 6, 11, 19, 30, 32, 26, 32, 13, 31, 26, 5, 16, 2, 1, 4, 15, 9, 18, 26, 8, 22, 7, 5, 0, 2, 10, 33, 27, 28, 28, 0, 5, 10, 7, 9, 7, 31, 11, 2, 21, 5, 16, 12, 5, 24, 20, 31, 18, 6, 9, 11, 20, 7, 14, 33, 5, 24, 22, 12, 3, 3, 10, 28, 1, 8, 4, 32, 22, 21, 29, 3, 18, 28, 29, 0, 25, 9, 1, 13, 13, 28, 3, 16, 5, 14, 15, 11, 10, 5, 33, 28, 33, 16, 3, 7, 26, 9, 27, 9, 18, 21, 24, 4, 16, 28, 15, 24, 20, 15, 3, 29, 19, 12, 31, 11, 31, 7, 27, 26, 6, 19, 32, 4, 19, 19, 30, 3, 12, 27, 33, 12, 33, 15, 25, 17, 3, 31, 12, 0, 19, 21, 23, 12, 7, 15, 29, 31, 33, 12, 11, 17, 5, 7, 33, 14, 30, 14, 15, 1, 17, 30, 26, 13, 2, 3, 28, 3, 11, 32, 4, 25, 5, 11, 8, 6, 10, 1, 20, 16, 6, 17, 28, 18, 31, 24, 23, 6, 20, 2, 3, 2, 25, 26, 5, 8, 14, 4, 24, 16, 29, 5, 24, 2, 15, 26, 12, 0, 24, 7, 25, 6, 22, 10, 12, 20, 28, 29, 2, 25, 22, 11, 15, 28, 20, 5, 32, 13, 0, 30, 24, 1, 2, 0, 26, 10, 31, 14, 6, 17, 5, 4, 6, 18, 2, 23, 22, 15, 11, 20, 13, 2, 19, 8, 24, 7, 4, 5, 13, 27, 6, 6, 22, 23, 9, 0, 17, 22, 16, 30, 25, 32, 23, 4, 32, 18, 25, 24, 0, 21, 17, 22, 12, 33, 7, 29, 14, 18, 16, 32, 31, 17, 25, 23, 5, 5, 20, 14, 5, 24, 14, 10, 14, 0, 27, 23, 8, 32, 17, 17, 16, 31, 26, 28, 13, 3, 5, 7, 27, 22, 16, 3, 10, 17, 7, 6, 20, 13, 1, 9, 33, 11, 33, 8, 12, 2, 3, 32, 4, 16, 13, 0, 10, 1, 5, 30, 9, 20, 11, 6, 2, 2, 26, 11, 29, 6, 2, 11, 17, 11, 33, 17, 8, 26, 21, 14, 18, 4, 8, 24, 23, 15, 32, 25, 17, 29, 2, 16, 10, 12, 2, 14, 16, 4, 15, 1, 6, 21, 15, 2, 6, 14, 33, 24, 9, 28, 10, 19, 31, 29, 18, 18, 8, 12, 0, 27, 25, 29, 27, 20, 6, 11, 0, 10, 14, 31, 21, 7, 21, 15, 2, 29, 5, 25, 21, 9, 14, 13, 7, 29, 4, 20, 20, 6, 8, 12, 4, 17, 12, 28, 21, 23, 12, 33, 7, 11, 12, 21, 24, 17, 2, 13, 13, 5, 3, 13, 6, 3, 6, 15, 11, 21, 15, 13, 23, 0, 30, 31, 21, 12, 17, 29, 18, 23, 17, 10, 12, 11, 27, 21, 6, 33, 9, 21, 18, 4, 20, 32, 11, 8, 9, 24, 28, 2, 6, 3, 2, 29, 3, 31, 1, 16, 7, 3, 0, 2, 29, 6, 10, 0, 19, 27, 23, 32, 28, 12, 4, 24, 15, 0, 16, 15, 14, 23, 26, 14, 18, 16, 31, 7, 5, 29, 25, 17, 32, 2, 28, 7, 31, 33, 32, 6, 24, 11, 5, 33, 25, 15, 18, 27, 25, 5, 17, 6, 5, 30, 14, 15, 13, 15, 30, 25, 18, 8, 18, 18, 5, 13, 12, 30, 24, 8, 33, 17, 11, 3, 18, 20, 16, 8, 20, 27, 15, 21, 12, 9, 14, 31, 32, 26, 0, 25, 12, 17, 19, 0, 13, 31, 16, 16, 19, 17, 19, 23, 24, 31, 13, 1, 17, 24, 10, 6, 21, 24, 3, 3, 1, 21, 16, 28, 12, 8, 8, 8, 33, 5, 9, 18, 19, 23, 13, 8, 17, 3, 32, 0, 12, 18, 29, 14, 20, 28, 20, 24, 30, 17, 16, 6, 31, 19, 2, 29, 20, 12, 8, 22, 14, 27, 9, 22, 1, 33, 32, 6, 22, 21, 15, 2, 9, 22, 28, 32, 33, 29, 15, 16, 3, 28, 26, 27, 26, 4, 31, 2, 21, 5, 8, 8, 11, 27, 18, 11, 9, 16, 19, 6, 28, 21, 16, 18, 16, 32, 10, 30, 32, 30, 21, 33, 33, 23, 12, 15, 19, 33, 21, 17, 23, 1, 12, 23, 30, 4, 28, 23, 10, 8, 9, 9, 4, 27, 28, 0, 25, 25, 5, 32, 29, 17, 20, 4, 15, 6, 33, 16, 20, 24, 24, 22, 17, 21, 23, 25, 26, 26, 19, 1, 1, 25, 8, 11, 30, 16, 2, 7, 6, 2, 25, 10, 24, 14, 10, 24, 3, 5, 8, 1, 9, 23, 1, 26, 19, 13, 7, 13, 10, 32, 29, 24, 26, 7, 22, 6, 20, 10, 2, 2, 13, 26, 21, 28, 22, 22, 20, 1, 20, 7, 29, 9, 27, 33, 33, 7, 25, 30, 32, 30, 1, 30, 13, 24, 16, 20, 22, 19, 18, 20, 28, 9, 26, 1, 16, 16, 24, 8, 28, 31, 1, 22, 2, 16, 23, 24, 5, 30, 19, 16, 31, 26, 23, 1, 28, 14, 0, 20, 29, 16, 32, 12, 23, 9, 23, 12, 4, 22, 24, 1, 31, 30, 31, 14, 15, 9, 30, 25, 31, 16, 28, 4, 33, 29, 17, 20, 3, 4, 2, 4, 18, 22, 30, 28, 4, 15, 23, 3, 33, 5, 0, 23, 13, 26, 15, 21, 5, 3, 17, 2, 3, 10, 29, 19, 28, 0, 22, 26, 10, 26, 17, 29, 8, 19, 9, 30, 12, 31, 25, 17, 33, 9, 29, 3, 12, 21, 26, 29, 24, 3, 10, 18, 12, 29, 6, 23, 11, 32, 16, 7, 20, 32, 14, 24, 1, 20, 2, 30, 28, 15, 28, 22, 17, 31, 9, 33, 5, 31, 16, 3, 33, 4, 12, 17, 0, 7, 28, 16, 24, 7, 0, 5, 17, 24, 11, 28, 29, 11, 24, 6, 12, 11, 13, 6, 21, 21, 30, 24, 16, 2, 31, 14, 18, 28, 26, 16, 12, 25, 6, 21, 13, 1, 20, 31, 5, 27, 14, 21, 10, 2, 3, 32, 0, 9, 16, 16, 9, 6, 7, 0, 29, 8, 24, 8, 18, 23, 14, 26, 11, 4, 33, 31, 20, 20, 11, 29, 1, 30, 5, 11, 19, 19, 23, 16, 21, 15, 9, 20, 18, 18, 4, 8, 14, 29, 27, 24, 20, 16, 2, 20, 15, 20, 4, 16, 29, 30, 16, 25, 1, 20, 4, 3, 9, 21, 9, 11, 32, 17, 9, 16, 28, 18, 29, 4, 7, 3, 8, 28, 1, 20, 20, 16, 10, 8, 3, 26, 19, 31, 1, 19, 6, 24, 21, 22, 4, 1, 5, 31, 28, 28, 15, 2, 23, 7, 4, 20, 17, 31, 24, 27, 2, 10, 2, 15, 1, 29, 15, 25, 33, 2, 29, 28, 26, 1, 11, 24, 32, 26, 18, 29, 16, 9, 22, 26, 18, 22, 19, 1, 23, 19, 20, 4, 20, 9, 23, 12, 8, 10, 9, 18, 17, 16, 15, 30, 1, 12, 26, 31, 29, 25, 10, 4, 25, 7, 17, 29, 29, 1, 25, 16, 14, 6, 2, 20, 14, 24, 32, 32, 11, 1, 32, 18, 2, 1, 10, 29, 31, 20, 5, 29, 32, 19, 25, 18, 18, 31, 12, 18, 20, 7, 24, 28, 25, 16, 11, 0, 6, 3, 2, 11, 14, 21, 18, 0, 25, 32, 22, 18, 33, 12, 17, 2, 16, 3, 20, 18, 1, 6, 29, 13, 28, 3, 29, 26, 9, 26, 1, 4, 27, 11, 28, 6, 8, 7, 33, 26, 9, 17, 13, 4, 11, 29, 15, 6, 18, 23, 26, 3, 19, 6, 15, 16, 20, 9, 25, 9, 31, 6, 27, 8, 26, 14, 10, 0, 13, 2, 8, 19, 9, 13, 8, 10, 30, 13, 30, 16, 25, 10, 18, 19, 16, 1, 6, 3, 13, 9, 5, 21, 25, 16, 11, 21, 32, 25, 16, 4, 28, 12, 25, 24, 20, 10, 22, 25, 9, 26, 32, 32, 25, 11, 0, 32, 16, 20, 12, 16, 2, 16, 17, 5, 21, 30, 11, 26, 16, 1, 33, 31, 8, 17, 11, 2, 33, 5, 16, 16, 27, 22, 16, 13, 29, 7, 24, 19, 5, 28, 22, 2, 10, 31, 28, 5, 4, 23, 19, 26, 20, 13, 8, 27, 21, 6, 27, 25, 14, 33, 13, 16, 11, 6, 25, 15, 25, 24, 30, 31, 31, 17, 4, 2, 32, 17, 2, 6, 5, 19, 31, 17, 7, 16, 16, 20, 4, 8, 28, 29, 4, 7, 14, 0, 20, 20, 14, 0, 14, 2, 19, 2, 28, 17, 2, 25, 3, 5, 33, 21, 20, 27, 19, 32, 12, 24, 8, 22, 12, 5, 0, 11, 13, 29, 4, 24, 7, 6, 16, 8, 33, 21, 5, 23, 32, 8, 11, 30, 27, 26, 31, 31, 12, 3, 22, 14, 0, 20, 0, 8, 14, 10, 16, 24, 31, 11, 23, 19, 19, 10, 22, 17, 12, 20, 14, 32, 31, 32, 0, 19, 11, 1, 22, 23, 8, 30, 26, 22, 10, 21, 17, 19, 6, 12, 11, 28, 10, 17, 32, 15, 4, 16, 24, 24, 20, 3, 13, 16, 2, 9, 16, 31, 12, 7, 27, 1, 1, 0, 17, 33, 8, 8, 1, 5, 2, 19, 6, 6, 20, 7, 5, 10, 27, 5, 24, 28, 19, 13, 27, 23, 1, 17, 3, 28, 16, 13, 27, 15, 30, 5, 29, 17, 3, 11, 17, 22, 9, 7, 33, 7, 1, 10, 1, 7, 15, 15, 2, 7, 18, 21, 3, 8, 7, 2, 4, 29, 18, 16, 24, 17, 6, 33, 27, 31, 23, 18, 26, 26, 5, 0, 22, 6, 7, 33, 19, 13, 15, 27, 18, 28, 1, 21, 0, 33, 1, 20, 13, 21, 11, 12, 23, 8, 31, 25, 27, 3, 7, 26, 31, 31, 19, 6, 28, 7, 32, 6, 29, 11, 5, 21, 7, 27, 28, 0, 6, 18, 4, 32, 10, 12, 13, 30, 18, 33, 9, 28, 1, 14, 13, 25, 10, 10, 16, 28, 16, 22, 26, 27, 4, 22, 10, 33, 27, 21, 29, 19, 19, 20, 27, 15, 28, 10, 31, 9, 8, 21, 28, 10, 26, 5, 26, 4, 27, 16, 10, 21, 27, 27, 30, 21, 4, 14, 25, 8, 20, 20, 29, 18, 26, 25, 28, 7, 8, 2, 5, 16, 22, 14, 26, 21, 20, 18, 8, 20, 16, 26, 29, 21, 11, 8, 18, 20, 12, 19, 10, 31, 24, 27, 22, 14, 5, 17, 30, 33, 15, 10, 19, 16, 21, 29, 26, 0, 7, 24, 15, 26, 7, 19, 22, 19, 10, 11, 16, 18, 1, 23, 29, 33, 12, 27, 15, 13, 15, 15, 20, 24, 14, 31, 16, 12, 22, 6, 25, 6, 5, 11, 16, 15, 13, 19, 25, 14, 6, 8, 19, 16, 29, 24, 15, 3, 27, 8, 13, 16, 11, 26, 18, 1, 0, 13, 14, 23, 30, 12, 22, 29, 10, 4, 10, 1, 15, 32, 31, 3, 23, 0, 17, 26, 27, 27, 9, 2, 16, 16, 14, 12, 5, 33, 5, 5, 32, 17, 5, 17, 14, 30, 5, 7, 25, 33, 13, 18, 10, 9, 28, 13, 17, 10, 33, 1, 28, 26, 5, 14, 11, 6, 8, 16, 23, 4, 16, 13, 19, 17, 24, 15, 31, 20, 23, 0, 17, 5, 27, 28, 33, 8, 5, 25, 31, 13, 17, 33, 11, 22, 2, 7, 21, 0, 4, 9, 16, 24, 21, 6, 33, 32, 24, 22, 19, 15, 22, 13, 18, 27, 18, 12, 21, 4, 27, 3, 4, 21, 16, 0, 11, 3, 3, 32, 11, 27, 16, 2, 28, 20, 1, 30, 25, 12, 31, 3, 30, 9, 18, 9, 16, 15, 23, 6, 11, 16, 19, 29, 27, 20, 6, 28, 19, 2, 16, 27, 4, 24, 12, 21, 27, 32, 19, 0, 9, 19, 0, 33, 26, 25, 26, 26, 19, 30, 15, 31, 27, 8, 6, 26, 6, 12, 5, 22, 7, 9, 22, 0, 25, 0, 26, 2, 33, 18, 26, 25, 26, 21, 8, 32, 13, 11, 11, 8, 18, 21, 11, 4, 26, 21, 29, 30, 13, 7, 22, 0, 3, 3, 22, 12, 23, 14, 20, 22, 20, 19, 27, 18, 31, 22, 4, 30, 16, 8, 22, 7, 2, 7, 27, 20, 31, 28, 0, 10, 25, 28, 2, 0, 30, 9, 5, 10, 16, 21, 14, 0, 3, 20, 24, 4, 6, 8, 16, 22, 25, 15, 6, 6, 3, 23, 9, 31, 19, 21, 27, 28, 25, 8, 21, 21, 16, 29, 27, 19, 29, 25, 21, 29, 30, 30, 19, 7, 8, 24, 33, 10, 29, 8, 27, 33, 12, 31, 11, 5, 1, 24, 2, 16, 20, 31, 16, 10, 4, 3, 16, 3, 33, 30, 11, 22, 18, 30, 3, 5, 9, 2, 3, 14, 16, 13, 16, 3, 28, 21, 11, 30, 15, 15, 14, 16, 17, 4, 0, 11, 16, 17, 18, 8, 19, 11, 16, 4, 28, 28, 18, 13, 12, 23, 16, 21, 10, 2, 3, 19, 27, 6, 23, 14, 12, 16, 5, 17, 16, 28, 33, 15, 17, 1, 8, 27, 26, 25, 8, 16, 4, 16, 16, 12, 3, 31, 9, 0, 25, 23, 16, 3, 28, 29, 4, 27, 18, 24, 5, 4, 11, 33, 33, 15, 33, 0, 28, 10, 5, 2, 30, 26, 32, 5, 2, 1, 4, 20, 18, 29, 26, 27, 2, 15, 7, 29, 26, 31, 4, 18, 21, 12, 23, 23, 12, 4, 13, 25, 7, 29, 5, 13, 23, 22, 31, 20, 33, 24, 33, 13, 4, 24, 17, 10, 21, 16, 33, 9, 24, 30, 8, 14, 23, 0, 21, 7, 9, 9, 19, 10, 23, 27, 21, 7, 9, 26, 19, 14, 22, 10, 33, 23, 10, 3, 14, 22, 15, 18, 16, 11, 26, 24, 21, 31, 23, 29, 7, 16, 8, 26, 26, 24, 0, 10, 5, 16, 30, 28, 6, 2, 9, 24, 19, 8, 16, 12, 9, 31, 22, 29, 18, 9, 32, 33, 7, 33, 15, 19, 2, 12, 2, 18, 20, 26, 9, 28, 22, 28, 16, 6, 17, 23, 24, 22, 1, 26, 18, 26, 10, 10, 11, 6, 25, 9, 23, 7, 21, 26, 28, 15, 14, 17, 5, 17, 19, 30, 5, 31, 21, 23, 31, 20, 2, 16, 8, 30, 21, 24, 15, 22, 11, 17, 25, 16, 13, 14, 0, 21, 19, 24, 8, 29, 17, 9, 3, 12, 0, 29, 30, 2, 7, 16, 33, 10, 9, 6, 0, 1, 10, 10, 0, 24, 0, 10, 10, 26, 13, 33, 23, 17, 3, 27, 28, 2, 21, 8, 26, 1, 18, 29, 5, 0, 10, 16, 5, 23, 13, 24, 28, 23, 14, 9, 33, 6, 22, 6, 24, 27, 18, 21, 7, 13, 7, 16, 11, 0, 32, 31, 22, 5, 0, 32, 32, 33, 1, 8, 4, 19, 14, 30, 9, 4, 29, 27, 31, 30, 2, 30, 23, 31, 14, 9, 28, 5, 7, 8, 2, 26, 26, 30, 11, 7, 11, 16, 14, 6, 29, 27, 10, 27, 13, 30, 22, 27, 6, 7, 20, 32, 32, 15, 27, 5, 11, 11, 2, 16, 17, 14, 32, 18, 26, 30, 30, 15, 30, 11, 27, 8, 20, 4, 30, 21, 17, 23, 23, 1, 33, 32, 16, 16, 25, 3, 27, 13, 10, 10, 16, 4, 21, 20, 17, 3, 1, 24, 19, 9, 6, 24, 0, 17, 9, 16, 30, 20, 6, 24, 24, 32, 16, 11, 14, 14, 28, 13, 22, 33, 9, 22, 15, 8, 2, 12, 13, 9, 16, 7, 22, 3, 1, 25, 22, 31, 6, 15, 9, 23, 24, 5, 22, 32, 25, 10, 9, 20, 25, 14, 10, 18, 13, 3, 18, 15, 6, 33, 19, 3, 24, 0, 16, 13, 11, 23, 9, 19, 12, 23, 29, 1, 18, 22, 28, 6, 15, 15, 18, 33, 28, 25, 6, 29, 9, 32, 17, 22, 29, 27, 21, 6, 3, 21, 17, 15, 23, 5, 13, 5, 23, 7, 8, 13, 12, 27, 19, 6, 27, 10, 0, 0, 30, 26, 18, 26, 12, 32, 22, 16, 0, 16, 29, 23, 11, 11, 29, 17, 28, 7, 31, 12, 1, 26, 5, 4, 3, 20, 4, 21, 31, 20, 2, 13, 16, 29, 23, 10, 4, 24, 8, 9, 25, 12, 27, 7, 26, 26, 31, 14, 0, 7, 20, 14, 21, 28, 33, 10, 10, 6, 24, 25, 33, 19, 0, 13, 12, 8, 26, 7, 10, 18, 3, 18, 7, 16, 17, 8, 15, 23, 24, 20, 28, 6, 19, 19, 18, 23, 25, 13, 22, 10, 0, 31, 1, 17, 31, 3, 27, 26, 11, 10, 25, 13, 8, 1, 30, 17, 23, 16, 4, 33, 16, 18, 16, 31, 32, 22, 5, 9, 11, 12, 6, 16, 3, 23, 16, 19, 32, 1, 13, 23, 9, 15, 6, 26, 9, 7, 21, 15, 4, 9, 15, 21, 25, 11, 4, 18, 7, 6, 29, 9, 10, 15, 23, 21, 16, 32, 28, 1, 10, 21, 28, 17, 28, 15, 31, 10, 33, 7, 26, 28, 7, 28, 18, 6, 28, 8, 25, 15, 31, 33, 3, 22, 23, 15, 25, 6, 24, 16, 21, 33, 0, 11, 26, 19, 19, 21, 7, 18, 24, 30, 20, 12, 10, 12, 19, 19, 12, 0, 20, 16, 11, 29, 16, 24, 4, 10, 14, 6, 8, 12, 12, 18, 2, 29, 28, 31, 19, 19, 21, 13, 19, 17, 9, 1, 16, 7, 27, 7, 16, 1, 9, 4, 24, 22, 25, 18, 20, 24, 5, 33, 13, 10, 11, 16, 20, 5, 15, 30, 8, 0, 2, 20, 10, 26, 29, 23, 32, 4, 14, 7, 16, 14, 11, 18, 25, 19, 31, 16, 30, 23, 16, 20, 29, 14, 29, 30, 5, 0, 14, 8, 1, 3, 17, 7, 1, 16, 24, 26, 14, 30, 1, 25, 9, 16, 31, 15, 16, 4, 5, 8, 3, 0, 19, 30, 31, 3, 29, 16, 11, 2, 23, 18, 30, 3, 32, 13, 25, 28, 27, 24, 5, 4, 11, 23, 33, 20, 19, 28, 3, 30, 25, 16, 17, 9, 29, 15, 13, 9, 23, 11, 16, 4, 7, 8, 28, 25, 16, 24, 25, 2, 22, 23, 27, 1, 16, 17, 17, 26, 8, 0, 22, 30, 15, 23, 4, 12, 33, 7, 24, 9, 14, 30, 10, 10, 18, 3, 10, 12, 27, 16, 17, 33, 29, 5, 23, 19, 16, 10, 9, 16, 3, 33, 21, 20, 16, 7, 0, 26, 32, 18, 13, 27, 21, 13, 24, 26, 23, 20, 27, 17, 9, 15, 2, 21, 4, 33, 28, 25, 17, 3, 21, 19, 32, 0, 19, 16, 16, 32, 8, 29, 32, 18, 14, 23, 2, 28, 33, 27, 2, 23, 30, 2, 8, 1, 4, 2, 22, 18, 26, 27, 1, 15, 4, 26, 7, 11, 23, 12, 2, 8, 33, 23, 30, 5, 14, 6, 8, 16, 10, 2, 32, 21, 22, 31, 17, 30, 15, 14, 9, 13, 10, 17, 16, 8, 8, 4, 8, 16, 16, 5, 13, 22, 23, 28, 31, 23, 18, 32, 21, 21, 23, 24, 0, 28, 32, 12, 17, 11, 28, 0, 22, 7, 17, 3, 6, 24, 11, 25, 32, 17, 21, 23, 22, 27, 16, 8, 23, 4, 3, 16, 25, 31, 30, 15, 12, 18, 2, 15, 19, 7, 27, 23, 33, 25, 19, 13, 22, 21, 26, 31, 16, 11, 15, 17, 18, 11, 4, 12, 6, 13, 0, 4, 13, 6, 9, 18, 15, 28, 23, 8, 17, 17, 31, 10, 5, 28, 11, 5, 9, 26, 9, 22, 15, 5, 23, 20, 8, 18, 1, 0, 21, 14, 32, 19, 8, 16, 28, 5, 3, 32, 18, 14, 23, 31, 25, 25, 30, 8, 3, 26, 16, 23, 7, 18, 20, 0, 20, 16, 9, 14, 18, 6, 8, 8, 27, 6, 13, 23, 21, 27, 10, 32, 25, 14, 10, 20, 11, 21, 18, 15, 3, 20, 23, 25, 25, 19, 19, 30, 22, 33, 17, 25, 20, 8, 4, 27, 31, 21, 15, 18, 15, 33, 1, 25, 17, 20, 10, 10, 24, 27, 19, 14, 32, 8, 26, 21, 9, 3, 8, 2, 9, 21, 12, 16, 23, 33, 24, 21, 19, 13, 29, 33, 18, 29, 16, 4, 8, 16, 16, 0, 32, 29, 13, 27, 3, 11, 2, 22, 15, 33, 17, 3, 16, 25, 27, 9, 19, 29, 16, 31, 28, 28, 30, 14, 16, 24, 19, 25, 23, 31, 20, 10, 6, 15, 17, 15]\n",
            "[16, 16, 16, 16, 16, 16, 16, 16, 16, 16, 16, 16, 16, 16, 16, 16, 16, 16, 16, 16, 16, 16, 16, 16, 16, 16, 16, 16, 16, 16, 16, 16, 16, 16, 16, 16, 16, 16, 16, 16, 16, 16, 16, 16, 16, 16, 16, 16, 16, 16, 16, 16, 16, 16, 16, 16, 16, 16, 16, 16, 16, 16, 16, 16, 16, 16, 16, 16, 16, 16, 16, 16, 16, 16, 16, 16, 16, 16, 16, 16, 16, 16, 16, 16, 16, 16, 16, 16, 16, 16, 16, 16, 16, 16, 16, 16, 16, 16, 16, 16, 16, 16, 16, 16, 16, 16, 16, 16, 16, 16, 16, 16, 16, 16, 16, 16, 16, 16, 16, 16, 16, 16, 16, 16, 16, 16, 16, 16, 16, 16, 16, 16, 16, 16, 16, 16, 16, 16, 16, 16, 16, 16, 16, 16, 16, 16, 16, 16, 16, 16, 16, 16, 16, 16, 16, 16, 16, 16, 16, 16, 16, 16, 16, 16, 16, 16, 16, 16, 16, 16, 16, 16, 16, 16, 16, 16, 16, 16, 16, 16, 16, 16, 16, 16, 16, 16, 16, 16, 16, 16, 16, 16, 16, 16, 16, 16, 16, 16, 16, 16, 16, 16, 16, 16, 16, 16, 16, 16, 16, 16, 16, 16, 16, 16, 16, 16, 16, 16, 16, 16, 16, 16, 16, 16, 16, 16, 16, 16, 16, 16, 16, 16, 16, 16, 16, 16, 16, 16, 16, 16, 16, 16, 16, 16, 16, 16, 16, 16, 16, 16, 16, 16, 16, 16, 16, 16, 16, 16, 16, 16, 16, 16, 16, 16, 16, 16, 16, 16, 16, 16, 16, 16, 16, 16, 16, 16, 16, 16, 16, 16, 16, 16, 16, 16, 16, 16, 16, 16, 16, 16, 16, 16, 16, 16, 16, 16, 16, 16, 16, 16, 16, 16, 16, 16, 16, 16, 16, 16, 16, 16, 16, 16, 16, 16, 16, 16, 16, 16, 16, 16, 16, 16, 16, 16, 16, 16, 16, 16, 16, 16, 16, 16, 16, 16, 16, 16, 16, 16, 16, 16, 16, 16, 16, 16, 16, 16, 16, 16, 16, 16, 16, 16, 16, 16, 16, 16, 16, 16, 16, 16, 16, 16, 16, 16, 16, 16, 16, 16, 16, 16, 16, 16, 16, 16, 16, 16, 16, 16, 16, 16, 16, 16, 16, 16, 16, 16, 16, 16, 16, 16, 16, 16, 16, 16, 16, 16, 16, 16, 16, 16, 16, 16, 16, 16, 16, 16, 16, 16, 16, 16, 16, 16, 16, 16, 16, 16, 16, 16, 16, 16, 16, 16, 16, 16, 16, 16, 16, 16, 16, 16, 16, 16, 16, 16, 16, 16, 16, 16, 16, 16, 16, 16, 16, 16, 16, 16, 16, 16, 16, 16, 16, 16, 16, 16, 16, 16, 16, 16, 16, 16, 16, 16, 16, 16, 16, 16, 16, 16, 16, 16, 16, 16, 16, 16, 16, 16, 16, 16, 16, 16, 16, 16, 16, 16, 16, 16, 16, 16, 16, 16, 16, 16, 16, 16, 16, 16, 16, 16, 16, 16, 16, 16, 16, 16, 16, 16, 16, 16, 16, 16, 16, 16, 16, 16, 16, 16, 16, 16, 16, 16, 16, 16, 16, 16, 16, 16, 16, 16, 16, 16, 16, 16, 16, 16, 16, 16, 16, 16, 16, 16, 16, 16, 16, 16, 16, 16, 16, 16, 16, 16, 16, 16, 16, 16, 16, 16, 16, 16, 16, 16, 16, 16, 16, 16, 16, 16, 16, 16, 16, 16, 16, 16, 16, 16, 16, 16, 16, 16, 16, 16, 16, 16, 16, 16, 16, 16, 16, 16, 16, 16, 16, 16, 16, 16, 16, 16, 16, 16, 16, 16, 16, 16, 16, 16, 16, 16, 16, 16, 16, 16, 16, 16, 16, 16, 16, 16, 16, 16, 16, 16, 16, 16, 16, 16, 16, 16, 16, 16, 16, 16, 16, 16, 16, 16, 16, 16, 16, 16, 16, 16, 16, 16, 16, 16, 16, 16, 16, 16, 16, 16, 16, 16, 16, 16, 16, 16, 16, 16, 16, 16, 16, 16, 16, 16, 16, 16, 16, 16, 16, 16, 16, 16, 16, 16, 16, 16, 16, 16, 16, 16, 16, 16, 16, 16, 16, 16, 16, 16, 16, 16, 16, 16, 16, 16, 16, 16, 16, 16, 16, 16, 16, 16, 16, 16, 16, 16, 16, 16, 16, 16, 16, 16, 16, 16, 16, 16, 16, 16, 16, 16, 16, 16, 16, 16, 16, 16, 16, 16, 16, 16, 16, 16, 16, 16, 16, 16, 16, 16, 16, 16, 16, 16, 16, 16, 16, 16, 16, 16, 16, 16, 16, 16, 16, 16, 16, 16, 16, 16, 16, 16, 16, 16, 16, 16, 16, 16, 16, 16, 16, 16, 16, 16, 16, 16, 16, 16, 16, 16, 16, 16, 16, 16, 16, 16, 16, 16, 16, 16, 16, 16, 16, 16, 16, 16, 16, 16, 16, 16, 16, 16, 16, 16, 16, 16, 16, 16, 16, 16, 16, 16, 16, 16, 16, 16, 16, 16, 16, 16, 16, 16, 16, 16, 16, 16, 16, 16, 16, 16, 16, 16, 16, 16, 16, 16, 16, 16, 16, 16, 16, 16, 16, 16, 16, 16, 16, 16, 16, 16, 16, 16, 16, 16, 16, 16, 16, 16, 16, 16, 16, 16, 16, 16, 16, 16, 16, 16, 16, 16, 16, 16, 16, 16, 16, 16, 16, 16, 16, 16, 16, 16, 16, 16, 16, 16, 16, 16, 16, 16, 16, 16, 16, 16, 16, 16, 16, 16, 16, 16, 16, 16, 16, 16, 16, 16, 16, 16, 16, 16, 16, 16, 16, 16, 16, 16, 16, 16, 16, 16, 16, 16, 16, 16, 16, 16, 16, 16, 16, 16, 16, 16, 16, 16, 16, 16, 16, 16, 16, 16, 16, 16, 16, 16, 16, 16, 16, 16, 16, 16, 16, 16, 16, 16, 16, 16, 16, 16, 16, 16, 16, 16, 16, 16, 16, 16, 16, 16, 16, 16, 16, 16, 16, 16, 16, 16, 16, 16, 16, 16, 16, 16, 16, 16, 16, 16, 16, 16, 16, 16, 16, 16, 16, 16, 16, 16, 16, 16, 16, 16, 16, 16, 16, 16, 16, 16, 16, 16, 16, 16, 16, 16, 16, 16, 16, 16, 16, 16, 16, 16, 16, 16, 16, 16, 16, 16, 16, 16, 16, 16, 16, 16, 16, 16, 16, 16, 16, 16, 16, 16, 16, 16, 16, 16, 16, 16, 16, 16, 16, 16, 16, 16, 16, 16, 16, 16, 16, 16, 16, 16, 16, 16, 16, 16, 16, 16, 16, 16, 16, 16, 16, 16, 16, 16, 16, 16, 16, 16, 16, 16, 16, 16, 16, 16, 16, 16, 16, 16, 16, 16, 16, 16, 16, 16, 16, 16, 16, 16, 16, 16, 16, 16, 16, 16, 16, 16, 16, 16, 16, 16, 16, 16, 16, 16, 16, 16, 16, 16, 16, 16, 16, 16, 16, 16, 16, 16, 16, 16, 16, 16, 16, 16, 16, 16, 16, 16, 16, 16, 16, 16, 16, 16, 16, 16, 16, 16, 16, 16, 16, 16, 16, 16, 16, 16, 16, 16, 16, 16, 16, 16, 16, 16, 16, 16, 16, 16, 16, 16, 16, 16, 16, 16, 16, 16, 16, 16, 16, 16, 16, 16, 16, 16, 16, 16, 16, 16, 16, 16, 16, 16, 16, 16, 16, 16, 16, 16, 16, 16, 16, 16, 16, 16, 16, 16, 16, 16, 16, 16, 16, 16, 16, 16, 16, 16, 16, 16, 16, 16, 16, 16, 16, 16, 16, 16, 16, 16, 16, 16, 16, 16, 16, 16, 16, 16, 16, 16, 16, 16, 16, 16, 16, 16, 16, 16, 16, 16, 16, 16, 16, 16, 16, 16, 16, 16, 16, 16, 16, 16, 16, 16, 16, 16, 16, 16, 16, 16, 16, 16, 16, 16, 16, 16, 16, 16, 16, 16, 16, 16, 16, 16, 16, 16, 16, 16, 16, 16, 16, 16, 16, 16, 16, 16, 16, 16, 16, 16, 16, 16, 16, 16, 16, 16, 16, 16, 16, 16, 16, 16, 16, 16, 16, 16, 16, 16, 16, 16, 16, 16, 16, 16, 16, 16, 16, 16, 16, 16, 16, 16, 16, 16, 16, 16, 16, 16, 16, 16, 16, 16, 16, 16, 16, 16, 16, 16, 16, 16, 16, 16, 16, 16, 16, 16, 16, 16, 16, 16, 16, 16, 16, 16, 16, 16, 16, 16, 16, 16, 16, 16, 16, 16, 16, 16, 16, 16, 16, 16, 16, 16, 16, 16, 16, 16, 16, 16, 16, 16, 16, 16, 16, 16, 16, 16, 16, 16, 16, 16, 16, 16, 16, 16, 16, 16, 16, 16, 16, 16, 16, 16, 16, 16, 16, 16, 16, 16, 16, 16, 16, 16, 16, 16, 16, 16, 16, 16, 16, 16, 16, 16, 16, 16, 16, 16, 16, 16, 16, 16, 16, 16, 16, 16, 16, 16, 16, 16, 16, 16, 16, 16, 16, 16, 16, 16, 16, 16, 16, 16, 16, 16, 16, 16, 16, 16, 16, 16, 16, 16, 16, 16, 16, 16, 16, 16, 16, 16, 16, 16, 16, 16, 16, 16, 16, 16, 16, 16, 16, 16, 16, 16, 16, 16, 16, 16, 16, 16, 16, 16, 16, 16, 16, 16, 16, 16, 16, 16, 16, 16, 16, 16, 16, 16, 16, 16, 16, 16, 16, 16, 16, 16, 16, 16, 16, 16, 16, 16, 16, 16, 16, 16, 16, 16, 16, 16, 16, 16, 16, 16, 16, 16, 16, 16, 16, 16, 16, 16, 16, 16, 16, 16, 16, 16, 16, 16, 16, 16, 16, 16, 16, 16, 16, 16, 16, 16, 16, 16, 16, 16, 16, 16, 16, 16, 16, 16, 16, 16, 16, 16, 16, 16, 16, 16, 16, 16, 16, 16, 16, 16, 16, 16, 16, 16, 16, 16, 16, 16, 16, 16, 16, 16, 16, 16, 16, 16, 16, 16, 16, 16, 16, 16, 16, 16, 16, 16, 16, 16, 16, 16, 16, 16, 16, 16, 16, 16, 16, 16, 16, 16, 16, 16, 16, 16, 16, 16, 16, 16, 16, 16, 16, 16, 16, 16, 16, 16, 16, 16, 16, 16, 16, 16, 16, 16, 16, 16, 16, 16, 16, 16, 16, 16, 16, 16, 16, 16, 16, 16, 16, 16, 16, 16, 16, 16, 16, 16, 16, 16, 16, 16, 16, 16, 16, 16, 16, 16, 16, 16, 16, 16, 16, 16, 16, 16, 16, 16, 16, 16, 16, 16, 16, 16, 16, 16, 16, 16, 16, 16, 16, 16, 16, 16, 16, 16, 16, 16, 16, 16, 16, 16, 16, 16, 16, 16, 16, 16, 16, 16, 16, 16, 16, 16, 16, 16, 16, 16, 16, 16, 16, 16, 16, 16, 16, 16, 16, 16, 16, 16, 16, 16, 16, 16, 16, 16, 16, 16, 16, 16, 16, 16, 16, 16, 16, 16, 16, 16, 16, 16, 16, 16, 16, 16, 16, 16, 16, 16, 16, 16, 16, 16, 16, 16, 16, 16, 16, 16, 16, 16, 16, 16, 16, 16, 16, 16, 16, 16, 16, 16, 16, 16, 16, 16, 16, 16, 16, 16, 16, 16, 16, 16, 16, 16, 16, 16, 16, 16, 16, 16, 16, 16, 16, 16, 16, 16, 16, 16, 16, 16, 16, 16, 16, 16, 16, 16, 16, 16, 16, 16, 16, 16, 16, 16, 16, 16, 16, 16, 16, 16, 16, 16, 16, 16, 16, 16, 16, 16, 16, 16, 16, 16, 16, 16, 16, 16, 16, 16, 16, 16, 16, 16, 16, 16, 16, 16, 16, 16, 16, 16, 16, 16, 16, 16, 16, 16, 16, 16, 16, 16, 16, 16, 16, 16, 16, 16, 16, 16, 16, 16, 16, 16, 16, 16, 16, 16, 16, 16, 16, 16, 16, 16, 16, 16, 16, 16, 16, 16, 16, 16, 16, 16, 16, 16, 16, 16, 16, 16, 16, 16, 16, 16, 16, 16, 16, 16, 16, 16, 16, 16, 16, 16, 16, 16, 16, 16, 16, 16, 16, 16, 16, 16, 16, 16, 16, 16, 16, 16, 16, 16, 16, 16, 16, 16, 16, 16, 16, 16, 16, 16, 16, 16, 16, 16, 16, 16, 16, 16, 16, 16, 16, 16, 16, 16, 16, 16, 16, 16, 16, 16, 16, 16, 16, 16, 16, 16, 16, 16, 16, 16, 16, 16, 16, 16, 16, 16, 16, 16, 16, 16, 16, 16, 16, 16, 16, 16, 16, 16, 16, 16, 16, 16, 16, 16, 16, 16, 16, 16, 16, 16, 16, 16, 16, 16, 16, 16, 16, 16, 16, 16, 16, 16, 16, 16, 16, 16, 16, 16, 16, 16, 16, 16, 16, 16, 16, 16, 16, 16, 16, 16, 16, 16, 16, 16, 16, 16, 16, 16, 16, 16, 16, 16, 16, 16, 16, 16, 16, 16, 16, 16, 16, 16, 16, 16, 16, 16, 16, 16, 16, 16, 16, 16, 16, 16, 16, 16, 16, 16, 16, 16, 16, 16, 16, 16, 16, 16, 16, 16, 16, 16, 16, 16, 16, 16, 16, 16, 16, 16, 16, 16, 16, 16, 16, 16, 16, 16, 16, 16, 16, 16, 16, 16, 16, 16, 16, 16, 16, 16, 16, 16, 16, 16, 16, 16, 16, 16, 16, 16, 16, 16, 16, 16, 16, 16, 16, 16, 16, 16, 16, 16, 16, 16, 16, 16, 16, 16, 16, 16, 16, 16, 16, 16, 16, 16, 16, 16, 16, 16, 16, 16, 16, 16, 16, 16, 16, 16, 16, 16, 16, 16, 16, 16, 16, 16, 16, 16, 16, 16, 16, 16, 16, 16, 16, 16, 16, 16, 16, 16, 16, 16, 16, 16, 16, 16, 16, 16, 16, 16, 16, 16, 16, 16, 16, 16, 16, 16, 16, 16, 16, 16, 16, 16, 16, 16, 16, 16, 16, 16, 16, 16, 16, 16, 16, 16, 16, 16, 16, 16, 16, 16, 16, 16, 16, 16, 16, 16, 16, 16, 16, 16, 16, 16, 16, 16, 16, 16, 16, 16, 16, 16, 16, 16, 16, 16, 16, 16, 16, 16, 16, 16, 16, 16, 16, 16, 16, 16, 16, 16, 16, 16, 16, 16, 16, 16, 16, 16, 16, 16, 16, 16, 16, 16, 16, 16, 16, 16, 16, 16, 16, 16, 16, 16, 16, 16, 16, 16, 16, 16, 16, 16, 16, 16, 16, 16, 16, 16, 16, 16, 16, 16, 16, 16, 16, 16, 16, 16, 16, 16, 16, 16, 16, 16, 16, 16, 16, 16, 16, 16, 16, 16, 16, 16, 16, 16, 16, 16, 16, 16, 16, 16, 16, 16, 16, 16, 16, 16, 16, 16, 16, 16, 16, 16, 16, 16, 16, 16, 16, 16, 16, 16, 16, 16, 16, 16, 16, 16, 16, 16, 16, 16, 16, 16, 16, 16, 16, 16, 16, 16, 16, 16, 16, 16, 16, 16, 16, 16, 16, 16, 16, 16, 16, 16, 16, 16, 16, 16, 16, 16, 16, 16, 16, 16, 16, 16, 16, 16, 16, 16, 16, 16, 16, 16, 16, 16, 16, 16, 16, 16, 16, 16, 16, 16, 16, 16, 16, 16, 16, 16, 16, 16, 16, 16, 16, 16, 16, 16, 16, 16, 16, 16, 16, 16, 16, 16, 16, 16, 16, 16, 16, 16, 16, 16, 16, 16, 16, 16, 16, 16, 16, 16, 16, 16, 16, 16, 16, 16, 16, 16, 16, 16, 16, 16, 16, 16, 16, 16, 16, 16, 16, 16, 16, 16, 16, 16, 16, 16, 16, 16, 16, 16, 16, 16, 16, 16, 16, 16, 16, 16, 16, 16, 16, 16, 16, 16, 16, 16, 16, 16, 16, 16, 16, 16, 16, 16, 16, 16, 16, 16, 16, 16, 16, 16, 16, 16, 16, 16, 16, 16, 16, 16, 16, 16, 16, 16, 16, 16, 16, 16, 16, 16, 16, 16, 16, 16, 16, 16, 16, 16, 16, 16, 16, 16, 16, 16, 16, 16, 16, 16, 16, 16, 16, 16, 16, 16, 16, 16, 16, 16, 16, 16, 16, 16, 16, 16, 16, 16, 16, 16, 16, 16, 16, 16, 16, 16, 16, 16, 16, 16, 16, 16, 16, 16, 16, 16, 16, 16, 16, 16, 16, 16, 16, 16, 16, 16, 16, 16, 16, 16, 16, 16, 16, 16, 16, 16, 16, 16, 16, 16, 16, 16, 16, 16, 16, 16, 16, 16, 16, 16, 16, 16, 16, 16, 16, 16, 16, 16, 16, 16, 16, 16, 16, 16, 16, 16, 16, 16, 16, 16, 16, 16, 16, 16, 16, 16, 16, 16, 16, 16, 16, 16, 16, 16, 16, 16, 16, 16, 16, 16, 16, 16, 16, 16, 16, 16, 16, 16, 16, 16, 16, 16, 16, 16, 16, 16, 16, 16, 16, 16, 16, 16, 16, 16, 16, 16, 16, 16, 16, 16, 16, 16, 16, 16, 16, 16, 16, 16, 16, 16, 16, 16, 16, 16, 16, 16, 16, 16, 16, 16, 16, 16, 16, 16, 16, 16, 16, 16, 16, 16, 16, 16, 16, 16, 16, 16, 16, 16, 16, 16, 16, 16, 16, 16, 16, 16, 16, 16, 16, 16, 16, 16, 16, 16, 16, 16, 16, 16, 16, 16, 16, 16, 16, 16, 16, 16, 16, 16, 16, 16, 16, 16, 16, 16, 16, 16, 16, 16, 16, 16, 16, 16, 16, 16, 16, 16, 16, 16, 16, 16, 16, 16, 16, 16, 16, 16, 16, 16, 16, 16, 16, 16, 16, 16, 16, 16, 16, 16, 16, 16, 16, 16, 16, 16, 16, 16, 16, 16, 16, 16, 16, 16, 16, 16, 16, 16, 16, 16, 16, 16, 16, 16, 16, 16, 16, 16, 16, 16, 16, 16, 16, 16, 16, 16, 16, 16, 16, 16, 16, 16, 16, 16, 16, 16, 16, 16, 16, 16, 16, 16, 16, 16, 16, 16, 16, 16, 16, 16, 16, 16, 16, 16, 16, 16, 16, 16, 16, 16, 16, 16, 16, 16, 16, 16, 16, 16, 16, 16, 16, 16, 16, 16, 16, 16, 16, 16, 16, 16, 16, 16, 16, 16, 16, 16, 16, 16, 16, 16, 16, 16, 16, 16, 16, 16, 16, 16, 16, 16, 16, 16, 16, 16, 16, 16, 16, 16, 16, 16, 16, 16, 16, 16, 16, 16, 16, 16, 16, 16, 16, 16, 16, 16, 16, 16, 16, 16, 16, 16, 16, 16, 16, 16, 16, 16, 16, 16, 16, 16, 16, 16, 16, 16, 16, 16, 16, 16, 16, 16, 16, 16, 16, 16, 16, 16, 16, 16, 16, 16, 16, 16, 16, 16, 16, 16, 16, 16, 16, 16, 16, 16, 16, 16, 16, 16, 16, 16, 16, 16, 16, 16, 16, 16, 16, 16, 16, 16, 16, 16, 16, 16, 16, 16, 16, 16, 16, 16, 16, 16, 16, 16, 16, 16, 16, 16, 16, 16, 16, 16, 16, 16, 16, 16, 16, 16, 16, 16, 16, 16, 16, 16, 16, 16, 16, 16, 16, 16, 16, 16, 16, 16, 16, 16, 16, 16, 16, 16, 16, 16, 16, 16, 16, 16, 16, 16, 16, 16, 16, 16, 16, 16, 16, 16, 16, 16, 16, 16, 16, 16, 16, 16, 16, 16, 16, 16, 16, 16, 16, 16, 16, 16, 16, 16, 16, 16, 16, 16, 16, 16, 16, 16, 16, 16, 16, 16, 16, 16, 16, 16, 16, 16, 16, 16, 16, 16, 16, 16, 16, 16, 16, 16, 16, 16, 16, 16, 16, 16, 16, 16, 16, 16, 16, 16, 16, 16, 16, 16, 16, 16, 16, 16, 16, 16, 16, 16, 16, 16, 16, 16, 16, 16, 16, 16, 16, 16, 16, 16, 16, 16, 16, 16, 16, 16, 16, 16, 16, 16, 16, 16, 16, 16, 16, 16, 16, 16, 16, 16, 16, 16, 16, 16, 16, 16, 16, 16, 16, 16, 16, 16, 16, 16, 16, 16, 16, 16, 16, 16, 16, 16, 16, 16, 16, 16, 16, 16, 16, 16, 16, 16, 16, 16, 16, 16, 16, 16, 16, 16, 16, 16, 16, 16, 16, 16, 16, 16, 16, 16, 16, 16, 16, 16, 16, 16, 16, 16, 16, 16, 16, 16, 16, 16, 16, 16, 16, 16, 16, 16, 16, 16, 16, 16, 16, 16, 16, 16, 16, 16, 16, 16, 16, 16, 16, 16, 16, 16, 16, 16, 16, 16, 16, 16, 16, 16, 16, 16, 16, 16, 16, 16, 16, 16, 16, 16, 16, 16, 16, 16, 16, 16, 16, 16, 16, 16, 16, 16, 16, 16, 16, 16, 16, 16, 16, 16, 16, 16, 16, 16, 16, 16, 16, 16, 16, 16, 16, 16, 16, 16, 16, 16, 16, 16, 16, 16, 16, 16, 16, 16, 16, 16, 16, 16, 16, 16, 16, 16, 16, 16, 16, 16, 16, 16, 16, 16, 16, 16, 16, 16, 16, 16, 16, 16, 16, 16, 16, 16, 16, 16, 16, 16, 16, 16, 16, 16, 16, 16, 16, 16, 16, 16, 16, 16, 16, 16, 16, 16, 16, 16, 16, 16, 16, 16, 16, 16, 16, 16, 16, 16, 16, 16, 16, 16, 16, 16, 16, 16, 16, 16, 16, 16, 16, 16, 16, 16, 16, 16, 16, 16, 16, 16, 16, 16, 16, 16, 16, 16, 16, 16, 16, 16, 16, 16, 16, 16, 16, 16, 16, 16, 16, 16, 16, 16, 16, 16, 16, 16, 16, 16, 16, 16, 16, 16, 16, 16, 16, 16, 16, 16, 16, 16, 16, 16, 16, 16, 16, 16, 16, 16, 16, 16, 16, 16, 16, 16, 16, 16, 16, 16, 16, 16, 16, 16, 16, 16, 16, 16, 16, 16, 16, 16, 16, 16, 16, 16, 16, 16, 16, 16, 16, 16, 16, 16, 16, 16, 16, 16, 16, 16, 16, 16, 16, 16, 16, 16, 16, 16, 16, 16, 16, 16, 16, 16, 16, 16, 16, 16, 16, 16, 16, 16, 16, 16, 16, 16, 16, 16, 16, 16, 16, 16, 16, 16, 16, 16, 16, 16, 16, 16, 16, 16, 16, 16, 16, 16, 16, 16, 16, 16, 16, 16, 16, 16, 16, 16, 16, 16, 16, 16, 16, 16, 16, 16, 16, 16, 16, 16, 16, 16, 16, 16, 16, 16, 16, 16, 16, 16, 16, 16, 16, 16, 16, 16, 16, 16, 16, 16, 16, 16, 16, 16, 16, 16, 16, 16, 16, 16, 16, 16, 16, 16, 16, 16, 16, 16, 16, 16, 16, 16, 16, 16, 16, 16, 16, 16, 16, 16, 16, 16, 16, 16, 16, 16, 16, 16, 16, 16, 16, 16, 16, 16, 16, 16, 16, 16, 16, 16, 16, 16, 16, 16, 16, 16, 16, 16, 16, 16, 16, 16, 16, 16, 16, 16, 16, 16, 16, 16, 16, 16, 16, 16, 16, 16, 16, 16, 16, 16, 16, 16, 16, 16, 16, 16, 16, 16, 16, 16, 16, 16, 16, 16, 16, 16, 16, 16, 16, 16, 16, 16, 16, 16, 16, 16, 16, 16, 16, 16, 16, 16, 16, 16, 16, 16, 16, 16, 16, 16, 16, 16, 16, 16, 16, 16, 16, 16, 16, 16, 16, 16, 16, 16, 16, 16, 16, 16, 16, 16, 16, 16, 16, 16, 16, 16, 16, 16, 16, 16, 16, 16, 16, 16, 16, 16, 16, 16, 16, 16, 16, 16, 16, 16, 16, 16, 16, 16, 16, 16, 16, 16, 16, 16, 16, 16, 16, 16, 16, 16, 16, 16, 16, 16, 16, 16, 16, 16, 16, 16, 16, 16, 16, 16, 16, 16, 16, 16, 16, 16, 16, 16, 16, 16, 16, 16, 16, 16, 16, 16, 16, 16, 16, 16, 16, 16, 16, 16, 16, 16, 16, 16, 16, 16, 16, 16, 16, 16, 16, 16, 16, 16, 16, 16, 16, 16, 16, 16, 16, 16, 16, 16, 16, 16, 16, 16, 16, 16, 16, 16, 16, 16, 16, 16, 16, 16, 16, 16, 16, 16, 16, 16, 16, 16, 16, 16, 16, 16, 16, 16, 16, 16, 16, 16, 16, 16, 16, 16, 16, 16, 16, 16, 16, 16, 16, 16, 16, 16, 16, 16, 16, 16, 16, 16, 16, 16, 16, 16, 16, 16, 16, 16, 16, 16, 16, 16, 16, 16, 16, 16, 16, 16, 16, 16, 16, 16, 16, 16, 16, 16, 16, 16, 16, 16, 16, 16, 16, 16, 16, 16, 16, 16, 16, 16, 16, 16, 16, 16, 16, 16, 16, 16, 16, 16, 16, 16, 16, 16, 16, 16, 16, 16, 16, 16, 16, 16, 16, 16, 16, 16, 16, 16, 16, 16, 16, 16, 16, 16, 16, 16, 16, 16, 16, 16, 16, 16, 16, 16, 16, 16, 16, 16, 16, 16, 16, 16, 16, 16, 16, 16, 16, 16, 16, 16, 16, 16, 16, 16, 16, 16, 16, 16, 16, 16, 16, 16]\n",
            "test cases :  4000\n",
            "wrong cases :  3773\n",
            "\n",
            "Model accuracy score with default hyperparameters: 5.6750\n",
            "With feature Selection : \n",
            "[9, 14, 0, 32, 21, 17, 27, 9, 0, 20, 32, 27, 7, 19, 0, 2, 12, 24, 7, 16, 22, 10, 15, 26, 15, 26, 16, 16, 1, 5, 18, 20, 4, 30, 23, 10, 25, 8, 8, 21, 24, 27, 16, 25, 6, 5, 20, 19, 18, 12, 1, 25, 3, 23, 13, 19, 9, 19, 21, 12, 24, 3, 24, 7, 24, 3, 18, 29, 22, 9, 23, 10, 16, 30, 15, 31, 26, 13, 32, 26, 32, 13, 1, 29, 21, 0, 6, 21, 14, 25, 17, 15, 5, 32, 26, 6, 8, 11, 26, 25, 17, 20, 15, 12, 0, 9, 13, 6, 21, 10, 22, 3, 2, 8, 2, 20, 18, 33, 14, 14, 11, 9, 23, 23, 10, 9, 32, 13, 21, 13, 31, 1, 19, 30, 10, 5, 29, 21, 18, 2, 21, 19, 23, 6, 16, 5, 29, 2, 18, 31, 24, 24, 17, 24, 26, 12, 25, 31, 21, 9, 19, 17, 27, 28, 21, 27, 22, 13, 2, 1, 30, 9, 16, 16, 13, 24, 16, 4, 0, 7, 16, 17, 12, 2, 18, 11, 17, 4, 14, 21, 8, 3, 27, 16, 10, 18, 18, 9, 31, 26, 17, 32, 7, 28, 32, 6, 19, 21, 25, 23, 9, 14, 7, 30, 28, 15, 32, 27, 6, 27, 3, 3, 17, 25, 33, 9, 16, 4, 9, 0, 2, 30, 30, 13, 21, 17, 13, 24, 9, 0, 20, 16, 30, 33, 12, 13, 21, 11, 14, 32, 9, 15, 9, 6, 7, 24, 8, 23, 22, 2, 9, 17, 30, 4, 16, 21, 12, 0, 33, 24, 26, 14, 33, 7, 12, 8, 16, 20, 9, 25, 9, 24, 8, 24, 17, 27, 5, 30, 5, 1, 1, 13, 7, 19, 16, 32, 22, 17, 7, 1, 11, 6, 33, 2, 15, 16, 20, 20, 17, 10, 25, 16, 29, 11, 22, 0, 16, 17, 13, 17, 33, 4, 4, 26, 26, 9, 17, 15, 29, 27, 8, 18, 32, 24, 23, 6, 6, 1, 23, 14, 28, 31, 2, 16, 16, 10, 27, 9, 16, 16, 25, 21, 29, 14, 32, 5, 11, 22, 21, 17, 6, 29, 10, 24, 8, 1, 0, 22, 5, 16, 22, 21, 3, 33, 6, 17, 25, 16, 22, 32, 30, 16, 9, 9, 16, 18, 21, 18, 26, 21, 33, 1, 31, 33, 2, 13, 32, 5, 29, 7, 13, 7, 17, 22, 22, 2, 30, 3, 14, 3, 10, 30, 29, 8, 26, 1, 4, 16, 16, 0, 21, 16, 0, 13, 0, 23, 20, 33, 29, 16, 24, 23, 24, 33, 27, 11, 22, 7, 28, 14, 16, 22, 16, 17, 25, 30, 8, 14, 13, 11, 20, 16, 6, 30, 16, 20, 16, 25, 16, 2, 0, 13, 1, 24, 2, 2, 5, 8, 7, 25, 23, 3, 11, 4, 21, 25, 30, 19, 17, 30, 21, 27, 5, 4, 6, 31, 24, 33, 32, 2, 15, 11, 23, 4, 2, 23, 8, 33, 27, 0, 5, 22, 21, 10, 17, 33, 26, 27, 24, 29, 19, 14, 1, 11, 20, 3, 8, 16, 1, 0, 7, 3, 4, 32, 15, 0, 16, 17, 7, 16, 16, 10, 26, 22, 26, 32, 15, 5, 6, 29, 28, 5, 7, 18, 0, 6, 12, 22, 22, 20, 5, 7, 1, 6, 3, 23, 33, 29, 0, 23, 17, 1, 15, 13, 16, 6, 12, 6, 11, 19, 30, 32, 26, 32, 13, 31, 26, 5, 16, 2, 1, 4, 15, 9, 18, 26, 8, 22, 7, 5, 0, 2, 10, 33, 27, 28, 28, 0, 5, 10, 7, 9, 7, 31, 11, 2, 21, 5, 16, 12, 5, 24, 20, 31, 18, 6, 9, 11, 20, 7, 14, 33, 5, 24, 22, 12, 3, 3, 10, 28, 1, 8, 4, 32, 22, 21, 29, 3, 18, 28, 29, 0, 25, 9, 1, 13, 13, 28, 3, 16, 5, 14, 15, 11, 10, 5, 33, 28, 33, 16, 3, 7, 26, 9, 27, 9, 18, 21, 24, 4, 16, 28, 15, 24, 20, 15, 3, 29, 19, 12, 31, 11, 31, 7, 27, 26, 6, 19, 32, 4, 19, 19, 30, 3, 12, 27, 33, 12, 33, 15, 25, 17, 3, 31, 12, 0, 19, 21, 23, 12, 7, 15, 29, 31, 33, 12, 11, 17, 5, 7, 33, 14, 30, 14, 15, 1, 17, 30, 26, 13, 2, 3, 28, 3, 11, 32, 4, 25, 5, 11, 8, 6, 10, 1, 20, 16, 6, 17, 28, 18, 31, 24, 23, 6, 20, 2, 3, 2, 25, 26, 5, 8, 14, 4, 24, 16, 29, 5, 24, 2, 15, 26, 12, 0, 24, 7, 25, 6, 22, 10, 12, 20, 28, 29, 2, 25, 22, 11, 15, 28, 20, 5, 32, 13, 0, 30, 24, 1, 2, 0, 26, 10, 31, 14, 6, 17, 5, 4, 6, 18, 2, 23, 22, 15, 11, 20, 13, 2, 19, 8, 24, 7, 4, 5, 13, 27, 6, 6, 22, 23, 9, 0, 17, 22, 16, 30, 25, 32, 23, 4, 32, 18, 25, 24, 0, 21, 17, 22, 12, 33, 7, 29, 14, 18, 16, 32, 31, 17, 25, 23, 5, 5, 20, 14, 5, 24, 14, 10, 14, 0, 27, 23, 8, 32, 17, 17, 16, 31, 26, 28, 13, 3, 5, 7, 27, 22, 16, 3, 10, 17, 7, 6, 20, 13, 1, 9, 33, 11, 33, 8, 12, 2, 3, 32, 4, 16, 13, 0, 10, 1, 5, 30, 9, 20, 11, 6, 2, 2, 26, 11, 29, 6, 2, 11, 17, 11, 33, 17, 8, 26, 21, 14, 18, 4, 8, 24, 23, 15, 32, 25, 17, 29, 2, 16, 10, 12, 2, 14, 16, 4, 15, 1, 6, 21, 15, 2, 6, 14, 33, 24, 9, 28, 10, 19, 31, 29, 18, 18, 8, 12, 0, 27, 25, 29, 27, 20, 6, 11, 0, 10, 14, 31, 21, 7, 21, 15, 2, 29, 5, 25, 21, 9, 14, 13, 7, 29, 4, 20, 20, 6, 8, 12, 4, 17, 12, 28, 21, 23, 12, 33, 7, 11, 12, 21, 24, 17, 2, 13, 13, 5, 3, 13, 6, 3, 6, 15, 11, 21, 15, 13, 23, 0, 30, 31, 21, 12, 17, 29, 18, 23, 17, 10, 12, 11, 27, 21, 6, 33, 9, 21, 18, 4, 20, 32, 11, 8, 9, 24, 28, 2, 6, 3, 2, 29, 3, 31, 1, 16, 7, 3, 0, 2, 29, 6, 10, 0, 19, 27, 23, 32, 28, 12, 4, 24, 15, 0, 16, 15, 14, 23, 26, 14, 18, 16, 31, 7, 5, 29, 25, 17, 32, 2, 28, 7, 31, 33, 32, 6, 24, 11, 5, 33, 25, 15, 18, 27, 25, 5, 17, 6, 5, 30, 14, 15, 13, 15, 30, 25, 18, 8, 18, 18, 5, 13, 12, 30, 24, 8, 33, 17, 11, 3, 18, 20, 16, 8, 20, 27, 15, 21, 12, 9, 14, 31, 32, 26, 0, 25, 12, 17, 19, 0, 13, 31, 16, 16, 19, 17, 19, 23, 24, 31, 13, 1, 17, 24, 10, 6, 21, 24, 3, 3, 1, 21, 16, 28, 12, 8, 8, 8, 33, 5, 9, 18, 19, 23, 13, 8, 17, 3, 32, 0, 12, 18, 29, 14, 20, 28, 20, 24, 30, 17, 16, 6, 31, 19, 2, 29, 20, 12, 8, 22, 14, 27, 9, 22, 1, 33, 32, 6, 22, 21, 15, 2, 9, 22, 28, 32, 33, 29, 15, 16, 3, 28, 26, 27, 26, 4, 31, 2, 21, 5, 8, 8, 11, 27, 18, 11, 9, 16, 19, 6, 28, 21, 16, 18, 16, 32, 10, 30, 32, 30, 21, 33, 33, 23, 12, 15, 19, 33, 21, 17, 23, 1, 12, 23, 30, 4, 28, 23, 10, 8, 9, 9, 4, 27, 28, 0, 25, 25, 5, 32, 29, 17, 20, 4, 15, 6, 33, 16, 20, 24, 24, 22, 17, 21, 23, 25, 26, 26, 19, 1, 1, 25, 8, 11, 30, 16, 2, 7, 6, 2, 25, 10, 24, 14, 10, 24, 3, 5, 8, 1, 9, 23, 1, 26, 19, 13, 7, 13, 10, 32, 29, 24, 26, 7, 22, 6, 20, 10, 2, 2, 13, 26, 21, 28, 22, 22, 20, 1, 20, 7, 29, 9, 27, 33, 33, 7, 25, 30, 32, 30, 1, 30, 13, 24, 16, 20, 22, 19, 18, 20, 28, 9, 26, 1, 16, 16, 24, 8, 28, 31, 1, 22, 2, 16, 23, 24, 5, 30, 19, 16, 31, 26, 23, 1, 28, 14, 0, 20, 29, 16, 32, 12, 23, 9, 23, 12, 4, 22, 24, 1, 31, 30, 31, 14, 15, 9, 30, 25, 31, 16, 28, 4, 33, 29, 17, 20, 3, 4, 2, 4, 18, 22, 30, 28, 4, 15, 23, 3, 33, 5, 0, 23, 13, 26, 15, 21, 5, 3, 17, 2, 3, 10, 29, 19, 28, 0, 22, 26, 10, 26, 17, 29, 8, 19, 9, 30, 12, 31, 25, 17, 33, 9, 29, 3, 12, 21, 26, 29, 24, 3, 10, 18, 12, 29, 6, 23, 11, 32, 16, 7, 20, 32, 14, 24, 1, 20, 2, 30, 28, 15, 28, 22, 17, 31, 9, 33, 5, 31, 16, 3, 33, 4, 12, 17, 0, 7, 28, 16, 24, 7, 0, 5, 17, 24, 11, 28, 29, 11, 24, 6, 12, 11, 13, 6, 21, 21, 30, 24, 16, 2, 31, 14, 18, 28, 26, 16, 12, 25, 6, 21, 13, 1, 20, 31, 5, 27, 14, 21, 10, 2, 3, 32, 0, 9, 16, 16, 9, 6, 7, 0, 29, 8, 24, 8, 18, 23, 14, 26, 11, 4, 33, 31, 20, 20, 11, 29, 1, 30, 5, 11, 19, 19, 23, 16, 21, 15, 9, 20, 18, 18, 4, 8, 14, 29, 27, 24, 20, 16, 2, 20, 15, 20, 4, 16, 29, 30, 16, 25, 1, 20, 4, 3, 9, 21, 9, 11, 32, 17, 9, 16, 28, 18, 29, 4, 7, 3, 8, 28, 1, 20, 20, 16, 10, 8, 3, 26, 19, 31, 1, 19, 6, 24, 21, 22, 4, 1, 5, 31, 28, 28, 15, 2, 23, 7, 4, 20, 17, 31, 24, 27, 2, 10, 2, 15, 1, 29, 15, 25, 33, 2, 29, 28, 26, 1, 11, 24, 32, 26, 18, 29, 16, 9, 22, 26, 18, 22, 19, 1, 23, 19, 20, 4, 20, 9, 23, 12, 8, 10, 9, 18, 17, 16, 15, 30, 1, 12, 26, 31, 29, 25, 10, 4, 25, 7, 17, 29, 29, 1, 25, 16, 14, 6, 2, 20, 14, 24, 32, 32, 11, 1, 32, 18, 2, 1, 10, 29, 31, 20, 5, 29, 32, 19, 25, 18, 18, 31, 12, 18, 20, 7, 24, 28, 25, 16, 11, 0, 6, 3, 2, 11, 14, 21, 18, 0, 25, 32, 22, 18, 33, 12, 17, 2, 16, 3, 20, 18, 1, 6, 29, 13, 28, 3, 29, 26, 9, 26, 1, 4, 27, 11, 28, 6, 8, 7, 33, 26, 9, 17, 13, 4, 11, 29, 15, 6, 18, 23, 26, 3, 19, 6, 15, 16, 20, 9, 25, 9, 31, 6, 27, 8, 26, 14, 10, 0, 13, 2, 8, 19, 9, 13, 8, 10, 30, 13, 30, 16, 25, 10, 18, 19, 16, 1, 6, 3, 13, 9, 5, 21, 25, 16, 11, 21, 32, 25, 16, 4, 28, 12, 25, 24, 20, 10, 22, 25, 9, 26, 32, 32, 25, 11, 0, 32, 16, 20, 12, 16, 2, 16, 17, 5, 21, 30, 11, 26, 16, 1, 33, 31, 8, 17, 11, 2, 33, 5, 16, 16, 27, 22, 16, 13, 29, 7, 24, 19, 5, 28, 22, 2, 10, 31, 28, 5, 4, 23, 19, 26, 20, 13, 8, 27, 21, 6, 27, 25, 14, 33, 13, 16, 11, 6, 25, 15, 25, 24, 30, 31, 31, 17, 4, 2, 32, 17, 2, 6, 5, 19, 31, 17, 7, 16, 16, 20, 4, 8, 28, 29, 4, 7, 14, 0, 20, 20, 14, 0, 14, 2, 19, 2, 28, 17, 2, 25, 3, 5, 33, 21, 20, 27, 19, 32, 12, 24, 8, 22, 12, 5, 0, 11, 13, 29, 4, 24, 7, 6, 16, 8, 33, 21, 5, 23, 32, 8, 11, 30, 27, 26, 31, 31, 12, 3, 22, 14, 0, 20, 0, 8, 14, 10, 16, 24, 31, 11, 23, 19, 19, 10, 22, 17, 12, 20, 14, 32, 31, 32, 0, 19, 11, 1, 22, 23, 8, 30, 26, 22, 10, 21, 17, 19, 6, 12, 11, 28, 10, 17, 32, 15, 4, 16, 24, 24, 20, 3, 13, 16, 2, 9, 16, 31, 12, 7, 27, 1, 1, 0, 17, 33, 8, 8, 1, 5, 2, 19, 6, 6, 20, 7, 5, 10, 27, 5, 24, 28, 19, 13, 27, 23, 1, 17, 3, 28, 16, 13, 27, 15, 30, 5, 29, 17, 3, 11, 17, 22, 9, 7, 33, 7, 1, 10, 1, 7, 15, 15, 2, 7, 18, 21, 3, 8, 7, 2, 4, 29, 18, 16, 24, 17, 6, 33, 27, 31, 23, 18, 26, 26, 5, 0, 22, 6, 7, 33, 19, 13, 15, 27, 18, 28, 1, 21, 0, 33, 1, 20, 13, 21, 11, 12, 23, 8, 31, 25, 27, 3, 7, 26, 31, 31, 19, 6, 28, 7, 32, 6, 29, 11, 5, 21, 7, 27, 28, 0, 6, 18, 4, 32, 10, 12, 13, 30, 18, 33, 9, 28, 1, 14, 13, 25, 10, 10, 16, 28, 16, 22, 26, 27, 4, 22, 10, 33, 27, 21, 29, 19, 19, 20, 27, 15, 28, 10, 31, 9, 8, 21, 28, 10, 26, 5, 26, 4, 27, 16, 10, 21, 27, 27, 30, 21, 4, 14, 25, 8, 20, 20, 29, 18, 26, 25, 28, 7, 8, 2, 5, 16, 22, 14, 26, 21, 20, 18, 8, 20, 16, 26, 29, 21, 11, 8, 18, 20, 12, 19, 10, 31, 24, 27, 22, 14, 5, 17, 30, 33, 15, 10, 19, 16, 21, 29, 26, 0, 7, 24, 15, 26, 7, 19, 22, 19, 10, 11, 16, 18, 1, 23, 29, 33, 12, 27, 15, 13, 15, 15, 20, 24, 14, 31, 16, 12, 22, 6, 25, 6, 5, 11, 16, 15, 13, 19, 25, 14, 6, 8, 19, 16, 29, 24, 15, 3, 27, 8, 13, 16, 11, 26, 18, 1, 0, 13, 14, 23, 30, 12, 22, 29, 10, 4, 10, 1, 15, 32, 31, 3, 23, 0, 17, 26, 27, 27, 9, 2, 16, 16, 14, 12, 5, 33, 5, 5, 32, 17, 5, 17, 14, 30, 5, 7, 25, 33, 13, 18, 10, 9, 28, 13, 17, 10, 33, 1, 28, 26, 5, 14, 11, 6, 8, 16, 23, 4, 16, 13, 19, 17, 24, 15, 31, 20, 23, 0, 17, 5, 27, 28, 33, 8, 5, 25, 31, 13, 17, 33, 11, 22, 2, 7, 21, 0, 4, 9, 16, 24, 21, 6, 33, 32, 24, 22, 19, 15, 22, 13, 18, 27, 18, 12, 21, 4, 27, 3, 4, 21, 16, 0, 11, 3, 3, 32, 11, 27, 16, 2, 28, 20, 1, 30, 25, 12, 31, 3, 30, 9, 18, 9, 16, 15, 23, 6, 11, 16, 19, 29, 27, 20, 6, 28, 19, 2, 16, 27, 4, 24, 12, 21, 27, 32, 19, 0, 9, 19, 0, 33, 26, 25, 26, 26, 19, 30, 15, 31, 27, 8, 6, 26, 6, 12, 5, 22, 7, 9, 22, 0, 25, 0, 26, 2, 33, 18, 26, 25, 26, 21, 8, 32, 13, 11, 11, 8, 18, 21, 11, 4, 26, 21, 29, 30, 13, 7, 22, 0, 3, 3, 22, 12, 23, 14, 20, 22, 20, 19, 27, 18, 31, 22, 4, 30, 16, 8, 22, 7, 2, 7, 27, 20, 31, 28, 0, 10, 25, 28, 2, 0, 30, 9, 5, 10, 16, 21, 14, 0, 3, 20, 24, 4, 6, 8, 16, 22, 25, 15, 6, 6, 3, 23, 9, 31, 19, 21, 27, 28, 25, 8, 21, 21, 16, 29, 27, 19, 29, 25, 21, 29, 30, 30, 19, 7, 8, 24, 33, 10, 29, 8, 27, 33, 12, 31, 11, 5, 1, 24, 2, 16, 20, 31, 16, 10, 4, 3, 16, 3, 33, 30, 11, 22, 18, 30, 3, 5, 9, 2, 3, 14, 16, 13, 16, 3, 28, 21, 11, 30, 15, 15, 14, 16, 17, 4, 0, 11, 16, 17, 18, 8, 19, 11, 16, 4, 28, 28, 18, 13, 12, 23, 16, 21, 10, 2, 3, 19, 27, 6, 23, 14, 12, 16, 5, 17, 16, 28, 33, 15, 17, 1, 8, 27, 26, 25, 8, 16, 4, 16, 16, 12, 3, 31, 9, 0, 25, 23, 16, 3, 28, 29, 4, 27, 18, 24, 5, 4, 11, 33, 33, 15, 33, 0, 28, 10, 5, 2, 30, 26, 32, 5, 2, 1, 4, 20, 18, 29, 26, 27, 2, 15, 7, 29, 26, 31, 4, 18, 21, 12, 23, 23, 12, 4, 13, 25, 7, 29, 5, 13, 23, 22, 31, 20, 33, 24, 33, 13, 4, 24, 17, 10, 21, 16, 33, 9, 24, 30, 8, 14, 23, 0, 21, 7, 9, 9, 19, 10, 23, 27, 21, 7, 9, 26, 19, 14, 22, 10, 33, 23, 10, 3, 14, 22, 15, 18, 16, 11, 26, 24, 21, 31, 23, 29, 7, 16, 8, 26, 26, 24, 0, 10, 5, 16, 30, 28, 6, 2, 9, 24, 19, 8, 16, 12, 9, 31, 22, 29, 18, 9, 32, 33, 7, 33, 15, 19, 2, 12, 2, 18, 20, 26, 9, 28, 22, 28, 16, 6, 17, 23, 24, 22, 1, 26, 18, 26, 10, 10, 11, 6, 25, 9, 23, 7, 21, 26, 28, 15, 14, 17, 5, 17, 19, 30, 5, 31, 21, 23, 31, 20, 2, 16, 8, 30, 21, 24, 15, 22, 11, 17, 25, 16, 13, 14, 0, 21, 19, 24, 8, 29, 17, 9, 3, 12, 0, 29, 30, 2, 7, 16, 33, 10, 9, 6, 0, 1, 10, 10, 0, 24, 0, 10, 10, 26, 13, 33, 23, 17, 3, 27, 28, 2, 21, 8, 26, 1, 18, 29, 5, 0, 10, 16, 5, 23, 13, 24, 28, 23, 14, 9, 33, 6, 22, 6, 24, 27, 18, 21, 7, 13, 7, 16, 11, 0, 32, 31, 22, 5, 0, 32, 32, 33, 1, 8, 4, 19, 14, 30, 9, 4, 29, 27, 31, 30, 2, 30, 23, 31, 14, 9, 28, 5, 7, 8, 2, 26, 26, 30, 11, 7, 11, 16, 14, 6, 29, 27, 10, 27, 13, 30, 22, 27, 6, 7, 20, 32, 32, 15, 27, 5, 11, 11, 2, 16, 17, 14, 32, 18, 26, 30, 30, 15, 30, 11, 27, 8, 20, 4, 30, 21, 17, 23, 23, 1, 33, 32, 16, 16, 25, 3, 27, 13, 10, 10, 16, 4, 21, 20, 17, 3, 1, 24, 19, 9, 6, 24, 0, 17, 9, 16, 30, 20, 6, 24, 24, 32, 16, 11, 14, 14, 28, 13, 22, 33, 9, 22, 15, 8, 2, 12, 13, 9, 16, 7, 22, 3, 1, 25, 22, 31, 6, 15, 9, 23, 24, 5, 22, 32, 25, 10, 9, 20, 25, 14, 10, 18, 13, 3, 18, 15, 6, 33, 19, 3, 24, 0, 16, 13, 11, 23, 9, 19, 12, 23, 29, 1, 18, 22, 28, 6, 15, 15, 18, 33, 28, 25, 6, 29, 9, 32, 17, 22, 29, 27, 21, 6, 3, 21, 17, 15, 23, 5, 13, 5, 23, 7, 8, 13, 12, 27, 19, 6, 27, 10, 0, 0, 30, 26, 18, 26, 12, 32, 22, 16, 0, 16, 29, 23, 11, 11, 29, 17, 28, 7, 31, 12, 1, 26, 5, 4, 3, 20, 4, 21, 31, 20, 2, 13, 16, 29, 23, 10, 4, 24, 8, 9, 25, 12, 27, 7, 26, 26, 31, 14, 0, 7, 20, 14, 21, 28, 33, 10, 10, 6, 24, 25, 33, 19, 0, 13, 12, 8, 26, 7, 10, 18, 3, 18, 7, 16, 17, 8, 15, 23, 24, 20, 28, 6, 19, 19, 18, 23, 25, 13, 22, 10, 0, 31, 1, 17, 31, 3, 27, 26, 11, 10, 25, 13, 8, 1, 30, 17, 23, 16, 4, 33, 16, 18, 16, 31, 32, 22, 5, 9, 11, 12, 6, 16, 3, 23, 16, 19, 32, 1, 13, 23, 9, 15, 6, 26, 9, 7, 21, 15, 4, 9, 15, 21, 25, 11, 4, 18, 7, 6, 29, 9, 10, 15, 23, 21, 16, 32, 28, 1, 10, 21, 28, 17, 28, 15, 31, 10, 33, 7, 26, 28, 7, 28, 18, 6, 28, 8, 25, 15, 31, 33, 3, 22, 23, 15, 25, 6, 24, 16, 21, 33, 0, 11, 26, 19, 19, 21, 7, 18, 24, 30, 20, 12, 10, 12, 19, 19, 12, 0, 20, 16, 11, 29, 16, 24, 4, 10, 14, 6, 8, 12, 12, 18, 2, 29, 28, 31, 19, 19, 21, 13, 19, 17, 9, 1, 16, 7, 27, 7, 16, 1, 9, 4, 24, 22, 25, 18, 20, 24, 5, 33, 13, 10, 11, 16, 20, 5, 15, 30, 8, 0, 2, 20, 10, 26, 29, 23, 32, 4, 14, 7, 16, 14, 11, 18, 25, 19, 31, 16, 30, 23, 16, 20, 29, 14, 29, 30, 5, 0, 14, 8, 1, 3, 17, 7, 1, 16, 24, 26, 14, 30, 1, 25, 9, 16, 31, 15, 16, 4, 5, 8, 3, 0, 19, 30, 31, 3, 29, 16, 11, 2, 23, 18, 30, 3, 32, 13, 25, 28, 27, 24, 5, 4, 11, 23, 33, 20, 19, 28, 3, 30, 25, 16, 17, 9, 29, 15, 13, 9, 23, 11, 16, 4, 7, 8, 28, 25, 16, 24, 25, 2, 22, 23, 27, 1, 16, 17, 17, 26, 8, 0, 22, 30, 15, 23, 4, 12, 33, 7, 24, 9, 14, 30, 10, 10, 18, 3, 10, 12, 27, 16, 17, 33, 29, 5, 23, 19, 16, 10, 9, 16, 3, 33, 21, 20, 16, 7, 0, 26, 32, 18, 13, 27, 21, 13, 24, 26, 23, 20, 27, 17, 9, 15, 2, 21, 4, 33, 28, 25, 17, 3, 21, 19, 32, 0, 19, 16, 16, 32, 8, 29, 32, 18, 14, 23, 2, 28, 33, 27, 2, 23, 30, 2, 8, 1, 4, 2, 22, 18, 26, 27, 1, 15, 4, 26, 7, 11, 23, 12, 2, 8, 33, 23, 30, 5, 14, 6, 8, 16, 10, 2, 32, 21, 22, 31, 17, 30, 15, 14, 9, 13, 10, 17, 16, 8, 8, 4, 8, 16, 16, 5, 13, 22, 23, 28, 31, 23, 18, 32, 21, 21, 23, 24, 0, 28, 32, 12, 17, 11, 28, 0, 22, 7, 17, 3, 6, 24, 11, 25, 32, 17, 21, 23, 22, 27, 16, 8, 23, 4, 3, 16, 25, 31, 30, 15, 12, 18, 2, 15, 19, 7, 27, 23, 33, 25, 19, 13, 22, 21, 26, 31, 16, 11, 15, 17, 18, 11, 4, 12, 6, 13, 0, 4, 13, 6, 9, 18, 15, 28, 23, 8, 17, 17, 31, 10, 5, 28, 11, 5, 9, 26, 9, 22, 15, 5, 23, 20, 8, 18, 1, 0, 21, 14, 32, 19, 8, 16, 28, 5, 3, 32, 18, 14, 23, 31, 25, 25, 30, 8, 3, 26, 16, 23, 7, 18, 20, 0, 20, 16, 9, 14, 18, 6, 8, 8, 27, 6, 13, 23, 21, 27, 10, 32, 25, 14, 10, 20, 11, 21, 18, 15, 3, 20, 23, 25, 25, 19, 19, 30, 22, 33, 17, 25, 20, 8, 4, 27, 31, 21, 15, 18, 15, 33, 1, 25, 17, 20, 10, 10, 24, 27, 19, 14, 32, 8, 26, 21, 9, 3, 8, 2, 9, 21, 12, 16, 23, 33, 24, 21, 19, 13, 29, 33, 18, 29, 16, 4, 8, 16, 16, 0, 32, 29, 13, 27, 3, 11, 2, 22, 15, 33, 17, 3, 16, 25, 27, 9, 19, 29, 16, 31, 28, 28, 30, 14, 16, 24, 19, 25, 23, 31, 20, 10, 6, 15, 17, 15]\n",
            "[16, 16, 16, 16, 16, 16, 16, 16, 16, 16, 16, 16, 16, 16, 16, 16, 16, 16, 16, 16, 16, 16, 16, 16, 16, 16, 16, 16, 16, 16, 16, 16, 16, 16, 16, 16, 16, 16, 16, 16, 16, 16, 16, 16, 16, 16, 16, 16, 16, 16, 16, 16, 16, 16, 16, 16, 16, 16, 16, 16, 16, 16, 16, 16, 16, 16, 16, 16, 16, 16, 16, 16, 16, 16, 16, 16, 16, 16, 16, 16, 16, 16, 16, 16, 16, 16, 16, 16, 16, 16, 16, 16, 16, 16, 16, 16, 16, 16, 16, 16, 16, 16, 16, 16, 16, 16, 16, 16, 16, 16, 16, 16, 16, 16, 16, 16, 16, 16, 16, 16, 16, 16, 16, 16, 16, 16, 16, 16, 16, 16, 16, 16, 16, 16, 16, 16, 16, 16, 16, 16, 16, 16, 16, 16, 16, 16, 16, 16, 16, 16, 16, 16, 16, 16, 16, 16, 16, 16, 16, 16, 16, 16, 16, 16, 16, 16, 16, 16, 16, 16, 16, 16, 16, 16, 16, 16, 16, 16, 16, 16, 16, 16, 16, 16, 16, 16, 16, 16, 16, 16, 16, 16, 16, 16, 16, 16, 16, 16, 16, 16, 16, 16, 16, 16, 16, 16, 16, 16, 16, 16, 16, 16, 16, 16, 16, 16, 16, 16, 16, 16, 16, 16, 16, 16, 16, 16, 16, 16, 16, 16, 16, 16, 16, 16, 16, 16, 16, 16, 16, 16, 16, 16, 16, 16, 16, 16, 16, 16, 16, 16, 16, 16, 16, 16, 16, 16, 16, 16, 16, 16, 16, 16, 16, 16, 16, 16, 16, 16, 16, 16, 16, 16, 16, 16, 16, 16, 16, 16, 16, 16, 16, 16, 16, 16, 16, 16, 16, 16, 16, 16, 16, 16, 16, 16, 16, 16, 16, 16, 16, 16, 16, 16, 16, 16, 16, 16, 16, 16, 16, 16, 16, 16, 16, 16, 16, 16, 16, 16, 16, 16, 16, 16, 16, 16, 16, 16, 16, 16, 16, 16, 16, 16, 16, 16, 16, 16, 16, 16, 16, 16, 16, 16, 16, 16, 16, 16, 16, 16, 16, 16, 16, 16, 16, 16, 16, 16, 16, 16, 16, 16, 16, 16, 16, 16, 16, 16, 16, 16, 16, 16, 16, 16, 16, 16, 16, 16, 16, 16, 16, 16, 16, 16, 16, 16, 16, 16, 16, 16, 16, 16, 16, 16, 16, 16, 16, 16, 16, 16, 16, 16, 16, 16, 16, 16, 16, 16, 16, 16, 16, 16, 16, 16, 16, 16, 16, 16, 16, 16, 16, 16, 16, 16, 16, 16, 16, 16, 16, 16, 16, 16, 16, 16, 16, 16, 16, 16, 16, 16, 16, 16, 16, 16, 16, 16, 16, 16, 16, 16, 16, 16, 16, 16, 16, 16, 16, 16, 16, 16, 16, 16, 16, 16, 16, 16, 16, 16, 16, 16, 16, 16, 16, 16, 16, 16, 16, 16, 16, 16, 16, 16, 16, 16, 16, 16, 16, 16, 16, 16, 16, 16, 16, 16, 16, 16, 16, 16, 16, 16, 16, 16, 16, 16, 16, 16, 16, 16, 16, 16, 16, 16, 16, 16, 16, 16, 16, 16, 16, 16, 16, 16, 16, 16, 16, 16, 16, 16, 16, 16, 16, 16, 16, 16, 16, 16, 16, 16, 16, 16, 16, 16, 16, 16, 16, 16, 16, 16, 16, 16, 16, 16, 16, 16, 16, 16, 16, 16, 16, 16, 16, 16, 16, 16, 16, 16, 16, 16, 16, 16, 16, 16, 16, 16, 16, 16, 16, 16, 16, 16, 16, 16, 16, 16, 16, 16, 16, 16, 16, 16, 16, 16, 16, 16, 16, 16, 16, 16, 16, 16, 16, 16, 16, 16, 16, 16, 16, 16, 16, 16, 16, 16, 16, 16, 16, 16, 16, 16, 16, 16, 16, 16, 16, 16, 16, 16, 16, 16, 16, 16, 16, 16, 16, 16, 16, 16, 16, 16, 16, 16, 16, 16, 16, 16, 16, 16, 16, 16, 16, 16, 16, 16, 16, 16, 16, 16, 16, 16, 16, 16, 16, 16, 16, 16, 16, 16, 16, 16, 16, 16, 16, 16, 16, 16, 16, 16, 16, 16, 16, 16, 16, 16, 16, 16, 16, 16, 16, 16, 16, 16, 16, 16, 16, 16, 16, 16, 16, 16, 16, 16, 16, 16, 16, 16, 16, 16, 16, 16, 16, 16, 16, 16, 16, 16, 16, 16, 16, 16, 16, 16, 16, 16, 16, 16, 16, 16, 16, 16, 16, 16, 16, 16, 16, 16, 16, 16, 16, 16, 16, 16, 16, 16, 16, 16, 16, 16, 16, 16, 16, 16, 16, 16, 16, 16, 16, 16, 16, 16, 16, 16, 16, 16, 16, 16, 16, 16, 16, 16, 16, 16, 16, 16, 16, 16, 16, 16, 16, 16, 16, 16, 16, 16, 16, 16, 16, 16, 16, 16, 16, 16, 16, 16, 16, 16, 16, 16, 16, 16, 16, 16, 16, 16, 16, 16, 16, 16, 16, 16, 16, 16, 16, 16, 16, 16, 16, 16, 16, 16, 16, 16, 16, 16, 16, 16, 16, 16, 16, 16, 16, 16, 16, 16, 16, 16, 16, 16, 16, 16, 16, 16, 16, 16, 16, 16, 16, 16, 16, 16, 16, 16, 16, 16, 16, 16, 16, 16, 16, 16, 16, 16, 16, 16, 16, 16, 16, 16, 16, 16, 16, 16, 16, 16, 16, 16, 16, 16, 16, 16, 16, 16, 16, 16, 16, 16, 16, 16, 16, 16, 16, 16, 16, 16, 16, 16, 16, 16, 16, 16, 16, 16, 16, 16, 16, 16, 16, 16, 16, 16, 16, 16, 16, 16, 16, 16, 16, 16, 16, 16, 16, 16, 16, 16, 16, 16, 16, 16, 16, 16, 16, 16, 16, 16, 16, 16, 16, 16, 16, 16, 16, 16, 16, 16, 16, 16, 16, 16, 16, 16, 16, 16, 16, 16, 16, 16, 16, 16, 16, 16, 16, 16, 16, 16, 16, 16, 16, 16, 16, 16, 16, 16, 16, 16, 16, 16, 16, 16, 16, 16, 16, 16, 16, 16, 16, 16, 16, 16, 16, 16, 16, 16, 16, 16, 16, 16, 16, 16, 16, 16, 16, 16, 16, 16, 16, 16, 16, 16, 16, 16, 16, 16, 16, 16, 16, 16, 16, 16, 16, 16, 16, 16, 16, 16, 16, 16, 16, 16, 16, 16, 16, 16, 16, 16, 16, 16, 16, 16, 16, 16, 16, 16, 16, 16, 16, 16, 16, 16, 16, 16, 16, 16, 16, 16, 16, 16, 16, 16, 16, 16, 16, 16, 16, 16, 16, 16, 16, 16, 16, 16, 16, 16, 16, 16, 16, 16, 16, 16, 16, 16, 16, 16, 16, 16, 16, 16, 16, 16, 16, 16, 16, 16, 16, 16, 16, 16, 16, 16, 16, 16, 16, 16, 16, 16, 16, 16, 16, 16, 16, 16, 16, 16, 16, 16, 16, 16, 16, 16, 16, 16, 16, 16, 16, 16, 16, 16, 16, 16, 16, 16, 16, 16, 16, 16, 16, 16, 16, 16, 16, 16, 16, 16, 16, 16, 16, 16, 16, 16, 16, 16, 16, 16, 16, 16, 16, 16, 16, 16, 16, 16, 16, 16, 16, 16, 16, 16, 16, 16, 16, 16, 16, 16, 16, 16, 16, 16, 16, 16, 16, 16, 16, 16, 16, 16, 16, 16, 16, 16, 16, 16, 16, 16, 16, 16, 16, 16, 16, 16, 16, 16, 16, 16, 16, 16, 16, 16, 16, 16, 16, 16, 16, 16, 16, 16, 16, 16, 16, 16, 16, 16, 16, 16, 16, 16, 16, 16, 16, 16, 16, 16, 16, 16, 16, 16, 16, 16, 16, 16, 16, 16, 16, 16, 16, 16, 16, 16, 16, 16, 16, 16, 16, 16, 16, 16, 16, 16, 16, 16, 16, 16, 16, 16, 16, 16, 16, 16, 16, 16, 16, 16, 16, 16, 16, 16, 16, 16, 16, 16, 16, 16, 16, 16, 16, 16, 16, 16, 16, 16, 16, 16, 16, 16, 16, 16, 16, 16, 16, 16, 16, 16, 16, 16, 16, 16, 16, 16, 16, 16, 16, 16, 16, 16, 16, 16, 16, 16, 16, 16, 16, 16, 16, 16, 16, 16, 16, 16, 16, 16, 16, 16, 16, 16, 16, 16, 16, 16, 16, 16, 16, 16, 16, 16, 16, 16, 16, 16, 16, 16, 16, 16, 16, 16, 16, 16, 16, 16, 16, 16, 16, 16, 16, 16, 16, 16, 16, 16, 16, 16, 16, 16, 16, 16, 16, 16, 16, 16, 16, 16, 16, 16, 16, 16, 16, 16, 16, 16, 16, 16, 16, 16, 16, 16, 16, 16, 16, 16, 16, 16, 16, 16, 16, 16, 16, 16, 16, 16, 16, 16, 16, 16, 16, 16, 16, 16, 16, 16, 16, 16, 16, 16, 16, 16, 16, 16, 16, 16, 16, 16, 16, 16, 16, 16, 16, 16, 16, 16, 16, 16, 16, 16, 16, 16, 16, 16, 16, 16, 16, 16, 16, 16, 16, 16, 16, 16, 16, 16, 16, 16, 16, 16, 16, 16, 16, 16, 16, 16, 16, 16, 16, 16, 16, 16, 16, 16, 16, 16, 16, 16, 16, 16, 16, 16, 16, 16, 16, 16, 16, 16, 16, 16, 16, 16, 16, 16, 16, 16, 16, 16, 16, 16, 16, 16, 16, 16, 16, 16, 16, 16, 16, 16, 16, 16, 16, 16, 16, 16, 16, 16, 16, 16, 16, 16, 16, 16, 16, 16, 16, 16, 16, 16, 16, 16, 16, 16, 16, 16, 16, 16, 16, 16, 16, 16, 16, 16, 16, 16, 16, 16, 16, 16, 16, 16, 16, 16, 16, 16, 16, 16, 16, 16, 16, 16, 16, 16, 16, 16, 16, 16, 16, 16, 16, 16, 16, 16, 16, 16, 16, 16, 16, 16, 16, 16, 16, 16, 16, 16, 16, 16, 16, 16, 16, 16, 16, 16, 16, 16, 16, 16, 16, 16, 16, 16, 16, 16, 16, 16, 16, 16, 16, 16, 16, 16, 16, 16, 16, 16, 16, 16, 16, 16, 16, 16, 16, 16, 16, 16, 16, 16, 16, 16, 16, 16, 16, 16, 16, 16, 16, 16, 16, 16, 16, 16, 16, 16, 16, 16, 16, 16, 16, 16, 16, 16, 16, 16, 16, 16, 16, 16, 16, 16, 16, 16, 16, 16, 16, 16, 16, 16, 16, 16, 16, 16, 16, 16, 16, 16, 16, 16, 16, 16, 16, 16, 16, 16, 16, 16, 16, 16, 16, 16, 16, 16, 16, 16, 16, 16, 16, 16, 16, 16, 16, 16, 16, 16, 16, 16, 16, 16, 16, 16, 16, 16, 16, 16, 16, 16, 16, 16, 16, 16, 16, 16, 16, 16, 16, 16, 16, 16, 16, 16, 16, 16, 16, 16, 16, 16, 16, 16, 16, 16, 16, 16, 16, 16, 16, 16, 16, 16, 16, 16, 16, 16, 16, 16, 16, 16, 16, 16, 16, 16, 16, 16, 16, 16, 16, 16, 16, 16, 16, 16, 16, 16, 16, 16, 16, 16, 16, 16, 16, 16, 16, 16, 16, 16, 16, 16, 16, 16, 16, 16, 16, 16, 16, 16, 16, 16, 16, 16, 16, 16, 16, 16, 16, 16, 16, 16, 16, 16, 16, 16, 16, 16, 16, 16, 16, 16, 16, 16, 16, 16, 16, 16, 16, 16, 16, 16, 16, 16, 16, 16, 16, 16, 16, 16, 16, 16, 16, 16, 16, 16, 16, 16, 16, 16, 16, 16, 16, 16, 16, 16, 16, 16, 16, 16, 16, 16, 16, 16, 16, 16, 16, 16, 16, 16, 16, 16, 16, 16, 16, 16, 16, 16, 16, 16, 16, 16, 16, 16, 16, 16, 16, 16, 16, 16, 16, 16, 16, 16, 16, 16, 16, 16, 16, 16, 16, 16, 16, 16, 16, 16, 16, 16, 16, 16, 16, 16, 16, 16, 16, 16, 16, 16, 16, 16, 16, 16, 16, 16, 16, 16, 16, 16, 16, 16, 16, 16, 16, 16, 16, 16, 16, 16, 16, 16, 16, 16, 16, 16, 16, 16, 16, 16, 16, 16, 16, 16, 16, 16, 16, 16, 16, 16, 16, 16, 16, 16, 16, 16, 16, 16, 16, 16, 16, 16, 16, 16, 16, 16, 16, 16, 16, 16, 16, 16, 16, 16, 16, 16, 16, 16, 16, 16, 16, 16, 16, 16, 16, 16, 16, 16, 16, 16, 16, 16, 16, 16, 16, 16, 16, 16, 16, 16, 16, 16, 16, 16, 16, 16, 16, 16, 16, 16, 16, 16, 16, 16, 16, 16, 16, 16, 16, 16, 16, 16, 16, 16, 16, 16, 16, 16, 16, 16, 16, 16, 16, 16, 16, 16, 16, 16, 16, 16, 16, 16, 16, 16, 16, 16, 16, 16, 16, 16, 16, 16, 16, 16, 16, 16, 16, 16, 16, 16, 16, 16, 16, 16, 16, 16, 16, 16, 16, 16, 16, 16, 16, 16, 16, 16, 16, 16, 16, 16, 16, 16, 16, 16, 16, 16, 16, 16, 16, 16, 16, 16, 16, 16, 16, 16, 16, 16, 16, 16, 16, 16, 16, 16, 16, 16, 16, 16, 16, 16, 16, 16, 16, 16, 16, 16, 16, 16, 16, 16, 16, 16, 16, 16, 16, 16, 16, 16, 16, 16, 16, 16, 16, 16, 16, 16, 16, 16, 16, 16, 16, 16, 16, 16, 16, 16, 16, 16, 16, 16, 16, 16, 16, 16, 16, 16, 16, 16, 16, 16, 16, 16, 16, 16, 16, 16, 16, 16, 16, 16, 16, 16, 16, 16, 16, 16, 16, 16, 16, 16, 16, 16, 16, 16, 16, 16, 16, 16, 16, 16, 16, 16, 16, 16, 16, 16, 16, 16, 16, 16, 16, 16, 16, 16, 16, 16, 16, 16, 16, 16, 16, 16, 16, 16, 16, 16, 16, 16, 16, 16, 16, 16, 16, 16, 16, 16, 16, 16, 16, 16, 16, 16, 16, 16, 16, 16, 16, 16, 16, 16, 16, 16, 16, 16, 16, 16, 16, 16, 16, 16, 16, 16, 16, 16, 16, 16, 16, 16, 16, 16, 16, 16, 16, 16, 16, 16, 16, 16, 16, 16, 16, 16, 16, 16, 16, 16, 16, 16, 16, 16, 16, 16, 16, 16, 16, 16, 16, 16, 16, 16, 16, 16, 16, 16, 16, 16, 16, 16, 16, 16, 16, 16, 16, 16, 16, 16, 16, 16, 16, 16, 16, 16, 16, 16, 16, 16, 16, 16, 16, 16, 16, 16, 16, 16, 16, 16, 16, 16, 16, 16, 16, 16, 16, 16, 16, 16, 16, 16, 16, 16, 16, 16, 16, 16, 16, 16, 16, 16, 16, 16, 16, 16, 16, 16, 16, 16, 16, 16, 16, 16, 16, 16, 16, 16, 16, 16, 16, 16, 16, 16, 16, 16, 16, 16, 16, 16, 16, 16, 16, 16, 16, 16, 16, 16, 16, 16, 16, 16, 16, 16, 16, 16, 16, 16, 16, 16, 16, 16, 16, 16, 16, 16, 16, 16, 16, 16, 16, 16, 16, 16, 16, 16, 16, 16, 16, 16, 16, 16, 16, 16, 16, 16, 16, 16, 16, 16, 16, 16, 16, 16, 16, 16, 16, 16, 16, 16, 16, 16, 16, 16, 16, 16, 16, 16, 16, 16, 16, 16, 16, 16, 16, 16, 16, 16, 16, 16, 16, 16, 16, 16, 16, 16, 16, 16, 16, 16, 16, 16, 16, 16, 16, 16, 16, 16, 16, 16, 16, 16, 16, 16, 16, 16, 16, 16, 16, 16, 16, 16, 16, 16, 16, 16, 16, 16, 16, 16, 16, 16, 16, 16, 16, 16, 16, 16, 16, 16, 16, 16, 16, 16, 16, 16, 16, 16, 16, 16, 16, 16, 16, 16, 16, 16, 16, 16, 16, 16, 16, 16, 16, 16, 16, 16, 16, 16, 16, 16, 16, 16, 16, 16, 16, 16, 16, 16, 16, 16, 16, 16, 16, 16, 16, 16, 16, 16, 16, 16, 16, 16, 16, 16, 16, 16, 16, 16, 16, 16, 16, 16, 16, 16, 16, 16, 16, 16, 16, 16, 16, 16, 16, 16, 16, 16, 16, 16, 16, 16, 16, 16, 16, 16, 16, 16, 16, 16, 16, 16, 16, 16, 16, 16, 16, 16, 16, 16, 16, 16, 16, 16, 16, 16, 16, 16, 16, 16, 16, 16, 16, 16, 16, 16, 16, 16, 16, 16, 16, 16, 16, 16, 16, 16, 16, 16, 16, 16, 16, 16, 16, 16, 16, 16, 16, 16, 16, 16, 16, 16, 16, 16, 16, 16, 16, 16, 16, 16, 16, 16, 16, 16, 16, 16, 16, 16, 16, 16, 16, 16, 16, 16, 16, 16, 16, 16, 16, 16, 16, 16, 16, 16, 16, 16, 16, 16, 16, 16, 16, 16, 16, 16, 16, 16, 16, 16, 16, 16, 16, 16, 16, 16, 16, 16, 16, 16, 16, 16, 16, 16, 16, 16, 16, 16, 16, 16, 16, 16, 16, 16, 16, 16, 16, 16, 16, 16, 16, 16, 16, 16, 16, 16, 16, 16, 16, 16, 16, 16, 16, 16, 16, 16, 16, 16, 16, 16, 16, 16, 16, 16, 16, 16, 16, 16, 16, 16, 16, 16, 16, 16, 16, 16, 16, 16, 16, 16, 16, 16, 16, 16, 16, 16, 16, 16, 16, 16, 16, 16, 16, 16, 16, 16, 16, 16, 16, 16, 16, 16, 16, 16, 16, 16, 16, 16, 16, 16, 16, 16, 16, 16, 16, 16, 16, 16, 16, 16, 16, 16, 16, 16, 16, 16, 16, 16, 16, 16, 16, 16, 16, 16, 16, 16, 16, 16, 16, 16, 16, 16, 16, 16, 16, 16, 16, 16, 16, 16, 16, 16, 16, 16, 16, 16, 16, 16, 16, 16, 16, 16, 16, 16, 16, 16, 16, 16, 16, 16, 16, 16, 16, 16, 16, 16, 16, 16, 16, 16, 16, 16, 16, 16, 16, 16, 16, 16, 16, 16, 16, 16, 16, 16, 16, 16, 16, 16, 16, 16, 16, 16, 16, 16, 16, 16, 16, 16, 16, 16, 16, 16, 16, 16, 16, 16, 16, 16, 16, 16, 16, 16, 16, 16, 16, 16, 16, 16, 16, 16, 16, 16, 16, 16, 16, 16, 16, 16, 16, 16, 16, 16, 16, 16, 16, 16, 16, 16, 16, 16, 16, 16, 16, 16, 16, 16, 16, 16, 16, 16, 16, 16, 16, 16, 16, 16, 16, 16, 16, 16, 16, 16, 16, 16, 16, 16, 16, 16, 16, 16, 16, 16, 16, 16, 16, 16, 16, 16, 16, 16, 16, 16, 16, 16, 16, 16, 16, 16, 16, 16, 16, 16, 16, 16, 16, 16, 16, 16, 16, 16, 16, 16, 16, 16, 16, 16, 16, 16, 16, 16, 16, 16, 16, 16, 16, 16, 16, 16, 16, 16, 16, 16, 16, 16, 16, 16, 16, 16, 16, 16, 16, 16, 16, 16, 16, 16, 16, 16, 16, 16, 16, 16, 16, 16, 16, 16, 16, 16, 16, 16, 16, 16, 16, 16, 16, 16, 16, 16, 16, 16, 16, 16, 16, 16, 16, 16, 16, 16, 16, 16, 16, 16, 16, 16, 16, 16, 16, 16, 16, 16, 16, 16, 16, 16, 16, 16, 16, 16, 16, 16, 16, 16, 16, 16, 16, 16, 16, 16, 16, 16, 16, 16, 16, 16, 16, 16, 16, 16, 16, 16, 16, 16, 16, 16, 16, 16, 16, 16, 16, 16, 16, 16, 16, 16, 16, 16, 16, 16, 16, 16, 16, 16, 16, 16, 16, 16, 16, 16, 16, 16, 16, 16, 16, 16, 16, 16, 16, 16, 16, 16, 16, 16, 16, 16, 16, 16, 16, 16, 16, 16, 16, 16, 16, 16, 16, 16, 16, 16, 16, 16, 16, 16, 16, 16, 16, 16, 16, 16, 16, 16, 16, 16, 16, 16, 16, 16, 16, 16, 16, 16, 16, 16, 16, 16, 16, 16, 16, 16, 16, 16, 16, 16, 16, 16, 16, 16, 16, 16, 16, 16, 16, 16, 16, 16, 16, 16, 16, 16, 16, 16, 16, 16, 16, 16, 16, 16, 16, 16, 16, 16, 16, 16, 16, 16, 16, 16, 16, 16, 16, 16, 16, 16, 16, 16, 16, 16, 16, 16, 16, 16, 16, 16, 16, 16, 16, 16, 16, 16, 16, 16, 16, 16, 16, 16, 16, 16, 16, 16, 16, 16, 16, 16, 16, 16, 16, 16, 16, 16, 16, 16, 16, 16, 16, 16, 16, 16, 16, 16, 16, 16, 16, 16, 16, 16, 16, 16, 16, 16, 16, 16, 16, 16, 16, 16, 16, 16, 16, 16, 16, 16, 16, 16, 16, 16, 16, 16, 16, 16, 16, 16, 16, 16, 16, 16, 16, 16, 16, 16, 16, 16, 16, 16, 16, 16, 16, 16, 16, 16, 16, 16, 16, 16, 16, 16, 16, 16, 16, 16, 16, 16, 16, 16, 16, 16, 16, 16, 16, 16, 16, 16, 16, 16, 16, 16, 16, 16, 16, 16, 16, 16, 16, 16, 16, 16, 16, 16, 16, 16, 16, 16, 16, 16, 16, 16, 16, 16, 16, 16, 16, 16, 16, 16, 16, 16, 16, 16, 16, 16, 16, 16, 16, 16, 16, 16, 16, 16, 16, 16, 16, 16, 16, 16, 16, 16, 16, 16, 16, 16, 16, 16, 16, 16, 16, 16, 16, 16, 16, 16, 16, 16, 16, 16, 16, 16, 16, 16, 16, 16, 16, 16, 16, 16, 16, 16, 16, 16, 16, 16, 16, 16, 16, 16, 16, 16, 16, 16, 16, 16, 16, 16, 16, 16, 16, 16, 16, 16, 16, 16, 16, 16, 16, 16, 16, 16, 16, 16, 16, 16, 16, 16, 16, 16, 16, 16, 16, 16, 16, 16, 16, 16, 16, 16, 16, 16, 16, 16, 16, 16, 16, 16, 16, 16, 16, 16, 16, 16, 16, 16, 16, 16, 16, 16, 16, 16, 16, 16, 16, 16, 16, 16, 16, 16, 16, 16, 16, 16, 16, 16, 16, 16, 16, 16, 16, 16, 16, 16, 16, 16, 16, 16, 16, 16, 16, 16, 16, 16, 16, 16, 16, 16, 16, 16, 16, 16, 16, 16, 16, 16, 16, 16, 16, 16, 16, 16, 16, 16, 16, 16, 16, 16, 16, 16, 16, 16, 16, 16, 16, 16, 16, 16, 16, 16, 16, 16, 16, 16, 16, 16, 16, 16, 16, 16, 16, 16, 16, 16, 16, 16, 16, 16, 16, 16, 16, 16, 16, 16, 16, 16, 16, 16, 16, 16, 16, 16, 16, 16, 16, 16, 16, 16, 16, 16, 16, 16, 16, 16, 16, 16, 16, 16, 16, 16, 16, 16, 16, 16, 16, 16, 16, 16, 16, 16, 16, 16, 16, 16, 16, 16, 16, 16, 16, 16, 16, 16, 16, 16, 16, 16, 16, 16, 16, 16, 16, 16, 16, 16, 16, 16, 16, 16, 16, 16, 16, 16, 16, 16, 16, 16, 16, 16, 16, 16, 16, 16, 16, 16, 16, 16, 16, 16, 16, 16, 16, 16, 16, 16, 16, 16, 16, 16, 16, 16, 16, 16, 16, 16, 16, 16, 16, 16, 16, 16, 16, 16, 16, 16, 16, 16, 16, 16, 16, 16, 16, 16, 16, 16, 16, 16, 16, 16, 16, 16, 16, 16, 16, 16, 16, 16, 16, 16, 16, 16, 16, 16, 16, 16, 16, 16, 16, 16, 16, 16, 16, 16, 16, 16, 16, 16, 16, 16, 16, 16, 16, 16, 16, 16, 16, 16, 16, 16, 16, 16, 16, 16, 16, 16, 16, 16, 16, 16, 16, 16, 16, 16, 16, 16, 16, 16, 16, 16, 16, 16, 16, 16, 16, 16, 16, 16, 16, 16, 16, 16, 16, 16, 16, 16, 16, 16, 16, 16, 16, 16, 16, 16, 16, 16, 16, 16, 16, 16, 16, 16, 16, 16, 16, 16, 16, 16, 16, 16, 16, 16, 16, 16, 16, 16, 16, 16, 16, 16, 16, 16, 16, 16, 16, 16, 16, 16, 16, 16, 16, 16, 16, 16, 16, 16, 16, 16, 16, 16, 16, 16, 16, 16, 16, 16, 16, 16, 16, 16, 16, 16, 16, 16, 16, 16, 16, 16, 16, 16, 16, 16, 16, 16, 16, 16, 16, 16, 16, 16, 16, 16, 16, 16, 16, 16, 16, 16, 16, 16, 16, 16, 16, 16, 16, 16, 16, 16, 16, 16, 16, 16, 16, 16, 16, 16, 16, 16, 16, 16, 16, 16, 16, 16, 16, 16, 16, 16, 16, 16, 16, 16, 16, 16, 16, 16, 16, 16, 16, 16, 16, 16, 16, 16, 16, 16, 16, 16, 16, 16, 16, 16, 16, 16, 16, 16, 16, 16, 16, 16, 16, 16, 16, 16, 16, 16, 16, 16, 16, 16, 16, 16, 16, 16, 16, 16, 16, 16, 16, 16, 16, 16, 16, 16, 16, 16, 16, 16, 16, 16, 16, 16, 16, 16, 16, 16, 16, 16, 16, 16, 16, 16, 16, 16, 16, 16, 16, 16, 16, 16]\n",
            "test cases :  4000\n",
            "wrong cases :  3773\n",
            "\n",
            "Model accuracy score with default hyperparameters: 5.6750\n",
            "\n",
            "#-------------Decision Tree-----------------#\n",
            "Without feature Selection : \n",
            "[18, 6, 11, 14, 0, 20, 23, 27, 10, 16, 8, 24, 14, 21, 32, 16, 18, 17, 7, 21, 16, 21, 26, 31, 19, 30, 29, 22, 30, 11, 22, 4, 20, 1, 21, 16, 17, 7, 21, 15, 17, 22, 8, 16, 30, 2, 32, 16, 19, 21, 3, 23, 5, 28, 5, 18, 30, 10, 26, 19, 19, 23, 12, 7, 18, 31, 32, 16, 8, 4, 17, 24, 33, 1, 20, 23, 29, 25, 30, 4, 28, 32, 28, 15, 32, 24, 2, 15, 9, 32, 11, 1, 33, 14, 7, 14, 25, 21, 25, 22, 30, 9, 6, 22, 31, 1, 31, 27, 28, 21, 28, 20, 25, 1, 23, 20, 19, 29, 31, 30, 1, 8, 22, 7, 6, 18, 21, 13, 2, 27, 18, 17, 26, 32, 13, 14, 11, 22, 10, 4, 23, 29, 24, 29, 7, 24, 12, 5, 7, 21, 16, 26, 19, 27, 2, 6, 7, 4, 18, 27, 14, 21, 19, 11, 33, 30, 16, 31, 31, 6, 15, 1, 7, 27, 0, 1, 12, 26, 29, 33, 8, 27, 28, 32, 12, 10, 17, 17, 5, 2, 16, 16, 20, 16, 18, 19, 10, 7, 15, 26, 15, 3, 3, 10, 31, 21, 28, 22, 6, 4, 20, 2, 33, 13, 31, 20, 12, 5, 2, 4, 18, 5, 10, 23, 25, 20, 20, 30, 9, 30, 13, 33, 31, 3, 31, 5, 3, 20, 27, 25, 17, 19, 21, 15, 23, 15, 15, 3, 2, 27, 30, 0, 25, 30, 5, 10, 11, 23, 14, 21, 18, 21, 31, 0, 6, 21, 6, 28, 28, 9, 29, 3, 10, 32, 33, 20, 12, 5, 26, 12, 16, 17, 16, 16, 22, 14, 23, 22, 27, 23, 13, 6, 9, 5, 17, 11, 21, 13, 27, 21, 25, 6, 30, 19, 5, 12, 9, 25, 14, 20, 11, 21, 25, 15, 33, 17, 15, 18, 3, 24, 17, 28, 14, 28, 8, 2, 24, 3, 31, 11, 16, 31, 31, 28, 15, 30, 3, 29, 11, 4, 10, 3, 18, 11, 21, 16, 10, 11, 29, 14, 5, 6, 22, 17, 10, 30, 22, 3, 29, 22, 8, 1, 1, 1, 27, 23, 13, 7, 29, 5, 15, 20, 3, 28, 8, 27, 28, 22, 17, 3, 1, 9, 16, 22, 25, 9, 0, 22, 4, 14, 33, 13, 27, 22, 16, 17, 14, 8, 28, 22, 10, 26, 25, 2, 1, 20, 26, 6, 23, 4, 1, 22, 15, 18, 31, 10, 29, 0, 16, 2, 0, 22, 6, 19, 25, 11, 16, 12, 18, 28, 8, 30, 16, 17, 31, 13, 6, 27, 9, 4, 13, 28, 26, 5, 3, 0, 6, 11, 13, 22, 6, 14, 16, 27, 17, 15, 9, 24, 33, 28, 1, 9, 26, 28, 2, 9, 9, 28, 14, 26, 10, 33, 33, 8, 26, 20, 16, 5, 3, 28, 12, 21, 24, 3, 7, 6, 2, 4, 17, 14, 7, 29, 7, 11, 21, 16, 13, 3, 20, 20, 30, 33, 30, 7, 30, 29, 8, 8, 9, 5, 14, 23, 14, 17, 29, 21, 24, 5, 8, 16, 17, 16, 33, 23, 9, 13, 28, 23, 5, 22, 6, 27, 8, 7, 3, 27, 28, 28, 27, 29, 28, 0, 16, 17, 18, 23, 23, 29, 33, 32, 31, 25, 13, 12, 21, 9, 12, 7, 16, 11, 20, 19, 16, 15, 3, 32, 28, 27, 18, 1, 11, 23, 16, 24, 29, 9, 14, 5, 13, 1, 17, 8, 24, 25, 14, 6, 8, 10, 18, 22, 6, 8, 30, 6, 6, 17, 28, 28, 13, 30, 6, 18, 11, 30, 19, 6, 25, 19, 23, 17, 15, 15, 8, 14, 27, 12, 20, 33, 25, 11, 15, 16, 16, 22, 29, 32, 6, 16, 12, 7, 3, 4, 21, 27, 28, 33, 9, 9, 22, 31, 32, 4, 26, 16, 4, 20, 30, 23, 4, 13, 29, 12, 18, 30, 20, 32, 6, 16, 10, 3, 1, 8, 14, 4, 30, 12, 13, 10, 4, 13, 26, 17, 22, 16, 2, 4, 15, 24, 1, 23, 23, 9, 12, 8, 22, 15, 24, 14, 28, 22, 16, 12, 25, 4, 21, 0, 25, 13, 3, 29, 12, 0, 2, 0, 20, 27, 14, 12, 16, 0, 30, 23, 23, 7, 17, 30, 21, 14, 24, 27, 21, 33, 9, 22, 16, 31, 7, 21, 0, 21, 6, 9, 17, 26, 3, 22, 7, 15, 5, 8, 8, 16, 12, 26, 19, 24, 30, 10, 5, 16, 6, 2, 24, 7, 30, 4, 30, 22, 23, 11, 3, 27, 16, 28, 4, 31, 5, 9, 16, 16, 4, 2, 3, 3, 21, 7, 22, 14, 15, 8, 29, 18, 9, 28, 27, 1, 14, 18, 14, 8, 17, 16, 20, 22, 13, 18, 33, 28, 15, 23, 16, 22, 12, 16, 18, 16, 1, 29, 12, 1, 29, 5, 26, 10, 17, 23, 26, 3, 2, 24, 22, 32, 17, 33, 12, 6, 7, 26, 24, 13, 2, 0, 10, 15, 14, 7, 22, 17, 17, 28, 33, 0, 26, 27, 9, 10, 3, 24, 12, 25, 16, 14, 19, 12, 20, 14, 5, 9, 30, 25, 31, 11, 10, 6, 21, 1, 16, 31, 8, 4, 31, 27, 16, 27, 28, 29, 13, 15, 29, 21, 32, 21, 14, 1, 4, 24, 0, 21, 15, 6, 0, 6, 18, 18, 2, 26, 33, 18, 28, 20, 27, 15, 9, 6, 11, 21, 15, 22, 5, 1, 10, 18, 12, 22, 15, 33, 33, 16, 27, 10, 1, 8, 30, 20, 21, 20, 3, 22, 19, 15, 18, 1, 25, 13, 25, 1, 25, 29, 29, 33, 20, 15, 19, 8, 14, 24, 18, 22, 24, 6, 28, 13, 16, 21, 17, 11, 19, 28, 32, 28, 24, 31, 11, 19, 4, 32, 0, 4, 14, 18, 27, 14, 0, 8, 19, 21, 8, 18, 1, 9, 5, 9, 24, 33, 16, 18, 19, 30, 8, 31, 21, 1, 24, 13, 16, 19, 5, 33, 32, 31, 21, 10, 10, 20, 5, 29, 18, 18, 24, 20, 29, 0, 10, 5, 17, 29, 19, 6, 19, 23, 32, 8, 27, 2, 8, 12, 4, 6, 14, 33, 3, 6, 17, 5, 31, 29, 33, 19, 24, 27, 3, 32, 4, 1, 13, 15, 9, 12, 20, 20, 5, 22, 6, 8, 11, 15, 22, 16, 13, 5, 21, 11, 0, 14, 27, 18, 1, 25, 25, 32, 8, 2, 15, 12, 0, 16, 17, 30, 32, 8, 12, 23, 3, 29, 27, 26, 15, 16, 14, 27, 11, 9, 0, 23, 6, 22, 4, 5, 22, 3, 10, 7, 32, 3, 1, 10, 30, 29, 12, 31, 18, 18, 30, 20, 24, 4, 7, 9, 18, 6, 17, 19, 16, 10, 13, 20, 13, 18, 22, 9, 5, 33, 22, 27, 21, 16, 22, 13, 8, 23, 13, 10, 28, 19, 10, 30, 0, 16, 31, 24, 5, 15, 20, 19, 22, 11, 30, 32, 3, 7, 3, 25, 2, 1, 12, 15, 4, 26, 12, 24, 14, 2, 7, 28, 24, 15, 18, 1, 10, 29, 15, 33, 13, 23, 29, 16, 11, 9, 28, 13, 2, 1, 13, 18, 19, 9, 8, 1, 20, 15, 13, 9, 9, 7, 13, 28, 10, 20, 10, 28, 9, 6, 1, 9, 11, 9, 33, 2, 21, 22, 31, 24, 25, 1, 18, 18, 8, 2, 24, 10, 30, 14, 17, 2, 18, 20, 4, 27, 24, 8, 8, 14, 18, 18, 6, 14, 20, 16, 22, 8, 24, 17, 5, 5, 23, 8, 8, 6, 20, 30, 16, 21, 5, 19, 9, 21, 29, 9, 18, 25, 9, 10, 9, 26, 9, 17, 20, 13, 14, 13, 5, 28, 4, 9, 16, 1, 16, 15, 28, 27, 6, 7, 12, 9, 11, 8, 26, 15, 33, 12, 6, 3, 21, 28, 17, 6, 18, 25, 6, 4, 31, 16, 15, 17, 28, 19, 3, 27, 26, 33, 14, 8, 20, 2, 5, 21, 9, 18, 10, 1, 18, 32, 16, 24, 29, 15, 18, 15, 18, 23, 14, 28, 33, 2, 5, 16, 8, 0, 30, 2, 13, 32, 20, 10, 25, 2, 1, 16, 8, 9, 23, 4, 13, 0, 31, 7, 6, 11, 10, 16, 12, 31, 10, 27, 3, 18, 9, 12, 1, 32, 7, 28, 15, 30, 2, 23, 17, 14, 30, 17, 31, 6, 31, 23, 30, 16, 15, 3, 2, 25, 5, 21, 33, 5, 19, 9, 32, 19, 24, 14, 22, 7, 16, 4, 15, 3, 19, 10, 20, 22, 9, 3, 27, 2, 3, 6, 31, 7, 12, 16, 6, 21, 16, 19, 31, 30, 32, 33, 2, 11, 15, 12, 20, 14, 28, 11, 31, 26, 10, 0, 8, 2, 21, 17, 25, 8, 13, 3, 28, 32, 1, 10, 11, 9, 13, 21, 28, 11, 31, 7, 24, 11, 22, 21, 4, 30, 30, 10, 16, 21, 31, 33, 20, 17, 15, 25, 17, 31, 23, 17, 5, 12, 24, 29, 7, 3, 30, 27, 26, 29, 16, 27, 1, 9, 31, 27, 13, 4, 24, 28, 26, 1, 7, 12, 14, 14, 29, 31, 2, 9, 19, 16, 22, 20, 19, 29, 16, 31, 26, 15, 8, 5, 26, 29, 31, 11, 2, 2, 32, 6, 6, 20, 2, 1, 27, 31, 5, 21, 20, 12, 27, 8, 13, 26, 21, 13, 8, 8, 18, 0, 15, 17, 0, 8, 22, 7, 13, 29, 9, 26, 3, 31, 13, 33, 26, 32, 3, 24, 3, 9, 22, 16, 9, 33, 27, 20, 29, 17, 32, 9, 6, 1, 27, 25, 4, 30, 14, 11, 25, 26, 0, 0, 3, 29, 24, 26, 15, 17, 13, 15, 0, 30, 21, 29, 1, 13, 16, 13, 30, 32, 1, 4, 1, 24, 25, 11, 22, 15, 33, 1, 33, 25, 3, 27, 12, 32, 25, 19, 29, 30, 12, 28, 5, 32, 33, 25, 4, 15, 31, 9, 16, 4, 18, 22, 10, 16, 6, 6, 7, 10, 4, 13, 11, 18, 10, 0, 18, 16, 33, 2, 7, 16, 14, 25, 25, 1, 31, 16, 15, 24, 13, 4, 18, 31, 13, 29, 9, 18, 27, 21, 14, 30, 6, 33, 5, 8, 25, 13, 24, 21, 14, 2, 27, 16, 14, 14, 11, 11, 27, 28, 30, 1, 31, 30, 0, 8, 9, 26, 26, 8, 0, 18, 20, 32, 13, 27, 9, 8, 0, 27, 11, 8, 7, 22, 15, 18, 9, 24, 31, 26, 19, 31, 12, 30, 15, 24, 24, 27, 12, 16, 13, 27, 26, 22, 15, 18, 16, 33, 19, 18, 6, 21, 7, 21, 21, 7, 6, 15, 13, 22, 31, 27, 19, 8, 6, 4, 15, 8, 24, 13, 33, 6, 3, 13, 8, 2, 25, 13, 13, 16, 17, 2, 33, 9, 5, 26, 16, 5, 25, 24, 15, 18, 8, 0, 7, 19, 7, 0, 15, 11, 20, 17, 23, 0, 2, 32, 25, 20, 8, 16, 0, 2, 16, 18, 10, 32, 2, 18, 7, 0, 1, 20, 25, 15, 33, 24, 27, 27, 10, 29, 24, 10, 30, 19, 7, 20, 12, 22, 27, 11, 7, 10, 22, 13, 20, 21, 12, 16, 9, 3, 27, 4, 12, 7, 6, 33, 28, 4, 17, 4, 16, 23, 20, 24, 4, 2, 22, 0, 7, 24, 6, 15, 33, 21, 7, 3, 5, 17, 0, 0, 1, 12, 24, 26, 26, 26, 19, 21, 28, 24, 22, 27, 1, 20, 28, 24, 18, 2, 1, 12, 24, 1, 23, 17, 2, 19, 13, 9, 0, 22, 1, 28, 29, 25, 9, 15, 16, 2, 13, 19, 11, 8, 8, 16, 7, 15, 9, 32, 1, 2, 25, 9, 4, 25, 9, 14, 22, 29, 3, 10, 22, 12, 14, 7, 5, 10, 29, 27, 23, 4, 10, 6, 10, 5, 4, 11, 6, 2, 31, 12, 24, 6, 7, 7, 31, 18, 16, 31, 22, 14, 23, 6, 13, 9, 18, 20, 13, 12, 21, 9, 11, 14, 28, 11, 33, 6, 22, 3, 29, 15, 16, 1, 32, 23, 24, 7, 25, 13, 16, 12, 16, 21, 19, 10, 14, 20, 33, 0, 31, 24, 17, 4, 22, 9, 25, 1, 25, 6, 17, 7, 24, 20, 2, 19, 2, 5, 6, 7, 25, 4, 12, 12, 25, 18, 21, 10, 16, 4, 24, 13, 16, 20, 27, 16, 9, 31, 22, 32, 16, 31, 6, 0, 28, 26, 4, 11, 3, 27, 22, 30, 9, 31, 33, 5, 32, 27, 13, 17, 15, 33, 14, 16, 16, 10, 33, 17, 33, 25, 13, 18, 20, 14, 5, 5, 12, 16, 11, 21, 28, 16, 31, 16, 9, 4, 14, 0, 5, 13, 15, 32, 6, 22, 22, 15, 31, 20, 18, 31, 22, 12, 20, 32, 29, 2, 18, 14, 14, 15, 14, 26, 6, 30, 17, 29, 16, 12, 24, 7, 32, 1, 14, 10, 12, 26, 19, 23, 24, 32, 2, 27, 23, 26, 14, 18, 32, 11, 20, 30, 16, 25, 23, 13, 21, 16, 7, 17, 2, 1, 22, 17, 10, 10, 13, 0, 0, 33, 13, 23, 14, 26, 9, 18, 21, 4, 15, 7, 12, 23, 23, 14, 15, 16, 32, 8, 9, 1, 5, 18, 12, 4, 16, 30, 32, 11, 13, 22, 0, 23, 25, 8, 7, 28, 17, 24, 26, 10, 25, 12, 18, 4, 23, 31, 1, 31, 32, 27, 33, 24, 5, 17, 18, 1, 0, 14, 9, 13, 27, 16, 16, 18, 15, 11, 0, 28, 6, 27, 7, 21, 27, 18, 24, 3, 32, 5, 13, 1, 9, 24, 17, 10, 23, 30, 3, 11, 22, 16, 28, 8, 30, 24, 1, 2, 22, 28, 15, 22, 16, 30, 21, 27, 1, 6, 7, 17, 4, 5, 27, 13, 20, 22, 23, 12, 28, 20, 16, 24, 14, 26, 6, 25, 32, 22, 4, 8, 6, 33, 13, 16, 22, 7, 32, 21, 25, 29, 9, 16, 9, 19, 14, 4, 11, 27, 5, 9, 22, 29, 9, 16, 29, 7, 23, 26, 31, 17, 8, 23, 0, 22, 29, 9, 19, 11, 20, 12, 26, 21, 6, 12, 33, 16, 15, 27, 0, 27, 27, 26, 30, 9, 26, 13, 2, 9, 4, 16, 26, 30, 30, 4, 17, 3, 5, 4, 14, 17, 22, 1, 17, 33, 15, 4, 27, 30, 1, 10, 6, 2, 31, 15, 22, 32, 8, 25, 0, 24, 14, 3, 26, 12, 10, 19, 30, 33, 14, 8, 13, 2, 12, 30, 17, 25, 16, 11, 5, 7, 20, 23, 7, 3, 27, 4, 0, 32, 15, 10, 22, 0, 28, 3, 32, 13, 4, 23, 3, 27, 8, 7, 12, 6, 17, 8, 33, 17, 4, 28, 6, 25, 7, 18, 20, 31, 32, 33, 18, 3, 21, 10, 17, 24, 16, 20, 16, 31, 20, 33, 0, 1, 15, 30, 32, 1, 16, 29, 21, 4, 8, 16, 11, 19, 26, 23, 20, 16, 18, 33, 25, 15, 30, 7, 26, 8, 5, 8, 32, 29, 6, 26, 32, 28, 15, 5, 27, 32, 25, 32, 18, 11, 5, 20, 15, 7, 1, 13, 32, 13, 12, 17, 9, 16, 0, 14, 1, 28, 3, 23, 26, 12, 3, 21, 15, 11, 17, 26, 21, 4, 16, 11, 7, 25, 3, 15, 9, 27, 29, 15, 16, 15, 26, 17, 3, 24, 8, 1, 15, 11, 24, 9, 9, 30, 24, 15, 7, 31, 18, 21, 12, 19, 7, 16, 10, 31, 9, 32, 3, 8, 17, 22, 1, 2, 5, 0, 25, 29, 4, 31, 29, 22, 25, 12, 8, 5, 20, 2, 10, 15, 13, 13, 0, 4, 18, 32, 8, 4, 26, 19, 12, 6, 12, 6, 3, 31, 4, 17, 13, 22, 20, 6, 18, 19, 16, 6, 17, 31, 3, 10, 22, 4, 8, 31, 32, 0, 13, 8, 2, 7, 23, 11, 4, 20, 4, 13, 21, 25, 33, 4, 29, 18, 12, 28, 32, 11, 1, 13, 32, 33, 17, 14, 4, 28, 11, 27, 15, 31, 15, 4, 0, 4, 11, 16, 9, 20, 2, 11, 29, 14, 10, 12, 5, 26, 13, 24, 19, 18, 18, 31, 14, 14, 11, 26, 28, 10, 8, 13, 13, 8, 16, 13, 26, 32, 14, 17, 25, 9, 10, 2, 4, 9, 23, 22, 26, 9, 15, 21, 16, 26, 17, 25, 5, 4, 0, 15, 2, 16, 23, 15, 27, 26, 18, 0, 31, 16, 8, 16, 26, 1, 9, 18, 16, 25, 6, 24, 19, 2, 24, 0, 8, 18, 25, 32, 14, 4, 5, 15, 11, 11, 25, 33, 32, 2, 16, 16, 10, 25, 28, 33, 19, 19, 5, 19, 16, 20, 19, 20, 6, 26, 11, 0, 7, 30, 10, 2, 13, 1, 27, 22, 16, 26, 33, 1, 16, 3, 11, 28, 28, 33, 8, 0, 32, 3, 26, 15, 31, 13, 4, 1, 18, 32, 15, 23, 5, 21, 22, 29, 13, 22, 4, 32, 0, 1, 17, 16, 12, 32, 20, 20, 31, 22, 22, 27, 5, 29, 4, 16, 9, 4, 28, 24, 4, 11, 1, 20, 24, 20, 27, 8, 16, 21, 18, 19, 25, 29, 9, 6, 16, 7, 4, 23, 11, 16, 16, 6, 13, 4, 25, 16, 12, 18, 16, 17, 29, 8, 10, 6, 23, 30, 29, 1, 11, 16, 4, 12, 5, 27, 17, 12, 17, 2, 27, 26, 17, 17, 0, 7, 1, 30, 12, 32, 9, 9, 9, 16, 33, 16, 6, 18, 11, 20, 22, 16, 5, 17, 14, 30, 17, 22, 22, 23, 6, 8, 32, 31, 25, 16, 14, 6, 22, 30, 29, 10, 4, 24, 12, 14, 32, 11, 1, 26, 22, 28, 32, 11, 15, 17, 19, 2, 0, 30, 20, 18, 17, 30, 1, 10, 5, 26, 16, 11, 11, 27, 1, 20, 9, 25, 22, 7, 24, 23, 22, 24, 11, 7, 18, 7, 25, 14, 13, 2, 11, 18, 29, 2, 19, 4, 2, 22, 30, 25, 15, 18, 15, 21, 30, 9, 13, 24, 22, 7, 11, 22, 26, 12, 3, 27, 22, 29, 32, 24, 18, 23, 7, 4, 7, 28, 4, 31, 19, 16, 0, 14, 9, 33, 26, 11, 14, 20, 16, 29, 12, 1, 16, 17, 27, 20, 16, 9, 5, 23, 29, 23, 20, 16, 20, 4, 23, 22, 7, 19, 9, 1, 23, 25, 2, 31, 21, 10, 24, 12, 14, 30, 10, 13, 26, 22, 20, 7, 27, 5, 26, 16, 27, 2, 3, 2, 32, 18, 8, 29, 24, 5, 30, 13, 13, 21, 13, 11, 7, 7, 25, 33, 3, 11, 8, 24, 16, 14, 28, 26, 0, 7, 32, 27, 15, 16, 30, 0, 17, 7, 16, 21, 12, 9, 30, 6, 7, 17, 5, 20, 8, 12, 9, 31, 27, 12, 27, 10, 29, 33, 2, 20, 16, 6, 5, 23, 21, 26, 2, 3, 17, 11, 17, 32, 19, 7, 5, 8, 24, 33, 17, 4, 1, 12, 27, 12, 7, 9, 2, 25, 27, 22, 33, 21, 4, 16, 0, 33, 15, 22, 18, 26, 24, 21, 12, 9, 7, 26, 24, 23, 26, 26, 8, 9, 7, 24, 30, 18, 23, 15, 4, 20, 25, 13, 17, 11, 16, 8, 9, 30, 29, 12, 25, 9, 0, 16, 31, 9, 11, 25, 3, 2, 10, 6, 25, 28, 19, 13, 17, 6, 12, 1, 7, 14, 2, 1, 7, 1, 9, 29, 17, 12, 4, 16, 9, 24, 29, 3, 3, 28, 9, 26, 4, 25, 23, 15, 27, 21, 33, 20, 33, 14, 29, 21, 33, 18, 25, 10, 16, 0, 28, 32, 16, 17, 2, 30, 7, 30, 13, 4, 24, 9, 0, 3, 2, 0, 24, 3, 1, 20, 9, 17, 6, 0, 10, 31, 18, 14, 3, 12, 14, 30, 29, 17, 32, 3, 31, 22, 24, 9, 17, 16, 32, 6, 3, 30, 29, 17, 13, 5, 8, 23, 4, 15, 24, 17, 14, 30, 32, 33, 31, 0, 7, 32, 20, 32, 15, 16, 3, 4, 24, 30, 0, 32, 7, 18, 29, 17, 21, 2, 21, 11, 10, 1, 14, 25, 1, 22, 1, 26, 29, 19, 0, 23, 3, 10, 11, 2, 7, 32, 29, 24, 32, 7, 31, 4, 5, 19, 29, 26, 7, 29, 9, 18, 32, 1, 2, 5, 7, 30, 8, 4, 7, 4, 7, 14, 29, 16, 28, 24, 24, 23, 13, 6, 3, 31, 16, 28, 6, 3, 18, 23, 0, 17, 20, 5, 14, 21, 20, 31, 2, 16, 0, 24, 23, 25, 31, 33, 16, 11, 27, 6, 27, 19, 28, 1, 17, 22, 12, 27, 6, 13, 29, 0, 20, 0, 33, 1, 10, 10, 6, 24, 25, 32, 15, 32, 32, 9, 16, 31, 12, 5, 16, 2, 28, 19, 28, 29, 24, 7, 25, 11, 18, 19, 2, 18, 23, 7, 25, 31, 20, 19, 26, 13, 30, 7, 8, 8, 28, 2, 14, 3, 6, 25, 30, 0, 12, 18, 24, 19, 19, 28, 20, 30, 16, 31, 31, 31, 10, 28, 22, 29, 2, 16, 14, 33, 20, 32, 10, 15, 6, 11, 32, 28, 19, 20, 1, 7, 23, 1, 17, 17, 20, 23, 27, 18, 29, 9, 25, 19, 22, 8, 18, 10, 2, 12, 17, 31, 4, 31, 30, 5, 1, 18, 10, 31, 28, 28, 4, 16, 15, 27, 32, 32, 26, 26, 25, 31, 31, 3, 32, 5, 13, 5, 21, 18, 15, 32, 10, 16, 7, 23, 32, 19, 3, 0, 14, 24, 13, 26, 9, 6, 22, 28, 16, 29, 10, 1, 29, 21, 16, 12, 21, 31, 0, 4, 17, 13, 9, 31, 5, 11, 11, 24, 3, 8, 27, 16, 21, 15, 26, 12, 16, 6, 6, 1, 31, 3, 0, 12, 17, 12, 17, 33, 25, 15, 26, 31, 13, 32, 22, 27, 17, 29, 6, 10, 1, 2, 16, 20, 16, 25, 32, 33, 26, 9, 28, 23, 3, 14, 20, 26, 23, 25, 13, 6, 2, 7, 19, 23, 18, 32, 31, 12, 1, 31, 29, 22, 5, 3, 10, 28, 10, 16, 28, 26, 15, 19, 27, 4, 5, 22, 28, 33, 33, 0, 20, 16, 28, 0, 4, 16, 16, 1, 16, 9, 28, 8, 21, 16, 32, 4, 20, 22, 5, 23, 10, 28, 5, 5, 6, 11, 11, 28, 28, 25, 14, 29, 22, 10, 27, 32, 16, 19, 14, 22, 15, 11, 29, 29, 11, 21, 10, 4, 19, 3, 10, 15, 7, 2, 13, 28, 6, 17, 25, 24, 13, 6, 3, 17, 25, 13, 21, 27, 20, 4, 21, 23, 26, 25, 24, 3, 5, 4, 17, 13, 7, 2, 10, 11, 24, 21, 13, 19, 14, 4, 15, 14, 11, 23, 7, 7, 18, 4, 18, 2, 33, 20, 26, 26, 21, 22, 6, 25, 29, 20, 13, 8, 13, 26, 16, 27, 12, 31, 27, 33, 28, 24, 11, 8, 8, 2, 17, 18, 27, 22, 29, 2, 16, 3, 25, 18, 30, 4, 14, 17, 19, 27, 21, 13, 26, 9, 22, 5, 16, 24, 32, 23, 8, 24, 12, 16, 19, 26, 16, 6, 11, 19, 21, 7, 16, 4, 25, 12, 8, 17, 10, 23, 3, 27, 17, 0, 16, 23, 31, 16, 9, 21, 0, 4, 14, 29, 21, 8, 5, 6, 32, 16, 24, 10, 15, 5, 27, 3, 6, 24, 23, 27, 14, 22, 30, 8, 3, 22, 0, 5, 12, 21, 5, 16, 5, 24, 33, 15, 16, 0, 30, 15, 12, 12, 19, 8, 26, 18, 18, 24, 6, 3, 25, 4, 6, 17, 9, 6, 16, 15, 18, 16, 3, 0, 7, 30, 6, 26, 28, 22, 31, 3, 15, 3, 32, 25, 21, 17, 8, 13, 23, 15, 21, 18, 12, 0, 20, 14, 7, 32, 13, 29, 4, 14, 14, 30, 11, 32, 13, 5, 29, 0, 11, 14, 8, 3, 9, 18, 25, 1, 28, 9, 3, 21, 20, 27, 6, 2, 29, 31, 29, 23, 28, 7, 15, 21, 30, 33, 22, 22, 14, 6, 30, 12, 33, 4, 31, 15]\n",
            "[0, 7, 14, 11, 6, 16, 26, 15, 33, 25, 12, 9, 10, 15, 27, 27, 22, 7, 15, 26, 11, 24, 10, 16, 7, 5, 8, 24, 13, 33, 15, 10, 0, 22, 9, 13, 10, 14, 19, 29, 14, 0, 22, 23, 27, 16, 6, 29, 5, 26, 33, 26, 1, 13, 27, 23, 30, 30, 2, 23, 1, 11, 2, 29, 19, 27, 7, 17, 29, 2, 2, 0, 32, 22, 33, 13, 33, 25, 1, 9, 11, 14, 23, 25, 17, 29, 22, 12, 26, 5, 21, 23, 3, 31, 1, 21, 14, 19, 13, 32, 13, 2, 0, 1, 11, 23, 26, 18, 11, 33, 10, 3, 8, 28, 19, 11, 21, 15, 0, 4, 24, 8, 26, 9, 23, 3, 30, 3, 27, 9, 16, 3, 15, 32, 23, 1, 16, 32, 23, 0, 20, 7, 26, 13, 18, 14, 14, 25, 31, 2, 31, 15, 26, 10, 22, 9, 31, 11, 14, 2, 7, 16, 30, 1, 3, 25, 32, 33, 31, 33, 21, 11, 6, 0, 11, 30, 22, 2, 8, 24, 14, 0, 11, 17, 33, 15, 12, 30, 25, 25, 9, 30, 1, 9, 6, 29, 22, 2, 24, 11, 16, 9, 2, 15, 24, 21, 29, 6, 16, 0, 29, 21, 14, 24, 11, 6, 21, 24, 8, 4, 9, 2, 33, 22, 22, 29, 9, 26, 21, 18, 24, 22, 23, 20, 26, 30, 29, 4, 4, 24, 6, 18, 12, 28, 14, 21, 18, 24, 32, 28, 1, 16, 9, 27, 21, 2, 25, 20, 27, 33, 23, 0, 29, 8, 2, 7, 4, 17, 16, 27, 6, 16, 3, 27, 15, 32, 20, 15, 18, 1, 5, 30, 28, 3, 10, 7, 27, 22, 10, 33, 21, 5, 6, 21, 8, 22, 13, 29, 1, 33, 29, 6, 19, 7, 28, 4, 30, 15, 10, 19, 21, 11, 0, 8, 29, 1, 4, 14, 6, 14, 23, 12, 22, 30, 9, 3, 32, 12, 32, 15, 16, 19, 28, 2, 15, 30, 8, 16, 2, 16, 18, 5, 33, 29, 33, 29, 19, 18, 0, 17, 7, 26, 32, 0, 8, 12, 1, 14, 7, 28, 17, 11, 26, 4, 14, 30, 0, 12, 11, 26, 28, 19, 7, 0, 33, 5, 16, 0, 5, 28, 17, 20, 7, 7, 20, 27, 0, 3, 29, 6, 25, 13, 29, 14, 28, 6, 17, 2, 27, 9, 25, 5, 30, 32, 30, 17, 27, 30, 27, 29, 32, 20, 24, 15, 17, 26, 27, 30, 9, 17, 5, 25, 17, 16, 18, 18, 6, 6, 26, 19, 17, 12, 25, 1, 4, 16, 12, 0, 2, 10, 16, 12, 21, 1, 27, 2, 8, 9, 16, 4, 26, 0, 28, 29, 4, 20, 23, 9, 4, 2, 16, 26, 9, 10, 26, 9, 3, 6, 28, 17, 21, 31, 28, 13, 32, 27, 26, 33, 4, 26, 16, 20, 9, 26, 16, 5, 8, 22, 6, 18, 19, 26, 28, 32, 25, 14, 22, 14, 28, 2, 18, 12, 4, 16, 24, 29, 16, 21, 17, 6, 30, 8, 20, 14, 20, 11, 16, 23, 23, 21, 4, 24, 17, 7, 17, 13, 33, 5, 33, 14, 26, 17, 29, 22, 19, 3, 2, 14, 30, 19, 1, 2, 26, 20, 6, 16, 4, 13, 23, 15, 23, 16, 4, 11, 6, 5, 12, 27, 7, 6, 9, 0, 24, 25, 18, 18, 16, 22, 16, 11, 12, 21, 31, 30, 33, 14, 30, 33, 0, 7, 17, 21, 31, 0, 2, 23, 22, 10, 27, 5, 20, 20, 30, 7, 13, 27, 25, 16, 11, 8, 21, 27, 31, 8, 23, 31, 15, 10, 30, 9, 32, 12, 30, 20, 1, 5, 25, 26, 23, 27, 24, 19, 24, 24, 12, 19, 22, 18, 18, 24, 6, 28, 20, 18, 24, 7, 21, 0, 32, 26, 31, 26, 3, 0, 15, 2, 32, 33, 8, 5, 18, 8, 12, 14, 31, 20, 32, 3, 12, 33, 5, 23, 31, 13, 21, 26, 25, 15, 26, 14, 29, 2, 20, 28, 10, 10, 23, 9, 25, 10, 9, 32, 6, 25, 21, 0, 1, 17, 33, 2, 2, 22, 7, 17, 24, 11, 17, 29, 16, 25, 0, 30, 22, 10, 16, 19, 23, 30, 21, 5, 14, 6, 25, 2, 6, 15, 12, 31, 7, 2, 10, 10, 21, 26, 1, 24, 12, 5, 19, 2, 22, 11, 6, 24, 29, 20, 7, 15, 16, 23, 8, 5, 3, 15, 10, 24, 8, 8, 24, 33, 24, 12, 16, 5, 3, 14, 33, 7, 17, 15, 33, 12, 24, 28, 6, 14, 2, 6, 2, 0, 24, 18, 23, 31, 19, 18, 10, 32, 10, 3, 17, 25, 8, 25, 2, 16, 22, 25, 26, 16, 26, 8, 6, 24, 30, 3, 3, 21, 24, 18, 31, 31, 21, 0, 4, 31, 19, 9, 32, 19, 17, 16, 10, 3, 26, 4, 31, 6, 8, 10, 12, 27, 9, 7, 3, 28, 9, 24, 1, 7, 16, 3, 23, 13, 19, 24, 25, 20, 9, 27, 0, 3, 22, 25, 14, 25, 14, 14, 5, 15, 3, 32, 20, 16, 33, 27, 21, 10, 3, 2, 28, 19, 23, 8, 15, 6, 11, 16, 32, 10, 16, 22, 14, 23, 0, 3, 0, 5, 18, 4, 7, 7, 20, 16, 28, 0, 17, 3, 2, 29, 2, 21, 26, 30, 33, 30, 11, 0, 1, 26, 33, 23, 19, 33, 11, 31, 2, 30, 13, 13, 10, 20, 18, 28, 33, 29, 12, 5, 28, 31, 25, 3, 31, 11, 3, 32, 18, 31, 29, 19, 20, 22, 28, 7, 32, 15, 17, 27, 26, 0, 22, 12, 20, 24, 13, 31, 27, 28, 13, 12, 6, 9, 16, 7, 0, 17, 11, 11, 18, 1, 12, 33, 23, 26, 2, 15, 17, 7, 29, 25, 8, 26, 21, 4, 30, 17, 13, 0, 17, 4, 14, 11, 18, 29, 12, 33, 24, 6, 27, 0, 8, 25, 19, 21, 4, 23, 32, 12, 12, 30, 9, 33, 19, 33, 17, 16, 25, 17, 14, 5, 12, 11, 5, 17, 18, 21, 4, 19, 33, 20, 7, 28, 16, 14, 24, 15, 27, 26, 1, 1, 28, 17, 25, 18, 11, 18, 3, 29, 27, 30, 4, 1, 26, 1, 23, 30, 31, 33, 23, 25, 24, 31, 5, 9, 18, 27, 17, 0, 11, 16, 20, 12, 5, 15, 8, 12, 32, 16, 15, 23, 25, 8, 12, 22, 18, 21, 11, 1, 26, 12, 20, 32, 15, 8, 10, 8, 12, 3, 9, 9, 9, 3, 30, 14, 18, 9, 13, 5, 22, 28, 1, 29, 20, 14, 23, 17, 11, 10, 29, 8, 29, 11, 11, 13, 20, 24, 33, 25, 1, 1, 16, 9, 23, 32, 17, 24, 15, 26, 28, 20, 13, 28, 26, 11, 4, 14, 26, 23, 26, 32, 25, 33, 0, 5, 16, 4, 26, 9, 25, 8, 15, 20, 11, 16, 18, 15, 21, 23, 0, 30, 32, 1, 16, 16, 9, 1, 23, 7, 27, 31, 30, 1, 33, 19, 15, 11, 15, 26, 28, 23, 0, 23, 25, 21, 3, 26, 6, 19, 16, 5, 30, 21, 17, 14, 28, 28, 22, 18, 0, 15, 23, 7, 7, 23, 4, 8, 21, 9, 5, 18, 18, 33, 23, 33, 14, 9, 3, 15, 20, 14, 11, 20, 30, 8, 16, 27, 29, 1, 14, 2, 24, 6, 15, 17, 33, 20, 22, 15, 18, 31, 15, 29, 23, 11, 19, 8, 2, 0, 23, 33, 26, 2, 24, 13, 11, 29, 28, 16, 8, 8, 11, 3, 31, 22, 16, 0, 10, 25, 16, 18, 15, 6, 10, 17, 2, 5, 15, 20, 12, 23, 15, 16, 32, 22, 0, 15, 16, 13, 26, 9, 9, 24, 20, 2, 12, 6, 6, 17, 10, 16, 26, 9, 9, 4, 4, 24, 1, 29, 4, 0, 27, 24, 1, 30, 15, 14, 17, 6, 31, 8, 6, 14, 11, 6, 11, 3, 10, 25, 16, 28, 20, 10, 33, 16, 10, 10, 24, 32, 25, 9, 14, 16, 13, 25, 27, 9, 14, 18, 32, 20, 2, 20, 24, 20, 2, 13, 29, 31, 6, 11, 17, 29, 27, 21, 6, 9, 16, 18, 29, 4, 11, 27, 3, 26, 2, 24, 30, 18, 27, 27, 13, 32, 24, 8, 30, 19, 11, 2, 31, 16, 12, 10, 21, 27, 3, 7, 27, 29, 32, 11, 12, 24, 7, 2, 21, 0, 27, 19, 8, 9, 0, 32, 26, 7, 27, 9, 18, 13, 17, 18, 12, 0, 3, 1, 33, 5, 21, 14, 16, 29, 32, 26, 13, 22, 1, 5, 26, 15, 3, 31, 25, 12, 13, 23, 15, 31, 14, 30, 11, 3, 7, 7, 10, 6, 24, 31, 14, 11, 11, 12, 4, 15, 31, 3, 31, 23, 28, 4, 17, 31, 4, 33, 7, 18, 20, 21, 5, 8, 13, 24, 31, 25, 2, 8, 24, 15, 16, 32, 2, 23, 29, 29, 4, 25, 27, 6, 23, 1, 1, 21, 16, 29, 27, 12, 26, 10, 23, 33, 18, 22, 22, 5, 13, 21, 23, 23, 9, 2, 9, 20, 16, 25, 9, 0, 25, 7, 18, 9, 30, 22, 27, 19, 25, 29, 8, 24, 16, 18, 23, 1, 5, 24, 4, 12, 13, 17, 32, 4, 16, 5, 18, 16, 15, 27, 25, 21, 4, 20, 12, 32, 18, 10, 18, 22, 4, 22, 10, 11, 20, 28, 13, 15, 24, 15, 33, 11, 18, 0, 17, 30, 21, 27, 23, 32, 32, 17, 20, 8, 16, 4, 24, 33, 5, 14, 8, 6, 5, 8, 24, 0, 26, 5, 7, 24, 18, 17, 1, 13, 15, 3, 1, 8, 3, 2, 16, 12, 7, 9, 24, 27, 6, 7, 6, 6, 25, 15, 1, 9, 4, 12, 25, 23, 23, 8, 19, 11, 31, 12, 18, 27, 8, 1, 25, 13, 28, 19, 22, 25, 31, 18, 1, 28, 14, 6, 20, 30, 3, 32, 5, 6, 33, 28, 2, 7, 3, 18, 3, 27, 33, 0, 33, 0, 28, 21, 17, 28, 9, 1, 19, 12, 28, 28, 20, 5, 4, 29, 9, 32, 26, 32, 7, 30, 8, 14, 2, 1, 23, 30, 11, 25, 13, 5, 20, 15, 11, 21, 30, 25, 12, 10, 8, 15, 14, 4, 13, 10, 8, 10, 16, 22, 27, 16, 29, 13, 33, 32, 18, 28, 12, 32, 0, 4, 18, 21, 24, 18, 31, 0, 2, 17, 23, 23, 26, 13, 16, 0, 27, 10, 2, 20, 22, 31, 11, 17, 7, 30, 24, 2, 16, 6, 25, 5, 16, 1, 9, 23, 16, 21, 22, 25, 31, 14, 29, 18, 19, 33, 7, 24, 18, 20, 13, 18, 32, 14, 30, 29, 11, 25, 0, 29, 33, 32, 22, 16, 15, 16, 23, 19, 23, 27, 22, 16, 6, 32, 26, 33, 15, 25, 14, 0, 15, 13, 12, 10, 8, 25, 32, 11, 7, 29, 17, 32, 7, 0, 27, 30, 8, 27, 8, 30, 2, 0, 32, 9, 15, 14, 20, 7, 26, 6, 10, 15, 18, 13, 32, 14, 24, 8, 24, 5, 26, 9, 11, 17, 16, 33, 29, 20, 2, 7, 19, 17, 6, 21, 18, 31, 4, 30, 20, 5, 19, 15, 4, 25, 0, 7, 28, 32, 29, 2, 31, 31, 21, 25, 17, 28, 24, 25, 5, 1, 16, 5, 23, 17, 16, 3, 11, 31, 19, 8, 1, 4, 14, 11, 7, 31, 16, 30, 22, 21, 30, 0, 31, 1, 28, 16, 18, 14, 6, 32, 10, 16, 17, 0, 26, 10, 6, 30, 18, 31, 30, 15, 0, 5, 10, 22, 27, 17, 7, 5, 16, 10, 12, 4, 6, 33, 33, 20, 25, 7, 28, 27, 2, 22, 5, 25, 33, 30, 1, 21, 10, 4, 30, 30, 17, 30, 0, 15, 3, 9, 23, 6, 26, 7, 17, 7, 27, 14, 31, 16, 32, 7, 18, 29, 15, 24, 24, 11, 20, 9, 5, 22, 11, 3, 28, 17, 19, 30, 3, 16, 6, 23, 18, 17, 12, 13, 3, 0, 7, 21, 9, 0, 8, 26, 23, 32, 7, 5, 22, 8, 8, 8, 3, 17, 7, 26, 11, 6, 20, 22, 28, 19, 26, 0, 13, 28, 10, 30, 29, 28, 5, 0, 24, 9, 1, 21, 30, 4, 29, 31, 19, 14, 26, 24, 22, 26, 3, 23, 12, 7, 33, 15, 24, 18, 1, 25, 6, 29, 24, 14, 14, 23, 27, 26, 27, 27, 31, 14, 0, 22, 11, 14, 16, 24, 0, 2, 24, 30, 12, 17, 8, 11, 27, 26, 24, 15, 20, 27, 13, 2, 8, 31, 10, 27, 22, 10, 12, 1, 28, 7, 21, 20, 30, 26, 2, 15, 1, 16, 24, 3, 11, 16, 6, 24, 25, 28, 14, 25, 11, 24, 32, 32, 21, 15, 20, 28, 2, 30, 13, 17, 7, 3, 17, 10, 32, 31, 23, 16, 28, 25, 24, 27, 16, 26, 30, 18, 0, 27, 28, 18, 32, 1, 12, 23, 3, 19, 18, 26, 27, 12, 13, 24, 3, 14, 25, 4, 17, 33, 25, 8, 15, 7, 29, 29, 8, 3, 19, 33, 31, 13, 27, 21, 17, 2, 27, 12, 8, 23, 26, 18, 18, 5, 2, 16, 11, 0, 11, 33, 19, 7, 23, 3, 16, 3, 10, 25, 2, 5, 17, 15, 32, 31, 28, 16, 32, 16, 9, 5, 33, 1, 9, 22, 9, 15, 30, 32, 5, 6, 20, 30, 6, 31, 19, 19, 16, 10, 9, 13, 0, 19, 26, 29, 20, 10, 25, 23, 18, 12, 0, 9, 18, 7, 3, 24, 0, 16, 4, 3, 27, 27, 26, 26, 29, 12, 6, 21, 24, 8, 18, 24, 21, 29, 29, 24, 7, 30, 29, 23, 21, 32, 20, 33, 18, 16, 22, 23, 24, 17, 15, 33, 11, 12, 4, 4, 15, 4, 12, 20, 24, 22, 7, 8, 32, 15, 17, 8, 29, 16, 32, 2, 25, 4, 19, 22, 33, 12, 20, 21, 14, 20, 22, 4, 28, 3, 22, 17, 2, 28, 24, 18, 12, 27, 7, 30, 26, 27, 28, 11, 13, 3, 15, 4, 33, 15, 17, 15, 12, 2, 6, 4, 27, 6, 28, 19, 19, 22, 26, 20, 3, 13, 15, 6, 24, 26, 5, 0, 28, 21, 7, 27, 4, 24, 32, 9, 32, 6, 31, 26, 17, 23, 10, 25, 4, 31, 19, 5, 13, 23, 22, 16, 24, 29, 27, 21, 6, 31, 27, 24, 10, 13, 16, 8, 20, 4, 30, 7, 33, 6, 22, 23, 0, 14, 22, 31, 17, 18, 31, 20, 8, 16, 24, 25, 2, 33, 25, 4, 33, 17, 1, 33, 10, 22, 8, 7, 12, 1, 17, 4, 4, 13, 26, 15, 18, 24, 16, 1, 5, 18, 11, 3, 6, 30, 15, 33, 9, 3, 5, 22, 19, 5, 16, 12, 29, 2, 2, 9, 1, 9, 26, 20, 16, 11, 4, 6, 28, 30, 18, 29, 0, 31, 9, 2, 15, 0, 15, 24, 10, 0, 1, 31, 16, 16, 20, 20, 19, 23, 1, 14, 23, 29, 0, 23, 22, 23, 16, 27, 9, 15, 9, 7, 14, 10, 11, 31, 11, 12, 29, 20, 31, 22, 12, 12, 5, 4, 10, 22, 17, 17, 28, 15, 17, 9, 18, 32, 27, 7, 29, 33, 25, 11, 23, 14, 4, 16, 16, 6, 14, 21, 33, 20, 1, 21, 23, 32, 8, 15, 17, 3, 6, 26, 4, 31, 29, 22, 10, 30, 5, 26, 20, 20, 24, 11, 5, 5, 6, 10, 25, 18, 21, 8, 20, 27, 26, 14, 14, 3, 20, 26, 26, 3, 20, 16, 17, 18, 20, 16, 9, 16, 28, 6, 14, 12, 32, 20, 31, 32, 14, 7, 9, 33, 31, 5, 5, 19, 22, 8, 3, 15, 5, 24, 31, 3, 27, 16, 5, 27, 26, 32, 33, 4, 25, 14, 11, 20, 26, 16, 27, 32, 14, 4, 1, 3, 17, 18, 12, 12, 27, 11, 1, 23, 11, 0, 9, 20, 13, 28, 9, 29, 25, 1, 17, 2, 6, 22, 25, 17, 16, 25, 1, 32, 6, 29, 33, 33, 22, 28, 16, 4, 25, 9, 8, 29, 21, 2, 0, 12, 21, 23, 28, 29, 18, 19, 16, 29, 9, 20, 8, 22, 22, 6, 16, 16, 17, 0, 5, 6, 0, 31, 26, 13, 19, 12, 23, 32, 33, 31, 6, 4, 24, 6, 29, 10, 5, 27, 30, 2, 7, 12, 8, 12, 20, 2, 1, 1, 10, 4, 32, 3, 33, 22, 15, 13, 13, 5, 1, 19, 32, 33, 16, 17, 29, 16, 16, 12, 5, 17, 9, 26, 14, 30, 32, 0, 0, 25, 26, 27, 27, 29, 28, 11, 17, 1, 19, 19, 29, 33, 1, 4, 31, 13, 26, 19, 12, 26, 28, 8, 6, 2, 6, 23, 11, 33, 9, 21, 21, 9, 5, 10, 15, 5, 27, 21, 7, 26, 14, 16, 22, 9, 12, 18, 19, 0, 21, 16, 14, 4, 9, 32, 8, 1, 23, 32, 16, 12, 2, 15, 25, 32, 19, 15, 25, 26, 24, 27, 14, 33, 8, 29, 5, 20, 25, 32, 0, 12, 18, 19, 29, 30, 11, 11, 14, 26, 3, 30, 25, 3, 0, 11, 32, 23, 2, 29, 30, 20, 21, 13, 16, 3, 10, 20, 11, 2, 6, 16, 4, 8, 2, 13, 19, 30, 13, 28, 8, 8, 10, 16, 23, 13, 11, 21, 24, 12, 14, 14, 32, 15, 6, 21, 28, 27, 18, 32, 22, 13, 33, 24, 23, 31, 8, 33, 1, 16, 33, 32, 33, 16, 2, 25, 20, 24, 16, 26, 9, 0, 30, 27, 4, 15, 2, 0, 5, 17, 29, 33, 32, 8, 13, 31, 7, 0, 26, 32, 25, 28, 1, 18, 14, 28, 0, 12, 1, 16, 21, 29, 9, 8, 16, 22, 6, 23, 8, 10, 16, 22, 31, 17, 8, 31, 8, 31, 26, 17, 13, 24, 17, 25, 30, 26, 30, 23, 11, 9, 14, 11, 32, 28, 33, 30, 9, 17, 10, 12, 2, 28, 22, 7, 32, 14, 6, 16, 0, 31, 21, 7, 19, 5, 15, 32, 13, 6, 23, 30, 2, 32, 11, 13, 27, 24, 20, 8, 24, 32, 4, 23, 10, 4, 7, 27, 30, 28, 25, 0, 24, 1, 7, 4, 25, 30, 23, 24, 11, 33, 23, 25, 3, 24, 28, 21, 29, 9, 0, 30, 6, 17, 7, 2, 32, 5, 2, 15, 25, 25, 19, 23, 15, 19, 28, 31, 2, 7, 19, 0, 22, 2, 7, 29, 1, 23, 7, 23, 17, 11, 4, 6, 13, 32, 22, 21, 3, 4, 31, 14, 16, 8, 15, 18, 27, 6, 6, 10, 16, 17, 23, 8, 16, 29, 6, 4, 6, 30, 30, 11, 21, 4, 19, 26, 19, 4, 29, 10, 15, 16, 24, 23, 17, 21, 5, 29, 20, 2, 5, 29, 31, 7, 8, 6, 16, 14, 30, 5, 17, 18, 8, 4, 21, 23, 10, 29, 23, 14, 29, 31, 26, 16, 13, 11, 4, 4, 31, 22, 26, 26, 16, 12, 30, 32, 18, 7, 17, 31, 8, 11, 26, 3, 24, 22, 13, 15, 14, 24, 1, 23, 6, 28, 3, 17, 10, 6, 11, 11, 18, 1, 1, 31, 21, 1, 17, 5, 19, 31, 25, 11, 26, 2, 22, 10, 7, 17, 3, 20, 13, 31, 25, 3, 22, 1, 1, 23, 16, 1, 16, 13, 25, 19, 2, 14, 19, 21, 2, 11, 13, 15, 6, 5, 13, 4, 18, 18, 20, 6, 14, 11, 14, 28, 19, 17, 25, 17, 5, 25, 12, 24, 17, 30, 14, 9, 26, 9, 24, 20, 14, 8, 25, 21, 22, 6, 4, 29, 26, 0, 9, 30, 16, 31, 33, 11, 25, 24, 5, 4, 24, 10, 12, 21, 20, 14, 12, 22, 16, 9, 2, 20, 33, 28, 10, 15, 23, 4, 19, 12, 3, 1, 27, 0, 25, 22, 16, 15, 32, 26, 9, 1, 23, 33, 11, 4, 17, 32, 32, 7, 27, 2, 15, 32, 12, 5, 30, 4, 33, 30, 26, 28, 30, 1, 17, 7, 31, 1, 8, 2, 27, 6, 26, 29, 6, 22, 7, 21, 26, 16, 14, 27, 8, 32, 25, 30, 13, 0, 8, 24, 30, 27, 27, 6, 33, 14, 18, 13, 18, 25, 6, 19, 10, 5, 0, 20, 1, 31, 16, 13, 17, 22, 5, 18, 8, 7, 20, 23, 16, 6, 4, 7, 24, 11, 20, 23, 8, 16, 26, 25, 7, 2, 21, 15, 27, 28, 24, 33, 16, 1, 11, 27, 24, 29, 27, 9, 32, 20, 11, 9, 3, 2, 26, 0, 29, 16, 25, 0, 32, 0, 12, 13, 6, 2, 32, 5, 4, 9, 8, 16, 32, 12, 28, 23, 23, 10, 14, 12, 13, 20, 24, 18, 3, 8, 33, 10, 18, 22, 12, 12, 29, 3, 4, 24, 33, 11, 15, 14, 4, 18, 30, 24, 29, 13, 14, 19, 33, 33, 21, 27, 16, 16, 21, 20, 24, 4, 21, 32, 15, 22, 14, 22, 26, 31, 33, 22, 27, 1, 32, 6, 7, 15, 24, 5, 12, 33, 19, 17, 32, 31, 6, 4, 21, 19, 1, 30, 11, 23, 16, 3, 25, 27, 33, 18, 10, 32, 20, 9, 27, 24, 25, 6, 17, 7, 19, 2, 29, 13, 24, 25, 16, 26, 18, 23, 11, 31, 29, 23, 7, 11, 4, 26, 19, 17, 0, 11, 23, 1, 7, 29, 16, 12, 28, 30, 10, 31, 5, 26, 31, 15, 15, 14, 8, 2, 33, 20, 16, 26, 15, 23, 19, 21, 11, 4, 4, 33, 31, 8, 16, 12, 30, 1, 27, 23, 4, 19, 5, 5, 16, 16, 27, 26, 28, 9, 1, 29, 9, 21, 5, 16, 13, 16, 25, 11, 2, 9, 0, 20, 28, 5, 11, 19, 8, 7, 25, 30, 15, 11, 27, 29, 26, 33, 2, 17, 7, 20, 11, 23, 16, 17, 20, 22, 0, 0, 30, 7, 9, 12, 23, 25, 4, 25, 19, 18, 23, 0, 6, 21, 30, 19, 9, 7, 17, 13, 33, 24, 10, 19, 22, 18, 25, 15, 9, 1, 2, 21, 7, 4, 16, 33, 22, 18, 8, 6, 21, 3, 33, 10, 22, 2, 2, 33, 26, 3, 21, 15, 9, 17, 7, 8, 17, 32, 16, 4, 24, 6, 6, 7, 0, 2, 17, 30, 11, 0, 18, 10, 7, 18, 33, 18, 15, 19, 13, 21, 10, 27, 1, 30, 16, 4, 4, 24, 18, 33, 14, 12, 11, 24, 21, 10, 6, 31, 14, 3, 29, 31, 16, 16, 19, 9, 27, 6, 11, 13, 28, 4, 21, 20, 1, 30, 21, 13, 24, 13, 0, 2, 9, 16, 9, 7, 5, 8, 21, 30, 28, 0, 1, 17, 16, 7, 20, 28, 24, 16, 16, 7, 18, 17, 10, 19, 3, 2, 29, 29, 8, 27, 14, 9, 1, 26, 9, 14, 16, 11, 22, 28, 11, 18, 5, 4, 14, 5, 24, 10, 3, 10, 27, 0, 17, 12, 32, 12, 15, 26, 32, 2, 13, 16, 31, 20, 1, 24, 12, 3, 6, 13, 17, 12, 7, 12, 30, 13, 1, 26, 14, 1, 19, 12, 22, 5, 10, 0, 2, 30, 28, 8, 30, 30, 1, 20, 13, 15, 29, 22, 30, 13, 11, 26, 16, 28, 31, 29, 18, 33, 13, 2, 8, 31, 13, 11, 3, 30, 31, 24, 32, 22, 15, 8, 11, 31, 20, 31, 22, 19, 0, 10, 17, 1, 23, 31, 3, 23, 1, 4, 16, 22, 22, 5, 3, 30, 7, 30, 16, 4, 29, 19, 30, 18, 24, 2, 24, 28, 27, 33, 22, 21, 26, 0, 4, 19, 0, 26, 19, 22, 15, 22, 2, 20, 16, 25, 19, 9, 13, 23, 13, 8, 17, 10, 16, 21, 22, 7, 13, 7, 8, 26, 22, 29, 29, 21, 28, 5, 31, 33, 26, 9, 29, 15, 14, 28, 11, 26, 6, 23, 1, 7, 31, 33, 30, 24, 13, 13, 29, 1, 10, 4, 16, 12, 28, 1]\n",
            "test cases :  4000\n",
            "wrong cases :  3865\n",
            "\n",
            "Model accuracy score with Decision Tree 3.375\n",
            "With feature Selection : \n",
            "[18, 6, 11, 14, 0, 20, 23, 27, 10, 16, 8, 24, 14, 21, 32, 16, 18, 17, 7, 21, 16, 21, 26, 31, 19, 30, 29, 22, 30, 11, 22, 4, 20, 1, 21, 16, 17, 7, 21, 15, 17, 22, 8, 16, 30, 2, 32, 16, 19, 21, 3, 23, 5, 28, 5, 18, 30, 10, 26, 19, 19, 23, 12, 7, 18, 31, 32, 16, 8, 4, 17, 24, 33, 1, 20, 23, 29, 25, 30, 4, 28, 32, 28, 15, 32, 24, 2, 15, 9, 32, 11, 1, 33, 14, 7, 14, 25, 21, 25, 22, 30, 9, 6, 22, 31, 1, 31, 27, 28, 21, 28, 20, 25, 1, 23, 20, 19, 29, 31, 30, 1, 8, 22, 7, 6, 18, 21, 13, 2, 27, 18, 17, 26, 32, 13, 14, 11, 22, 10, 4, 23, 29, 24, 29, 7, 24, 12, 5, 7, 21, 16, 26, 19, 27, 2, 6, 7, 4, 18, 27, 14, 21, 19, 11, 33, 30, 16, 31, 31, 6, 15, 1, 7, 27, 0, 1, 12, 26, 29, 33, 8, 27, 28, 32, 12, 10, 17, 17, 5, 2, 16, 16, 20, 16, 18, 19, 10, 7, 15, 26, 15, 3, 3, 10, 31, 21, 28, 22, 6, 4, 20, 2, 33, 13, 31, 20, 12, 5, 2, 4, 18, 5, 10, 23, 25, 20, 20, 30, 9, 30, 13, 33, 31, 3, 31, 5, 3, 20, 27, 25, 17, 19, 21, 15, 23, 15, 15, 3, 2, 27, 30, 0, 25, 30, 5, 10, 11, 23, 14, 21, 18, 21, 31, 0, 6, 21, 6, 28, 28, 9, 29, 3, 10, 32, 33, 20, 12, 5, 26, 12, 16, 17, 16, 16, 22, 14, 23, 22, 27, 23, 13, 6, 9, 5, 17, 11, 21, 13, 27, 21, 25, 6, 30, 19, 5, 12, 9, 25, 14, 20, 11, 21, 25, 15, 33, 17, 15, 18, 3, 24, 17, 28, 14, 28, 8, 2, 24, 3, 31, 11, 16, 31, 31, 28, 15, 30, 3, 29, 11, 4, 10, 3, 18, 11, 21, 16, 10, 11, 29, 14, 5, 6, 22, 17, 10, 30, 22, 3, 29, 22, 8, 1, 1, 1, 27, 23, 13, 7, 29, 5, 15, 20, 3, 28, 8, 27, 28, 22, 17, 3, 1, 9, 16, 22, 25, 9, 0, 22, 4, 14, 33, 13, 27, 22, 16, 17, 14, 8, 28, 22, 10, 26, 25, 2, 1, 20, 26, 6, 23, 4, 1, 22, 15, 18, 31, 10, 29, 0, 16, 2, 0, 22, 6, 19, 25, 11, 16, 12, 18, 28, 8, 30, 16, 17, 31, 13, 6, 27, 9, 4, 13, 28, 26, 5, 3, 0, 6, 11, 13, 22, 6, 14, 16, 27, 17, 15, 9, 24, 33, 28, 1, 9, 26, 28, 2, 9, 9, 28, 14, 26, 10, 33, 33, 8, 26, 20, 16, 5, 3, 28, 12, 21, 24, 3, 7, 6, 2, 4, 17, 14, 7, 29, 7, 11, 21, 16, 13, 3, 20, 20, 30, 33, 30, 7, 30, 29, 8, 8, 9, 5, 14, 23, 14, 17, 29, 21, 24, 5, 8, 16, 17, 16, 33, 23, 9, 13, 28, 23, 5, 22, 6, 27, 8, 7, 3, 27, 28, 28, 27, 29, 28, 0, 16, 17, 18, 23, 23, 29, 33, 32, 31, 25, 13, 12, 21, 9, 12, 7, 16, 11, 20, 19, 16, 15, 3, 32, 28, 27, 18, 1, 11, 23, 16, 24, 29, 9, 14, 5, 13, 1, 17, 8, 24, 25, 14, 6, 8, 10, 18, 22, 6, 8, 30, 6, 6, 17, 28, 28, 13, 30, 6, 18, 11, 30, 19, 6, 25, 19, 23, 17, 15, 15, 8, 14, 27, 12, 20, 33, 25, 11, 15, 16, 16, 22, 29, 32, 6, 16, 12, 7, 3, 4, 21, 27, 28, 33, 9, 9, 22, 31, 32, 4, 26, 16, 4, 20, 30, 23, 4, 13, 29, 12, 18, 30, 20, 32, 6, 16, 10, 3, 1, 8, 14, 4, 30, 12, 13, 10, 4, 13, 26, 17, 22, 16, 2, 4, 15, 24, 1, 23, 23, 9, 12, 8, 22, 15, 24, 14, 28, 22, 16, 12, 25, 4, 21, 0, 25, 13, 3, 29, 12, 0, 2, 0, 20, 27, 14, 12, 16, 0, 30, 23, 23, 7, 17, 30, 21, 14, 24, 27, 21, 33, 9, 22, 16, 31, 7, 21, 0, 21, 6, 9, 17, 26, 3, 22, 7, 15, 5, 8, 8, 16, 12, 26, 19, 24, 30, 10, 5, 16, 6, 2, 24, 7, 30, 4, 30, 22, 23, 11, 3, 27, 16, 28, 4, 31, 5, 9, 16, 16, 4, 2, 3, 3, 21, 7, 22, 14, 15, 8, 29, 18, 9, 28, 27, 1, 14, 18, 14, 8, 17, 16, 20, 22, 13, 18, 33, 28, 15, 23, 16, 22, 12, 16, 18, 16, 1, 29, 12, 1, 29, 5, 26, 10, 17, 23, 26, 3, 2, 24, 22, 32, 17, 33, 12, 6, 7, 26, 24, 13, 2, 0, 10, 15, 14, 7, 22, 17, 17, 28, 33, 0, 26, 27, 9, 10, 3, 24, 12, 25, 16, 14, 19, 12, 20, 14, 5, 9, 30, 25, 31, 11, 10, 6, 21, 1, 16, 31, 8, 4, 31, 27, 16, 27, 28, 29, 13, 15, 29, 21, 32, 21, 14, 1, 4, 24, 0, 21, 15, 6, 0, 6, 18, 18, 2, 26, 33, 18, 28, 20, 27, 15, 9, 6, 11, 21, 15, 22, 5, 1, 10, 18, 12, 22, 15, 33, 33, 16, 27, 10, 1, 8, 30, 20, 21, 20, 3, 22, 19, 15, 18, 1, 25, 13, 25, 1, 25, 29, 29, 33, 20, 15, 19, 8, 14, 24, 18, 22, 24, 6, 28, 13, 16, 21, 17, 11, 19, 28, 32, 28, 24, 31, 11, 19, 4, 32, 0, 4, 14, 18, 27, 14, 0, 8, 19, 21, 8, 18, 1, 9, 5, 9, 24, 33, 16, 18, 19, 30, 8, 31, 21, 1, 24, 13, 16, 19, 5, 33, 32, 31, 21, 10, 10, 20, 5, 29, 18, 18, 24, 20, 29, 0, 10, 5, 17, 29, 19, 6, 19, 23, 32, 8, 27, 2, 8, 12, 4, 6, 14, 33, 3, 6, 17, 5, 31, 29, 33, 19, 24, 27, 3, 32, 4, 1, 13, 15, 9, 12, 20, 20, 5, 22, 6, 8, 11, 15, 22, 16, 13, 5, 21, 11, 0, 14, 27, 18, 1, 25, 25, 32, 8, 2, 15, 12, 0, 16, 17, 30, 32, 8, 12, 23, 3, 29, 27, 26, 15, 16, 14, 27, 11, 9, 0, 23, 6, 22, 4, 5, 22, 3, 10, 7, 32, 3, 1, 10, 30, 29, 12, 31, 18, 18, 30, 20, 24, 4, 7, 9, 18, 6, 17, 19, 16, 10, 13, 20, 13, 18, 22, 9, 5, 33, 22, 27, 21, 16, 22, 13, 8, 23, 13, 10, 28, 19, 10, 30, 0, 16, 31, 24, 5, 15, 20, 19, 22, 11, 30, 32, 3, 7, 3, 25, 2, 1, 12, 15, 4, 26, 12, 24, 14, 2, 7, 28, 24, 15, 18, 1, 10, 29, 15, 33, 13, 23, 29, 16, 11, 9, 28, 13, 2, 1, 13, 18, 19, 9, 8, 1, 20, 15, 13, 9, 9, 7, 13, 28, 10, 20, 10, 28, 9, 6, 1, 9, 11, 9, 33, 2, 21, 22, 31, 24, 25, 1, 18, 18, 8, 2, 24, 10, 30, 14, 17, 2, 18, 20, 4, 27, 24, 8, 8, 14, 18, 18, 6, 14, 20, 16, 22, 8, 24, 17, 5, 5, 23, 8, 8, 6, 20, 30, 16, 21, 5, 19, 9, 21, 29, 9, 18, 25, 9, 10, 9, 26, 9, 17, 20, 13, 14, 13, 5, 28, 4, 9, 16, 1, 16, 15, 28, 27, 6, 7, 12, 9, 11, 8, 26, 15, 33, 12, 6, 3, 21, 28, 17, 6, 18, 25, 6, 4, 31, 16, 15, 17, 28, 19, 3, 27, 26, 33, 14, 8, 20, 2, 5, 21, 9, 18, 10, 1, 18, 32, 16, 24, 29, 15, 18, 15, 18, 23, 14, 28, 33, 2, 5, 16, 8, 0, 30, 2, 13, 32, 20, 10, 25, 2, 1, 16, 8, 9, 23, 4, 13, 0, 31, 7, 6, 11, 10, 16, 12, 31, 10, 27, 3, 18, 9, 12, 1, 32, 7, 28, 15, 30, 2, 23, 17, 14, 30, 17, 31, 6, 31, 23, 30, 16, 15, 3, 2, 25, 5, 21, 33, 5, 19, 9, 32, 19, 24, 14, 22, 7, 16, 4, 15, 3, 19, 10, 20, 22, 9, 3, 27, 2, 3, 6, 31, 7, 12, 16, 6, 21, 16, 19, 31, 30, 32, 33, 2, 11, 15, 12, 20, 14, 28, 11, 31, 26, 10, 0, 8, 2, 21, 17, 25, 8, 13, 3, 28, 32, 1, 10, 11, 9, 13, 21, 28, 11, 31, 7, 24, 11, 22, 21, 4, 30, 30, 10, 16, 21, 31, 33, 20, 17, 15, 25, 17, 31, 23, 17, 5, 12, 24, 29, 7, 3, 30, 27, 26, 29, 16, 27, 1, 9, 31, 27, 13, 4, 24, 28, 26, 1, 7, 12, 14, 14, 29, 31, 2, 9, 19, 16, 22, 20, 19, 29, 16, 31, 26, 15, 8, 5, 26, 29, 31, 11, 2, 2, 32, 6, 6, 20, 2, 1, 27, 31, 5, 21, 20, 12, 27, 8, 13, 26, 21, 13, 8, 8, 18, 0, 15, 17, 0, 8, 22, 7, 13, 29, 9, 26, 3, 31, 13, 33, 26, 32, 3, 24, 3, 9, 22, 16, 9, 33, 27, 20, 29, 17, 32, 9, 6, 1, 27, 25, 4, 30, 14, 11, 25, 26, 0, 0, 3, 29, 24, 26, 15, 17, 13, 15, 0, 30, 21, 29, 1, 13, 16, 13, 30, 32, 1, 4, 1, 24, 25, 11, 22, 15, 33, 1, 33, 25, 3, 27, 12, 32, 25, 19, 29, 30, 12, 28, 5, 32, 33, 25, 4, 15, 31, 9, 16, 4, 18, 22, 10, 16, 6, 6, 7, 10, 4, 13, 11, 18, 10, 0, 18, 16, 33, 2, 7, 16, 14, 25, 25, 1, 31, 16, 15, 24, 13, 4, 18, 31, 13, 29, 9, 18, 27, 21, 14, 30, 6, 33, 5, 8, 25, 13, 24, 21, 14, 2, 27, 16, 14, 14, 11, 11, 27, 28, 30, 1, 31, 30, 0, 8, 9, 26, 26, 8, 0, 18, 20, 32, 13, 27, 9, 8, 0, 27, 11, 8, 7, 22, 15, 18, 9, 24, 31, 26, 19, 31, 12, 30, 15, 24, 24, 27, 12, 16, 13, 27, 26, 22, 15, 18, 16, 33, 19, 18, 6, 21, 7, 21, 21, 7, 6, 15, 13, 22, 31, 27, 19, 8, 6, 4, 15, 8, 24, 13, 33, 6, 3, 13, 8, 2, 25, 13, 13, 16, 17, 2, 33, 9, 5, 26, 16, 5, 25, 24, 15, 18, 8, 0, 7, 19, 7, 0, 15, 11, 20, 17, 23, 0, 2, 32, 25, 20, 8, 16, 0, 2, 16, 18, 10, 32, 2, 18, 7, 0, 1, 20, 25, 15, 33, 24, 27, 27, 10, 29, 24, 10, 30, 19, 7, 20, 12, 22, 27, 11, 7, 10, 22, 13, 20, 21, 12, 16, 9, 3, 27, 4, 12, 7, 6, 33, 28, 4, 17, 4, 16, 23, 20, 24, 4, 2, 22, 0, 7, 24, 6, 15, 33, 21, 7, 3, 5, 17, 0, 0, 1, 12, 24, 26, 26, 26, 19, 21, 28, 24, 22, 27, 1, 20, 28, 24, 18, 2, 1, 12, 24, 1, 23, 17, 2, 19, 13, 9, 0, 22, 1, 28, 29, 25, 9, 15, 16, 2, 13, 19, 11, 8, 8, 16, 7, 15, 9, 32, 1, 2, 25, 9, 4, 25, 9, 14, 22, 29, 3, 10, 22, 12, 14, 7, 5, 10, 29, 27, 23, 4, 10, 6, 10, 5, 4, 11, 6, 2, 31, 12, 24, 6, 7, 7, 31, 18, 16, 31, 22, 14, 23, 6, 13, 9, 18, 20, 13, 12, 21, 9, 11, 14, 28, 11, 33, 6, 22, 3, 29, 15, 16, 1, 32, 23, 24, 7, 25, 13, 16, 12, 16, 21, 19, 10, 14, 20, 33, 0, 31, 24, 17, 4, 22, 9, 25, 1, 25, 6, 17, 7, 24, 20, 2, 19, 2, 5, 6, 7, 25, 4, 12, 12, 25, 18, 21, 10, 16, 4, 24, 13, 16, 20, 27, 16, 9, 31, 22, 32, 16, 31, 6, 0, 28, 26, 4, 11, 3, 27, 22, 30, 9, 31, 33, 5, 32, 27, 13, 17, 15, 33, 14, 16, 16, 10, 33, 17, 33, 25, 13, 18, 20, 14, 5, 5, 12, 16, 11, 21, 28, 16, 31, 16, 9, 4, 14, 0, 5, 13, 15, 32, 6, 22, 22, 15, 31, 20, 18, 31, 22, 12, 20, 32, 29, 2, 18, 14, 14, 15, 14, 26, 6, 30, 17, 29, 16, 12, 24, 7, 32, 1, 14, 10, 12, 26, 19, 23, 24, 32, 2, 27, 23, 26, 14, 18, 32, 11, 20, 30, 16, 25, 23, 13, 21, 16, 7, 17, 2, 1, 22, 17, 10, 10, 13, 0, 0, 33, 13, 23, 14, 26, 9, 18, 21, 4, 15, 7, 12, 23, 23, 14, 15, 16, 32, 8, 9, 1, 5, 18, 12, 4, 16, 30, 32, 11, 13, 22, 0, 23, 25, 8, 7, 28, 17, 24, 26, 10, 25, 12, 18, 4, 23, 31, 1, 31, 32, 27, 33, 24, 5, 17, 18, 1, 0, 14, 9, 13, 27, 16, 16, 18, 15, 11, 0, 28, 6, 27, 7, 21, 27, 18, 24, 3, 32, 5, 13, 1, 9, 24, 17, 10, 23, 30, 3, 11, 22, 16, 28, 8, 30, 24, 1, 2, 22, 28, 15, 22, 16, 30, 21, 27, 1, 6, 7, 17, 4, 5, 27, 13, 20, 22, 23, 12, 28, 20, 16, 24, 14, 26, 6, 25, 32, 22, 4, 8, 6, 33, 13, 16, 22, 7, 32, 21, 25, 29, 9, 16, 9, 19, 14, 4, 11, 27, 5, 9, 22, 29, 9, 16, 29, 7, 23, 26, 31, 17, 8, 23, 0, 22, 29, 9, 19, 11, 20, 12, 26, 21, 6, 12, 33, 16, 15, 27, 0, 27, 27, 26, 30, 9, 26, 13, 2, 9, 4, 16, 26, 30, 30, 4, 17, 3, 5, 4, 14, 17, 22, 1, 17, 33, 15, 4, 27, 30, 1, 10, 6, 2, 31, 15, 22, 32, 8, 25, 0, 24, 14, 3, 26, 12, 10, 19, 30, 33, 14, 8, 13, 2, 12, 30, 17, 25, 16, 11, 5, 7, 20, 23, 7, 3, 27, 4, 0, 32, 15, 10, 22, 0, 28, 3, 32, 13, 4, 23, 3, 27, 8, 7, 12, 6, 17, 8, 33, 17, 4, 28, 6, 25, 7, 18, 20, 31, 32, 33, 18, 3, 21, 10, 17, 24, 16, 20, 16, 31, 20, 33, 0, 1, 15, 30, 32, 1, 16, 29, 21, 4, 8, 16, 11, 19, 26, 23, 20, 16, 18, 33, 25, 15, 30, 7, 26, 8, 5, 8, 32, 29, 6, 26, 32, 28, 15, 5, 27, 32, 25, 32, 18, 11, 5, 20, 15, 7, 1, 13, 32, 13, 12, 17, 9, 16, 0, 14, 1, 28, 3, 23, 26, 12, 3, 21, 15, 11, 17, 26, 21, 4, 16, 11, 7, 25, 3, 15, 9, 27, 29, 15, 16, 15, 26, 17, 3, 24, 8, 1, 15, 11, 24, 9, 9, 30, 24, 15, 7, 31, 18, 21, 12, 19, 7, 16, 10, 31, 9, 32, 3, 8, 17, 22, 1, 2, 5, 0, 25, 29, 4, 31, 29, 22, 25, 12, 8, 5, 20, 2, 10, 15, 13, 13, 0, 4, 18, 32, 8, 4, 26, 19, 12, 6, 12, 6, 3, 31, 4, 17, 13, 22, 20, 6, 18, 19, 16, 6, 17, 31, 3, 10, 22, 4, 8, 31, 32, 0, 13, 8, 2, 7, 23, 11, 4, 20, 4, 13, 21, 25, 33, 4, 29, 18, 12, 28, 32, 11, 1, 13, 32, 33, 17, 14, 4, 28, 11, 27, 15, 31, 15, 4, 0, 4, 11, 16, 9, 20, 2, 11, 29, 14, 10, 12, 5, 26, 13, 24, 19, 18, 18, 31, 14, 14, 11, 26, 28, 10, 8, 13, 13, 8, 16, 13, 26, 32, 14, 17, 25, 9, 10, 2, 4, 9, 23, 22, 26, 9, 15, 21, 16, 26, 17, 25, 5, 4, 0, 15, 2, 16, 23, 15, 27, 26, 18, 0, 31, 16, 8, 16, 26, 1, 9, 18, 16, 25, 6, 24, 19, 2, 24, 0, 8, 18, 25, 32, 14, 4, 5, 15, 11, 11, 25, 33, 32, 2, 16, 16, 10, 25, 28, 33, 19, 19, 5, 19, 16, 20, 19, 20, 6, 26, 11, 0, 7, 30, 10, 2, 13, 1, 27, 22, 16, 26, 33, 1, 16, 3, 11, 28, 28, 33, 8, 0, 32, 3, 26, 15, 31, 13, 4, 1, 18, 32, 15, 23, 5, 21, 22, 29, 13, 22, 4, 32, 0, 1, 17, 16, 12, 32, 20, 20, 31, 22, 22, 27, 5, 29, 4, 16, 9, 4, 28, 24, 4, 11, 1, 20, 24, 20, 27, 8, 16, 21, 18, 19, 25, 29, 9, 6, 16, 7, 4, 23, 11, 16, 16, 6, 13, 4, 25, 16, 12, 18, 16, 17, 29, 8, 10, 6, 23, 30, 29, 1, 11, 16, 4, 12, 5, 27, 17, 12, 17, 2, 27, 26, 17, 17, 0, 7, 1, 30, 12, 32, 9, 9, 9, 16, 33, 16, 6, 18, 11, 20, 22, 16, 5, 17, 14, 30, 17, 22, 22, 23, 6, 8, 32, 31, 25, 16, 14, 6, 22, 30, 29, 10, 4, 24, 12, 14, 32, 11, 1, 26, 22, 28, 32, 11, 15, 17, 19, 2, 0, 30, 20, 18, 17, 30, 1, 10, 5, 26, 16, 11, 11, 27, 1, 20, 9, 25, 22, 7, 24, 23, 22, 24, 11, 7, 18, 7, 25, 14, 13, 2, 11, 18, 29, 2, 19, 4, 2, 22, 30, 25, 15, 18, 15, 21, 30, 9, 13, 24, 22, 7, 11, 22, 26, 12, 3, 27, 22, 29, 32, 24, 18, 23, 7, 4, 7, 28, 4, 31, 19, 16, 0, 14, 9, 33, 26, 11, 14, 20, 16, 29, 12, 1, 16, 17, 27, 20, 16, 9, 5, 23, 29, 23, 20, 16, 20, 4, 23, 22, 7, 19, 9, 1, 23, 25, 2, 31, 21, 10, 24, 12, 14, 30, 10, 13, 26, 22, 20, 7, 27, 5, 26, 16, 27, 2, 3, 2, 32, 18, 8, 29, 24, 5, 30, 13, 13, 21, 13, 11, 7, 7, 25, 33, 3, 11, 8, 24, 16, 14, 28, 26, 0, 7, 32, 27, 15, 16, 30, 0, 17, 7, 16, 21, 12, 9, 30, 6, 7, 17, 5, 20, 8, 12, 9, 31, 27, 12, 27, 10, 29, 33, 2, 20, 16, 6, 5, 23, 21, 26, 2, 3, 17, 11, 17, 32, 19, 7, 5, 8, 24, 33, 17, 4, 1, 12, 27, 12, 7, 9, 2, 25, 27, 22, 33, 21, 4, 16, 0, 33, 15, 22, 18, 26, 24, 21, 12, 9, 7, 26, 24, 23, 26, 26, 8, 9, 7, 24, 30, 18, 23, 15, 4, 20, 25, 13, 17, 11, 16, 8, 9, 30, 29, 12, 25, 9, 0, 16, 31, 9, 11, 25, 3, 2, 10, 6, 25, 28, 19, 13, 17, 6, 12, 1, 7, 14, 2, 1, 7, 1, 9, 29, 17, 12, 4, 16, 9, 24, 29, 3, 3, 28, 9, 26, 4, 25, 23, 15, 27, 21, 33, 20, 33, 14, 29, 21, 33, 18, 25, 10, 16, 0, 28, 32, 16, 17, 2, 30, 7, 30, 13, 4, 24, 9, 0, 3, 2, 0, 24, 3, 1, 20, 9, 17, 6, 0, 10, 31, 18, 14, 3, 12, 14, 30, 29, 17, 32, 3, 31, 22, 24, 9, 17, 16, 32, 6, 3, 30, 29, 17, 13, 5, 8, 23, 4, 15, 24, 17, 14, 30, 32, 33, 31, 0, 7, 32, 20, 32, 15, 16, 3, 4, 24, 30, 0, 32, 7, 18, 29, 17, 21, 2, 21, 11, 10, 1, 14, 25, 1, 22, 1, 26, 29, 19, 0, 23, 3, 10, 11, 2, 7, 32, 29, 24, 32, 7, 31, 4, 5, 19, 29, 26, 7, 29, 9, 18, 32, 1, 2, 5, 7, 30, 8, 4, 7, 4, 7, 14, 29, 16, 28, 24, 24, 23, 13, 6, 3, 31, 16, 28, 6, 3, 18, 23, 0, 17, 20, 5, 14, 21, 20, 31, 2, 16, 0, 24, 23, 25, 31, 33, 16, 11, 27, 6, 27, 19, 28, 1, 17, 22, 12, 27, 6, 13, 29, 0, 20, 0, 33, 1, 10, 10, 6, 24, 25, 32, 15, 32, 32, 9, 16, 31, 12, 5, 16, 2, 28, 19, 28, 29, 24, 7, 25, 11, 18, 19, 2, 18, 23, 7, 25, 31, 20, 19, 26, 13, 30, 7, 8, 8, 28, 2, 14, 3, 6, 25, 30, 0, 12, 18, 24, 19, 19, 28, 20, 30, 16, 31, 31, 31, 10, 28, 22, 29, 2, 16, 14, 33, 20, 32, 10, 15, 6, 11, 32, 28, 19, 20, 1, 7, 23, 1, 17, 17, 20, 23, 27, 18, 29, 9, 25, 19, 22, 8, 18, 10, 2, 12, 17, 31, 4, 31, 30, 5, 1, 18, 10, 31, 28, 28, 4, 16, 15, 27, 32, 32, 26, 26, 25, 31, 31, 3, 32, 5, 13, 5, 21, 18, 15, 32, 10, 16, 7, 23, 32, 19, 3, 0, 14, 24, 13, 26, 9, 6, 22, 28, 16, 29, 10, 1, 29, 21, 16, 12, 21, 31, 0, 4, 17, 13, 9, 31, 5, 11, 11, 24, 3, 8, 27, 16, 21, 15, 26, 12, 16, 6, 6, 1, 31, 3, 0, 12, 17, 12, 17, 33, 25, 15, 26, 31, 13, 32, 22, 27, 17, 29, 6, 10, 1, 2, 16, 20, 16, 25, 32, 33, 26, 9, 28, 23, 3, 14, 20, 26, 23, 25, 13, 6, 2, 7, 19, 23, 18, 32, 31, 12, 1, 31, 29, 22, 5, 3, 10, 28, 10, 16, 28, 26, 15, 19, 27, 4, 5, 22, 28, 33, 33, 0, 20, 16, 28, 0, 4, 16, 16, 1, 16, 9, 28, 8, 21, 16, 32, 4, 20, 22, 5, 23, 10, 28, 5, 5, 6, 11, 11, 28, 28, 25, 14, 29, 22, 10, 27, 32, 16, 19, 14, 22, 15, 11, 29, 29, 11, 21, 10, 4, 19, 3, 10, 15, 7, 2, 13, 28, 6, 17, 25, 24, 13, 6, 3, 17, 25, 13, 21, 27, 20, 4, 21, 23, 26, 25, 24, 3, 5, 4, 17, 13, 7, 2, 10, 11, 24, 21, 13, 19, 14, 4, 15, 14, 11, 23, 7, 7, 18, 4, 18, 2, 33, 20, 26, 26, 21, 22, 6, 25, 29, 20, 13, 8, 13, 26, 16, 27, 12, 31, 27, 33, 28, 24, 11, 8, 8, 2, 17, 18, 27, 22, 29, 2, 16, 3, 25, 18, 30, 4, 14, 17, 19, 27, 21, 13, 26, 9, 22, 5, 16, 24, 32, 23, 8, 24, 12, 16, 19, 26, 16, 6, 11, 19, 21, 7, 16, 4, 25, 12, 8, 17, 10, 23, 3, 27, 17, 0, 16, 23, 31, 16, 9, 21, 0, 4, 14, 29, 21, 8, 5, 6, 32, 16, 24, 10, 15, 5, 27, 3, 6, 24, 23, 27, 14, 22, 30, 8, 3, 22, 0, 5, 12, 21, 5, 16, 5, 24, 33, 15, 16, 0, 30, 15, 12, 12, 19, 8, 26, 18, 18, 24, 6, 3, 25, 4, 6, 17, 9, 6, 16, 15, 18, 16, 3, 0, 7, 30, 6, 26, 28, 22, 31, 3, 15, 3, 32, 25, 21, 17, 8, 13, 23, 15, 21, 18, 12, 0, 20, 14, 7, 32, 13, 29, 4, 14, 14, 30, 11, 32, 13, 5, 29, 0, 11, 14, 8, 3, 9, 18, 25, 1, 28, 9, 3, 21, 20, 27, 6, 2, 29, 31, 29, 23, 28, 7, 15, 21, 30, 33, 22, 22, 14, 6, 30, 12, 33, 4, 31, 15]\n",
            "[3, 7, 14, 15, 6, 5, 26, 17, 25, 30, 12, 30, 15, 20, 14, 27, 22, 7, 18, 26, 24, 23, 28, 16, 7, 5, 8, 6, 13, 20, 2, 28, 24, 33, 9, 1, 10, 6, 19, 29, 14, 0, 18, 23, 27, 16, 6, 19, 6, 26, 19, 26, 3, 13, 27, 9, 30, 30, 2, 21, 1, 11, 24, 29, 25, 8, 20, 17, 29, 2, 27, 0, 32, 22, 33, 13, 13, 25, 1, 5, 27, 25, 23, 25, 28, 29, 22, 32, 26, 5, 21, 14, 3, 2, 32, 27, 14, 19, 25, 21, 13, 2, 20, 1, 11, 23, 26, 18, 14, 33, 10, 2, 8, 28, 19, 11, 21, 25, 28, 4, 24, 8, 6, 28, 23, 3, 30, 1, 3, 9, 16, 3, 18, 32, 2, 1, 21, 14, 23, 0, 20, 7, 26, 12, 18, 17, 21, 25, 25, 2, 16, 3, 26, 10, 18, 9, 17, 2, 14, 4, 7, 16, 20, 1, 9, 25, 32, 32, 17, 5, 14, 11, 6, 0, 3, 30, 13, 8, 28, 24, 6, 16, 11, 17, 33, 23, 12, 1, 25, 9, 9, 32, 11, 9, 6, 13, 22, 19, 24, 25, 16, 9, 24, 15, 1, 21, 29, 29, 16, 0, 3, 21, 25, 20, 11, 6, 21, 11, 32, 7, 9, 22, 22, 33, 22, 7, 9, 24, 21, 26, 21, 29, 20, 20, 26, 30, 0, 4, 16, 24, 30, 18, 12, 29, 21, 21, 18, 4, 32, 28, 21, 16, 20, 8, 21, 15, 25, 20, 24, 5, 23, 0, 29, 8, 12, 7, 1, 17, 16, 27, 8, 33, 22, 17, 15, 1, 13, 15, 3, 11, 33, 25, 28, 3, 10, 7, 12, 22, 10, 33, 26, 5, 25, 18, 8, 2, 3, 26, 29, 31, 29, 6, 19, 9, 19, 26, 15, 15, 22, 3, 21, 11, 0, 32, 25, 14, 4, 14, 28, 24, 23, 3, 17, 27, 0, 3, 12, 4, 32, 15, 16, 23, 28, 2, 15, 30, 25, 16, 2, 16, 19, 5, 33, 25, 12, 29, 19, 2, 11, 17, 0, 5, 32, 4, 25, 12, 28, 14, 7, 28, 26, 2, 21, 7, 14, 16, 20, 12, 4, 13, 28, 3, 17, 10, 22, 16, 16, 0, 5, 30, 17, 19, 7, 7, 27, 27, 0, 7, 15, 6, 5, 13, 29, 5, 28, 29, 17, 22, 9, 7, 25, 5, 20, 32, 27, 32, 27, 30, 16, 29, 15, 20, 24, 15, 31, 16, 27, 30, 9, 0, 12, 10, 11, 16, 18, 18, 30, 6, 26, 23, 21, 12, 15, 1, 4, 16, 30, 30, 2, 16, 16, 12, 31, 1, 15, 2, 8, 18, 16, 15, 32, 0, 18, 29, 12, 20, 26, 9, 4, 6, 17, 18, 9, 10, 26, 6, 3, 13, 28, 26, 21, 29, 23, 16, 32, 27, 16, 33, 4, 26, 16, 21, 9, 14, 15, 5, 16, 16, 6, 1, 19, 26, 21, 20, 27, 14, 22, 14, 28, 9, 18, 12, 4, 16, 8, 29, 16, 21, 17, 21, 30, 8, 20, 14, 8, 15, 16, 14, 30, 25, 5, 24, 20, 7, 17, 13, 32, 2, 25, 28, 13, 30, 19, 20, 19, 1, 2, 14, 30, 19, 1, 7, 19, 9, 23, 3, 3, 13, 27, 29, 23, 16, 12, 11, 6, 14, 12, 16, 3, 4, 9, 22, 20, 20, 16, 33, 24, 22, 16, 11, 12, 21, 31, 30, 33, 14, 4, 16, 0, 7, 31, 30, 31, 4, 2, 23, 22, 10, 27, 32, 12, 9, 30, 12, 13, 22, 25, 16, 12, 8, 21, 27, 31, 8, 23, 31, 15, 10, 19, 9, 32, 12, 6, 31, 2, 5, 25, 25, 23, 5, 24, 19, 24, 24, 12, 28, 22, 18, 31, 24, 6, 28, 5, 18, 5, 7, 21, 0, 32, 26, 31, 26, 23, 9, 23, 10, 32, 33, 8, 23, 18, 8, 12, 14, 3, 20, 32, 9, 7, 33, 5, 23, 5, 9, 28, 26, 25, 15, 20, 14, 2, 6, 20, 29, 10, 10, 33, 21, 33, 1, 9, 32, 6, 25, 21, 7, 1, 33, 33, 2, 32, 22, 18, 17, 24, 2, 17, 29, 24, 4, 30, 30, 22, 10, 7, 23, 23, 25, 21, 5, 4, 8, 21, 6, 16, 8, 12, 5, 7, 2, 19, 10, 27, 20, 1, 24, 12, 12, 19, 2, 22, 11, 6, 24, 21, 20, 6, 15, 16, 14, 6, 5, 3, 18, 10, 24, 10, 10, 24, 5, 24, 12, 16, 5, 14, 6, 25, 7, 17, 15, 22, 12, 24, 11, 6, 16, 2, 16, 2, 12, 13, 14, 14, 31, 17, 18, 10, 32, 11, 22, 17, 30, 20, 25, 2, 16, 22, 18, 10, 16, 26, 8, 6, 24, 30, 30, 3, 21, 28, 18, 31, 31, 21, 0, 17, 31, 19, 10, 2, 25, 17, 16, 10, 28, 26, 5, 31, 6, 23, 4, 25, 27, 16, 28, 3, 29, 9, 24, 2, 7, 16, 3, 23, 13, 22, 24, 7, 0, 9, 4, 0, 3, 13, 15, 14, 25, 14, 28, 5, 12, 3, 30, 0, 14, 25, 12, 21, 29, 3, 2, 23, 19, 10, 25, 15, 1, 11, 16, 12, 10, 16, 22, 13, 0, 0, 3, 24, 3, 30, 3, 7, 7, 6, 16, 17, 0, 8, 3, 4, 29, 2, 30, 26, 23, 33, 30, 7, 0, 1, 24, 33, 23, 19, 6, 11, 17, 17, 30, 18, 9, 10, 19, 16, 20, 26, 14, 12, 24, 13, 31, 3, 19, 18, 11, 7, 31, 15, 30, 29, 19, 20, 22, 28, 7, 32, 15, 20, 27, 26, 0, 22, 5, 20, 24, 16, 31, 27, 28, 13, 12, 6, 9, 16, 12, 0, 17, 11, 12, 18, 1, 32, 16, 23, 26, 11, 4, 18, 29, 15, 25, 8, 26, 21, 4, 1, 33, 2, 0, 17, 4, 11, 13, 18, 29, 1, 3, 24, 23, 12, 29, 8, 16, 19, 21, 4, 23, 32, 12, 32, 30, 9, 3, 23, 10, 17, 26, 28, 16, 31, 5, 12, 11, 5, 3, 18, 21, 4, 19, 14, 20, 7, 27, 20, 19, 24, 21, 20, 26, 1, 1, 4, 27, 25, 18, 11, 23, 3, 1, 27, 30, 0, 9, 26, 10, 23, 13, 31, 27, 23, 0, 24, 11, 5, 9, 18, 12, 17, 25, 11, 16, 33, 12, 5, 2, 28, 32, 32, 28, 15, 11, 4, 8, 12, 4, 28, 27, 11, 1, 26, 12, 15, 33, 15, 8, 10, 5, 5, 3, 9, 9, 9, 21, 30, 10, 18, 9, 7, 5, 22, 21, 1, 29, 20, 14, 23, 14, 11, 10, 29, 8, 29, 14, 11, 8, 21, 24, 33, 24, 7, 1, 6, 9, 23, 32, 17, 21, 15, 26, 28, 17, 13, 14, 26, 32, 4, 20, 14, 23, 26, 27, 25, 4, 0, 5, 16, 17, 26, 9, 30, 8, 15, 20, 1, 16, 20, 15, 21, 23, 0, 26, 28, 3, 16, 16, 9, 20, 23, 7, 27, 31, 30, 10, 26, 28, 31, 11, 0, 26, 13, 23, 0, 23, 25, 16, 27, 26, 6, 5, 16, 29, 30, 30, 6, 28, 12, 28, 21, 18, 8, 15, 15, 3, 26, 23, 4, 8, 21, 9, 5, 18, 8, 33, 23, 33, 14, 9, 27, 15, 20, 14, 11, 20, 24, 17, 16, 19, 14, 18, 14, 19, 24, 6, 3, 15, 1, 20, 22, 20, 10, 17, 16, 29, 23, 31, 19, 8, 21, 6, 2, 6, 26, 28, 24, 31, 18, 29, 28, 16, 31, 8, 4, 3, 15, 12, 16, 0, 10, 25, 16, 11, 15, 15, 10, 18, 2, 1, 15, 20, 12, 23, 15, 16, 32, 27, 0, 15, 16, 13, 26, 9, 9, 27, 20, 2, 3, 21, 6, 17, 27, 16, 26, 32, 9, 4, 13, 24, 1, 19, 7, 0, 27, 24, 1, 11, 22, 25, 17, 3, 31, 27, 6, 13, 32, 13, 19, 12, 2, 25, 16, 4, 20, 10, 33, 16, 10, 10, 24, 32, 2, 32, 14, 16, 13, 28, 27, 21, 14, 14, 3, 20, 23, 13, 28, 20, 26, 13, 29, 31, 28, 11, 3, 16, 27, 26, 6, 9, 16, 32, 29, 29, 11, 27, 3, 9, 2, 5, 30, 18, 19, 24, 32, 20, 0, 8, 30, 19, 11, 2, 31, 1, 12, 10, 20, 17, 3, 7, 7, 3, 21, 11, 12, 24, 7, 2, 21, 0, 12, 11, 8, 9, 30, 2, 26, 7, 27, 9, 0, 32, 18, 18, 25, 0, 5, 7, 28, 23, 28, 21, 16, 9, 26, 18, 22, 13, 1, 5, 26, 15, 14, 31, 25, 3, 1, 23, 15, 31, 14, 30, 0, 3, 9, 7, 5, 28, 24, 31, 14, 4, 11, 12, 13, 5, 31, 3, 31, 23, 4, 25, 17, 31, 24, 33, 7, 18, 20, 16, 3, 8, 6, 24, 31, 4, 31, 27, 2, 27, 15, 15, 12, 22, 29, 28, 4, 25, 27, 6, 23, 21, 1, 21, 16, 29, 27, 12, 26, 10, 21, 33, 30, 22, 22, 5, 7, 23, 20, 23, 6, 6, 28, 20, 16, 25, 1, 2, 25, 29, 20, 9, 30, 14, 13, 19, 25, 29, 8, 24, 16, 18, 23, 7, 17, 24, 4, 4, 13, 17, 27, 16, 4, 5, 29, 16, 24, 1, 25, 21, 20, 20, 12, 32, 16, 10, 18, 33, 4, 22, 10, 11, 20, 28, 11, 21, 31, 15, 33, 1, 8, 15, 17, 30, 21, 26, 23, 32, 32, 33, 30, 29, 14, 11, 4, 33, 18, 14, 8, 6, 5, 8, 0, 0, 26, 5, 7, 24, 12, 12, 1, 29, 15, 3, 21, 8, 25, 21, 16, 11, 7, 5, 24, 31, 6, 7, 6, 17, 12, 15, 1, 24, 29, 12, 25, 12, 23, 8, 21, 11, 31, 30, 18, 27, 8, 1, 25, 13, 8, 8, 22, 25, 31, 18, 25, 28, 24, 6, 13, 32, 3, 32, 26, 15, 5, 28, 19, 31, 23, 18, 12, 33, 33, 0, 33, 0, 22, 24, 19, 28, 20, 1, 22, 10, 15, 2, 20, 5, 4, 15, 9, 32, 10, 32, 7, 14, 8, 22, 2, 1, 7, 30, 11, 32, 13, 5, 29, 24, 26, 21, 20, 25, 12, 26, 8, 11, 14, 4, 13, 21, 8, 19, 16, 16, 27, 4, 29, 13, 33, 32, 2, 1, 12, 25, 0, 4, 18, 21, 8, 33, 8, 3, 32, 31, 18, 23, 24, 33, 27, 28, 3, 14, 13, 24, 33, 31, 11, 17, 33, 30, 24, 2, 16, 6, 25, 21, 16, 1, 24, 30, 16, 21, 4, 7, 26, 1, 22, 33, 19, 15, 21, 24, 18, 20, 23, 18, 32, 22, 22, 29, 11, 25, 0, 15, 32, 9, 16, 18, 15, 16, 23, 10, 23, 27, 5, 33, 6, 5, 26, 33, 15, 30, 14, 0, 15, 31, 12, 29, 0, 27, 32, 11, 7, 29, 17, 22, 7, 0, 27, 30, 21, 27, 2, 14, 2, 32, 32, 9, 8, 14, 5, 7, 26, 6, 2, 15, 18, 28, 8, 14, 22, 8, 32, 29, 26, 9, 11, 17, 16, 33, 14, 20, 2, 7, 26, 17, 7, 21, 25, 31, 4, 2, 20, 5, 19, 18, 9, 12, 19, 7, 9, 31, 12, 19, 0, 9, 1, 25, 18, 28, 24, 26, 13, 7, 26, 33, 23, 17, 16, 3, 23, 31, 19, 0, 27, 17, 14, 11, 7, 24, 5, 30, 22, 8, 27, 11, 18, 1, 28, 19, 3, 27, 6, 32, 10, 16, 29, 0, 26, 26, 6, 3, 2, 21, 6, 15, 17, 11, 10, 22, 27, 17, 7, 5, 16, 2, 12, 11, 3, 33, 32, 20, 25, 7, 11, 1, 2, 8, 19, 25, 32, 10, 1, 18, 12, 1, 3, 30, 3, 29, 0, 15, 3, 2, 1, 30, 26, 4, 18, 19, 27, 0, 31, 16, 32, 7, 28, 27, 16, 24, 6, 27, 20, 24, 5, 25, 12, 9, 28, 17, 19, 30, 27, 16, 1, 26, 16, 17, 16, 13, 3, 0, 9, 21, 9, 3, 8, 26, 32, 30, 30, 9, 10, 8, 8, 8, 3, 24, 7, 26, 11, 1, 20, 2, 28, 17, 26, 16, 13, 28, 29, 30, 31, 28, 5, 0, 6, 9, 1, 27, 25, 18, 29, 29, 19, 14, 26, 24, 11, 26, 3, 23, 12, 7, 23, 24, 24, 32, 1, 25, 2, 29, 32, 14, 14, 23, 16, 26, 23, 27, 6, 14, 0, 23, 11, 17, 16, 12, 9, 11, 26, 30, 33, 14, 8, 12, 27, 26, 1, 30, 6, 27, 13, 13, 26, 31, 10, 27, 15, 10, 15, 20, 9, 27, 8, 20, 2, 26, 30, 15, 17, 16, 24, 3, 11, 18, 17, 32, 25, 28, 14, 4, 24, 5, 29, 32, 0, 4, 20, 10, 2, 28, 27, 17, 23, 3, 16, 1, 3, 20, 23, 16, 2, 25, 32, 27, 23, 26, 15, 18, 29, 7, 33, 18, 24, 24, 5, 13, 3, 19, 18, 26, 27, 12, 13, 24, 3, 14, 5, 22, 3, 15, 25, 8, 15, 8, 14, 29, 8, 3, 6, 33, 6, 15, 27, 7, 17, 2, 27, 23, 8, 22, 26, 17, 4, 17, 2, 23, 0, 0, 11, 25, 19, 7, 23, 3, 16, 10, 10, 8, 6, 5, 17, 15, 4, 31, 32, 16, 32, 16, 9, 5, 16, 1, 9, 22, 9, 15, 3, 32, 10, 1, 20, 5, 8, 31, 27, 13, 16, 10, 20, 13, 0, 4, 17, 9, 20, 10, 22, 23, 18, 12, 0, 18, 21, 7, 3, 33, 1, 16, 4, 3, 27, 17, 26, 26, 29, 10, 6, 30, 24, 8, 31, 24, 21, 4, 29, 19, 7, 30, 11, 23, 21, 32, 20, 33, 18, 16, 2, 21, 24, 17, 15, 33, 23, 12, 4, 4, 26, 4, 12, 30, 24, 33, 8, 15, 32, 15, 17, 8, 20, 16, 17, 19, 33, 4, 19, 22, 8, 17, 20, 1, 13, 8, 22, 4, 28, 3, 22, 17, 2, 28, 24, 33, 12, 27, 12, 11, 26, 27, 28, 11, 13, 3, 27, 24, 33, 15, 19, 15, 16, 24, 6, 16, 26, 6, 8, 19, 19, 28, 26, 20, 3, 13, 15, 6, 13, 26, 23, 0, 18, 2, 23, 27, 4, 24, 16, 17, 32, 6, 31, 11, 32, 33, 28, 9, 4, 16, 5, 0, 12, 23, 29, 16, 24, 7, 27, 33, 6, 25, 28, 0, 10, 13, 1, 8, 20, 10, 30, 7, 14, 6, 8, 23, 0, 25, 22, 31, 17, 18, 31, 20, 30, 4, 14, 25, 10, 22, 25, 4, 33, 17, 1, 33, 10, 22, 8, 7, 30, 14, 23, 4, 4, 13, 26, 15, 18, 24, 16, 2, 5, 5, 2, 3, 6, 18, 3, 22, 9, 3, 5, 22, 22, 28, 16, 12, 29, 19, 20, 21, 1, 9, 16, 20, 15, 11, 4, 6, 28, 2, 18, 29, 0, 10, 9, 2, 23, 19, 15, 24, 10, 3, 1, 31, 16, 16, 20, 20, 20, 23, 1, 14, 0, 1, 15, 3, 22, 8, 16, 2, 9, 15, 9, 7, 14, 17, 11, 31, 11, 19, 29, 20, 31, 9, 25, 29, 5, 1, 10, 22, 19, 27, 28, 15, 31, 1, 18, 22, 28, 7, 29, 7, 25, 11, 23, 29, 14, 16, 7, 6, 20, 30, 33, 24, 1, 21, 23, 23, 8, 11, 17, 3, 6, 26, 27, 14, 18, 22, 10, 30, 12, 19, 22, 15, 12, 11, 5, 21, 26, 10, 25, 24, 23, 14, 20, 27, 26, 14, 14, 3, 20, 4, 26, 3, 20, 16, 17, 18, 20, 16, 30, 16, 7, 6, 14, 12, 32, 20, 24, 16, 14, 7, 9, 33, 31, 8, 5, 26, 22, 33, 3, 11, 5, 8, 31, 2, 27, 16, 27, 27, 26, 32, 33, 4, 25, 12, 11, 20, 26, 16, 27, 32, 28, 4, 1, 3, 28, 18, 12, 12, 15, 11, 1, 10, 14, 14, 9, 20, 13, 28, 0, 22, 18, 1, 17, 2, 6, 18, 33, 17, 27, 25, 1, 32, 6, 29, 33, 11, 22, 6, 21, 17, 25, 9, 14, 29, 2, 25, 0, 10, 21, 23, 19, 29, 31, 19, 16, 29, 11, 20, 8, 22, 22, 6, 21, 16, 12, 0, 27, 19, 13, 31, 32, 18, 19, 3, 30, 32, 33, 4, 16, 18, 24, 6, 29, 28, 5, 27, 30, 15, 7, 3, 11, 19, 31, 28, 13, 1, 10, 6, 32, 6, 33, 4, 14, 13, 12, 19, 1, 16, 8, 33, 24, 12, 14, 16, 21, 12, 2, 17, 32, 26, 3, 30, 1, 0, 0, 29, 26, 27, 27, 29, 11, 18, 32, 20, 23, 3, 29, 33, 20, 7, 31, 31, 26, 19, 16, 26, 28, 24, 6, 2, 12, 26, 12, 33, 3, 21, 13, 21, 13, 24, 15, 5, 14, 26, 16, 26, 14, 16, 22, 20, 12, 18, 13, 0, 21, 13, 14, 26, 16, 32, 8, 0, 28, 19, 16, 27, 32, 15, 25, 4, 16, 20, 30, 26, 6, 27, 3, 19, 8, 29, 5, 20, 7, 32, 0, 12, 23, 15, 7, 23, 11, 11, 30, 26, 15, 30, 29, 5, 0, 19, 3, 23, 10, 14, 24, 20, 21, 16, 16, 14, 19, 20, 11, 2, 6, 16, 19, 17, 19, 14, 19, 30, 13, 28, 8, 16, 10, 20, 23, 24, 11, 5, 24, 14, 16, 17, 7, 15, 1, 14, 28, 27, 17, 2, 22, 12, 33, 24, 22, 31, 10, 33, 27, 16, 33, 22, 33, 16, 28, 25, 0, 24, 16, 26, 26, 0, 7, 16, 7, 15, 2, 0, 5, 17, 29, 23, 13, 17, 8, 4, 11, 33, 19, 32, 33, 2, 1, 32, 2, 18, 29, 12, 23, 16, 28, 9, 9, 25, 16, 5, 21, 23, 8, 10, 1, 22, 33, 9, 8, 30, 8, 31, 26, 17, 22, 24, 17, 25, 30, 26, 30, 23, 5, 32, 5, 11, 32, 28, 33, 30, 22, 18, 10, 12, 2, 15, 22, 7, 25, 14, 13, 16, 0, 31, 21, 7, 7, 5, 15, 32, 13, 6, 2, 30, 4, 24, 31, 29, 27, 24, 20, 8, 24, 8, 4, 2, 10, 33, 24, 5, 23, 27, 30, 0, 24, 1, 7, 15, 25, 30, 23, 24, 0, 33, 5, 25, 3, 13, 2, 19, 17, 9, 7, 30, 6, 23, 7, 2, 32, 19, 0, 29, 25, 25, 19, 19, 15, 19, 24, 31, 19, 25, 19, 30, 14, 16, 9, 29, 1, 23, 7, 23, 32, 5, 16, 6, 23, 32, 22, 21, 7, 8, 6, 14, 26, 17, 15, 8, 27, 6, 23, 16, 16, 32, 23, 4, 16, 4, 6, 13, 26, 30, 30, 11, 2, 2, 24, 23, 19, 4, 15, 14, 15, 2, 24, 21, 17, 21, 5, 14, 24, 2, 23, 29, 31, 16, 8, 6, 16, 16, 30, 6, 17, 17, 14, 4, 23, 1, 10, 10, 17, 13, 29, 31, 28, 18, 9, 11, 23, 4, 21, 33, 26, 20, 33, 12, 6, 32, 15, 7, 13, 31, 28, 11, 26, 3, 24, 22, 22, 18, 16, 0, 1, 23, 26, 28, 29, 23, 10, 6, 33, 2, 18, 1, 1, 8, 5, 9, 17, 5, 19, 31, 25, 5, 19, 2, 12, 0, 9, 17, 3, 20, 33, 31, 15, 32, 19, 28, 1, 23, 16, 14, 16, 28, 4, 19, 3, 21, 19, 2, 22, 5, 13, 15, 16, 6, 26, 30, 33, 7, 20, 6, 14, 11, 24, 28, 19, 17, 25, 21, 5, 25, 29, 20, 17, 30, 33, 9, 26, 8, 22, 20, 17, 8, 19, 21, 4, 6, 5, 16, 26, 0, 23, 30, 16, 31, 29, 16, 15, 24, 5, 11, 25, 10, 28, 21, 27, 14, 31, 25, 17, 9, 19, 20, 33, 2, 10, 32, 23, 31, 18, 17, 3, 1, 4, 26, 0, 2, 16, 15, 6, 26, 33, 14, 23, 33, 2, 27, 10, 11, 32, 7, 19, 2, 15, 32, 30, 5, 13, 33, 31, 30, 20, 33, 23, 28, 17, 8, 31, 1, 9, 1, 2, 6, 26, 29, 6, 16, 29, 21, 26, 16, 14, 0, 8, 32, 25, 30, 16, 0, 8, 24, 30, 32, 4, 17, 26, 6, 11, 8, 18, 25, 29, 28, 19, 1, 9, 26, 12, 33, 12, 13, 27, 22, 23, 18, 8, 11, 20, 23, 16, 12, 4, 7, 0, 20, 20, 16, 8, 16, 26, 25, 33, 2, 10, 15, 27, 13, 33, 25, 0, 1, 11, 27, 24, 27, 27, 9, 32, 24, 10, 16, 28, 2, 21, 0, 16, 16, 25, 0, 23, 0, 5, 13, 6, 2, 0, 28, 27, 9, 8, 16, 32, 32, 6, 23, 28, 10, 14, 12, 0, 20, 24, 0, 3, 27, 22, 10, 23, 2, 30, 12, 29, 3, 33, 9, 33, 11, 15, 16, 16, 18, 27, 24, 29, 1, 14, 19, 9, 33, 33, 27, 16, 16, 21, 20, 5, 4, 21, 32, 13, 22, 30, 22, 12, 28, 33, 22, 27, 31, 32, 6, 12, 15, 22, 12, 12, 18, 19, 17, 32, 31, 6, 23, 21, 10, 28, 1, 17, 30, 12, 3, 25, 27, 25, 31, 10, 32, 20, 22, 27, 18, 25, 6, 27, 7, 23, 23, 29, 13, 19, 25, 16, 30, 18, 11, 11, 31, 29, 23, 7, 31, 10, 26, 19, 17, 6, 5, 19, 3, 7, 3, 16, 12, 28, 23, 10, 15, 13, 16, 33, 15, 15, 0, 10, 2, 29, 12, 16, 26, 17, 23, 19, 21, 11, 19, 7, 29, 31, 8, 28, 3, 22, 22, 23, 23, 4, 2, 5, 24, 16, 16, 27, 5, 28, 9, 1, 29, 9, 4, 14, 16, 31, 16, 25, 11, 2, 9, 30, 20, 21, 27, 17, 25, 28, 32, 25, 13, 15, 1, 11, 31, 1, 33, 2, 0, 7, 20, 29, 23, 16, 17, 20, 19, 11, 7, 30, 30, 9, 17, 23, 25, 24, 25, 19, 18, 21, 0, 29, 21, 26, 19, 9, 13, 17, 13, 8, 8, 5, 19, 13, 18, 25, 15, 9, 1, 2, 21, 7, 4, 31, 33, 22, 18, 1, 16, 21, 3, 33, 1, 26, 2, 4, 17, 26, 3, 1, 15, 9, 17, 7, 22, 9, 32, 26, 30, 24, 3, 6, 31, 9, 2, 29, 30, 23, 0, 1, 10, 7, 18, 20, 31, 15, 18, 13, 6, 22, 27, 26, 3, 0, 12, 4, 3, 1, 0, 14, 12, 22, 24, 21, 33, 6, 31, 14, 3, 29, 31, 6, 16, 30, 9, 15, 6, 25, 25, 28, 4, 21, 12, 28, 30, 21, 5, 2, 32, 0, 2, 14, 16, 9, 20, 5, 21, 21, 30, 18, 17, 1, 28, 33, 27, 20, 14, 5, 16, 16, 7, 11, 17, 10, 14, 3, 2, 23, 33, 29, 27, 18, 5, 0, 26, 11, 30, 16, 1, 19, 33, 1, 18, 16, 4, 14, 5, 24, 10, 26, 18, 15, 31, 17, 14, 29, 12, 15, 20, 1, 17, 21, 16, 31, 20, 1, 24, 16, 19, 26, 13, 17, 12, 7, 12, 2, 28, 5, 22, 9, 6, 26, 16, 16, 5, 10, 0, 33, 22, 33, 8, 25, 30, 1, 31, 13, 15, 29, 30, 30, 29, 11, 26, 23, 28, 31, 29, 18, 14, 13, 21, 32, 29, 13, 2, 3, 21, 31, 13, 32, 10, 25, 6, 11, 1, 8, 31, 22, 8, 10, 31, 17, 32, 1, 31, 27, 23, 1, 5, 12, 1, 0, 5, 3, 30, 7, 30, 16, 4, 29, 9, 30, 4, 24, 2, 8, 32, 25, 33, 3, 21, 26, 10, 4, 33, 7, 26, 28, 22, 7, 22, 2, 20, 16, 6, 17, 2, 4, 23, 4, 8, 17, 10, 16, 8, 6, 7, 13, 7, 3, 26, 7, 22, 29, 7, 6, 0, 31, 33, 2, 4, 16, 15, 8, 28, 11, 20, 6, 23, 1, 11, 16, 33, 30, 24, 11, 32, 29, 17, 10, 1, 16, 12, 30, 1]\n",
            "test cases :  4000\n",
            "wrong cases :  3873\n",
            "\n",
            "Model accuracy score with Decision Tree 3.175\n",
            "\n",
            "#-------------XGBoost-----------------#\n",
            "Boosting the Decision Tree  \n",
            "DecisionTreeClassifier()\n",
            "[24, 24, 10, 5, 9, 31, 16, 10, 4, 33, 24, 16, 4, 22, 12, 17, 8, 24, 32, 24, 14, 10, 22, 28, 27, 27, 11, 26, 16, 4, 5, 17, 32, 29, 11, 1, 4, 7, 27, 27, 15, 27, 30, 7, 24, 4, 30, 33, 22, 22, 24, 33, 2, 24, 32, 31, 17, 4, 25, 21, 8, 1, 9, 4, 27, 27, 32, 7, 29, 6, 2, 28, 20, 16, 11, 30, 11, 14, 1, 10, 27, 25, 30, 28, 0, 21, 0, 33, 22, 22, 1, 16, 16, 33, 25, 21, 12, 13, 8, 24, 17, 33, 23, 19, 19, 13, 2, 1, 1, 7, 1, 26, 13, 7, 31, 19, 2, 22, 14, 3, 5, 6, 31, 30, 28, 19, 25, 19, 7, 23, 8, 14, 19, 4, 10, 12, 17, 23, 25, 13, 26, 26, 5, 5, 4, 25, 20, 27, 19, 23, 26, 16, 27, 32, 22, 10, 32, 4, 4, 7, 26, 9, 22, 1, 9, 12, 22, 13, 32, 17, 18, 15, 29, 7, 11, 29, 8, 5, 26, 26, 22, 26, 16, 8, 16, 3, 5, 27, 1, 10, 33, 24, 6, 29, 6, 18, 7, 12, 29, 28, 7, 15, 9, 26, 32, 28, 26, 0, 15, 14, 22, 13, 10, 29, 19, 13, 32, 19, 6, 8, 26, 8, 14, 0, 5, 3, 8, 31, 24, 19, 28, 2, 22, 26, 13, 32, 18, 27, 21, 19, 21, 6, 16, 29, 25, 33, 4, 23, 0, 33, 31, 23, 7, 21, 24, 30, 3, 22, 11, 8, 16, 22, 0, 1, 5, 7, 18, 15, 4, 13, 18, 31, 9, 5, 2, 17, 10, 14, 15, 11, 15, 9, 32, 10, 11, 23, 10, 12, 14, 11, 3, 19, 5, 20, 11, 14, 15, 8, 16, 1, 18, 22, 31, 0, 24, 23, 30, 20, 13, 29, 31, 9, 16, 20, 2, 21, 19, 23, 5, 33, 1, 3, 13, 1, 2, 27, 17, 17, 17, 17, 26, 32, 24, 16, 33, 16, 27, 17, 24, 17, 10, 25, 0, 30, 25, 6, 8, 8, 9, 10, 28, 7, 15, 27, 33, 16, 10, 16, 11, 9, 5, 0, 0, 33, 9, 27, 5, 16, 30, 8, 4, 26, 27, 17, 18, 17, 20, 20, 0, 16, 33, 12, 14, 9, 32, 4, 6, 18, 23, 8, 28, 28, 21, 12, 25, 8, 31, 27, 8, 30, 6, 18, 6, 19, 7, 28, 15, 32, 2, 6, 13, 8, 7, 15, 17, 16, 3, 31, 8, 27, 23, 16, 7, 25, 20, 9, 28, 31, 21, 25, 2, 11, 29, 31, 12, 6, 6, 1, 10, 26, 17, 7, 11, 22, 4, 16, 2, 18, 21, 27, 18, 25, 21, 1, 29, 2, 0, 7, 17, 18, 22, 31, 15, 33, 17, 22, 29, 19, 30, 18, 5, 28, 31, 4, 8, 31, 7, 25, 8, 8, 25, 33, 7, 9, 29, 31, 29, 17, 28, 12, 31, 24, 23, 14, 19, 21, 5, 24, 31, 20, 29, 30, 7, 3, 4, 3, 21, 7, 4, 10, 1, 27, 3, 1, 27, 2, 7, 8, 13, 11, 15, 31, 20, 18, 22, 19, 19, 31, 6, 7, 5, 31, 16, 9, 27, 28, 12, 32, 1, 6, 14, 16, 24, 8, 16, 26, 6, 23, 14, 31, 6, 14, 31, 17, 9, 18, 29, 28, 9, 22, 5, 18, 31, 32, 14, 21, 20, 20, 12, 0, 24, 7, 15, 7, 33, 25, 13, 31, 5, 13, 31, 13, 32, 18, 26, 14, 15, 16, 30, 28, 25, 11, 21, 22, 24, 6, 6, 13, 9, 17, 8, 15, 26, 9, 23, 28, 22, 23, 26, 20, 24, 32, 7, 31, 16, 25, 6, 9, 25, 12, 16, 5, 23, 10, 33, 19, 16, 1, 30, 19, 8, 33, 25, 10, 19, 2, 12, 16, 11, 19, 3, 10, 4, 8, 25, 21, 3, 1, 15, 19, 31, 7, 26, 29, 18, 12, 9, 0, 7, 28, 11, 1, 7, 0, 1, 10, 0, 16, 2, 26, 12, 15, 5, 26, 30, 27, 4, 2, 24, 23, 1, 20, 18, 0, 27, 6, 32, 6, 1, 17, 22, 26, 5, 18, 3, 0, 21, 3, 4, 32, 15, 14, 24, 32, 5, 23, 5, 31, 20, 2, 18, 23, 16, 9, 8, 17, 11, 16, 4, 17, 4, 30, 16, 16, 1, 17, 23, 13, 29, 23, 27, 7, 6, 5, 29, 21, 25, 33, 14, 14, 30, 19, 33, 16, 25, 14, 30, 3, 31, 5, 1, 6, 26, 17, 33, 16, 29, 19, 11, 16, 19, 20, 29, 12, 30, 15, 3, 14, 0, 20, 29, 26, 9, 14, 0, 28, 11, 7, 13, 32, 18, 32, 17, 28, 18, 15, 11, 3, 22, 8, 17, 10, 13, 13, 15, 24, 12, 16, 29, 32, 25, 23, 15, 6, 8, 31, 3, 32, 9, 26, 33, 31, 20, 26, 13, 27, 30, 33, 18, 17, 30, 10, 18, 4, 30, 10, 10, 15, 2, 8, 16, 13, 8, 4, 15, 8, 16, 6, 29, 22, 2, 11, 14, 0, 12, 17, 25, 14, 32, 33, 18, 7, 18, 9, 0, 29, 22, 26, 16, 18, 22, 25, 16, 23, 5, 29, 10, 6, 14, 19, 5, 23, 26, 14, 26, 5, 21, 13, 24, 23, 26, 22, 14, 29, 17, 4, 0, 2, 30, 16, 30, 29, 0, 7, 19, 25, 7, 8, 30, 28, 6, 2, 7, 5, 1, 33, 15, 4, 33, 32, 25, 21, 29, 16, 2, 7, 22, 10, 15, 20, 25, 24, 17, 26, 28, 23, 22, 28, 30, 5, 16, 7, 19, 20, 8, 16, 12, 32, 5, 33, 10, 26, 5, 18, 29, 23, 27, 26, 16, 23, 5, 0, 21, 3, 3, 19, 11, 31, 26, 33, 22, 30, 11, 23, 31, 22, 2, 16, 13, 31, 1, 22, 32, 25, 2, 5, 16, 24, 7, 25, 19, 31, 16, 6, 10, 4, 33, 22, 33, 13, 17, 13, 21, 16, 3, 6, 32, 24, 0, 26, 10, 16, 16, 30, 21, 12, 26, 2, 19, 22, 7, 30, 3, 25, 24, 15, 5, 6, 21, 10, 2, 15, 29, 28, 18, 9, 1, 11, 2, 31, 15, 23, 16, 14, 23, 3, 28, 13, 3, 25, 26, 21, 23, 10, 2, 20, 11, 16, 7, 2, 16, 29, 17, 22, 16, 11, 1, 14, 23, 9, 27, 33, 29, 29, 27, 16, 28, 13, 18, 26, 5, 22, 29, 29, 31, 16, 19, 5, 1, 27, 2, 9, 28, 14, 6, 6, 16, 33, 17, 23, 1, 16, 18, 3, 19, 16, 16, 6, 18, 7, 26, 28, 24, 13, 19, 33, 14, 31, 16, 29, 19, 2, 16, 10, 1, 26, 5, 29, 6, 29, 31, 29, 20, 10, 16, 29, 9, 33, 33, 33, 16, 16, 31, 30, 0, 16, 9, 17, 14, 8, 25, 19, 27, 31, 10, 17, 10, 12, 23, 33, 8, 20, 16, 4, 25, 26, 26, 12, 20, 24, 3, 31, 3, 18, 21, 20, 4, 16, 9, 16, 2, 28, 29, 29, 11, 5, 33, 19, 27, 26, 22, 13, 10, 0, 4, 25, 5, 16, 16, 32, 17, 28, 9, 0, 22, 9, 32, 3, 8, 10, 4, 16, 3, 23, 4, 26, 33, 23, 27, 15, 20, 24, 27, 10, 5, 31, 32, 16, 30, 22, 7, 33, 13, 28, 24, 32, 32, 28, 27, 22, 32, 33, 29, 19, 16, 12, 4, 33, 10, 13, 8, 16, 28, 6, 19, 16, 18, 14, 32, 27, 12, 31, 23, 27, 20, 30, 2, 27, 10, 18, 2, 12, 32, 13, 22, 23, 20, 11, 21, 25, 14, 30, 25, 25, 16, 25, 23, 28, 18, 32, 17, 17, 25, 26, 6, 17, 17, 13, 27, 32, 16, 21, 20, 27, 21, 11, 11, 25, 28, 33, 0, 21, 31, 30, 31, 20, 16, 4, 19, 0, 0, 14, 12, 6, 2, 13, 19, 1, 5, 19, 16, 5, 25, 25, 31, 16, 4, 24, 17, 29, 21, 12, 6, 31, 26, 20, 3, 2, 33, 21, 10, 8, 28, 26, 1, 5, 32, 2, 5, 7, 32, 33, 13, 12, 27, 0, 5, 33, 32, 22, 27, 27, 32, 24, 15, 11, 4, 24, 23, 25, 20, 17, 9, 11, 13, 17, 15, 32, 2, 15, 8, 13, 6, 18, 1, 2, 16, 27, 28, 17, 16, 10, 18, 2, 2, 9, 8, 8, 17, 6, 13, 16, 30, 13, 1, 9, 16, 14, 10, 2, 12, 30, 31, 23, 9, 1, 3, 25, 7, 30, 28, 6, 32, 5, 10, 18, 24, 28, 3, 11, 28, 0, 5, 12, 1, 11, 27, 3, 21, 23, 18, 26, 19, 16, 33, 16, 19, 9, 25, 17, 2, 21, 15, 28, 24, 24, 23, 23, 13, 20, 20, 0, 0, 20, 12, 9, 32, 3, 20, 33, 10, 10, 21, 33, 16, 16, 5, 1, 14, 4, 0, 8, 20, 23, 16, 3, 12, 16, 0, 4, 3, 0, 16, 20, 21, 15, 9, 26, 16, 19, 8, 19, 28, 27, 29, 32, 5, 8, 31, 24, 6, 2, 15, 17, 5, 28, 25, 13, 12, 27, 33, 9, 0, 18, 18, 3, 9, 25, 4, 7, 16, 32, 0, 9, 32, 28, 5, 0, 18, 18, 10, 26, 15, 5, 26, 7, 19, 11, 32, 2, 26, 23, 26, 31, 11, 20, 27, 29, 23, 21, 15, 20, 22, 28, 27, 0, 33, 4, 11, 17, 6, 3, 13, 20, 25, 0, 11, 5, 32, 21, 31, 1, 16, 13, 13, 27, 10, 8, 21, 3, 11, 16, 0, 16, 16, 17, 13, 11, 10, 12, 32, 25, 11, 11, 9, 14, 18, 9, 30, 1, 18, 4, 20, 9, 16, 13, 28, 29, 9, 6, 27, 9, 16, 26, 10, 20, 16, 33, 15, 19, 6, 30, 29, 4, 15, 27, 26, 31, 31, 8, 15, 22, 28, 25, 31, 19, 16, 6, 15, 20, 16, 12, 11, 21, 14, 15, 9, 15, 19, 18, 5, 6, 11, 30, 6, 31, 14, 29, 29, 28, 5, 10, 4, 14, 29, 20, 18, 10, 32, 2, 27, 27, 11, 6, 33, 13, 22, 6, 21, 12, 9, 21, 14, 0, 2, 5, 33, 25, 4, 16, 18, 6, 29, 23, 1, 6, 1, 21, 11, 24, 21, 24, 24, 4, 30, 13, 31, 10, 17, 19, 31, 7, 29, 20, 8, 22, 13, 5, 1, 20, 12, 9, 22, 27, 31, 15, 31, 10, 25, 7, 30, 4, 21, 19, 8, 3, 21, 0, 10, 12, 17, 10, 3, 4, 24, 23, 9, 11, 31, 11, 8, 27, 10, 17, 25, 24, 22, 33, 31, 11, 21, 4, 24, 25, 16, 22, 30, 17, 3, 32, 29, 9, 12, 2, 5, 14, 10, 0, 28, 33, 24, 28, 6, 27, 13, 21, 4, 14, 16, 10, 8, 22, 3, 15, 20, 27, 23, 33, 26, 14, 8, 10, 5, 13, 0, 22, 27, 20, 7, 33, 32, 0, 5, 3, 22, 16, 20, 19, 10, 4, 10, 32, 17, 13, 24, 23, 16, 12, 17, 16, 24, 32, 6, 12, 7, 20, 24, 11, 32, 17, 1, 31, 24, 32, 4, 8, 0, 12, 0, 16, 19, 29, 9, 15, 15, 12, 7, 22, 2, 28, 2, 17, 17, 2, 13, 5, 16, 15, 31, 1, 15, 29, 25, 0, 10, 25, 17, 11, 0, 15, 23, 22, 8, 13, 1, 26, 29, 5, 4, 27, 0, 17, 15, 4, 6, 33, 33, 4, 26, 16, 4, 3, 25, 8, 20, 13, 25, 8, 5, 16, 0, 11, 33, 9, 6, 24, 26, 30, 0, 27, 16, 8, 15, 1, 8, 9, 25, 3, 21, 23, 26, 13, 16, 2, 25, 22, 21, 7, 27, 27, 15, 19, 29, 33, 0, 22, 30, 3, 22, 24, 25, 4, 1, 32, 28, 12, 19, 3, 16, 19, 18, 9, 31, 18, 17, 16, 27, 6, 25, 33, 15, 17, 26, 15, 8, 33, 16, 1, 21, 16, 20, 2, 24, 15, 13, 28, 9, 10, 18, 32, 4, 9, 6, 4, 32, 21, 5, 29, 33, 18, 16, 16, 23, 12, 0, 22, 18, 9, 30, 21, 21, 21, 23, 16, 14, 18, 6, 29, 25, 22, 24, 30, 14, 31, 17, 3, 14, 19, 16, 11, 0, 4, 3, 27, 20, 8, 31, 16, 18, 32, 7, 11, 33, 16, 1, 33, 25, 21, 20, 1, 3, 25, 33, 22, 31, 15, 12, 7, 4, 28, 25, 15, 0, 14, 20, 3, 26, 11, 21, 30, 23, 22, 26, 12, 11, 9, 5, 16, 18, 23, 19, 26, 12, 33, 24, 27, 13, 3, 3, 23, 1, 32, 0, 0, 22, 18, 20, 16, 17, 17, 25, 3, 20, 9, 9, 14, 18, 19, 17, 13, 27, 15, 22, 32, 6, 1, 21, 27, 16, 3, 31, 16, 15, 10, 2, 32, 20, 0, 10, 31, 19, 17, 27, 19, 4, 30, 24, 23, 28, 33, 22, 9, 7, 25, 3, 31, 25, 28, 6, 3, 28, 2, 23, 3, 14, 23, 26, 14, 25, 21, 30, 18, 1, 13, 7, 31, 12, 12, 22, 15, 30, 33, 26, 30, 26, 9, 16, 10, 4, 5, 5, 33, 0, 25, 8, 5, 30, 0, 31, 1, 10, 3, 17, 26, 32, 13, 11, 19, 21, 14, 11, 23, 1, 14, 12, 31, 18, 20, 6, 3, 16, 28, 4, 21, 15, 10, 16, 30, 14, 18, 5, 23, 25, 3, 1, 0, 13, 32, 9, 17, 16, 15, 7, 25, 9, 31, 14, 26, 33, 29, 16, 11, 28, 19, 22, 11, 16, 8, 17, 10, 8, 29, 6, 6, 19, 0, 20, 25, 32, 1, 8, 12, 26, 10, 25, 10, 10, 8, 14, 20, 19, 25, 13, 16, 20, 7, 15, 17, 3, 18, 27, 10, 13, 0, 33, 10, 7, 6, 9, 11, 17, 17, 5, 19, 21, 20, 17, 7, 3, 22, 8, 32, 2, 10, 1, 0, 0, 10, 10, 5, 20, 4, 30, 3, 0, 7, 29, 3, 6, 13, 4, 22, 27, 16, 14, 26, 33, 0, 23, 29, 16, 32, 1, 11, 27, 0, 13, 23, 16, 24, 21, 26, 17, 1, 8, 0, 19, 32, 25, 5, 33, 31, 30, 4, 19, 13, 33, 9, 32, 10, 25, 2, 8, 13, 19, 17, 17, 10, 2, 16, 5, 0, 25, 22, 6, 11, 5, 17, 31, 20, 8, 23, 26, 10, 4, 1, 13, 28, 4, 26, 14, 29, 11, 32, 20, 28, 17, 24, 0, 9, 7, 28, 8, 0, 25, 31, 7, 26, 30, 20, 3, 5, 5, 26, 17, 2, 6, 26, 18, 29, 24, 32, 18, 20, 11, 7, 12, 1, 28, 13, 23, 28, 0, 24, 33, 2, 28, 4, 3, 4, 30, 15, 24, 29, 9, 24, 26, 23, 20, 7, 27, 27, 29, 2, 0, 5, 8, 11, 1, 28, 15, 10, 7, 8, 17, 33, 33, 11, 33, 16, 8, 26, 17, 7, 16, 4, 4, 2, 16, 11, 24, 14, 33, 23, 24, 25, 16, 17, 13, 21, 2, 1, 23, 29, 32, 4, 32, 25, 9, 10, 21, 2, 6, 10, 1, 18, 13, 23, 16, 0, 24, 25, 23, 12, 8, 10, 5, 10, 25, 9, 13, 11, 23, 8, 11, 12, 32, 28, 16, 3, 6, 29, 27, 16, 29, 33, 4, 18, 12, 21, 9, 25, 27, 12, 0, 2, 8, 4, 10, 12, 27, 25, 24, 26, 7, 16, 24, 23, 26, 27, 30, 10, 11, 13, 23, 30, 28, 22, 18, 2, 11, 13, 23, 21, 7, 0, 16, 15, 1, 18, 9, 3, 22, 19, 12, 21, 16, 18, 0, 13, 26, 17, 29, 16, 0, 30, 16, 23, 24, 0, 24, 23, 31, 28, 10, 31, 2, 26, 33, 2, 15, 20, 22, 19, 16, 16, 30, 17, 32, 11, 22, 12, 24, 13, 10, 32, 5, 17, 32, 13, 0, 22, 12, 26, 22, 20, 8, 10, 21, 15, 7, 26, 26, 16, 10, 13, 25, 15, 25, 25, 16, 24, 20, 29, 0, 28, 20, 0, 28, 22, 12, 10, 21, 12, 11, 0, 29, 7, 11, 24, 28, 23, 27, 23, 30, 9, 22, 5, 25, 29, 14, 20, 14, 29, 1, 27, 11, 29, 32, 11, 7, 2, 18, 24, 11, 25, 27, 3, 15, 21, 10, 27, 23, 9, 31, 15, 16, 6, 9, 17, 8, 4, 21, 7, 31, 6, 12, 30, 8, 20, 0, 16, 4, 5, 28, 14, 18, 11, 22, 6, 2, 12, 18, 18, 12, 4, 33, 7, 14, 22, 23, 25, 20, 2, 11, 18, 21, 19, 24, 16, 12, 29, 13, 33, 28, 29, 0, 16, 26, 19, 24, 28, 7, 4, 22, 33, 22, 16, 32, 18, 25, 15, 24, 21, 20, 0, 25, 26, 33, 16, 23, 11, 14, 17, 9, 20, 3, 18, 24, 32, 32, 17, 16, 31, 16, 33, 5, 31, 23, 11, 1, 29, 14, 26, 16, 19, 8, 13, 4, 3, 33, 6, 7, 20, 20, 24, 4, 21, 18, 23, 6, 7, 14, 23, 7, 5, 7, 0, 2, 12, 14, 15, 8, 27, 5, 30, 20, 5, 16, 30, 22, 14, 17, 1, 2, 7, 22, 23, 24, 24, 22, 21, 11, 10, 19, 13, 29, 10, 6, 5, 28, 7, 10, 29, 18, 13, 6, 9, 3, 5, 20, 18, 4, 9, 20, 28, 3, 14, 0, 12, 33, 24, 21, 16, 14, 23, 22, 9, 30, 24, 7, 20, 14, 14, 11, 12, 16, 1, 32, 28, 5, 5, 3, 20, 8, 29, 22, 20, 33, 9, 28, 17, 2, 7, 8, 30, 22, 13, 23, 8, 16, 2, 23, 28, 28, 3, 12, 20, 22, 14, 26, 14, 17, 14, 1, 21, 20, 8, 15, 22, 26, 2, 27, 11, 24, 32, 20, 30, 0, 22, 7, 7, 32, 25, 30, 0, 1, 4, 6, 3, 11, 25, 5, 3, 30, 16, 16, 31, 20, 18, 14, 33, 13, 28, 28, 8, 20, 21, 4, 1, 1, 27, 0, 32, 17, 3, 22, 28, 9, 20, 8, 0, 2, 4, 33, 21, 16, 18, 8, 5, 11, 31, 27, 22, 33, 21, 4, 19, 19, 3, 26, 28, 7, 12, 16, 17, 13, 5, 25, 4, 30, 20, 8, 25, 12, 28, 8, 27, 31, 18, 9, 18, 1, 9, 20, 23, 26, 24, 22, 12, 32, 11, 6, 19, 30, 4, 25, 26, 14, 10, 10, 15, 7, 11, 23, 14, 26, 30, 18, 12, 14, 30, 21, 10, 4, 18, 18, 14, 1, 22, 14, 19, 16, 28, 9, 1, 16, 15, 30, 32, 15, 31, 7, 31, 20, 16, 26, 28, 11, 25, 30, 2, 32, 18, 1, 10, 6, 31, 7, 13, 18, 28, 17, 32, 28, 21, 16, 21, 3, 12, 12, 14, 33, 24, 12, 10, 13, 15, 12, 3, 2, 25, 24, 32, 15, 1, 12, 6, 30, 26, 26, 9, 1, 32, 19, 19, 30, 2, 2, 0, 30, 6, 16, 28, 0, 23, 20, 28, 13, 26, 30, 25, 21, 0, 30, 12, 31, 13, 29, 14, 15, 13, 26, 0, 31, 13, 17, 26, 30, 16, 28, 20, 1, 10, 22, 8, 17, 21, 19, 16, 5, 26, 20, 18, 25, 23, 26, 9, 0, 33, 16, 8, 15, 14, 18, 2, 14, 28, 4, 13, 16, 14, 33, 24, 12, 22, 10, 32, 28, 27, 14, 1, 17, 26, 31, 21, 21, 31, 29, 7, 6, 33, 1, 16, 2, 33, 14, 32, 7, 11, 32, 6, 8, 24, 32, 16, 1, 10, 0, 22, 32, 33, 3, 14, 18, 15, 2, 30, 24, 8, 3, 15, 6, 3, 16, 0, 16, 21, 25, 27, 2, 32, 2, 7, 27, 16, 1, 6, 29, 33, 25, 2, 25, 0, 9, 23, 5, 6, 23, 21, 13, 15, 0, 20, 14, 18, 3, 9, 31, 2, 26, 2, 4, 5, 14, 18, 15, 27, 23, 1, 11, 12, 16, 21, 15, 28, 19, 12, 18, 28, 11, 9, 26, 11, 10, 13, 21, 26, 9, 26, 21, 4, 30, 6, 16, 21, 8, 33, 23, 20, 25, 22, 17, 14, 22, 17, 25, 24, 29, 10, 4, 16, 30, 4, 17, 20, 13, 1, 15, 24, 30, 17, 13, 6, 14, 27, 33, 29, 21, 21, 26, 2, 5, 15, 27, 11, 24, 24, 2, 17, 13, 20, 22, 25, 25, 21, 4, 29, 32, 5, 9, 18, 15, 7, 3, 3, 25, 13, 13, 11, 14, 5, 32, 33, 5, 22, 10, 26, 29, 16, 3, 16, 26, 16, 18, 22, 26, 22, 22, 31, 33, 8, 12, 4, 0, 21, 23, 28, 31, 11, 10, 16, 3, 6, 2, 22, 27, 33, 7, 24, 30, 8, 4, 4, 26, 20, 23, 7, 11, 11, 30, 23, 27, 27, 2, 4, 1, 33, 33, 18, 24, 6, 3, 5, 21, 24, 13, 5, 19, 23, 15, 18, 15, 13, 23, 10, 10, 13, 24, 9, 10, 21, 29, 21, 5, 4, 12, 1, 10, 7, 31, 18, 30, 9, 6, 26, 29, 28, 14, 5, 8, 32, 3, 16, 25, 25, 21, 18, 25, 23, 19, 24, 21, 20, 5, 23, 15, 23, 11, 28, 28, 7, 25, 15, 29, 21, 16, 19, 24, 6, 32, 18, 29, 30, 12, 21, 28, 1, 9, 17, 22, 20, 7, 3, 14, 2, 24, 10, 14, 1, 8, 21, 7, 9, 16, 18, 27, 31, 29, 8, 3, 0, 13, 18, 9, 23, 30, 11, 6, 28, 32, 0, 17, 7, 17, 1, 23, 22, 5, 12, 26, 7, 16, 21, 11, 6, 33, 26, 7, 9, 17, 12, 9, 22, 17, 31, 19, 12, 20, 5, 25, 28, 3, 15, 3, 15, 5, 15, 27, 26, 4, 9, 1, 5, 21, 18, 19, 12, 7, 26, 4, 24, 32, 12, 24, 13, 24, 33, 32, 30, 6, 16, 2, 10, 11, 31, 23, 0, 13, 32, 32, 2, 18, 16, 20, 12, 32, 25, 12, 32, 10, 22, 18, 27, 32, 23, 14, 9, 7, 15, 4, 30, 24, 27, 24, 10, 20, 5, 5, 1, 33, 9, 25, 28, 20, 24, 25, 30, 6, 19, 0, 10, 19, 19, 9, 31, 1, 23, 8, 7, 15, 3, 15, 6, 29, 8, 0, 31, 10, 2, 33, 7, 26, 28, 13, 17, 24, 27, 31, 23, 16, 18, 3, 15, 24, 1, 17, 26, 24, 0, 25, 14, 3, 25, 31, 17, 6, 25, 24, 13, 21, 11, 0, 12, 16, 22, 11, 32, 3, 2, 27, 22, 18, 13, 15, 16, 21, 5, 12, 8, 25, 10, 18, 17, 11, 17, 6, 18, 6, 28, 17, 29, 5, 16, 30, 26, 33, 0, 14, 22, 31, 20, 10, 1, 28, 6, 16, 15, 0, 17, 7, 17, 28, 15, 21, 16, 30, 13, 5, 18, 5, 31, 5, 9, 26, 7, 26, 9, 9, 19, 11, 0, 16, 16, 7, 15, 19, 19, 29, 30, 21, 8, 29, 17, 26, 16, 10, 16, 7, 27, 28, 18, 31, 23, 16, 8, 18, 16, 13, 23, 5, 21, 0, 26, 8, 20, 2, 10, 2, 31, 5, 16, 7, 2, 6, 12, 2, 7, 9, 16, 12, 14, 11, 24, 5, 2, 20, 22, 9, 12, 23, 10, 15, 12, 18, 22, 25, 12, 14, 27, 6, 10, 9, 24, 10, 24, 28, 30, 22, 25, 33, 20, 8, 24, 16, 18, 14, 17, 10, 8, 32, 22, 16, 8, 9, 15, 15, 4, 23, 13, 17, 19, 12, 8, 29, 13, 23, 4, 2, 19, 0, 25, 11, 5, 14, 15, 12, 20, 2, 17, 20, 0, 10, 9, 15, 20, 27, 33, 9, 29, 3, 30, 3, 1, 0, 7, 2, 16, 0, 3, 24, 22, 33, 7, 20, 11, 26, 18, 16, 17, 18, 30, 26, 25, 14, 4, 28, 21, 30, 25, 0, 8, 30, 29, 14, 2, 12, 20, 24, 9, 17, 25, 17, 27, 0, 0, 22, 31, 22, 11, 5, 20, 15, 24, 16, 21, 32, 32, 6, 7, 30, 28, 16, 5, 17, 20, 17, 25, 0, 26, 16, 4, 28, 11, 3, 11, 10, 31, 16, 33, 21, 32, 7, 8, 21, 12, 26, 25, 15, 30, 16, 1, 29, 12, 21, 13, 2, 3, 24, 5, 23, 5, 9, 6, 23, 23, 16, 28, 10, 20, 24, 3, 29, 32, 3, 15, 9, 33, 3, 33, 3, 17, 21, 15, 16, 26, 7, 10, 6, 7, 18, 21, 16, 33, 22, 16, 17, 16, 1, 18, 31, 0, 17, 0, 25, 9, 26, 24, 16, 31, 10, 15, 7, 18, 7, 7, 4, 32, 28, 20, 15, 33, 33, 2, 21, 20, 18, 13, 20, 22, 1, 29, 19, 30, 25, 6, 30, 16, 6, 26, 21, 14, 28, 10, 4, 26, 3, 19, 16, 8, 16, 7, 29, 24, 12, 4, 27, 30, 29, 3, 23, 1, 8, 3, 0, 5, 21, 17, 9, 23, 4, 31, 3, 23, 12, 2, 23, 22, 4, 26, 13, 2, 25, 17, 16, 23, 3, 18, 30, 13, 11, 23, 4, 24, 32, 6, 5, 9, 6, 17, 16, 7, 3, 21, 3, 33, 7, 28, 31, 13, 21, 8, 23, 18, 6, 18, 13, 4, 10, 25, 20, 33, 31, 17, 16, 14, 6, 6, 5, 29, 16, 8, 27, 8, 30, 21, 17, 22, 18, 9, 32, 30, 28, 30, 19, 7, 12, 28, 32, 28, 13, 21, 10, 13, 14, 9, 25, 31, 1, 12, 18, 15, 3, 29, 6, 32, 3, 16, 14, 13, 8, 30, 32, 15, 9, 4, 20, 16, 21, 1, 33, 0, 5, 31, 25, 17, 27, 4, 15, 8, 16, 7, 17, 2, 15, 7, 22, 19, 29, 21, 23, 33, 8, 11, 15, 13, 10, 24, 25, 22, 14, 10, 25, 0, 0, 26, 30, 23, 17, 28, 12, 27, 22, 14, 22, 28, 20, 1, 29, 31, 24, 15, 25, 2, 8, 8, 13, 6, 28, 11, 30, 16, 31, 17, 3, 16, 16, 1, 20, 33, 11, 23, 16, 22, 13, 12, 21, 31, 7, 19, 12, 16, 24, 32, 7, 25, 20, 26, 15, 16, 15, 22, 12, 13, 23, 4, 33, 26, 24, 23, 13, 4, 4, 15, 6, 32, 13, 26, 0, 21, 11, 27, 19, 30, 11, 27, 18, 0, 2, 8, 28, 25, 7, 28, 27, 31, 21, 29, 6, 9, 18, 24, 29, 33, 17, 10, 32, 22, 23, 27, 31, 22, 4, 25, 24, 8, 17, 26, 18, 16, 27, 28, 22, 31, 19, 24, 29, 16, 33, 11, 15, 1, 10, 15, 15, 9, 16, 32, 2, 13, 33, 32, 28, 7, 26, 1, 14, 31, 14, 13, 0, 6, 32, 10, 16, 19, 13, 33, 6, 28, 26, 33, 15, 15, 5, 9, 15, 11, 10, 31, 18, 28, 6, 26, 16, 9, 17, 4, 1, 0, 28, 12, 16, 18, 16, 32, 5, 11, 5, 29, 18, 30, 23, 31, 32, 29, 6, 5, 6, 27, 28, 24, 25, 0, 8, 32, 23, 12, 12, 24, 7, 6, 3, 17, 19, 8, 31, 0, 1, 27, 6, 24, 32, 9, 22, 19, 5, 15, 18, 16, 33, 4, 24, 0, 31, 18, 29, 27, 27, 29, 20, 17, 10, 7, 30, 2, 13, 15, 25, 25, 31, 33, 14, 20, 11, 30, 25, 4, 30, 1, 28, 13, 19, 16, 21, 11, 16, 0, 14, 17, 29, 27, 16, 17, 19, 1, 24, 4, 21, 15, 19, 12, 22, 17, 10, 6, 28, 29, 23, 13, 18, 22, 33, 27, 33, 2, 16, 17, 7, 17, 23, 3, 31, 3, 8, 20, 10, 0, 11, 18, 17, 10, 26, 14, 25, 4, 16, 8, 26, 30, 10, 2, 5, 29, 32, 4, 11, 11, 2, 15, 3, 31, 12, 12, 6, 13, 30, 21, 21, 23, 23, 16, 25, 21, 1, 15, 15, 14, 16, 30, 31, 15, 13, 22, 2, 26, 1, 23, 14, 16, 32, 20, 7, 9, 5, 33, 26, 29, 33, 20, 25, 29, 0, 8, 11, 8, 3, 16, 18, 21, 5, 9, 32, 7, 24, 7, 23, 19, 22, 6, 22, 10, 28, 28, 1, 8, 31, 5, 30, 13, 18, 29, 20, 2, 25, 1, 7, 20, 24, 17, 24, 26, 29, 17, 27, 12, 22, 22, 33, 23, 27, 11, 23, 20, 32, 17, 17, 7, 9, 3, 17, 3, 2, 3, 9, 24, 16, 23, 5, 2, 4, 32, 6, 16, 20, 28, 14, 21, 23, 16, 4, 21, 3, 21, 1, 22, 7, 13, 29, 9, 18, 33, 18, 15, 18, 8, 10, 3, 31, 8, 6, 17, 10, 14, 22, 27, 15, 31, 23, 2, 16, 8, 25, 18, 16, 1, 12, 30, 19, 16, 0, 16, 25, 3, 14, 31, 23, 20, 15, 20, 27, 18, 0, 24, 2, 12, 25, 32, 29, 23, 12, 30, 22, 22, 11, 24, 14, 30, 9, 16, 10, 16, 14, 32, 20, 29, 27, 20, 27, 0, 19, 21, 8, 19, 7, 28, 32, 25, 26, 31, 32, 10, 0, 1, 17, 3, 28, 32, 26, 7, 7, 5, 13, 6, 21, 16, 19, 13, 16, 15, 22, 17, 28, 7, 23, 25, 4, 33, 17, 4, 30, 27, 7, 4, 1, 27, 20, 6, 1, 18, 14, 27, 11, 16, 26, 8, 13, 27, 26, 29, 27, 0, 15, 28, 27, 29, 14, 12, 9, 0, 13, 26, 29, 16, 16, 29, 29, 1, 8, 5, 15, 28, 23, 0, 33, 3, 6, 23, 0, 16, 21, 14, 4, 27, 26, 3, 8, 15, 10, 5, 21, 30, 2, 15, 1, 4, 8, 29, 3, 16, 10, 13, 16, 0, 9, 17, 32, 1, 12, 30, 22, 30, 21, 6, 29, 25, 16, 6, 8, 16, 24, 27, 16, 22, 27, 18, 13, 17, 3, 19, 27, 1, 1, 21, 22, 14, 16, 9, 12, 9, 33, 17, 21, 16, 10, 4, 33, 26, 16, 4, 11, 29, 33, 22, 24, 32, 28, 30, 11, 17, 20, 27, 29, 19, 32, 9, 6, 25, 6, 26, 23, 2, 9, 33, 21, 14, 31, 5, 21, 22, 5, 30, 9, 3, 27, 32, 10, 27, 6, 28, 29, 23, 18, 12, 1, 25, 8, 4, 13, 20, 18, 17, 15, 8, 33, 18, 13, 19, 27, 30, 22, 6, 22, 14, 5, 27, 25, 14, 22, 4, 3, 2, 2, 30, 5, 16, 17, 27, 11, 8, 17, 28, 15, 9, 1, 26, 31, 19, 33, 14, 1, 26, 7, 2, 12, 9, 27, 17, 22, 32, 13, 13, 23, 1, 0, 11, 7, 0, 27, 10, 12, 15, 11, 25, 3, 3, 11, 6, 12, 23, 27, 17, 11, 15, 24, 16, 6, 15, 10, 19, 0, 16, 16, 16, 13, 22, 33, 33, 21, 33, 21, 22, 5, 2, 14, 29, 22, 4, 6, 20, 32, 32, 24, 2, 1, 9, 4, 1, 30, 24, 18, 9, 25, 12, 9, 21, 27, 19, 13, 20, 31, 23, 26, 8, 8, 13, 32, 0, 30, 32, 4, 21, 7, 1, 0, 1, 16, 13, 19, 19, 5, 31, 3, 23, 4, 6, 29, 14, 21, 11, 30, 16, 20, 3, 23, 24, 16, 20, 21, 33, 18, 26, 22, 0, 7, 28, 6, 6, 29, 18, 13, 3, 2, 24, 16, 17, 30, 16, 12, 20, 15, 10, 0, 25, 20, 10, 4, 0, 21, 33, 0, 1, 16, 32, 25, 23, 3, 9, 18, 16, 8, 33, 12, 29, 11, 27, 12, 33, 19, 22, 19, 1, 3, 0, 0, 22, 17, 3, 21, 2, 30, 17, 6, 11, 21, 20, 20, 15, 10, 25, 6, 4, 24, 23, 28, 27, 18, 26, 27, 32, 15, 8, 8, 18, 1, 7, 29, 27, 16, 16, 28, 14, 26, 12, 11, 4, 1, 22, 4, 21, 25, 17, 7, 9, 6, 21, 15, 6, 21, 7, 2, 9, 9, 24, 18, 24, 31, 25, 11, 18, 1, 14, 26, 14, 15, 2, 27, 24, 6, 15, 16, 0, 8, 26, 16, 8, 6, 25, 23, 16, 7, 4, 25, 8, 32, 21, 31, 11, 10, 33, 30, 17, 1, 7, 31, 33, 25, 13, 24, 23, 15, 5, 7, 26, 31, 15, 27, 18, 29, 28, 19, 15, 28, 33, 30, 7, 26, 33, 32, 26, 10, 32, 25, 29, 0, 30, 16, 1, 2, 33, 24, 14, 28, 20, 15, 6, 23, 27, 22, 12, 17, 26, 8, 15, 5, 26, 26, 0, 27, 32, 13, 32, 19, 26, 32, 17, 19, 0, 29, 11, 10, 1, 16, 33, 33, 24, 8, 28, 10, 12, 2, 6, 31, 29, 14, 3, 0, 16, 19, 16, 6, 22, 3, 10, 27, 10, 15, 24, 4, 9, 26, 5, 23, 32, 9, 20, 26, 17, 21, 26, 2, 16, 23, 15, 2, 29, 4, 19, 7, 21, 18, 8, 26, 5, 29, 6, 18, 12, 0, 25, 32, 3, 31, 1, 24, 3, 26, 16, 23, 23, 33, 7, 28, 21, 10, 10, 26, 11, 6, 25, 1, 14, 18, 31, 10, 16, 12, 21, 17, 1, 3, 17, 15, 16, 9, 27, 9, 7, 16, 29, 16, 10, 16, 27, 12, 15, 14, 4, 3, 28, 0, 5, 22, 16, 12, 0, 16, 15, 28, 10, 19, 23, 10, 33, 27, 7, 22, 33, 31, 29, 24, 23, 9, 18, 27, 23, 17, 20, 1, 12, 10, 12, 22, 25, 24, 10, 9, 16, 16, 11, 5, 24, 32, 18, 24, 29, 27, 26, 30, 29, 33, 12, 5, 2, 31, 9, 16, 28, 27, 2, 22, 31, 8, 2, 9, 1, 7, 3, 31, 9, 5, 11, 4, 31, 31, 7, 18, 15, 22, 26, 26, 4, 31, 26, 10, 10, 7, 31, 9, 28, 23, 2, 12, 9, 9, 19, 23, 22, 21, 28, 16, 30, 13, 17, 24, 8, 28, 12, 27, 15, 32, 21, 9, 15, 11, 26, 32, 14, 16, 14, 16, 27, 6, 25, 15, 17, 23, 25, 27, 17, 1, 25, 0, 25, 7, 20, 1, 17, 16, 8, 6, 27, 23, 26, 20, 1, 18, 8, 28, 14, 28, 17, 19, 30, 6, 5, 15, 15, 18, 1, 14, 11, 7, 9, 21, 21, 22, 30, 10, 19, 2, 2, 22, 18, 27, 25, 31, 16, 9, 29, 11, 24, 15, 6, 16, 26, 31, 24, 24, 15, 11, 5, 5, 8, 17, 17, 32, 9, 16, 4, 10, 21, 1, 3, 19, 13, 19, 27, 26, 4, 29, 30, 9, 7, 12, 6, 16, 32, 4, 2, 11, 16, 17, 21, 14, 1, 16, 13, 1, 30, 29, 10, 3, 13, 31, 11, 16, 16, 3, 32, 4, 30, 10, 5, 7, 18, 21, 4, 24, 14, 16, 26, 33, 28, 28, 9, 31, 20, 27, 27, 5, 0, 12, 22, 14, 5, 9, 33, 16, 28, 29, 16, 15, 4, 1, 24, 3, 2, 16, 9, 30, 8, 13, 25, 22, 24, 20, 15, 20, 4, 14, 4, 1, 30, 32, 20, 30, 17, 11, 25, 29, 31, 16, 16, 0, 14, 14, 33, 23, 0, 4, 10, 1, 10, 20, 24, 27, 26, 23, 15, 11, 29, 14, 19, 8, 10, 9, 18, 17, 18, 18, 12, 29, 21, 24, 6, 15, 12, 9, 32, 2, 30, 19, 17, 29, 17, 8, 6, 33, 17, 13, 18, 11, 10, 14, 17, 0, 17, 10, 24, 12, 22, 29, 3, 13, 20, 21, 22, 8, 8, 16, 28, 6, 21, 3, 21, 20, 15, 10, 29, 30, 1, 20, 28, 16, 2, 18, 32, 12, 31, 7, 9, 22, 20, 7, 5, 24, 5, 1, 11, 17, 19, 24, 28, 30, 12, 18, 0, 23, 11, 2, 15, 3, 5, 6, 23, 6, 3, 19, 31, 16, 13, 9, 3, 16, 1, 19, 3, 13, 27, 20, 14, 13, 29, 2, 32, 0, 18, 27, 15, 17, 33, 6, 0, 29, 25, 10, 6, 13, 30, 1, 28, 8, 7, 5, 5, 0, 31, 1, 33, 15, 4, 14, 24, 2, 30, 2, 9, 20, 25, 32, 21, 26, 0, 27, 11, 23, 14, 8, 6, 16, 4, 24, 5, 12, 29, 8, 20, 4, 26]\n",
            "[24, 8, 10, 30, 9, 31, 16, 10, 4, 33, 24, 16, 4, 22, 12, 17, 2, 24, 26, 24, 14, 10, 22, 28, 27, 27, 11, 26, 16, 2, 5, 17, 32, 10, 11, 1, 20, 7, 27, 8, 15, 27, 30, 7, 24, 4, 30, 27, 22, 22, 24, 33, 2, 7, 32, 31, 17, 12, 25, 21, 8, 1, 9, 4, 27, 27, 33, 7, 29, 6, 2, 28, 20, 1, 16, 13, 11, 14, 6, 10, 20, 25, 30, 11, 0, 21, 18, 33, 22, 22, 1, 16, 31, 13, 25, 26, 12, 3, 8, 24, 17, 33, 23, 19, 19, 13, 2, 1, 19, 10, 1, 26, 13, 7, 31, 19, 0, 22, 14, 3, 5, 16, 12, 5, 28, 19, 19, 29, 7, 23, 8, 14, 19, 4, 10, 12, 17, 23, 25, 13, 26, 26, 5, 5, 4, 9, 20, 27, 19, 23, 26, 16, 27, 32, 22, 10, 32, 4, 4, 7, 22, 9, 22, 1, 6, 12, 22, 13, 32, 17, 16, 15, 19, 7, 11, 29, 8, 5, 26, 21, 22, 26, 16, 8, 16, 3, 5, 16, 1, 10, 33, 32, 6, 29, 6, 33, 7, 18, 29, 28, 7, 11, 11, 26, 32, 28, 26, 0, 12, 14, 22, 13, 10, 29, 19, 13, 32, 19, 7, 8, 26, 8, 2, 28, 5, 3, 8, 31, 24, 19, 28, 2, 22, 26, 13, 32, 18, 27, 29, 19, 21, 12, 25, 29, 25, 33, 2, 23, 0, 33, 31, 23, 7, 21, 11, 6, 3, 22, 11, 8, 16, 22, 0, 1, 5, 27, 18, 15, 4, 13, 18, 31, 30, 5, 2, 17, 10, 14, 15, 11, 15, 9, 13, 10, 11, 19, 10, 8, 14, 11, 3, 19, 5, 20, 11, 14, 26, 8, 16, 1, 18, 22, 31, 0, 24, 23, 30, 20, 13, 25, 31, 9, 16, 20, 2, 1, 19, 23, 5, 3, 1, 3, 13, 1, 2, 27, 17, 15, 17, 17, 26, 32, 21, 16, 33, 16, 18, 17, 24, 17, 10, 25, 0, 30, 25, 6, 8, 8, 9, 10, 15, 7, 15, 9, 33, 16, 10, 16, 11, 20, 5, 0, 0, 33, 9, 27, 5, 0, 30, 8, 4, 26, 27, 3, 8, 13, 20, 20, 0, 16, 33, 12, 14, 9, 32, 16, 30, 18, 30, 8, 28, 28, 13, 12, 25, 8, 20, 27, 8, 30, 6, 1, 6, 30, 7, 28, 15, 32, 2, 27, 13, 8, 7, 15, 17, 16, 3, 31, 8, 27, 23, 16, 7, 25, 20, 31, 28, 31, 21, 25, 32, 1, 29, 31, 12, 6, 6, 1, 10, 26, 17, 7, 11, 22, 4, 16, 2, 9, 21, 27, 18, 25, 21, 1, 29, 2, 0, 7, 17, 20, 22, 26, 15, 33, 17, 22, 29, 19, 33, 18, 5, 28, 31, 4, 8, 31, 7, 20, 8, 24, 25, 33, 7, 27, 29, 31, 29, 17, 28, 27, 31, 3, 23, 14, 19, 21, 5, 24, 31, 15, 29, 30, 7, 3, 20, 7, 26, 7, 4, 1, 1, 13, 3, 1, 27, 26, 7, 8, 4, 11, 7, 31, 20, 22, 22, 19, 23, 9, 29, 7, 5, 31, 16, 9, 27, 28, 1, 32, 10, 6, 14, 16, 24, 8, 16, 20, 6, 30, 14, 17, 6, 14, 31, 17, 8, 18, 29, 28, 9, 22, 5, 18, 31, 32, 14, 21, 20, 20, 12, 0, 24, 7, 15, 7, 33, 25, 10, 31, 5, 5, 31, 13, 32, 18, 26, 14, 15, 16, 30, 28, 25, 11, 15, 7, 24, 6, 6, 12, 2, 17, 8, 15, 26, 9, 23, 28, 18, 23, 26, 20, 24, 32, 7, 31, 16, 25, 6, 9, 25, 12, 16, 5, 23, 10, 33, 19, 16, 1, 16, 19, 30, 33, 25, 10, 19, 2, 12, 16, 11, 19, 7, 10, 4, 8, 25, 5, 3, 1, 15, 19, 31, 7, 26, 29, 18, 12, 19, 0, 7, 28, 21, 1, 10, 5, 1, 10, 0, 29, 2, 26, 12, 4, 30, 26, 30, 27, 4, 2, 9, 23, 27, 20, 18, 0, 27, 6, 32, 6, 1, 22, 32, 26, 19, 18, 3, 0, 21, 28, 4, 32, 15, 14, 24, 32, 5, 23, 5, 31, 20, 2, 18, 23, 16, 9, 8, 17, 11, 16, 4, 17, 4, 30, 16, 16, 1, 17, 23, 13, 29, 3, 27, 7, 6, 5, 29, 21, 25, 33, 14, 12, 30, 19, 33, 16, 25, 14, 30, 3, 31, 5, 1, 6, 26, 17, 2, 16, 29, 26, 31, 16, 19, 20, 15, 12, 30, 33, 3, 23, 0, 20, 29, 26, 25, 14, 0, 28, 11, 7, 13, 32, 23, 28, 17, 1, 18, 15, 11, 3, 22, 8, 17, 10, 13, 13, 15, 24, 21, 16, 29, 32, 25, 23, 15, 6, 8, 30, 3, 32, 9, 26, 27, 31, 20, 26, 13, 27, 32, 22, 18, 17, 30, 10, 19, 4, 21, 25, 10, 15, 2, 8, 16, 13, 8, 4, 15, 8, 16, 6, 29, 22, 2, 11, 14, 0, 12, 17, 14, 14, 32, 33, 20, 3, 18, 9, 0, 29, 19, 6, 16, 18, 22, 25, 16, 23, 5, 29, 10, 16, 11, 17, 5, 23, 26, 14, 26, 30, 21, 13, 0, 23, 26, 28, 14, 29, 17, 4, 0, 2, 30, 16, 30, 29, 26, 7, 19, 25, 7, 8, 26, 28, 6, 2, 7, 5, 21, 33, 15, 0, 22, 32, 25, 21, 29, 16, 2, 7, 22, 6, 15, 20, 25, 24, 17, 26, 28, 3, 22, 17, 30, 28, 16, 7, 15, 1, 12, 1, 12, 32, 5, 33, 10, 26, 5, 18, 29, 23, 27, 26, 16, 23, 5, 0, 21, 3, 3, 19, 11, 31, 26, 33, 22, 30, 13, 23, 31, 22, 2, 16, 13, 31, 1, 22, 6, 25, 2, 5, 16, 24, 6, 25, 19, 31, 16, 30, 10, 4, 33, 22, 31, 13, 17, 13, 21, 16, 3, 6, 32, 24, 0, 15, 10, 16, 16, 30, 13, 12, 26, 2, 19, 22, 7, 1, 3, 25, 24, 15, 5, 6, 21, 10, 2, 15, 29, 28, 18, 9, 1, 11, 13, 31, 15, 23, 16, 14, 23, 3, 28, 13, 3, 27, 26, 21, 23, 23, 2, 20, 11, 16, 7, 2, 16, 29, 19, 22, 16, 11, 1, 14, 23, 9, 7, 33, 29, 29, 27, 16, 28, 13, 18, 26, 1, 22, 29, 29, 31, 16, 19, 5, 1, 27, 1, 27, 28, 14, 6, 9, 16, 33, 0, 23, 1, 16, 0, 3, 19, 16, 16, 6, 18, 7, 4, 28, 24, 13, 26, 33, 14, 31, 30, 29, 19, 2, 16, 6, 1, 26, 5, 29, 6, 29, 31, 29, 9, 26, 25, 29, 9, 33, 33, 33, 16, 16, 31, 30, 17, 25, 9, 17, 14, 8, 25, 19, 27, 31, 10, 17, 10, 12, 23, 33, 8, 20, 1, 4, 8, 26, 26, 12, 20, 27, 3, 31, 3, 18, 21, 15, 4, 16, 9, 16, 2, 28, 29, 29, 11, 5, 33, 19, 27, 26, 22, 13, 10, 0, 4, 25, 15, 16, 16, 32, 17, 28, 9, 0, 22, 5, 21, 11, 8, 10, 3, 16, 3, 33, 13, 26, 33, 23, 6, 15, 26, 24, 9, 10, 5, 31, 32, 16, 17, 22, 7, 33, 13, 28, 24, 32, 32, 28, 27, 26, 32, 33, 29, 19, 16, 12, 4, 33, 10, 25, 8, 26, 28, 6, 19, 8, 18, 14, 32, 27, 12, 31, 23, 27, 20, 30, 16, 27, 19, 18, 2, 16, 23, 13, 22, 32, 27, 11, 21, 25, 14, 30, 25, 1, 16, 12, 23, 11, 18, 32, 17, 17, 25, 26, 6, 17, 17, 13, 27, 32, 16, 21, 24, 27, 21, 11, 11, 25, 6, 33, 0, 21, 20, 30, 31, 23, 16, 4, 21, 0, 0, 14, 12, 6, 2, 13, 19, 1, 16, 19, 16, 5, 11, 25, 30, 16, 4, 30, 17, 29, 21, 12, 6, 31, 26, 20, 29, 2, 33, 21, 10, 8, 16, 26, 1, 5, 21, 2, 5, 7, 32, 33, 13, 12, 27, 0, 5, 33, 32, 7, 27, 27, 32, 24, 7, 11, 4, 24, 23, 25, 20, 17, 9, 11, 13, 17, 17, 32, 30, 15, 8, 0, 6, 18, 1, 21, 16, 27, 28, 17, 24, 10, 18, 2, 32, 9, 27, 8, 23, 6, 13, 16, 23, 13, 1, 9, 16, 14, 10, 2, 12, 30, 28, 23, 9, 3, 3, 25, 7, 30, 28, 6, 32, 5, 10, 18, 24, 28, 3, 11, 28, 0, 5, 12, 1, 11, 18, 3, 21, 23, 17, 17, 19, 20, 33, 16, 19, 9, 25, 17, 2, 21, 15, 28, 24, 2, 23, 9, 13, 20, 20, 0, 0, 20, 12, 8, 32, 3, 20, 33, 10, 10, 21, 33, 16, 16, 5, 1, 14, 4, 0, 8, 20, 23, 16, 7, 12, 16, 0, 4, 3, 0, 16, 20, 21, 15, 9, 18, 16, 19, 29, 19, 28, 27, 29, 32, 28, 8, 12, 24, 6, 2, 15, 28, 5, 5, 0, 13, 12, 27, 33, 2, 0, 18, 18, 3, 27, 25, 4, 7, 16, 32, 12, 9, 32, 13, 5, 0, 3, 18, 10, 26, 15, 5, 26, 7, 19, 11, 7, 2, 26, 28, 26, 31, 11, 20, 27, 24, 23, 21, 15, 20, 22, 28, 27, 0, 23, 8, 11, 19, 6, 3, 13, 20, 16, 0, 2, 5, 26, 21, 31, 18, 14, 0, 0, 27, 10, 8, 32, 3, 11, 16, 13, 23, 16, 17, 13, 14, 10, 12, 22, 29, 11, 11, 9, 14, 18, 9, 30, 1, 26, 4, 32, 9, 16, 25, 33, 29, 9, 4, 27, 9, 16, 26, 10, 20, 16, 21, 15, 19, 6, 30, 29, 4, 15, 27, 26, 31, 31, 12, 15, 7, 28, 25, 31, 19, 16, 6, 15, 7, 16, 12, 11, 21, 14, 15, 9, 15, 19, 18, 5, 5, 11, 30, 6, 31, 14, 29, 29, 28, 22, 10, 4, 23, 29, 20, 18, 10, 32, 2, 6, 27, 26, 8, 33, 13, 22, 6, 21, 12, 9, 21, 14, 0, 2, 2, 12, 15, 4, 24, 18, 6, 20, 23, 1, 7, 1, 21, 23, 24, 21, 24, 24, 4, 8, 13, 31, 10, 17, 19, 31, 7, 29, 20, 2, 22, 13, 5, 1, 20, 12, 9, 22, 27, 31, 15, 31, 10, 25, 7, 30, 4, 21, 1, 8, 2, 25, 0, 10, 12, 17, 10, 3, 4, 24, 33, 16, 11, 3, 11, 8, 27, 10, 17, 25, 8, 1, 33, 31, 11, 21, 4, 24, 25, 16, 26, 21, 17, 3, 32, 29, 9, 12, 2, 5, 14, 10, 0, 28, 33, 24, 28, 6, 27, 13, 21, 4, 14, 16, 10, 8, 22, 3, 15, 26, 22, 23, 18, 26, 14, 8, 10, 5, 13, 0, 22, 27, 20, 17, 33, 32, 0, 5, 3, 22, 16, 20, 19, 10, 7, 10, 32, 17, 13, 24, 23, 16, 12, 17, 16, 24, 32, 6, 12, 7, 20, 0, 11, 32, 17, 1, 31, 24, 32, 4, 8, 0, 12, 9, 7, 19, 29, 9, 15, 15, 25, 7, 16, 2, 28, 2, 17, 17, 2, 14, 5, 19, 15, 31, 1, 15, 10, 25, 0, 10, 22, 1, 11, 0, 15, 23, 22, 8, 13, 16, 26, 6, 5, 4, 27, 0, 17, 15, 4, 6, 33, 33, 4, 17, 16, 4, 3, 25, 8, 17, 13, 25, 8, 5, 16, 0, 11, 33, 18, 6, 24, 26, 30, 0, 27, 16, 8, 13, 1, 8, 9, 25, 3, 21, 23, 26, 13, 16, 2, 25, 22, 21, 12, 3, 29, 15, 19, 10, 33, 0, 22, 30, 3, 22, 24, 25, 4, 33, 32, 28, 12, 19, 3, 16, 19, 18, 9, 31, 18, 17, 31, 27, 6, 25, 33, 15, 17, 26, 27, 8, 33, 16, 1, 21, 16, 20, 2, 24, 15, 13, 28, 9, 10, 18, 32, 4, 9, 0, 26, 29, 33, 5, 29, 33, 12, 7, 16, 23, 12, 0, 22, 18, 9, 16, 21, 1, 21, 23, 16, 14, 9, 6, 29, 25, 22, 24, 30, 20, 31, 17, 3, 14, 31, 16, 4, 0, 4, 3, 16, 20, 7, 31, 16, 18, 32, 7, 11, 33, 33, 1, 33, 25, 21, 20, 1, 3, 25, 33, 22, 31, 15, 12, 7, 4, 28, 25, 15, 3, 14, 20, 3, 26, 11, 21, 30, 23, 22, 26, 33, 11, 9, 5, 16, 18, 7, 19, 26, 12, 33, 24, 16, 13, 2, 3, 23, 1, 32, 0, 0, 30, 26, 20, 16, 17, 17, 25, 3, 20, 9, 9, 14, 18, 19, 17, 26, 27, 15, 22, 32, 17, 28, 9, 27, 16, 3, 31, 16, 15, 10, 2, 5, 20, 27, 19, 31, 19, 17, 27, 32, 4, 30, 24, 23, 28, 33, 22, 9, 7, 25, 3, 31, 25, 28, 24, 3, 28, 2, 23, 3, 14, 23, 26, 6, 25, 21, 30, 18, 1, 5, 7, 31, 12, 24, 21, 15, 30, 33, 26, 30, 26, 9, 16, 10, 4, 5, 5, 33, 32, 31, 8, 5, 30, 0, 31, 1, 10, 3, 17, 26, 27, 13, 12, 19, 21, 14, 11, 23, 1, 14, 12, 31, 14, 20, 32, 3, 16, 11, 4, 24, 15, 29, 16, 20, 14, 18, 5, 23, 25, 3, 1, 0, 13, 32, 9, 17, 16, 15, 7, 25, 9, 31, 14, 26, 29, 29, 16, 11, 20, 19, 22, 11, 0, 8, 17, 10, 8, 27, 27, 12, 19, 10, 20, 3, 32, 1, 8, 12, 26, 10, 25, 10, 10, 2, 14, 20, 19, 25, 13, 16, 1, 7, 15, 17, 31, 18, 27, 10, 17, 0, 24, 23, 26, 6, 9, 11, 17, 17, 5, 19, 21, 31, 17, 7, 19, 22, 8, 32, 31, 10, 1, 0, 0, 13, 10, 5, 20, 27, 30, 3, 0, 32, 29, 3, 6, 33, 4, 22, 27, 16, 30, 26, 33, 0, 23, 29, 16, 32, 1, 11, 27, 0, 13, 23, 16, 24, 21, 26, 17, 1, 8, 0, 19, 32, 25, 5, 33, 31, 30, 4, 19, 10, 7, 9, 32, 10, 1, 32, 8, 13, 19, 27, 5, 25, 2, 16, 5, 0, 17, 22, 6, 11, 5, 17, 31, 2, 33, 23, 26, 10, 4, 1, 15, 28, 4, 26, 14, 29, 11, 29, 20, 28, 17, 24, 0, 9, 24, 28, 8, 0, 25, 31, 7, 26, 30, 16, 31, 5, 5, 26, 17, 2, 6, 16, 14, 29, 24, 32, 29, 11, 11, 25, 12, 1, 28, 13, 23, 28, 0, 24, 33, 2, 28, 4, 3, 4, 30, 15, 24, 29, 9, 24, 18, 23, 20, 7, 27, 27, 29, 2, 0, 16, 8, 11, 1, 28, 15, 10, 7, 8, 17, 26, 33, 26, 9, 16, 8, 26, 17, 7, 16, 4, 4, 2, 26, 11, 24, 7, 33, 16, 24, 5, 16, 14, 13, 5, 2, 1, 2, 29, 32, 10, 32, 3, 9, 10, 21, 7, 6, 10, 1, 6, 20, 23, 16, 0, 24, 25, 16, 12, 8, 10, 5, 10, 6, 9, 13, 11, 23, 8, 11, 12, 6, 28, 16, 3, 6, 29, 6, 16, 29, 33, 4, 18, 12, 21, 9, 25, 27, 24, 0, 2, 4, 20, 10, 12, 27, 25, 24, 26, 7, 16, 24, 23, 5, 27, 29, 10, 11, 13, 23, 19, 16, 1, 0, 2, 11, 0, 23, 6, 7, 0, 16, 15, 7, 18, 9, 3, 22, 21, 12, 21, 16, 18, 0, 13, 8, 17, 29, 25, 0, 30, 16, 23, 24, 8, 30, 23, 1, 28, 22, 31, 2, 24, 33, 2, 15, 24, 22, 2, 16, 16, 30, 17, 4, 11, 22, 12, 24, 13, 10, 32, 5, 17, 23, 13, 0, 11, 12, 26, 22, 20, 8, 10, 21, 15, 7, 26, 26, 16, 10, 5, 27, 15, 25, 25, 16, 24, 20, 29, 0, 28, 20, 16, 28, 22, 12, 10, 24, 12, 11, 0, 29, 7, 11, 24, 28, 33, 32, 23, 8, 17, 32, 25, 12, 29, 14, 20, 14, 0, 1, 27, 11, 29, 32, 11, 7, 2, 18, 24, 11, 25, 27, 3, 15, 21, 16, 27, 23, 9, 16, 15, 16, 6, 16, 17, 8, 4, 21, 7, 31, 32, 12, 30, 8, 20, 0, 16, 4, 5, 28, 14, 18, 11, 22, 6, 2, 12, 18, 18, 12, 4, 33, 7, 14, 22, 23, 25, 20, 2, 11, 18, 21, 19, 24, 15, 12, 3, 13, 33, 28, 29, 0, 16, 26, 19, 21, 28, 7, 4, 20, 33, 22, 16, 26, 18, 25, 15, 24, 21, 28, 0, 25, 26, 33, 16, 23, 11, 14, 17, 2, 20, 3, 18, 29, 32, 32, 17, 16, 31, 16, 33, 5, 31, 23, 11, 1, 29, 2, 17, 16, 19, 8, 14, 4, 28, 33, 6, 7, 20, 5, 24, 4, 21, 18, 23, 6, 30, 14, 3, 7, 10, 19, 0, 2, 25, 14, 15, 12, 27, 5, 30, 20, 5, 14, 30, 22, 14, 17, 21, 2, 14, 21, 23, 24, 24, 32, 16, 11, 10, 19, 13, 29, 10, 6, 5, 28, 7, 10, 29, 18, 20, 6, 9, 24, 5, 32, 1, 4, 9, 20, 28, 17, 14, 0, 12, 14, 21, 21, 16, 14, 23, 22, 18, 30, 24, 7, 20, 28, 14, 31, 21, 16, 1, 32, 28, 16, 1, 3, 20, 29, 27, 22, 20, 33, 9, 4, 17, 2, 14, 8, 30, 22, 13, 24, 8, 16, 2, 23, 28, 28, 3, 12, 20, 22, 14, 26, 14, 17, 14, 1, 21, 20, 15, 17, 22, 26, 2, 27, 11, 24, 1, 20, 30, 0, 22, 7, 2, 32, 25, 30, 0, 1, 4, 6, 3, 11, 33, 5, 5, 30, 16, 30, 31, 20, 18, 15, 33, 13, 31, 28, 8, 20, 21, 4, 1, 1, 19, 0, 29, 17, 3, 22, 28, 24, 20, 8, 8, 2, 28, 2, 21, 16, 18, 8, 5, 11, 31, 27, 17, 33, 21, 4, 19, 19, 14, 26, 28, 7, 33, 16, 17, 13, 8, 25, 4, 30, 20, 8, 32, 12, 28, 8, 27, 23, 18, 9, 18, 27, 2, 13, 23, 26, 24, 22, 12, 32, 11, 25, 19, 30, 7, 25, 26, 4, 10, 25, 15, 7, 11, 23, 27, 26, 30, 18, 12, 28, 30, 21, 10, 4, 18, 23, 14, 1, 11, 14, 26, 16, 28, 9, 1, 16, 15, 30, 32, 15, 31, 7, 31, 20, 16, 15, 28, 11, 25, 30, 2, 13, 18, 1, 10, 6, 31, 7, 4, 16, 28, 17, 0, 28, 22, 16, 6, 3, 10, 30, 14, 33, 24, 12, 25, 13, 15, 12, 3, 2, 25, 2, 20, 15, 1, 12, 6, 30, 26, 26, 9, 1, 32, 15, 19, 30, 2, 2, 0, 3, 0, 16, 28, 0, 23, 20, 28, 13, 26, 27, 25, 21, 0, 30, 12, 31, 13, 29, 14, 15, 33, 26, 0, 31, 13, 25, 8, 30, 16, 9, 20, 12, 10, 22, 8, 6, 21, 19, 16, 5, 26, 20, 18, 25, 23, 26, 9, 0, 33, 16, 8, 15, 14, 18, 2, 14, 28, 4, 13, 28, 22, 33, 24, 12, 10, 10, 32, 28, 27, 14, 1, 17, 26, 13, 21, 21, 31, 23, 7, 6, 33, 1, 16, 2, 33, 8, 32, 7, 11, 32, 6, 8, 24, 32, 3, 29, 10, 0, 9, 32, 33, 3, 14, 18, 15, 2, 30, 24, 8, 3, 15, 6, 14, 24, 0, 16, 21, 3, 27, 2, 9, 2, 7, 27, 16, 1, 6, 29, 33, 25, 2, 25, 0, 9, 23, 5, 6, 23, 21, 24, 21, 17, 20, 14, 18, 14, 9, 31, 2, 31, 2, 26, 5, 14, 18, 15, 0, 23, 7, 11, 12, 16, 21, 1, 28, 11, 12, 18, 28, 11, 9, 26, 11, 10, 13, 21, 26, 17, 0, 21, 4, 30, 6, 29, 21, 8, 33, 23, 20, 32, 22, 17, 14, 22, 17, 25, 24, 25, 10, 4, 16, 30, 16, 17, 20, 23, 1, 22, 24, 17, 17, 13, 26, 14, 20, 33, 10, 6, 21, 26, 2, 5, 15, 27, 11, 24, 24, 2, 17, 13, 20, 22, 25, 25, 21, 4, 29, 13, 5, 9, 18, 15, 7, 28, 3, 25, 2, 13, 11, 24, 5, 32, 33, 5, 22, 10, 26, 29, 16, 3, 16, 26, 1, 18, 22, 26, 22, 8, 31, 33, 8, 4, 4, 0, 21, 23, 28, 31, 11, 10, 16, 3, 6, 2, 22, 27, 30, 6, 24, 30, 6, 4, 16, 26, 30, 20, 30, 21, 11, 30, 23, 9, 27, 2, 4, 1, 33, 33, 18, 24, 6, 3, 5, 21, 24, 13, 5, 26, 23, 15, 18, 32, 25, 12, 10, 10, 13, 24, 9, 10, 21, 29, 30, 5, 4, 2, 1, 10, 7, 31, 18, 30, 9, 6, 26, 29, 28, 22, 15, 8, 32, 19, 16, 23, 25, 30, 18, 25, 1, 19, 20, 21, 20, 5, 23, 5, 23, 11, 28, 22, 7, 25, 15, 29, 21, 16, 19, 24, 6, 32, 18, 29, 30, 12, 21, 28, 1, 9, 17, 31, 20, 7, 33, 13, 21, 12, 10, 17, 1, 9, 21, 28, 9, 16, 18, 27, 6, 29, 8, 3, 0, 13, 18, 9, 4, 30, 21, 6, 28, 32, 0, 17, 7, 17, 1, 23, 22, 30, 12, 26, 7, 16, 21, 11, 6, 33, 26, 7, 9, 17, 12, 19, 24, 17, 31, 16, 12, 20, 5, 24, 7, 10, 15, 3, 15, 5, 8, 7, 26, 31, 9, 11, 5, 21, 18, 19, 12, 19, 26, 4, 24, 17, 12, 24, 13, 24, 9, 32, 30, 6, 16, 2, 10, 29, 31, 23, 26, 9, 32, 32, 2, 16, 15, 20, 12, 32, 25, 12, 32, 10, 0, 18, 27, 7, 5, 14, 9, 29, 16, 4, 30, 24, 27, 24, 10, 20, 5, 13, 1, 33, 9, 25, 28, 20, 24, 25, 30, 6, 19, 0, 10, 19, 19, 9, 31, 1, 12, 8, 7, 22, 3, 15, 6, 29, 8, 0, 11, 10, 2, 33, 7, 26, 25, 13, 25, 25, 27, 31, 23, 16, 18, 3, 15, 24, 1, 15, 26, 24, 31, 25, 14, 3, 25, 30, 10, 6, 25, 24, 13, 21, 11, 0, 1, 16, 22, 11, 32, 3, 2, 15, 22, 18, 13, 15, 16, 21, 5, 12, 8, 25, 10, 18, 14, 8, 17, 6, 18, 6, 28, 17, 29, 5, 25, 30, 26, 33, 0, 14, 22, 31, 20, 3, 1, 28, 6, 16, 15, 7, 1, 7, 17, 12, 32, 7, 16, 30, 13, 5, 18, 5, 11, 5, 9, 26, 7, 30, 9, 9, 13, 11, 14, 19, 16, 7, 24, 19, 19, 11, 8, 21, 8, 29, 17, 30, 9, 10, 16, 7, 27, 28, 18, 31, 23, 16, 8, 18, 16, 21, 23, 3, 21, 0, 16, 30, 20, 2, 10, 2, 31, 5, 16, 27, 18, 5, 12, 2, 7, 9, 16, 11, 14, 11, 24, 5, 2, 20, 22, 8, 12, 23, 10, 15, 29, 18, 22, 25, 12, 1, 2, 6, 17, 33, 24, 6, 24, 28, 30, 22, 25, 6, 20, 21, 24, 16, 18, 9, 17, 10, 8, 20, 17, 16, 8, 9, 15, 5, 4, 23, 23, 17, 9, 12, 8, 32, 13, 23, 4, 26, 19, 0, 25, 11, 5, 14, 15, 12, 0, 2, 17, 9, 26, 10, 3, 0, 20, 27, 32, 9, 29, 3, 30, 3, 1, 0, 7, 2, 16, 0, 3, 24, 22, 33, 7, 24, 11, 26, 0, 9, 21, 18, 30, 26, 25, 15, 18, 21, 21, 30, 31, 0, 8, 30, 29, 14, 2, 12, 20, 24, 16, 17, 25, 17, 27, 0, 0, 22, 31, 22, 11, 5, 20, 21, 24, 16, 21, 32, 32, 33, 7, 30, 28, 33, 5, 17, 20, 17, 31, 0, 5, 16, 4, 29, 11, 3, 11, 5, 31, 27, 33, 21, 32, 7, 8, 1, 12, 26, 25, 15, 30, 16, 1, 29, 5, 21, 13, 2, 3, 24, 5, 23, 5, 9, 6, 23, 23, 16, 28, 10, 20, 24, 3, 29, 32, 3, 15, 9, 33, 3, 27, 3, 17, 21, 15, 16, 30, 7, 10, 6, 7, 18, 21, 16, 33, 23, 16, 17, 16, 1, 18, 31, 30, 17, 0, 25, 9, 26, 14, 16, 31, 10, 15, 7, 20, 7, 29, 4, 32, 28, 20, 15, 29, 33, 2, 21, 20, 18, 13, 20, 22, 1, 29, 19, 30, 30, 23, 30, 16, 6, 26, 30, 14, 28, 10, 4, 25, 3, 19, 16, 8, 16, 7, 29, 24, 12, 4, 17, 10, 29, 3, 23, 1, 8, 3, 0, 13, 21, 17, 26, 8, 4, 31, 14, 25, 12, 33, 23, 22, 4, 26, 13, 2, 25, 17, 16, 23, 3, 18, 30, 8, 4, 23, 4, 15, 31, 6, 5, 9, 6, 17, 31, 23, 3, 21, 3, 23, 7, 28, 31, 13, 21, 8, 17, 18, 6, 18, 13, 4, 10, 25, 20, 33, 31, 17, 16, 14, 6, 9, 5, 29, 12, 8, 23, 8, 30, 4, 17, 22, 26, 9, 32, 30, 1, 30, 19, 3, 23, 28, 32, 28, 15, 11, 10, 13, 14, 9, 26, 31, 1, 12, 18, 15, 33, 29, 6, 5, 3, 16, 14, 13, 28, 14, 32, 15, 8, 4, 20, 16, 21, 1, 33, 18, 9, 31, 25, 17, 27, 29, 15, 8, 16, 7, 17, 2, 15, 7, 15, 21, 29, 21, 23, 33, 8, 15, 15, 13, 10, 24, 25, 22, 14, 10, 7, 0, 0, 11, 30, 23, 17, 28, 12, 27, 22, 14, 30, 28, 21, 21, 29, 31, 24, 15, 25, 2, 8, 16, 2, 6, 6, 11, 30, 16, 31, 17, 3, 31, 16, 1, 20, 33, 12, 23, 16, 22, 13, 12, 21, 31, 7, 8, 12, 16, 1, 32, 7, 25, 20, 12, 15, 16, 17, 22, 12, 13, 23, 4, 33, 26, 24, 23, 13, 4, 4, 15, 26, 32, 13, 26, 0, 16, 11, 27, 19, 30, 11, 30, 18, 0, 2, 8, 28, 25, 7, 28, 27, 30, 21, 29, 25, 8, 5, 24, 29, 2, 17, 10, 32, 22, 23, 12, 31, 22, 33, 25, 24, 8, 17, 14, 18, 16, 31, 1, 22, 31, 19, 24, 29, 16, 33, 11, 15, 9, 10, 7, 15, 9, 16, 26, 25, 13, 33, 32, 28, 7, 26, 1, 14, 31, 14, 13, 0, 6, 7, 10, 16, 19, 13, 33, 16, 1, 12, 33, 15, 15, 5, 9, 15, 11, 10, 31, 18, 28, 6, 26, 16, 9, 17, 4, 17, 0, 28, 12, 16, 18, 16, 27, 5, 18, 31, 29, 18, 30, 23, 31, 32, 29, 6, 5, 6, 27, 15, 12, 25, 0, 8, 32, 23, 12, 12, 24, 28, 6, 21, 17, 19, 8, 31, 0, 1, 27, 6, 24, 32, 9, 22, 19, 5, 8, 18, 16, 33, 4, 10, 0, 31, 18, 29, 27, 13, 29, 20, 17, 10, 26, 30, 2, 21, 15, 25, 25, 31, 33, 14, 20, 11, 27, 25, 4, 11, 1, 28, 13, 19, 16, 21, 5, 16, 9, 14, 17, 29, 27, 15, 17, 29, 1, 24, 4, 32, 15, 2, 12, 32, 17, 10, 6, 28, 29, 17, 27, 18, 22, 33, 27, 33, 2, 16, 17, 7, 17, 23, 3, 30, 15, 8, 20, 10, 0, 7, 18, 17, 7, 17, 14, 25, 19, 16, 8, 26, 30, 10, 5, 5, 29, 32, 4, 11, 11, 2, 16, 3, 31, 12, 12, 6, 13, 30, 20, 21, 23, 23, 16, 24, 21, 1, 15, 15, 14, 16, 30, 31, 15, 13, 20, 2, 26, 32, 22, 14, 16, 32, 20, 7, 9, 14, 26, 26, 29, 33, 20, 0, 29, 0, 8, 11, 8, 3, 16, 18, 21, 5, 4, 23, 8, 24, 7, 23, 19, 22, 6, 22, 10, 28, 28, 1, 8, 4, 5, 30, 13, 32, 29, 20, 2, 25, 1, 18, 33, 24, 17, 24, 26, 29, 17, 27, 12, 22, 21, 33, 23, 27, 11, 23, 20, 32, 29, 17, 2, 9, 3, 17, 3, 2, 3, 9, 24, 16, 23, 5, 2, 4, 32, 6, 16, 20, 16, 14, 21, 23, 23, 4, 0, 3, 21, 1, 32, 7, 13, 1, 9, 18, 33, 18, 6, 18, 8, 10, 3, 31, 8, 6, 17, 10, 14, 22, 10, 14, 31, 20, 2, 16, 8, 25, 18, 16, 1, 23, 30, 19, 16, 0, 16, 11, 3, 14, 31, 18, 20, 15, 31, 27, 18, 0, 24, 2, 12, 25, 32, 29, 23, 12, 30, 22, 3, 11, 28, 14, 30, 9, 16, 10, 16, 12, 32, 20, 29, 27, 20, 6, 0, 19, 33, 8, 19, 7, 28, 32, 25, 26, 31, 32, 8, 0, 1, 17, 3, 21, 2, 26, 7, 7, 5, 13, 6, 21, 16, 19, 13, 16, 15, 16, 26, 28, 7, 23, 25, 4, 33, 5, 4, 16, 27, 3, 4, 1, 17, 20, 6, 1, 4, 14, 27, 11, 16, 26, 8, 20, 12, 26, 0, 27, 0, 15, 28, 27, 11, 14, 12, 9, 0, 13, 26, 29, 16, 16, 29, 29, 16, 8, 23, 15, 28, 23, 0, 33, 3, 6, 23, 0, 16, 21, 32, 8, 27, 26, 3, 1, 8, 31, 5, 21, 30, 2, 15, 1, 4, 8, 29, 3, 11, 10, 13, 16, 12, 9, 17, 32, 1, 12, 30, 1, 30, 21, 6, 29, 25, 16, 6, 8, 11, 12, 23, 16, 31, 23, 18, 13, 17, 28, 19, 27, 1, 1, 21, 22, 14, 16, 9, 12, 9, 33, 17, 21, 16, 10, 4, 33, 26, 11, 29, 11, 29, 33, 22, 24, 32, 28, 30, 11, 11, 11, 27, 29, 19, 32, 27, 28, 25, 6, 26, 23, 2, 9, 33, 21, 14, 31, 5, 21, 22, 5, 30, 9, 3, 27, 32, 12, 27, 6, 19, 29, 23, 18, 12, 1, 25, 11, 4, 13, 20, 18, 17, 15, 8, 33, 18, 13, 19, 27, 30, 22, 31, 22, 14, 20, 30, 25, 14, 22, 4, 3, 2, 30, 30, 32, 33, 17, 19, 11, 8, 16, 28, 15, 9, 1, 26, 31, 19, 33, 14, 13, 26, 7, 2, 11, 2, 27, 8, 22, 32, 13, 13, 23, 1, 0, 18, 7, 0, 27, 5, 12, 15, 11, 25, 3, 19, 11, 6, 12, 18, 27, 17, 11, 15, 3, 31, 6, 15, 10, 19, 0, 16, 16, 16, 13, 22, 33, 33, 21, 33, 21, 22, 5, 2, 14, 29, 22, 4, 6, 20, 32, 32, 24, 2, 1, 9, 4, 1, 30, 24, 5, 15, 25, 3, 9, 21, 1, 19, 13, 20, 29, 23, 26, 8, 8, 13, 32, 11, 30, 32, 4, 21, 7, 1, 21, 1, 16, 4, 19, 19, 5, 31, 3, 23, 4, 6, 16, 14, 4, 31, 30, 16, 20, 3, 23, 24, 16, 20, 21, 15, 18, 26, 22, 0, 7, 2, 6, 6, 29, 13, 4, 3, 2, 24, 12, 17, 30, 16, 12, 20, 5, 10, 0, 25, 1, 10, 4, 0, 21, 33, 0, 1, 16, 6, 4, 24, 3, 9, 0, 16, 8, 23, 12, 29, 17, 27, 12, 33, 19, 22, 19, 1, 3, 0, 0, 22, 11, 3, 21, 2, 30, 1, 6, 7, 23, 20, 20, 15, 10, 25, 6, 4, 24, 23, 4, 33, 18, 26, 27, 32, 15, 8, 8, 18, 1, 7, 29, 27, 16, 16, 28, 14, 26, 12, 11, 4, 1, 3, 4, 21, 18, 17, 7, 9, 6, 17, 15, 6, 21, 7, 2, 9, 9, 21, 18, 24, 31, 25, 31, 18, 1, 14, 26, 14, 15, 30, 27, 24, 6, 15, 16, 0, 8, 26, 16, 8, 23, 33, 1, 16, 7, 4, 25, 8, 32, 21, 31, 11, 10, 33, 30, 17, 1, 7, 31, 33, 25, 13, 24, 23, 15, 5, 7, 5, 31, 6, 27, 18, 29, 16, 19, 15, 28, 33, 30, 7, 25, 33, 32, 26, 16, 32, 25, 29, 9, 30, 16, 1, 2, 33, 24, 14, 28, 14, 15, 6, 23, 27, 22, 12, 17, 26, 8, 15, 5, 22, 26, 0, 27, 32, 13, 32, 19, 26, 32, 17, 19, 5, 29, 28, 10, 1, 16, 33, 33, 0, 8, 28, 10, 12, 24, 6, 31, 29, 14, 3, 0, 16, 19, 16, 6, 22, 3, 10, 29, 10, 15, 24, 4, 9, 7, 5, 23, 32, 9, 20, 26, 17, 21, 2, 2, 16, 21, 13, 2, 29, 15, 19, 6, 21, 18, 8, 26, 5, 29, 6, 18, 12, 0, 25, 26, 3, 31, 1, 24, 3, 26, 16, 23, 23, 33, 7, 28, 2, 10, 26, 26, 25, 6, 25, 1, 29, 16, 32, 10, 16, 12, 21, 17, 15, 3, 17, 15, 16, 9, 27, 9, 7, 16, 29, 16, 10, 16, 27, 12, 15, 14, 4, 29, 31, 0, 5, 22, 16, 12, 0, 16, 15, 28, 10, 19, 21, 10, 33, 27, 7, 22, 33, 31, 29, 24, 23, 20, 27, 29, 23, 17, 16, 1, 12, 10, 12, 22, 18, 24, 17, 9, 22, 29, 1, 5, 24, 32, 18, 24, 29, 27, 26, 30, 29, 1, 16, 5, 2, 31, 9, 16, 28, 27, 2, 22, 31, 8, 2, 9, 1, 23, 22, 16, 26, 5, 11, 4, 31, 31, 7, 18, 15, 22, 26, 26, 4, 10, 26, 10, 10, 7, 31, 9, 28, 23, 2, 12, 9, 9, 19, 23, 22, 21, 28, 16, 30, 13, 17, 19, 8, 28, 23, 27, 15, 32, 21, 9, 15, 11, 26, 32, 1, 9, 14, 16, 17, 6, 25, 15, 17, 23, 25, 27, 17, 1, 25, 0, 25, 7, 20, 1, 19, 16, 8, 6, 27, 23, 26, 3, 1, 20, 8, 13, 14, 28, 17, 19, 30, 6, 5, 15, 15, 18, 7, 14, 11, 7, 9, 9, 21, 21, 30, 10, 25, 2, 2, 22, 18, 27, 25, 31, 16, 32, 6, 11, 24, 1, 6, 16, 19, 31, 24, 24, 15, 3, 5, 5, 22, 17, 17, 32, 9, 16, 4, 10, 21, 1, 3, 19, 19, 19, 33, 26, 4, 29, 30, 9, 7, 12, 6, 24, 32, 20, 27, 11, 16, 11, 21, 17, 1, 16, 13, 26, 30, 29, 10, 3, 4, 31, 11, 5, 16, 3, 32, 4, 30, 10, 5, 7, 18, 8, 14, 24, 14, 16, 26, 33, 28, 28, 17, 31, 20, 27, 32, 5, 0, 12, 12, 14, 5, 19, 10, 16, 28, 29, 16, 15, 4, 1, 24, 3, 2, 16, 9, 30, 8, 13, 25, 22, 24, 20, 15, 20, 4, 14, 4, 17, 30, 23, 10, 30, 17, 31, 25, 29, 31, 16, 16, 0, 26, 14, 31, 23, 0, 4, 10, 1, 10, 20, 9, 27, 26, 23, 15, 11, 29, 14, 19, 8, 10, 9, 18, 17, 18, 18, 12, 29, 21, 24, 25, 15, 12, 9, 32, 16, 3, 19, 17, 29, 17, 8, 6, 33, 17, 13, 18, 11, 10, 14, 17, 0, 31, 10, 3, 12, 22, 29, 3, 30, 20, 21, 22, 8, 8, 6, 28, 6, 21, 3, 19, 20, 15, 10, 29, 12, 1, 20, 28, 16, 2, 18, 32, 12, 31, 27, 9, 22, 33, 7, 5, 24, 5, 20, 11, 17, 19, 10, 28, 30, 12, 18, 0, 23, 12, 21, 32, 18, 18, 6, 23, 6, 3, 19, 31, 16, 13, 9, 3, 16, 1, 19, 3, 13, 27, 20, 14, 13, 23, 2, 17, 0, 18, 27, 15, 17, 33, 16, 0, 29, 25, 30, 0, 13, 30, 14, 28, 8, 7, 8, 5, 0, 31, 1, 33, 15, 4, 14, 24, 2, 30, 2, 9, 20, 25, 32, 21, 26, 0, 27, 11, 23, 15, 8, 6, 16, 4, 24, 5, 12, 19, 8, 20, 26, 26]\n",
            "test cases :  6000\n",
            "wrong cases :  1159\n",
            "\n",
            "accuracy= 80.68333333333332\n"
          ]
        }
      ]
    },
    {
      "cell_type": "markdown",
      "source": [
        "#***Result***"
      ],
      "metadata": {
        "id": "baZVhmqMqImY"
      }
    },
    {
      "cell_type": "code",
      "source": [
        "[acc_dtree_f,acc_dtree,acc_svm_f,acc_svm,acc_xg]"
      ],
      "metadata": {
        "colab": {
          "base_uri": "https://localhost:8080/"
        },
        "id": "73zTKPl3qNVi",
        "outputId": "89ad8059-9937-4a19-c56b-1b03b4de1c03"
      },
      "execution_count": 46,
      "outputs": [
        {
          "output_type": "execute_result",
          "data": {
            "text/plain": [
              "[3.175, 3.375, 5.675, 5.675, 80.68333333333332]"
            ]
          },
          "metadata": {},
          "execution_count": 46
        }
      ]
    },
    {
      "cell_type": "code",
      "source": [
        "import matplotlib.pyplot as plt\n",
        "#fig = plt.figure()\n",
        "fig = plt.figure(figsize =(10, 5)) \n",
        "# ax = fig.add_axes([0,0,1,1])\n",
        "Name = ['Decision Tree\\n(with feature selection)','Decision Tree\\n(without feature selection)', 'SVM\\n(with feature selection)','SVM\\n(without feature selection)', 'XGBoost']\n",
        "accuracies = [acc_dtree_f,acc_dtree,acc_svm_f,acc_svm,acc_xg]\n",
        "plt.bar(Name,accuracies)\n",
        "plt.ylabel('Accuracies')\n",
        "plt.xlabel('Techniques')\n",
        "plt.xticks(rotation = 45)\n",
        "plt.show()"
      ],
      "metadata": {
        "colab": {
          "base_uri": "https://localhost:8080/",
          "height": 433
        },
        "id": "H9pyiIi8qRni",
        "outputId": "f84e2085-ef5e-48a6-d1d8-92d6b2237d7b"
      },
      "execution_count": 47,
      "outputs": [
        {
          "output_type": "display_data",
          "data": {
            "text/plain": [
              "<Figure size 720x360 with 1 Axes>"
            ],
            "image/png": "[encoded data removed]"
          },
          "metadata": {
            "needs_background": "light"
          }
        }
      ]
    },
    {
      "cell_type": "markdown",
      "source": [
        "#***Loading saved model and testing***"
      ],
      "metadata": {
        "id": "JnxpMRhbqfPO"
      }
    },
    {
      "cell_type": "code",
      "source": [
        "X_train, X_test, y_train, y_test = train_test_split(X, y, test_size=0.3,shuffle=True, random_state=2)"
      ],
      "metadata": {
        "id": "tQsjtRhHqqWP"
      },
      "execution_count": 48,
      "outputs": []
    },
    {
      "cell_type": "code",
      "source": [
        "# loading model\n",
        "\n",
        "filename='svm.sav'\n",
        "model = pickle.load(open(filename, 'rb'))\n",
        "\n",
        "y_pred=model.predict(X_test)\n",
        "print(\"Accuracy : \",accuracy_score(y_test,y_pred)*100)"
      ],
      "metadata": {
        "colab": {
          "base_uri": "https://localhost:8080/"
        },
        "id": "qTW03rgVqx1n",
        "outputId": "562e174e-ae4b-4453-cb4f-1b92904ebef2"
      },
      "execution_count": 49,
      "outputs": [
        {
          "output_type": "stream",
          "name": "stdout",
          "text": [
            "Accuracy :  5.083333333333333\n"
          ]
        }
      ]
    },
    {
      "cell_type": "code",
      "source": [
        "# loading model\n",
        "\n",
        "filename='svm_f.sav'\n",
        "model = pickle.load(open(filename, 'rb'))\n",
        "\n",
        "y_pred=model.predict(X_test)\n",
        "print(\"Accuracy : \",accuracy_score(y_test,y_pred)*100)"
      ],
      "metadata": {
        "colab": {
          "base_uri": "https://localhost:8080/"
        },
        "id": "J5MALfJBq7eR",
        "outputId": "83e0b52c-8fcb-4e7f-d00e-51f08cab020c"
      },
      "execution_count": 50,
      "outputs": [
        {
          "output_type": "stream",
          "name": "stderr",
          "text": [
            "/usr/local/lib/python3.7/dist-packages/sklearn/base.py:444: UserWarning: X has feature names, but SVC was fitted without feature names\n",
            "  f\"X has feature names, but {self.__class__.__name__} was fitted without\"\n"
          ]
        },
        {
          "output_type": "stream",
          "name": "stdout",
          "text": [
            "Accuracy :  5.083333333333333\n"
          ]
        }
      ]
    },
    {
      "cell_type": "code",
      "source": [
        "# loading model\n",
        "\n",
        "filename='dtree.sav'\n",
        "model = pickle.load(open(filename, 'rb'))\n",
        "\n",
        "y_pred=model.predict(X_test)\n",
        "print(\"Accuracy : \",accuracy_score(y_test,y_pred)*100)"
      ],
      "metadata": {
        "colab": {
          "base_uri": "https://localhost:8080/"
        },
        "id": "A6ZVN7uLrFzb",
        "outputId": "9f0fee85-d2d2-487c-8297-fa58837d2a72"
      },
      "execution_count": 51,
      "outputs": [
        {
          "output_type": "stream",
          "name": "stdout",
          "text": [
            "Accuracy :  81.08333333333333\n"
          ]
        },
        {
          "output_type": "stream",
          "name": "stderr",
          "text": [
            "/usr/local/lib/python3.7/dist-packages/sklearn/base.py:444: UserWarning: X has feature names, but DecisionTreeClassifier was fitted without feature names\n",
            "  f\"X has feature names, but {self.__class__.__name__} was fitted without\"\n"
          ]
        }
      ]
    },
    {
      "cell_type": "code",
      "source": [
        "# loading model\n",
        "\n",
        "filename='dtree_f.sav'\n",
        "model = pickle.load(open(filename, 'rb'))\n",
        "\n",
        "y_pred=model.predict(X_test)\n",
        "print(\"Accuracy : \",accuracy_score(y_test,y_pred)*100)"
      ],
      "metadata": {
        "colab": {
          "base_uri": "https://localhost:8080/"
        },
        "id": "VWZdTCLArT8_",
        "outputId": "e9b6bba7-cf89-4323-ee72-1bc3cb35aab3"
      },
      "execution_count": 52,
      "outputs": [
        {
          "output_type": "stream",
          "name": "stdout",
          "text": [
            "Accuracy :  80.95\n"
          ]
        }
      ]
    },
    {
      "cell_type": "code",
      "source": [
        "# loading model\n",
        "\n",
        "filename='xgboost.sav'\n",
        "model = pickle.load(open(filename, 'rb'))\n",
        "\n",
        "y_pred=model.predict(X_test)\n",
        "print(\"Accuracy : \",accuracy_score(y_test,y_pred)*100)"
      ],
      "metadata": {
        "colab": {
          "base_uri": "https://localhost:8080/"
        },
        "id": "SsBfCWJArY0b",
        "outputId": "595c425e-e3ba-4e52-80f6-1acab54f3650"
      },
      "execution_count": 53,
      "outputs": [
        {
          "output_type": "stream",
          "name": "stdout",
          "text": [
            "Accuracy :  80.95\n"
          ]
        }
      ]
    },
    {
      "cell_type": "code",
      "source": [
        "sample=[74,\t82,\t62,\t85,\t61,\t64,\t69,\t62,\t83,\t1,\t6,\t7,\t5,\t1,\t0,\t0,\t1,\t1,\t2,\t8,\t2,\t1,\t1,\t0]\t#Information Technology Manager - 13\n",
        "res=model.predict([sample])\n",
        "res[0]"
      ],
      "metadata": {
        "colab": {
          "base_uri": "https://localhost:8080/"
        },
        "id": "tjwDPqW2reA1",
        "outputId": "09631d21-2f8f-4dd5-e283-45ba85745c31"
      },
      "execution_count": 54,
      "outputs": [
        {
          "output_type": "stream",
          "name": "stderr",
          "text": [
            "/usr/local/lib/python3.7/dist-packages/sklearn/base.py:451: UserWarning: X does not have valid feature names, but DecisionTreeClassifier was fitted with feature names\n",
            "  \"X does not have valid feature names, but\"\n"
          ]
        },
        {
          "output_type": "execute_result",
          "data": {
            "text/plain": [
              "13"
            ]
          },
          "metadata": {},
          "execution_count": 54
        }
      ]
    },
    {
      "cell_type": "code",
      "source": [
        "sample=[69,\t63,\t78,\t87,\t94,\t94,\t87,\t84,\t61,\t4,\t0,\t4,\t8,\t1,\t1,\t8,\t0,\t0,\t0,\t4,\t8,\t1,\t1,\t1]\n",
        "res=model.predict([sample])\n",
        "res[0]"
      ],
      "metadata": {
        "colab": {
          "base_uri": "https://localhost:8080/"
        },
        "id": "OA-JlAburmJ0",
        "outputId": "ea015368-258d-478f-ba98-ba5c2fd0f2e5"
      },
      "execution_count": 55,
      "outputs": [
        {
          "output_type": "stream",
          "name": "stderr",
          "text": [
            "/usr/local/lib/python3.7/dist-packages/sklearn/base.py:451: UserWarning: X does not have valid feature names, but DecisionTreeClassifier was fitted with feature names\n",
            "  \"X does not have valid feature names, but\"\n"
          ]
        },
        {
          "output_type": "execute_result",
          "data": {
            "text/plain": [
              "7"
            ]
          },
          "metadata": {},
          "execution_count": 55
        }
      ]
    }
  ]
}